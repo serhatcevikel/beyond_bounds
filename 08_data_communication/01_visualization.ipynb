{
 "cells": [
  {
   "cell_type": "markdown",
   "id": "85525c98-546b-42cb-9ab9-f400f1a7c283",
   "metadata": {},
   "source": [
    "<font size=\"6\"><b>DATA VISUALIZATION</b></font>"
   ]
  },
  {
   "cell_type": "code",
   "execution_count": null,
   "id": "ddd2d5e5-3180-48d3-9900-3d0c22eaf44f",
   "metadata": {},
   "outputs": [],
   "source": [
    "library(data.table)\n",
    "library(tidyverse)\n",
    "library(plotly)\n",
    "library(nycflights13)"
   ]
  },
  {
   "cell_type": "code",
   "execution_count": null,
   "id": "bbc199ed-8bfb-4358-9ee5-8d2a485222d8",
   "metadata": {},
   "outputs": [],
   "source": [
    "pw1 <- getOption(\"repr.plot.width\")\n",
    "pw1"
   ]
  },
  {
   "cell_type": "code",
   "execution_count": null,
   "id": "ade766f8-8eb4-4680-bd50-080534df4f3e",
   "metadata": {},
   "outputs": [],
   "source": [
    "ph1 <- getOption(\"repr.plot.width\")\n",
    "ph1"
   ]
  },
  {
   "cell_type": "code",
   "execution_count": null,
   "id": "57210fdd-8131-40b1-9b45-4d89cbbebfbd",
   "metadata": {},
   "outputs": [],
   "source": [
    "options(repr.matrix.max.rows=20, repr.matrix.max.cols=30) # for limiting the number of top and bottom rows of tables printed "
   ]
  },
  {
   "cell_type": "markdown",
   "id": "d0159ac4-1bf1-4f3f-9a28-19c8b69cc5fc",
   "metadata": {},
   "source": [
    "![xkcd](../imagesbb/movie_narrative_charts_large.png)\n",
    "\n",
    "(https://xkcd.com/657)"
   ]
  },
  {
   "cell_type": "markdown",
   "id": "19b6fc8e-0839-4c28-bfaa-78eab492b815",
   "metadata": {},
   "source": [
    "In this session, we will visualize data using ggplot2 and plotly packages\n",
    "\n",
    "We will use the same data from nycflights13 package"
   ]
  },
  {
   "cell_type": "markdown",
   "id": "52ca738c-1e9c-4c8d-b4de-93560f558b61",
   "metadata": {},
   "source": [
    "# Datasets"
   ]
  },
  {
   "cell_type": "markdown",
   "id": "4871a40e-a867-45c0-bebc-8fc4cf17e5d7",
   "metadata": {},
   "source": [
    "Let's remember the tables from nycflights13 package:"
   ]
  },
  {
   "cell_type": "code",
   "execution_count": null,
   "id": "33e7d344-60bf-44f4-bcf9-778b51a20cd7",
   "metadata": {},
   "outputs": [],
   "source": [
    "head(airlines)"
   ]
  },
  {
   "cell_type": "code",
   "execution_count": null,
   "id": "6e7b9981-80cd-4a52-b46a-0b0c94c9c9ff",
   "metadata": {},
   "outputs": [],
   "source": [
    "head(airports)"
   ]
  },
  {
   "cell_type": "code",
   "execution_count": null,
   "id": "2d21a24a-cb39-4baf-bad4-5314c9a4499c",
   "metadata": {},
   "outputs": [],
   "source": [
    "head(planes)"
   ]
  },
  {
   "cell_type": "code",
   "execution_count": null,
   "id": "38a86105-0f51-4705-ba8f-0f3aa84e0517",
   "metadata": {},
   "outputs": [],
   "source": [
    "head(weather)"
   ]
  },
  {
   "cell_type": "code",
   "execution_count": null,
   "id": "21daf504-5b17-49c8-9168-91c0fd7b9f96",
   "metadata": {},
   "outputs": [],
   "source": [
    "head(flights)"
   ]
  },
  {
   "cell_type": "markdown",
   "id": "5edaefb7-378b-45a7-ac86-c3deaec1a794",
   "metadata": {},
   "source": [
    "# ggplot2"
   ]
  },
  {
   "cell_type": "markdown",
   "id": "7d3fe709-de87-4da0-bba3-0fd9dcf0e041",
   "metadata": {},
   "source": [
    "Let's wrangle flights slightly:"
   ]
  },
  {
   "cell_type": "code",
   "execution_count": null,
   "id": "4d4aa227-5fee-4354-a56e-8b4371063cdd",
   "metadata": {},
   "outputs": [],
   "source": [
    "flights2 <- copy(flights)"
   ]
  },
  {
   "cell_type": "code",
   "execution_count": null,
   "id": "3b2f0bc3-b906-4d9c-bd1c-c1f186f33665",
   "metadata": {},
   "outputs": [],
   "source": [
    "setDT(flights2)"
   ]
  },
  {
   "cell_type": "code",
   "execution_count": null,
   "id": "5730833a-5931-490a-bc1b-0696deac768e",
   "metadata": {},
   "outputs": [],
   "source": [
    "flights2[, date1 := as.Date(time_hour)]"
   ]
  },
  {
   "cell_type": "code",
   "execution_count": null,
   "id": "e97ff1b9-8f8b-4fa0-85f0-196e6b25bd5c",
   "metadata": {},
   "outputs": [],
   "source": [
    "flights2 <- flights2 %>% mutate_at(vars(ends_with(\"time\")), function(x) hm(sprintf(\"%s:%s\", x %/% 100, x %% 100)))"
   ]
  },
  {
   "cell_type": "code",
   "execution_count": null,
   "id": "e5449007-61fb-411e-abbe-8209f261d84f",
   "metadata": {},
   "outputs": [],
   "source": [
    "flights2[, speed := distance / period_to_seconds(air_time) * 3600]"
   ]
  },
  {
   "cell_type": "code",
   "execution_count": null,
   "id": "5b7a98f6-2910-4a51-ac30-54781daf329e",
   "metadata": {},
   "outputs": [],
   "source": [
    "flights2"
   ]
  },
  {
   "cell_type": "markdown",
   "id": "cb89741b-5d20-4ed7-abe1-6cb9ebbc6ea0",
   "metadata": {},
   "source": [
    "Now first let's create a line chart across dates, where y axis shows the average departure delay for each day\n",
    "\n",
    "The dimensions are passed by `aes()` function:"
   ]
  },
  {
   "cell_type": "code",
   "execution_count": null,
   "id": "617166a1-822d-4397-8be3-4570b59e2908",
   "metadata": {},
   "outputs": [],
   "source": [
    "flights2 %>%\n",
    "group_by(date1) %>%\n",
    "summarise_at(\"dep_delay\", mean, na.rm = T) %>%\n",
    "ggplot(aes(x = date1, y = dep_delay)) +\n",
    "geom_line()"
   ]
  },
  {
   "cell_type": "markdown",
   "id": "26f1e4f0-10dc-40ac-9959-7cf83cc318b9",
   "metadata": {},
   "source": [
    "Now let's differentiate the lines by color according to the origin airport, so we add a third dimension:"
   ]
  },
  {
   "cell_type": "code",
   "execution_count": null,
   "id": "405dfe3d-1d19-4ac5-9c32-d34c73946dd7",
   "metadata": {},
   "outputs": [],
   "source": [
    "flights2 %>%\n",
    "group_by(date1, origin) %>%\n",
    "summarise_at(\"dep_delay\", mean, na.rm = T) %>%\n",
    "ggplot(aes(x = date1, y = dep_delay, color = origin)) +\n",
    "geom_line()"
   ]
  },
  {
   "cell_type": "markdown",
   "id": "62508604-e82a-4f0f-86b4-d90515f66320",
   "metadata": {},
   "source": [
    "Let's try a scatter plot across average daily departure and array delays:"
   ]
  },
  {
   "cell_type": "code",
   "execution_count": null,
   "id": "6112edbd-d3b9-4ddb-8d0e-fd7d83c11185",
   "metadata": {},
   "outputs": [],
   "source": [
    "flights2 %>%\n",
    "group_by(date1) %>%\n",
    "summarise_at(c(\"dep_delay\", \"arr_delay\"), mean, na.rm = T) %>%\n",
    "ggplot(aes(x = dep_delay, y = arr_delay)) +\n",
    "geom_point()"
   ]
  },
  {
   "cell_type": "markdown",
   "id": "f9b89290-51ef-406b-bf28-13fc31338abf",
   "metadata": {},
   "source": [
    "Let's add a third dimension by changing the size of points according to the flight distance, so we have a bubble chart:"
   ]
  },
  {
   "cell_type": "code",
   "execution_count": null,
   "id": "47c0c062-ef66-4171-a72b-bb356cbaa3ed",
   "metadata": {},
   "outputs": [],
   "source": [
    "flights2 %>%\n",
    "group_by(date1) %>%\n",
    "summarise_at(c(\"dep_delay\", \"arr_delay\", \"distance\"), mean, na.rm = T) %>%\n",
    "ggplot(aes(x = dep_delay, y = arr_delay, size = distance)) +\n",
    "geom_point(alpha = 0.5)"
   ]
  },
  {
   "cell_type": "markdown",
   "id": "6473b248-7f1b-4a72-95a2-c8057a8cb338",
   "metadata": {},
   "source": [
    "And let's add a fourth dimension by changing the color of points according to the origin airport:"
   ]
  },
  {
   "cell_type": "code",
   "execution_count": null,
   "id": "00485650-02f8-47fe-aa1c-f388d9478d45",
   "metadata": {},
   "outputs": [],
   "source": [
    "flights2 %>%\n",
    "group_by(date1, origin) %>%\n",
    "summarise_at(c(\"dep_delay\", \"arr_delay\", \"distance\"), mean, na.rm = T) %>%\n",
    "ggplot(aes(x = dep_delay, y = arr_delay, size = distance, color = origin)) +\n",
    "geom_point(alpha = 0.5)"
   ]
  },
  {
   "cell_type": "markdown",
   "id": "5673a702-6270-4515-a079-e943195a89c7",
   "metadata": {},
   "source": [
    "And we can create multiple charts for each weekday using `facet_wrap()` function, now we have five dimensions:"
   ]
  },
  {
   "cell_type": "code",
   "execution_count": null,
   "id": "3cd79f7e-b3aa-4b5c-8be6-698c1f95f7ec",
   "metadata": {},
   "outputs": [],
   "source": [
    "flights2 %>%\n",
    "group_by(date1, origin) %>%\n",
    "summarise_at(c(\"dep_delay\", \"arr_delay\", \"distance\"), mean, na.rm = T) %>%\n",
    "mutate(weekday = lubridate::wday(date1, label = T)) %>%\n",
    "ggplot(aes(x = dep_delay, y = arr_delay, size = distance, color = origin)) +\n",
    "geom_point(alpha = 0.5) +\n",
    "facet_wrap(. ~ weekday)"
   ]
  },
  {
   "cell_type": "markdown",
   "id": "f25b1216-9e59-4923-8ffa-4a34231e69fd",
   "metadata": {},
   "source": [
    "And let's create a separate chart for each combinations of a weekday and a quarter (three months) using `facet_grid()` function, we have six dimensions!:"
   ]
  },
  {
   "cell_type": "code",
   "execution_count": null,
   "id": "dad65500-11b7-4cd8-82c2-42d98a58a45e",
   "metadata": {},
   "outputs": [],
   "source": [
    "options(repr.plot.width = 10, repr.plot.height = 10)"
   ]
  },
  {
   "cell_type": "code",
   "execution_count": null,
   "id": "8a8c1b5b-33f2-4958-a33a-ef0098b1f0c3",
   "metadata": {},
   "outputs": [],
   "source": [
    "flights2 %>%\n",
    "group_by(date1, origin) %>%\n",
    "summarise_at(c(\"dep_delay\", \"arr_delay\", \"distance\"), mean, na.rm = T) %>%\n",
    "mutate(weekday = lubridate::wday(date1, label = T)) %>%\n",
    "mutate(mnt = month(date1)) %>%\n",
    "mutate(quartx = paste(\"Q\", (mnt - 1) %/% 3 + 1), sep = \"\") %>%\n",
    "ggplot(aes(x = dep_delay, y = arr_delay, size = distance, color = origin)) +\n",
    "geom_point(alpha = 0.5) +\n",
    "facet_grid(weekday ~ quartx)"
   ]
  },
  {
   "cell_type": "markdown",
   "id": "4ce11e12-7dfd-4154-b452-13e056faca34",
   "metadata": {},
   "source": [
    "# plotly"
   ]
  },
  {
   "cell_type": "markdown",
   "id": "f86bfa1d-f041-4764-956b-cb3feddb267c",
   "metadata": {},
   "source": [
    "So far we had static charts with no interactions, just pictures.\n",
    "\n",
    "Now let's do something fancy very easily:\n",
    "\n",
    "- First create a ggplot chart and assign to a named object\n",
    "- Call that object with `ggplotly()` function from plotly package"
   ]
  },
  {
   "cell_type": "code",
   "execution_count": null,
   "id": "b12ca117-d4a2-4570-b4f8-e494b7c4af1b",
   "metadata": {},
   "outputs": [],
   "source": [
    "pl1 <- flights2 %>%\n",
    "group_by(date1, origin) %>%\n",
    "summarise_at(c(\"dep_delay\", \"arr_delay\", \"distance\"), mean, na.rm = T) %>%\n",
    "ggplot(aes(x = dep_delay, y = arr_delay, size = distance, color = origin)) +\n",
    "geom_point(alpha = 0.5)"
   ]
  },
  {
   "cell_type": "code",
   "execution_count": null,
   "id": "a201cec7-daac-4c40-b823-5fe7416ed876",
   "metadata": {},
   "outputs": [],
   "source": [
    "ggplotly(pl1)"
   ]
  },
  {
   "cell_type": "markdown",
   "id": "06e7e4d8-c889-48f0-8f15-0cf7beb52ec6",
   "metadata": {},
   "source": [
    "It is the same chart, but we can hover over points and see the data in pop-up tooltip, we can switch colors on and off, zoom, pan, etc."
   ]
  },
  {
   "cell_type": "markdown",
   "id": "78f8e862-fa31-40b2-9375-9043061baf04",
   "metadata": {},
   "source": [
    "Faceted charts can also be converted to plotly:"
   ]
  },
  {
   "cell_type": "code",
   "execution_count": null,
   "id": "18b3a0d7-8c94-497b-8718-4bc68dc4f4b2",
   "metadata": {},
   "outputs": [],
   "source": [
    "pl2 <- flights2 %>%\n",
    "group_by(date1, origin) %>%\n",
    "summarise_at(c(\"dep_delay\", \"arr_delay\", \"distance\"), mean, na.rm = T) %>%\n",
    "mutate(weekday = lubridate::wday(date1, label = T)) %>%\n",
    "ggplot(aes(x = dep_delay, y = arr_delay, size = distance, color = origin)) +\n",
    "geom_point(alpha = 0.5) +\n",
    "facet_wrap(. ~ weekday)"
   ]
  },
  {
   "cell_type": "code",
   "execution_count": null,
   "id": "f26dfc05-71a7-4df1-b6e7-805a6827bf60",
   "metadata": {},
   "outputs": [],
   "source": [
    "ggplotly(pl2)"
   ]
  },
  {
   "cell_type": "markdown",
   "id": "439e0612-ae4e-4d1e-9da9-eedf189a93a5",
   "metadata": {},
   "source": [
    "We can also create animated charts using plotly's own syntax and passing a feature for the `frame` dimensions:"
   ]
  },
  {
   "cell_type": "code",
   "execution_count": null,
   "id": "c36484fc-06f5-4714-b3fe-55f31fa99c63",
   "metadata": {},
   "outputs": [],
   "source": [
    "flights2 %>%\n",
    "group_by(date1, origin) %>%\n",
    "summarise_at(c(\"dep_delay\", \"arr_delay\", \"distance\"), mean, na.rm = T) %>%\n",
    "mutate(mnt = month(date1)) %>%\n",
    "plot_ly(x = ~dep_delay, y = ~arr_delay) %>%\n",
    "add_trace(marker = list(color = origin), frame = ~mnt, type = \"scatter\") %>%\n",
    "animation_opts(\n",
    "    frame = 200, redraw = T, easing = \"linear\", mode = \"next\"\n",
    ")"
   ]
  },
  {
   "cell_type": "markdown",
   "id": "4a78c75d-2754-4e8a-84a9-50549c642aa6",
   "metadata": {},
   "source": [
    "We can even create 3d interactive rotatable charts easily in plotly:"
   ]
  },
  {
   "cell_type": "code",
   "execution_count": null,
   "id": "61f801f9-56b4-4995-b48c-b3916e5f0818",
   "metadata": {},
   "outputs": [],
   "source": [
    "flights3 <- flights2 %>%\n",
    "group_by(date1, origin) %>%\n",
    "summarise_at(c(\"dep_delay\", \"arr_delay\", \"distance\"), mean, na.rm = T) %>%\n",
    "mutate(mnt = month(date1))"
   ]
  },
  {
   "cell_type": "code",
   "execution_count": null,
   "id": "a27eba94-17ad-4859-947d-cdbe53f325cf",
   "metadata": {},
   "outputs": [],
   "source": [
    "if (T)\n",
    "{    \n",
    "    plot_ly() %>% \n",
    "          add_trace(data = flights3,  x = flights3$dep_delay, y = flights3$arr_delay, z = flights3$distance, type=\"mesh3d\") %>%\n",
    "            layout(autosize = F, width = 800, height = 800,\n",
    "                  scene = list(xaxis = list(title = \"dep_delay\"),\n",
    "                  yaxis = list(title = \"arr_delay\"),\n",
    "                  zaxis = list(title = \"distance\")))\n",
    "}"
   ]
  }
 ],
 "metadata": {
  "kernelspec": {
   "display_name": "R",
   "language": "R",
   "name": "ir"
  },
  "language_info": {
   "codemirror_mode": "r",
   "file_extension": ".r",
   "mimetype": "text/x-r-source",
   "name": "R",
   "pygments_lexer": "r",
   "version": "4.3.2"
  }
 },
 "nbformat": 4,
 "nbformat_minor": 5
}
