{
 "cells": [
  {
   "cell_type": "markdown",
   "id": "95f6ff88-c325-45ef-a4b0-f0dc184f3d42",
   "metadata": {},
   "source": [
    "<font size=\"6\"><b>EXTRACTING TABLES FROM PDF FILES</b></font>"
   ]
  },
  {
   "cell_type": "code",
   "execution_count": null,
   "id": "fd8e4c8e-7bb2-49cf-a556-9696344df083",
   "metadata": {},
   "outputs": [],
   "source": [
    "library(tabulizer)\n",
    "library(data.table)\n",
    "library(tidyverse)"
   ]
  },
  {
   "cell_type": "code",
   "execution_count": null,
   "id": "a7ad2592-a8b7-41ba-b90f-8771dbc0848d",
   "metadata": {},
   "outputs": [],
   "source": [
    "options(repr.matrix.max.rows=100, repr.matrix.max.cols=40) # for limiting the number of top and bottom rows of tables printed "
   ]
  },
  {
   "cell_type": "markdown",
   "id": "cdedc161-87ec-4439-8c7a-9ab197ca35e4",
   "metadata": {},
   "source": [
    "![xkcd](../imagesbb/preprint.png)\n",
    "\n",
    "(https://xkcd.com/2304)"
   ]
  },
  {
   "cell_type": "markdown",
   "id": "7a684aa4-712b-4550-ada4-8ef89836c461",
   "metadata": {},
   "source": [
    "Let's extract the tables from the YKS report by OSYM:\n",
    "\n",
    "https://dokuman.osym.gov.tr/pdfdokuman/2021/GENEL/yksdegrapor24122021.pdf"
   ]
  },
  {
   "cell_type": "markdown",
   "id": "5efea3fb-4aab-471d-bb1d-d633fa569aad",
   "metadata": {},
   "source": [
    "We had extracted unformatted text from the YKS report pdf file using `textreadr::read_pdf` function\n",
    "\n",
    "Now we will extract tabular data as a matrix (The case with page 103 is a little bit more complex, so we skip that page).\n",
    "For more complex situations, you can provide the geometry of the table and the column positions in points through the `area` and `columns` arguments:"
   ]
  },
  {
   "cell_type": "code",
   "execution_count": null,
   "id": "4a22cc32-7694-47fe-a019-d478d0c2b080",
   "metadata": {},
   "outputs": [],
   "source": [
    "yksreport <- extract_tables(\"~/databb/pdf/yksdegrapor24122021.pdf\",\n",
    "                              pages = 104:110,\n",
    "                              guess = T,\n",
    "                              method = \"lattice\", output = \"matrix\")"
   ]
  },
  {
   "cell_type": "markdown",
   "id": "efd987af-94ad-4bff-bf16-e86cdfced60e",
   "metadata": {},
   "source": [
    "See the initial rows:"
   ]
  },
  {
   "cell_type": "code",
   "execution_count": null,
   "id": "1da66d37-8b01-4424-b299-8d3626cf7d30",
   "metadata": {},
   "outputs": [],
   "source": [
    "yksreport %>% lapply(function(x) x[1:5, ])"
   ]
  },
  {
   "cell_type": "markdown",
   "id": "99eb9f0b-4de3-4f6e-a0a2-e92215b08aa0",
   "metadata": {},
   "source": [
    "Now first extract the column names, first row for the first two columns, second row for other columns:"
   ]
  },
  {
   "cell_type": "code",
   "execution_count": null,
   "id": "e3e98dc3-f9fc-4e0f-88e9-8d1a76d91f60",
   "metadata": {},
   "outputs": [],
   "source": [
    "headx <- c(yksreport[[1]][1, 1:2], yksreport[[1]][2, -(1:2)])"
   ]
  },
  {
   "cell_type": "code",
   "execution_count": null,
   "id": "e21db3bf-6f25-4539-b5e7-f3e83cd67e78",
   "metadata": {},
   "outputs": [],
   "source": [
    "headx"
   ]
  },
  {
   "cell_type": "markdown",
   "id": "ff6e8a9b-6171-4ed8-b52b-66c347367fb9",
   "metadata": {},
   "source": [
    "Delete line feed character and unnecessary spaces:"
   ]
  },
  {
   "cell_type": "code",
   "execution_count": null,
   "id": "20d49c5e-6e4b-4d7e-8de0-00aa445349c4",
   "metadata": {},
   "outputs": [],
   "source": [
    "headx <- headx %>% str_replace_all(\"\\\\r\", \" \") %>% str_replace_all(\"- \", \"-\")"
   ]
  },
  {
   "cell_type": "code",
   "execution_count": null,
   "id": "ff0eeeb1-3780-4b14-9b7a-fd1e0ea8913d",
   "metadata": {},
   "outputs": [],
   "source": [
    "headx"
   ]
  },
  {
   "cell_type": "markdown",
   "id": "efa9ac27-97d7-49d0-9d1d-12b59961db41",
   "metadata": {},
   "source": [
    "Convert all pages to data.table, trim the first two rows and combine into one large table:"
   ]
  },
  {
   "cell_type": "code",
   "execution_count": null,
   "id": "12192ff4-4a61-4fbf-9db0-cdcd8a716362",
   "metadata": {},
   "outputs": [],
   "source": [
    "yksreport2 <- lapply(yksreport, as.data.table) %>% lapply(tail, -2) %>% rbindlist"
   ]
  },
  {
   "cell_type": "code",
   "execution_count": null,
   "id": "d13505da-24ae-4835-be44-724cce0bee09",
   "metadata": {},
   "outputs": [],
   "source": [
    "yksreport2 %>% head"
   ]
  },
  {
   "cell_type": "markdown",
   "id": "4450ff90-b6d0-4e11-95f5-ab5e7a829dc4",
   "metadata": {},
   "source": [
    "Set the names"
   ]
  },
  {
   "cell_type": "code",
   "execution_count": null,
   "id": "7a680bfc-2b1d-43dd-947d-ec9cb0e800b2",
   "metadata": {},
   "outputs": [],
   "source": [
    "setnames(yksreport2, headx)"
   ]
  },
  {
   "cell_type": "code",
   "execution_count": null,
   "id": "1d1e5271-90cf-4298-b912-3fe0d983ff99",
   "metadata": {},
   "outputs": [],
   "source": [
    "yksreport2 %>% head"
   ]
  },
  {
   "cell_type": "markdown",
   "id": "4992fd60-05f2-42e0-81bc-dcd38ba33a4f",
   "metadata": {},
   "source": [
    "Convert the columns with headers starting with the digit to numeric values:"
   ]
  },
  {
   "cell_type": "code",
   "execution_count": null,
   "id": "41255dee-8ffc-4693-8dd8-4d6878168668",
   "metadata": {},
   "outputs": [],
   "source": [
    "yksreport3 <- yksreport2 %>% mutate_all(na_if, \"-\") %>% mutate_at(vars(matches(\"^\\\\d\")), parse_number, locale = locale(decimal_mark = \",\", grouping_mark = \".\"))"
   ]
  },
  {
   "cell_type": "markdown",
   "id": "f9a047a7-d826-4260-b9d9-ef387e1a3861",
   "metadata": {},
   "source": [
    "Now we have a complete and clean table:"
   ]
  },
  {
   "cell_type": "code",
   "execution_count": null,
   "id": "ceaf763a-f617-475c-9737-a565b78a3216",
   "metadata": {},
   "outputs": [],
   "source": [
    "yksreport3 %>% head"
   ]
  },
  {
   "cell_type": "code",
   "execution_count": null,
   "id": "1d67f3d1-e125-4058-8c48-fd1f9728505e",
   "metadata": {},
   "outputs": [],
   "source": [
    "yksreport3 %>% DT::datatable(filter = \"top\")"
   ]
  },
  {
   "cell_type": "markdown",
   "id": "06a57afb-5b7a-4fb8-9a32-76aba14846ef",
   "metadata": {},
   "source": [
    "Let's do some filtering and ordering:"
   ]
  },
  {
   "cell_type": "code",
   "execution_count": null,
   "id": "08dccd1c-4940-4e86-ab83-75c53b021e45",
   "metadata": {},
   "outputs": [],
   "source": [
    "yksreport3[str_detect(`Üniversite Adı`, \"Boğaziçi\")]"
   ]
  },
  {
   "cell_type": "code",
   "execution_count": null,
   "id": "aa2e0318-6a5d-43eb-9a30-28549cd17b6b",
   "metadata": {},
   "outputs": [],
   "source": [
    "yksreport3[!is.na(`1-100`)][order(-`1-100`)]"
   ]
  },
  {
   "cell_type": "markdown",
   "id": "71cd2361-724e-495a-9520-dac8733e2646",
   "metadata": {},
   "source": [
    "Boğaziçi rules!"
   ]
  },
  {
   "cell_type": "code",
   "execution_count": null,
   "id": "da465eff-6e84-491e-810c-80152df1274b",
   "metadata": {},
   "outputs": [],
   "source": []
  }
 ],
 "metadata": {
  "kernelspec": {
   "display_name": "R",
   "language": "R",
   "name": "ir"
  },
  "language_info": {
   "codemirror_mode": "r",
   "file_extension": ".r",
   "mimetype": "text/x-r-source",
   "name": "R",
   "pygments_lexer": "r",
   "version": "4.3.2"
  }
 },
 "nbformat": 4,
 "nbformat_minor": 5
}
