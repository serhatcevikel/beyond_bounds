{
 "cells": [
  {
   "cell_type": "markdown",
   "id": "499b840e-2021-47c4-88a6-b0f85de4194c",
   "metadata": {},
   "source": [
    "<font size=\"6\"><b>RESOURCES FOR JUPYTER/DOCKER/BINDER AND GIT/GITHUB</b></font>"
   ]
  },
  {
   "cell_type": "markdown",
   "id": "3adbdd34-bfda-43d0-8471-f05181767898",
   "metadata": {},
   "source": [
    "# Resources for JUPYTER/DOCKER/BINDER"
   ]
  },
  {
   "cell_type": "markdown",
   "id": "88fdd2af-fae5-4882-9e1a-3c7d611d2580",
   "metadata": {},
   "source": [
    "[![jupter watch list](https://img.youtube.com/vi/-UwAsLtl8nQ/0.jpg)](https://www.youtube.com/playlist?list=PLg3eScSbYgxn-wBIpTRf6pWbF5BLIubiQ)"
   ]
  },
  {
   "cell_type": "markdown",
   "id": "a45e36a7-19a0-4700-ae93-5a040bb0fe09",
   "metadata": {},
   "source": [
    "# Resources for git/GitHub"
   ]
  },
  {
   "cell_type": "markdown",
   "id": "829aac2e-ae31-4a6d-989d-8da21e0a5211",
   "metadata": {},
   "source": [
    "## Watchlist"
   ]
  },
  {
   "cell_type": "markdown",
   "id": "3b396ca1-eba3-487e-867a-98cce94ec849",
   "metadata": {},
   "source": [
    "[![github watch list](https://img.youtube.com/vi/AdzKzlp66sQ/0.jpg)](https://www.youtube.com/playlist?list=PLg3eScSbYgxnKq2es09tj1c2ELUv9c1rY)"
   ]
  },
  {
   "cell_type": "markdown",
   "id": "7a6a32a2-1d31-44a1-99de-916195c07597",
   "metadata": {},
   "source": [
    "## Reading material"
   ]
  },
  {
   "cell_type": "markdown",
   "id": "c7e027a9-cad0-459d-a303-e0db383daf09",
   "metadata": {},
   "source": [
    "- Git and GitHub tutorial for beginners:\n",
    "\n",
    "https://product.hubspot.com/blog/git-and-github-tutorial-for-beginners"
   ]
  },
  {
   "cell_type": "markdown",
   "id": "b866bc48-6ce6-4d01-a905-78881186b4be",
   "metadata": {},
   "source": [
    "- git - the simple guide\n",
    "\n",
    "http://rogerdudler.github.io/git-guide/"
   ]
  },
  {
   "cell_type": "markdown",
   "id": "ec68e4c2-95ab-4156-abbd-34005fd48797",
   "metadata": {},
   "source": [
    "- Git - Basic concepts\n",
    "\n",
    "https://www.tutorialspoint.com/git/git_basic_concepts.htm"
   ]
  },
  {
   "cell_type": "code",
   "execution_count": null,
   "id": "a89c0e1b-5db2-4302-9107-5cf1448e0d85",
   "metadata": {},
   "outputs": [],
   "source": []
  }
 ],
 "metadata": {
  "kernelspec": {
   "display_name": "R",
   "language": "R",
   "name": "ir"
  },
  "language_info": {
   "codemirror_mode": "r",
   "file_extension": ".r",
   "mimetype": "text/x-r-source",
   "name": "R",
   "pygments_lexer": "r",
   "version": "4.4.1"
  },
  "toc-autonumbering": true
 },
 "nbformat": 4,
 "nbformat_minor": 5
}
