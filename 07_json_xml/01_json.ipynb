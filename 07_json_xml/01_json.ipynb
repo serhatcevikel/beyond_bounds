{
 "cells": [
  {
   "cell_type": "markdown",
   "id": "3591ea85-878c-401e-965f-a6d62242bded",
   "metadata": {},
   "source": [
    "<font size=\"6\"><b>WORKING WITH JSON AND NESTED LIST OBJECTS</b></font>"
   ]
  },
  {
   "cell_type": "code",
   "execution_count": null,
   "id": "b50de61f-9c3e-47f4-96e8-1cc12ecaa76e",
   "metadata": {},
   "outputs": [],
   "source": [
    "library(data.table)\n",
    "library(tidyverse)\n",
    "library(jqr)\n",
    "library(listviewer)\n",
    "library(jsonlite)\n",
    "library(rlist)\n",
    "library(pipeR)\n",
    "library(data.tree)"
   ]
  },
  {
   "cell_type": "code",
   "execution_count": null,
   "id": "c40f190c-abf4-4986-b1aa-fdbe2bc1be3b",
   "metadata": {},
   "outputs": [],
   "source": [
    "options(repr.matrix.max.rows=20, repr.matrix.max.cols=15) # for limiting the number of top and bottom rows of tables printed "
   ]
  },
  {
   "cell_type": "markdown",
   "id": "aed3664d-f784-462e-b019-97da95cbfdc3",
   "metadata": {
    "kernel": "SoS"
   },
   "source": [
    "# Working with JSON Objects"
   ]
  },
  {
   "cell_type": "markdown",
   "id": "f54d0983-42ab-4bae-8a43-930fb18d8a47",
   "metadata": {
    "kernel": "SoS"
   },
   "source": [
    "- JSON is a hierarchical data format that allows data that is not appropriate to be formatted as columns and rows to be stored and queried.\n",
    "\n",
    "- Let's say we are tracking our contact data in a csv file:\n",
    "\n",
    "```\n",
    "Lastname, Firstname, Phone Number\n",
    "\n",
    "Membrey, Peter, +852 1234 5678\n",
    "\n",
    "Thielen, Wouter, +81 1234 5678\n",
    "```"
   ]
  },
  {
   "cell_type": "markdown",
   "id": "69a29e8f-7aeb-4eab-a938-103685667805",
   "metadata": {
    "kernel": "SoS"
   },
   "source": [
    "- If one of the contacts have more than one phone numbers, we have to create a new column\n",
    "\n",
    "```\n",
    "Lastname, Firstname, Phone Number1, Phone Number2\n",
    "\n",
    "Membrey, Peter, +852 1234 5678, +44 1234 565 555\n",
    "\n",
    "Thielen, Wouter, +81 1234 5678\n",
    "```"
   ]
  },
  {
   "cell_type": "markdown",
   "id": "f2664eb8-b23d-40f7-b74f-ea7337b0e9a2",
   "metadata": {
    "kernel": "SoS"
   },
   "source": [
    "- But suppose, we have million of records with tens of fields, and in some exceptions, some records may have many multiple values of some fields: e.g. 10 telephone numbers, etc\n",
    "\n",
    "- JSON format is a remedy for these kinds of flexibility issues and hierarchical data formats.\n",
    "\n",
    "- Integrity rules are softer for handling JSON data"
   ]
  },
  {
   "cell_type": "markdown",
   "id": "65e04a41-4948-4bf4-a0c5-1e8bc306aae7",
   "metadata": {
    "kernel": "SoS"
   },
   "source": [
    "- JSON stands for \"JavaScript Object Notation\"\n",
    "- In JSON, each record is called a \"document\"\n",
    "- Let's write the first record as a JSON document:"
   ]
  },
  {
   "cell_type": "code",
   "execution_count": null,
   "id": "2f17adc3-29bf-4cb2-8393-23a75c225b97",
   "metadata": {},
   "outputs": [],
   "source": [
    "record1 <- '{\n",
    "\"firstname\": \"Peter\",\n",
    "\"lastname\": \"Membrey\",\n",
    "\"phone_numbers\": [\n",
    "\"+852 1234 5678\",\n",
    "\"+44 1234 565 555\"\n",
    "]\n",
    "}'"
   ]
  },
  {
   "cell_type": "markdown",
   "id": "d15304cf-6788-4b54-92a4-af67f7e01afe",
   "metadata": {},
   "source": [
    "This is treated as a regular character:"
   ]
  },
  {
   "cell_type": "code",
   "execution_count": null,
   "id": "9f2cef20-29ee-4863-9e12-38673ad81734",
   "metadata": {},
   "outputs": [],
   "source": [
    "record1"
   ]
  },
  {
   "cell_type": "markdown",
   "id": "27c6c0ab-618c-4c1c-bc97-28abc78f4f6b",
   "metadata": {},
   "source": [
    "In the structure of a JSON object:\n",
    "\n",
    "- Each document (equivalent to a row in RDBMS) in JSON is delimited by curly braces \"{\"\n",
    "- And all values are given as \"key\" and \"value\" pairs:\n",
    "\n",
    "```json\n",
    "{\n",
    "  \"firstname\": \"Peter\",\n",
    "  \"lastname\": \"Membrey\",\n",
    "  \"phone_numbers\": [\n",
    "    \"+852 1234 5678\",\n",
    "    \"+44 1234 565 555\"\n",
    "  ]\n",
    "}\n",
    "```\n",
    "\n",
    "- firstname is the key, \"Peter\" is the value, an so on\n",
    "\n",
    "- We also have arrays of values for a single key, delimited by square brackets []"
   ]
  },
  {
   "cell_type": "markdown",
   "id": "ae566cf0-48d9-458a-910b-a039664cefdf",
   "metadata": {},
   "source": [
    "## Converting JSON to list"
   ]
  },
  {
   "cell_type": "markdown",
   "id": "cf33387d-6057-4d7e-a587-0036ec270334",
   "metadata": {},
   "source": [
    "`fromJSON` function from `jsonlite` package converts a JSON object into an R list:"
   ]
  },
  {
   "cell_type": "code",
   "execution_count": null,
   "id": "7e624a17-7030-4408-bec7-24efffdcb017",
   "metadata": {},
   "outputs": [],
   "source": [
    "record1l <- fromJSON(record1)"
   ]
  },
  {
   "cell_type": "code",
   "execution_count": null,
   "id": "f0a77b69-21ca-4f56-9f89-cae2fa482a7a",
   "metadata": {},
   "outputs": [],
   "source": [
    "record1l"
   ]
  },
  {
   "cell_type": "markdown",
   "id": "74801cb9-e212-4dd5-9fbd-362ce3ead079",
   "metadata": {},
   "source": [
    "And `jsonedit` function from `listviewer` package creates a interactive, foldable, pretty printed representation of a list object:"
   ]
  },
  {
   "cell_type": "code",
   "execution_count": null,
   "id": "76706184-890f-4c81-8efe-312f9cad3b85",
   "metadata": {},
   "outputs": [],
   "source": [
    "jsonedit(record1l, mode = \"form\")"
   ]
  },
  {
   "cell_type": "markdown",
   "id": "02ab02b6-34b6-4686-bff1-28c37cc0c8ea",
   "metadata": {},
   "source": [
    "This is the best option to interactively visualize a JSON object in R"
   ]
  },
  {
   "cell_type": "markdown",
   "id": "b03d7353-7bf2-419a-93a6-4bd69a6775f6",
   "metadata": {},
   "source": [
    "## Querying JSON with JQ"
   ]
  },
  {
   "cell_type": "markdown",
   "id": "9baf66d9-0ff3-4fdf-95eb-b82e29de39a1",
   "metadata": {},
   "source": [
    "jq is a parser and querying tool for json, that creates a nice output\n",
    "\n",
    "You can have more info on jq following the links:\n",
    "\n",
    "[The Home Page](https://stedolan.github.io/jq/)\n",
    "\n",
    "[Tutorial](https://stedolan.github.io/jq/tutorial/)\n",
    "\n",
    "[Manual](https://stedolan.github.io/jq/manual/)"
   ]
  },
  {
   "cell_type": "markdown",
   "id": "e68903ec-b083-42fe-a37f-ed0a30fb8d27",
   "metadata": {},
   "source": [
    "`jqr` package is an R implementation and interface to jq "
   ]
  },
  {
   "cell_type": "markdown",
   "id": "88d9f2cc-ad13-4033-a88d-0c244a656f68",
   "metadata": {},
   "source": [
    "`jq` function from `jqr` package provides a low level interface to query json objects:"
   ]
  },
  {
   "cell_type": "markdown",
   "id": "1642394e-a00b-4cd2-a906-6a5e8f1bd1b3",
   "metadata": {},
   "source": [
    "\".\" returns the whole record:"
   ]
  },
  {
   "cell_type": "code",
   "execution_count": null,
   "id": "d34074f7-687e-4950-8bfd-6b54f10a4303",
   "metadata": {},
   "outputs": [],
   "source": [
    "jq(record1, \".\")"
   ]
  },
  {
   "cell_type": "markdown",
   "id": "1fcc36c6-a43e-4786-8fd5-749faa2d56c8",
   "metadata": {
    "kernel": "Bash"
   },
   "source": [
    "## A real json database example: UN COMTRADE"
   ]
  },
  {
   "cell_type": "markdown",
   "id": "ddc5dab2-10bb-4364-bccd-b4e2ea23c5be",
   "metadata": {
    "kernel": "Bash"
   },
   "source": [
    "- We will be using a part of the UN COMTRADE database:\n",
    "\n",
    "[UN COMTRADE](https://comtrade.un.org/)\n",
    "\n",
    "UN COMTRADE is the widest and most comprehensive database on international trade:\n",
    "\n",
    "- 250+ reporter countries\n",
    "- 290+ partner countries\n",
    "- 6500+ commodity codes\n",
    "- 50+ of history\n",
    "- Both imports and exports\n",
    "- Both values and quantities!"
   ]
  },
  {
   "cell_type": "markdown",
   "id": "ed3742f6-3e62-4182-b593-388e23f23e48",
   "metadata": {},
   "source": [
    "Let's define a path variable:"
   ]
  },
  {
   "cell_type": "code",
   "execution_count": null,
   "id": "3bde9d9d-4b73-4b2d-a9ec-0a52e0d2cafe",
   "metadata": {},
   "outputs": [],
   "source": [
    "comtrade_path <- \"~/databb/json/comtrade_s1\""
   ]
  },
  {
   "cell_type": "markdown",
   "id": "2147d2b0-7132-471b-a62e-ba0ca56ce3f5",
   "metadata": {},
   "source": [
    "And list files:"
   ]
  },
  {
   "cell_type": "code",
   "execution_count": null,
   "id": "5ab529c0-c9d0-4700-9d26-e55d1ea9526f",
   "metadata": {},
   "outputs": [],
   "source": [
    "list.files(comtrade_path)"
   ]
  },
  {
   "cell_type": "markdown",
   "id": "bef02424-3f19-4d5b-896d-26ac7644531c",
   "metadata": {},
   "source": [
    "- classificationS1.json lists the item classification according to SITC1 method\n",
    "- reporterAreas.json and partnerAreas.json lists the countries and their respective codes\n",
    "- data files are under 2010"
   ]
  },
  {
   "cell_type": "markdown",
   "id": "da67e89f-2611-405b-9c0d-376b5246a5c8",
   "metadata": {
    "kernel": "Bash"
   },
   "source": [
    "### Reporters"
   ]
  },
  {
   "cell_type": "markdown",
   "id": "f61222e0-e3fd-4789-80ba-e6591e2d7c3e",
   "metadata": {},
   "source": [
    "Import reporterAreas file as list:"
   ]
  },
  {
   "cell_type": "code",
   "execution_count": null,
   "id": "089386da-e9bb-43e7-8461-e95e1e795b79",
   "metadata": {
    "kernel": "R"
   },
   "outputs": [],
   "source": [
    "reporter <- jsonlite::fromJSON(paste(comtrade_path, \"reporterAreas.json\", sep = \"/\"))"
   ]
  },
  {
   "cell_type": "code",
   "execution_count": null,
   "id": "ae870b87-1684-4451-b1d2-f08d7d71c17c",
   "metadata": {
    "kernel": "R"
   },
   "outputs": [],
   "source": [
    "str(reporter)"
   ]
  },
  {
   "cell_type": "markdown",
   "id": "68e7bd59-37f9-44e5-bd5a-126b2f2bf46b",
   "metadata": {
    "kernel": "R"
   },
   "source": [
    "See that, in not-so-nested structures, the data is automatically flattened into a data frame"
   ]
  },
  {
   "cell_type": "markdown",
   "id": "5e0ed970-8a7d-4f0e-af84-37370129975a",
   "metadata": {
    "kernel": "R"
   },
   "source": [
    "And a collapsable and interactive gadget for viewing json and similar hierarchical data types:"
   ]
  },
  {
   "cell_type": "code",
   "execution_count": null,
   "id": "c04976c3-2b44-4026-ab2f-4b8c77563150",
   "metadata": {
    "kernel": "R"
   },
   "outputs": [],
   "source": [
    "listviewer::jsonedit(reporter, mode = \"form\")"
   ]
  },
  {
   "cell_type": "markdown",
   "id": "c46a6f3a-bfe1-464b-9b1e-cc3016e2cdb6",
   "metadata": {},
   "source": [
    "And we can change to text JSON representation again:"
   ]
  },
  {
   "cell_type": "code",
   "execution_count": null,
   "id": "aa9dd991-9edf-4cff-b051-beaefe0e432f",
   "metadata": {},
   "outputs": [],
   "source": [
    "reporterj <- toJSON(reporter)"
   ]
  },
  {
   "cell_type": "code",
   "execution_count": null,
   "id": "fed373a8-afae-49c4-92d2-98f4e2a88b3b",
   "metadata": {},
   "outputs": [],
   "source": [
    "reporterj"
   ]
  },
  {
   "cell_type": "markdown",
   "id": "97bea1c0-d417-4000-b18e-63537aa3a681",
   "metadata": {
    "kernel": "Bash"
   },
   "source": [
    "Now let's traverse through this document to list country texts:"
   ]
  },
  {
   "cell_type": "code",
   "execution_count": null,
   "id": "2e124ce6-5d7c-4239-be96-ca53f701eeb8",
   "metadata": {
    "kernel": "Bash"
   },
   "outputs": [],
   "source": [
    "jq(reporterj, '.results[].text')"
   ]
  },
  {
   "cell_type": "markdown",
   "id": "13f77d5d-ce5e-4b21-bd9b-c48e33e2f4d2",
   "metadata": {},
   "source": [
    "Or traversing the list object:"
   ]
  },
  {
   "cell_type": "code",
   "execution_count": null,
   "id": "8778cc78-7cc9-45ac-8e87-00ced82426d2",
   "metadata": {},
   "outputs": [],
   "source": [
    "reporter$results$text"
   ]
  },
  {
   "cell_type": "markdown",
   "id": "1bd594d0-e269-477c-bb47-332d6b0d6eef",
   "metadata": {
    "kernel": "Bash"
   },
   "source": [
    "And let's list the country codes:"
   ]
  },
  {
   "cell_type": "code",
   "execution_count": null,
   "id": "88686e0b-e22e-46d5-8818-bb251cb5705e",
   "metadata": {
    "kernel": "Bash"
   },
   "outputs": [],
   "source": [
    "jq(reporterj, '.results[].id')"
   ]
  },
  {
   "cell_type": "code",
   "execution_count": null,
   "id": "d6bf6f7a-5bd4-44bb-8819-eef8eaf2f6ea",
   "metadata": {},
   "outputs": [],
   "source": [
    "reporter$results$id"
   ]
  },
  {
   "cell_type": "markdown",
   "id": "6eafd716-bdc3-4236-8bcd-1461a78e1ea1",
   "metadata": {
    "kernel": "Bash"
   },
   "source": [
    "- Separate lists of country names and id's do not mean much.\n",
    "- Suppose we want to find the country code of turkey"
   ]
  },
  {
   "cell_type": "code",
   "execution_count": null,
   "id": "52e1cd27-9edc-4d81-afdb-bfb8d83280f3",
   "metadata": {},
   "outputs": [],
   "source": [
    "jq(reporterj, '.results[] | select(.text == \"Turkey\") | .id')"
   ]
  },
  {
   "cell_type": "code",
   "execution_count": null,
   "id": "f57d9e0b-f8a7-411c-900b-58c71daea175",
   "metadata": {},
   "outputs": [],
   "source": [
    "reporter$results %>% filter(text == \"Turkey\") %>% pull(id)"
   ]
  },
  {
   "cell_type": "markdown",
   "id": "692b912f-1ba7-4607-af60-72d2e5b5120a",
   "metadata": {
    "kernel": "Bash"
   },
   "source": [
    "### Classification"
   ]
  },
  {
   "cell_type": "markdown",
   "id": "8e5025f8-a0bc-48b7-beca-db847af74640",
   "metadata": {
    "kernel": "Bash"
   },
   "source": [
    "Now let's go through the classification file:"
   ]
  },
  {
   "cell_type": "code",
   "execution_count": null,
   "id": "c2c3cbff-bde9-480c-bb13-a476fde015fe",
   "metadata": {},
   "outputs": [],
   "source": [
    "classification <- jsonlite::fromJSON(paste(comtrade_path, \"classificationS1.json\", sep = \"/\"))"
   ]
  },
  {
   "cell_type": "code",
   "execution_count": null,
   "id": "e5fe00a0-db07-4a66-b3b3-b3b0ddf84c30",
   "metadata": {},
   "outputs": [],
   "source": [
    "listviewer::jsonedit(classification, mode = \"form\")"
   ]
  },
  {
   "cell_type": "code",
   "execution_count": null,
   "id": "9e2d389a-0961-4be4-aaf8-6e453b0b8a80",
   "metadata": {
    "kernel": "R"
   },
   "outputs": [],
   "source": [
    "classificationj <- toJSON(classification)"
   ]
  },
  {
   "cell_type": "markdown",
   "id": "987aca3a-2512-4b98-9b77-d9a4ffa1f2d9",
   "metadata": {
    "kernel": "Bash"
   },
   "source": [
    "Now we will filter for those entries, in which text includes \"textile\" and code is only 3 digits:"
   ]
  },
  {
   "cell_type": "code",
   "execution_count": null,
   "id": "e00f0f49-51bc-49f5-8c1b-0ce5dcd5a0d5",
   "metadata": {
    "kernel": "Bash"
   },
   "outputs": [],
   "source": [
    "jq(classificationj, '.results[] | select((.id|test(\"^[0-9]+$\")) and (.text|test(\"(?i)textile\"))) |\n",
    "select((.id|tonumber < 1000) and (.id|tonumber > 99)) | .text')"
   ]
  },
  {
   "cell_type": "markdown",
   "id": "c4420708-10f0-4f1a-b2ed-782401d07ccc",
   "metadata": {
    "kernel": "Bash"
   },
   "source": [
    "See how it works:\n",
    "\n",
    "- We filter for id values that are numeric (so exclude ALL, TOTAL, AG1..AG5) and where text includes case insensitive textile\n",
    "- We filter for id values larger than 99 and smaller than 1000\n",
    "- We return the text\n",
    "- The text has already id info at the beginning split with \" - \". We substitute these character with a tab character"
   ]
  },
  {
   "cell_type": "markdown",
   "id": "4a6abac7-e376-437e-9718-fe6d3715b93f",
   "metadata": {},
   "source": [
    "And we can do the same through the list object and the data.frame inside:"
   ]
  },
  {
   "cell_type": "code",
   "execution_count": null,
   "id": "89b006f7-0174-40bd-9116-f4f31dd999a1",
   "metadata": {},
   "outputs": [],
   "source": [
    "classification$results %>% filter(str_detect(id, \"^\\\\d+$\") & str_detect(text, \"(?i)textile\")) %>%\n",
    "mutate_at(\"id\", as.integer) %>%\n",
    "filter(id %between% c(100, 999)) %>%\n",
    "pull(text)"
   ]
  },
  {
   "cell_type": "markdown",
   "id": "008f5961-e03b-40bf-9299-0c3afa627993",
   "metadata": {
    "kernel": "Bash"
   },
   "source": [
    "### Data files"
   ]
  },
  {
   "cell_type": "markdown",
   "id": "9bd11bbf-8dec-4731-a824-6ac548187efb",
   "metadata": {
    "kernel": "Bash"
   },
   "source": [
    "Now let's go through the actual data files that includes trade volumes:"
   ]
  },
  {
   "cell_type": "code",
   "execution_count": null,
   "id": "6a43d2c3-2a73-4b78-a60a-6bf40d4bc6e8",
   "metadata": {},
   "outputs": [],
   "source": [
    "comfiles <- list.files(paste(comtrade_path, \"2010\", sep = \"/\"), full.names = T)"
   ]
  },
  {
   "cell_type": "code",
   "execution_count": null,
   "id": "aa749c74-b85d-4859-9600-6f7272d69b84",
   "metadata": {},
   "outputs": [],
   "source": [
    "comfiles"
   ]
  },
  {
   "cell_type": "markdown",
   "id": "30c1fff1-524d-46d0-b7c9-8ff9d0d6f9d9",
   "metadata": {},
   "source": [
    "See that the files are gzipped"
   ]
  },
  {
   "cell_type": "markdown",
   "id": "c3f12920-9c03-4daf-ab72-2da6534cad85",
   "metadata": {},
   "source": [
    "Let's extract the parts that represent the reporter and partner country codes:"
   ]
  },
  {
   "cell_type": "code",
   "execution_count": null,
   "id": "667ef35d-f99c-45b8-8a3e-7c822f24188b",
   "metadata": {},
   "outputs": [],
   "source": [
    "comnames <- str_extract(comfiles, \"(?<=2010_)\\\\d+_\\\\d+\")\n",
    "comnames"
   ]
  },
  {
   "cell_type": "markdown",
   "id": "5d7d0f57-8767-4ede-8ec7-91d89d9adc9a",
   "metadata": {},
   "source": [
    "Either readlines or fromJSON can read gzipped files directly:"
   ]
  },
  {
   "cell_type": "code",
   "execution_count": null,
   "id": "883db94c-5a7a-42fa-b625-9ec373b0db22",
   "metadata": {},
   "outputs": [],
   "source": [
    "comj <- lapply(comfiles, readLines)"
   ]
  },
  {
   "cell_type": "code",
   "execution_count": null,
   "id": "97f0dc16-36b4-491e-b066-ae6adfef40f1",
   "metadata": {},
   "outputs": [],
   "source": [
    "coml <- lapply(comfiles, fromJSON)"
   ]
  },
  {
   "cell_type": "code",
   "execution_count": null,
   "id": "7768332d-bd99-4590-ab3d-31535074bc70",
   "metadata": {},
   "outputs": [],
   "source": [
    "names(comj) <- comnames"
   ]
  },
  {
   "cell_type": "code",
   "execution_count": null,
   "id": "3057959b-021a-4c88-990d-c98525594c85",
   "metadata": {},
   "outputs": [],
   "source": [
    "names(coml) <- comnames"
   ]
  },
  {
   "cell_type": "code",
   "execution_count": null,
   "id": "af3188a2-cb15-4a16-8840-610eddb4d9ca",
   "metadata": {},
   "outputs": [],
   "source": [
    "comj %>% str"
   ]
  },
  {
   "cell_type": "markdown",
   "id": "eb247522-80dd-4680-9049-404fe18bca71",
   "metadata": {},
   "source": [
    "- The code after the first underscore is the reporter's and the code after the second underscore is the partner country's code\n",
    "\n",
    "- So there are the files for which Turkey is either a reporter or partner"
   ]
  },
  {
   "cell_type": "markdown",
   "id": "34daac25-232e-4bf0-a030-9226eb30079d",
   "metadata": {},
   "source": [
    "Let's take only a part:"
   ]
  },
  {
   "cell_type": "code",
   "execution_count": null,
   "id": "49599679-4136-4989-ad6a-528fd9bb852f",
   "metadata": {},
   "outputs": [],
   "source": [
    "tradedataj <- comj$`792_12`"
   ]
  },
  {
   "cell_type": "code",
   "execution_count": null,
   "id": "c7391504-2b93-4fba-91b6-057e17f975d4",
   "metadata": {},
   "outputs": [],
   "source": [
    "tradedata <- coml$`792_12`"
   ]
  },
  {
   "cell_type": "code",
   "execution_count": null,
   "id": "2e8187a9-4487-4226-9785-faccb3b814ba",
   "metadata": {
    "kernel": "R"
   },
   "outputs": [],
   "source": [
    "listviewer::jsonedit(tradedata, mode = \"form\")"
   ]
  },
  {
   "cell_type": "markdown",
   "id": "08216b2e-7b19-4485-bcbb-ac49892a403e",
   "metadata": {
    "kernel": "R"
   },
   "source": [
    "Descriptions for several variables are:\n",
    "\n",
    "- CmdCode: \tCommodity code\n",
    "- CmdDesc: \tCommodity description\n",
    "- IsLeaf: \tBasic code without children\n",
    "- Parentcode: \tHigh level of that commodity code\n",
    "- pfDesc: \tCommodity classification\n",
    "- PfCode: \tCommodity classification code\n",
    "- yr: \tYear\n",
    "- rtCode \tReporter Code\n",
    "- ptCode: \tPartner Code\n",
    "- qtCode: \tQuantity code "
   ]
  },
  {
   "cell_type": "markdown",
   "id": "3699089b-c4d2-4d5a-959a-de052a56e259",
   "metadata": {
    "kernel": "R"
   },
   "source": [
    "Now from all files for which Turkey is a reporter, the TradeValue of exports (rgCode is 2) in 651 code (Textile yarn and thread)\n",
    "\n",
    "We will report:\n",
    "- ptTitle (name of partner country)\n",
    "- TradeValue\n",
    "- TradeQuantity "
   ]
  },
  {
   "cell_type": "code",
   "execution_count": null,
   "id": "e00a9ac6-56b1-4928-80f8-a54c263abff5",
   "metadata": {},
   "outputs": [],
   "source": [
    "jq(tradedataj, '.dataset[] | select(.cmdCode == \"651\" and .rgCode == 2) |\n",
    "\"\\\\(.ptTitle) \\\\(.TradeValue) \\\\(.TradeQuantity)\"')"
   ]
  },
  {
   "cell_type": "code",
   "execution_count": null,
   "id": "326fa841-b69b-4b31-b270-ad21c54102bb",
   "metadata": {},
   "outputs": [],
   "source": [
    "tradedata$dataset %>%\n",
    "filter(cmdCode == 651 & rgCode == 2) %>%\n",
    "dplyr::select(ptTitle, TradeValue, TradeQuantity)"
   ]
  },
  {
   "cell_type": "markdown",
   "id": "b6299109-05b3-4204-b093-a396b7bf6937",
   "metadata": {},
   "source": [
    "We can do the same for all parts of the list:"
   ]
  },
  {
   "cell_type": "code",
   "execution_count": null,
   "id": "815f05d4-9140-4a4a-ba31-865dcc7c90a7",
   "metadata": {},
   "outputs": [],
   "source": [
    "datasetl <- coml %>% list.select(dataset) %>% purrr::flatten()"
   ]
  },
  {
   "cell_type": "code",
   "execution_count": null,
   "id": "823c0da2-12b5-463f-8b13-85bbc437b0f9",
   "metadata": {},
   "outputs": [],
   "source": [
    "lapply(datasetl, function(x) x  %>%\n",
    "filter(cmdCode == 651 & rgCode == 2) %>%\n",
    "dplyr::select(ptTitle, TradeValue, TradeQuantity)) %>% rbindlist"
   ]
  },
  {
   "cell_type": "markdown",
   "id": "1f13849a-a6ab-424d-944c-bc97f8510aab",
   "metadata": {},
   "source": [
    "Or for lists than can be bound into a single data.frame/data.table:"
   ]
  },
  {
   "cell_type": "code",
   "execution_count": null,
   "id": "44b2fa6c-9cd7-4d17-a9a9-470a646d30b0",
   "metadata": {},
   "outputs": [],
   "source": [
    "datasetl %>% rbindlist %>%\n",
    "filter(cmdCode == 651 & rgCode == 2) %>%\n",
    "dplyr::select(ptTitle, TradeValue, TradeQuantity)"
   ]
  },
  {
   "cell_type": "markdown",
   "id": "68ed1ee5-e99a-4c17-9040-d63cccd50450",
   "metadata": {},
   "source": [
    "# Advanced list operations"
   ]
  },
  {
   "cell_type": "markdown",
   "id": "a67d0bb0-7226-495f-b5ce-1ae806ffd43f",
   "metadata": {},
   "source": [
    "Let's do some advanced operations on highly nested list objects using functions from `purrr` and `rlist` packages:"
   ]
  },
  {
   "cell_type": "code",
   "execution_count": null,
   "id": "26007c98-b143-4b26-9012-e63b8bae9bf2",
   "metadata": {},
   "outputs": [],
   "source": [
    "coml %>% jsonedit(mode = \"form\")"
   ]
  },
  {
   "cell_type": "markdown",
   "id": "f69dd1c1-7413-4e10-9331-bbb75864e547",
   "metadata": {},
   "source": [
    "We have a single larger list of six smaller list objects.\n",
    "\n",
    "Each object is comprised of a list object called validation\n",
    "\n",
    "Using a hack from this stackoverflow answer:\n",
    "\n",
    "https://stackoverflow.com/a/51611498"
   ]
  },
  {
   "cell_type": "code",
   "execution_count": null,
   "id": "959f7fac-9798-4eaf-b2ce-63ccab366f0d",
   "metadata": {},
   "outputs": [],
   "source": [
    "depth <- function(x) ifelse(is.list(x), 1 + max(sapply(x, depth)), 0)\n",
    "\n",
    "toTree <- function(x) {\n",
    "  d <- depth(x)\n",
    "  if(d > 1) {\n",
    "    lapply(x, toTree)\n",
    "  } else {\n",
    "    children = lapply(names(x), function(nm) list(name=nm))\n",
    "  }\n",
    "}"
   ]
  },
  {
   "cell_type": "markdown",
   "id": "e35da959-8baf-4827-b9c8-a1412469d3a1",
   "metadata": {},
   "source": [
    "We can draw the structure of the first validation object as such using `data.tree` package:"
   ]
  },
  {
   "cell_type": "code",
   "execution_count": null,
   "id": "34bc1e27-09aa-41f5-9bec-c8dca7c34342",
   "metadata": {},
   "outputs": [],
   "source": [
    "suppressWarnings(dt <- data.tree::FromListSimple(toTree(coml[[1]]$validation), nodeName = \"x\"))"
   ]
  },
  {
   "cell_type": "code",
   "execution_count": null,
   "id": "f66d5b48-4e41-4a56-b73b-77d9fa9f7f4d",
   "metadata": {},
   "outputs": [],
   "source": [
    "plot(dt)"
   ]
  },
  {
   "cell_type": "markdown",
   "id": "020d53fe-41d8-4a81-a59a-ed8ac8a801ef",
   "metadata": {},
   "source": [
    "`value` node under `count`, a part of `validation` node, has information on the number of records in `dataset`.\n",
    "\n",
    "Lets extract only those parts from the larger object first as a list:"
   ]
  },
  {
   "cell_type": "code",
   "execution_count": null,
   "id": "b2fa5406-a7f5-42e7-9993-eb2d8160d2b3",
   "metadata": {},
   "outputs": [],
   "source": [
    "valuel <- coml %>% rlist::list.select(validation$count$value)"
   ]
  },
  {
   "cell_type": "code",
   "execution_count": null,
   "id": "b4fbe52d-f1f8-4d17-b81f-a151e42779c9",
   "metadata": {},
   "outputs": [],
   "source": [
    "valuel"
   ]
  },
  {
   "cell_type": "markdown",
   "id": "24172722-0611-4d09-bbfc-8fdfe223d7e4",
   "metadata": {},
   "source": [
    "And as a simple vector:"
   ]
  },
  {
   "cell_type": "code",
   "execution_count": null,
   "id": "b0cac9e7-d09a-4099-974e-de8174413916",
   "metadata": {},
   "outputs": [],
   "source": [
    "unlist(valuel)"
   ]
  },
  {
   "cell_type": "markdown",
   "id": "ed262537-03e1-43a0-a191-55285d680a71",
   "metadata": {},
   "source": [
    "Now let's filter only those parts of the list, value of which is above 1000.\n",
    "\n",
    "Note that the pipe (%>>%) from pipeR package can be used interchangably with tidyverse pipe (%>%) for rlist functions:"
   ]
  },
  {
   "cell_type": "code",
   "execution_count": null,
   "id": "43952f31-ab96-497b-a761-014a8a1cc864",
   "metadata": {},
   "outputs": [],
   "source": [
    "coml2 <- coml %>>% rlist::list.filter(validation$count$value > 1000)"
   ]
  },
  {
   "cell_type": "code",
   "execution_count": null,
   "id": "07de3217-d81c-4417-98b9-1fa9df80022b",
   "metadata": {},
   "outputs": [],
   "source": [
    "coml2 %>% names"
   ]
  },
  {
   "cell_type": "code",
   "execution_count": null,
   "id": "5983ad9d-1913-48f7-aa33-f048eb96aefc",
   "metadata": {},
   "outputs": [],
   "source": [
    "coml2 %>% jsonedit(mode = \"form\")"
   ]
  },
  {
   "cell_type": "markdown",
   "id": "c024776e-458a-4982-bf43-7a18f68d0221",
   "metadata": {},
   "source": [
    "Now let's flatten the list one level so that the nodes under validation (status, message, count, datasetTimer) replace validation using `purrr::list_flatten`:"
   ]
  },
  {
   "cell_type": "code",
   "execution_count": null,
   "id": "f1695f48-0bb2-4f87-8eeb-14dd7fe56d0f",
   "metadata": {},
   "outputs": [],
   "source": [
    "coml %>% lapply(purrr::list_flatten) %>% jsonedit(mode = \"form\")"
   ]
  },
  {
   "cell_type": "markdown",
   "id": "4571cf07-6909-4625-aa7b-1ba0cdae57b9",
   "metadata": {},
   "source": [
    "Or we can repeat it so that two levels are flattend:"
   ]
  },
  {
   "cell_type": "code",
   "execution_count": null,
   "id": "b7821188-117c-427b-a4f0-14e2d7a96fe7",
   "metadata": {},
   "outputs": [],
   "source": [
    "coml %>% lapply(purrr::list_flatten) %>% lapply(purrr::list_flatten) %>% jsonedit(mode = \"form\")"
   ]
  },
  {
   "cell_type": "markdown",
   "id": "31d23d7b-cc4d-4b53-8514-56b6f62fb77c",
   "metadata": {},
   "source": [
    "What if we want to have a single data.table under each of the major nodes of the greater list using `rlist::list.flatten`:"
   ]
  },
  {
   "cell_type": "code",
   "execution_count": null,
   "id": "4ceefa5f-dbf6-47ad-ab83-40942b2f29ff",
   "metadata": {},
   "outputs": [],
   "source": [
    "com_dtl <- coml %>% lapply(rlist::list.flatten) %>% lapply(as.data.table)"
   ]
  },
  {
   "cell_type": "code",
   "execution_count": null,
   "id": "ddb90da1-1156-4869-91f8-d6444ce5eb7d",
   "metadata": {},
   "outputs": [],
   "source": [
    "com_dtl %>% jsonedit(mode = \"form\")"
   ]
  },
  {
   "cell_type": "markdown",
   "id": "d4d5b2ee-24ef-4db6-aa9d-dc7709b7e86e",
   "metadata": {},
   "source": [
    "While we had a table of 35 columns along with the nested validation object in the original version:"
   ]
  },
  {
   "cell_type": "code",
   "execution_count": null,
   "id": "8ff6345e-4734-48a4-8391-6522af80a155",
   "metadata": {},
   "outputs": [],
   "source": [
    "coml[[1]]$dataset"
   ]
  },
  {
   "cell_type": "markdown",
   "id": "459636a7-5b04-4591-a28d-006264fee108",
   "metadata": {},
   "source": [
    "In the flattened version, we only have a data.table object of 47 columns, 12 columns of which come from the flatenning of the validation object:"
   ]
  },
  {
   "cell_type": "code",
   "execution_count": null,
   "id": "08b16146-f929-4693-a070-1a91862c0495",
   "metadata": {},
   "outputs": [],
   "source": [
    "com_dtl[[1]]"
   ]
  },
  {
   "cell_type": "markdown",
   "id": "e726f051-49a9-41d1-9526-595d6d5ff773",
   "metadata": {},
   "source": [
    "We can combine all data.table in the list into one single large object using `rbindlist` as usual:"
   ]
  },
  {
   "cell_type": "code",
   "execution_count": null,
   "id": "a158d4a2-062b-4534-b146-67eb20db75f3",
   "metadata": {},
   "outputs": [],
   "source": [
    "com_dt <- com_dtl %>% rbindlist"
   ]
  },
  {
   "cell_type": "code",
   "execution_count": null,
   "id": "05117347-6083-450f-b40f-6fb11f667210",
   "metadata": {},
   "outputs": [],
   "source": [
    "com_dt"
   ]
  },
  {
   "cell_type": "markdown",
   "id": "cddde4a9-6e49-478a-b01c-4c908df8cd44",
   "metadata": {},
   "source": [
    "Note that, I am using package namespaces (packagename::functioname()) sometimes just to make you know where those functions come from. Provided that you load those packages with the library() function, you do not have to use namespaces"
   ]
  }
 ],
 "metadata": {
  "kernelspec": {
   "display_name": "R",
   "language": "R",
   "name": "ir"
  },
  "language_info": {
   "codemirror_mode": "r",
   "file_extension": ".r",
   "mimetype": "text/x-r-source",
   "name": "R",
   "pygments_lexer": "r",
   "version": "4.3.3"
  },
  "toc-autonumbering": true
 },
 "nbformat": 4,
 "nbformat_minor": 5
}
