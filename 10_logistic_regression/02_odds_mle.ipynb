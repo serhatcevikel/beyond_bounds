{
 "cells": [
  {
   "cell_type": "markdown",
   "id": "1063eec5-44a2-4c31-99d4-2cfee9a0f315",
   "metadata": {},
   "source": [
    "<font size=\"6\"><b>LOG ODDS AND MAXIMUM LIKELIHOOD ESTIMATION</b></font>"
   ]
  },
  {
   "cell_type": "code",
   "execution_count": null,
   "id": "022e796f-cb41-4dcb-9d79-8a43ad26dd70",
   "metadata": {
    "tags": []
   },
   "outputs": [],
   "source": [
    "library(tidyverse)\n",
    "library(data.table)\n",
    "library(e1071)"
   ]
  },
  {
   "cell_type": "code",
   "execution_count": null,
   "id": "c8a71c23-32b2-4c98-ad3b-548b4b21be1f",
   "metadata": {
    "tags": []
   },
   "outputs": [],
   "source": [
    "options(repr.matrix.max.rows=20, repr.matrix.max.cols=15) # for limiting the number of top and bottom rows of tables printed "
   ]
  },
  {
   "cell_type": "code",
   "execution_count": null,
   "id": "223c66d6-b2fb-4196-a190-6fb1f1e05524",
   "metadata": {
    "tags": []
   },
   "outputs": [],
   "source": [
    "datapath <- \"~/databb\""
   ]
  },
  {
   "cell_type": "markdown",
   "id": "e67d3097-6f35-46e3-80aa-f48364dcf98d",
   "metadata": {},
   "source": [
    "Let's first create some 0 and 1 values as response variables"
   ]
  },
  {
   "cell_type": "code",
   "execution_count": null,
   "id": "a24bced2-124a-4f1f-b278-b9f5e9cfb882",
   "metadata": {
    "tags": []
   },
   "outputs": [],
   "source": [
    "logistic_dt <- data.table(responsex = sample(0:1, 20, replace = T))"
   ]
  },
  {
   "cell_type": "markdown",
   "id": "b195a77d-f102-4491-aae4-f6f0753e6a86",
   "metadata": {},
   "source": [
    "Create some random probability values close to response:"
   ]
  },
  {
   "cell_type": "code",
   "execution_count": null,
   "id": "4b2f97d0-3ac4-485e-91b3-f0c81e970163",
   "metadata": {
    "tags": []
   },
   "outputs": [],
   "source": [
    "logistic_dt[, probx := rbeta(.N, 1 + responsex, 2 - responsex)]"
   ]
  },
  {
   "cell_type": "code",
   "execution_count": null,
   "id": "19aa660a-bb76-4ed6-9ad8-c296bdd8b890",
   "metadata": {
    "tags": []
   },
   "outputs": [],
   "source": [
    "logistic_dt[, as.list(summary(probx)), by = responsex]"
   ]
  },
  {
   "cell_type": "markdown",
   "id": "5ea0f2fd-70ff-4946-94fb-38d283a06d5d",
   "metadata": {},
   "source": [
    "Now let's calculate the odd ratios: Ratio of probabilities to their complements to 1:"
   ]
  },
  {
   "cell_type": "code",
   "execution_count": null,
   "id": "db7d33ca-f074-424a-bf01-e09266f36c0c",
   "metadata": {
    "tags": []
   },
   "outputs": [],
   "source": [
    "logistic_dt[, oddsx := probx / (1 - probx)]"
   ]
  },
  {
   "cell_type": "markdown",
   "id": "e35bc8a9-1d1d-436a-85ac-7714e284b862",
   "metadata": {},
   "source": [
    "And their log values:"
   ]
  },
  {
   "cell_type": "code",
   "execution_count": null,
   "id": "41be311e-04c5-490d-8b6c-f5a91dae4f35",
   "metadata": {
    "tags": []
   },
   "outputs": [],
   "source": [
    "logistic_dt[, logoddx := log(oddsx)]"
   ]
  },
  {
   "cell_type": "code",
   "execution_count": null,
   "id": "6358922b-2634-4381-baf2-f1a5789d41a7",
   "metadata": {
    "tags": []
   },
   "outputs": [],
   "source": [
    "logistic_dt"
   ]
  },
  {
   "cell_type": "markdown",
   "id": "940b9f62-4042-46fa-a85e-7b5862e53557",
   "metadata": {},
   "source": [
    "How can we get to the original probability values using the log odds? With the logistic function:\n",
    "\n",
    "$${\\displaystyle f(x)={\\frac {1}{1+e^{-x}}}}$$"
   ]
  },
  {
   "cell_type": "markdown",
   "id": "229c3561-7b69-4d87-ba04-7fce2286d084",
   "metadata": {
    "tags": []
   },
   "source": [
    "We can hard code a new function or use the built-in sigmoid function from e1071 package. The function creates the sigmoid curve (S-curve)"
   ]
  },
  {
   "cell_type": "code",
   "execution_count": null,
   "id": "95e24287-2b3a-49e0-bfb8-6ce5c9d56ceb",
   "metadata": {
    "tags": []
   },
   "outputs": [],
   "source": [
    "curve(sigmoid, -5, 5)"
   ]
  },
  {
   "cell_type": "code",
   "execution_count": null,
   "id": "df186149-f03b-46f8-b850-07a1a15169e9",
   "metadata": {
    "tags": []
   },
   "outputs": [],
   "source": [
    "logistic_dt[, probx2 := sigmoid(logoddx)]"
   ]
  },
  {
   "cell_type": "code",
   "execution_count": null,
   "id": "c3c78ef9-374e-48b2-a962-13f496d2584a",
   "metadata": {
    "tags": []
   },
   "outputs": [],
   "source": [
    "logistic_dt"
   ]
  },
  {
   "cell_type": "markdown",
   "id": "09a14805-ccd6-47d2-815c-0fd6a345cfb5",
   "metadata": {},
   "source": [
    "probx shows the probability that the response will be 1. For the cases of 0 valued responses, its complement to 1 should be taken:"
   ]
  },
  {
   "cell_type": "code",
   "execution_count": null,
   "id": "54da1352-6b1f-48da-89c1-f871f218a6e2",
   "metadata": {
    "tags": []
   },
   "outputs": [],
   "source": [
    "logistic_dt[, probres := ifelse(responsex == 1, probx, 1 - probx)]"
   ]
  },
  {
   "cell_type": "code",
   "execution_count": null,
   "id": "9b1cf87d-b160-4182-b3cb-803f6109f6a5",
   "metadata": {
    "tags": []
   },
   "outputs": [],
   "source": [
    "logistic_dt"
   ]
  },
  {
   "cell_type": "markdown",
   "id": "ca45066f-362e-4a6c-bf6d-c8aca008e501",
   "metadata": {
    "tags": []
   },
   "source": [
    "The total likelihood of the data given the probabilities is the product of all the probres values:\n",
    "\n",
    "- So for 1 responses probabilities\n",
    "- For 0 responses complement of probabilities\n",
    "\n",
    "are multiplied"
   ]
  },
  {
   "cell_type": "code",
   "execution_count": null,
   "id": "d1c458d7-f45e-48b7-b9d2-d244ab7ad5b1",
   "metadata": {
    "tags": []
   },
   "outputs": [],
   "source": [
    "logistic_dt[, prod(probres)]"
   ]
  },
  {
   "cell_type": "markdown",
   "id": "1f4241cd-81cf-453f-acc1-0e654c231ec9",
   "metadata": {},
   "source": [
    "However for large data this will give a too small value below the max precision"
   ]
  },
  {
   "cell_type": "markdown",
   "id": "a94bccf0-d0de-4c4c-982b-0e8a5f583e9e",
   "metadata": {},
   "source": [
    "We can take the log of probres and sum it:"
   ]
  },
  {
   "cell_type": "code",
   "execution_count": null,
   "id": "b44ebf1d-6643-4aa6-8016-a8569183d92d",
   "metadata": {
    "tags": []
   },
   "outputs": [],
   "source": [
    "logistic_dt[, logprobres := log(probres)]"
   ]
  },
  {
   "cell_type": "code",
   "execution_count": null,
   "id": "b0ae9acf-2a5c-4909-bf67-70a72ea0329c",
   "metadata": {
    "tags": []
   },
   "outputs": [],
   "source": [
    "logistic_dt"
   ]
  },
  {
   "cell_type": "code",
   "execution_count": null,
   "id": "0293baf9-7752-4152-ba91-da8712cf7795",
   "metadata": {
    "tags": []
   },
   "outputs": [],
   "source": [
    "logistic_dt[, sum(logprobres)]"
   ]
  },
  {
   "cell_type": "markdown",
   "id": "d3d8f894-38bd-4bb2-b6fc-1b1fb938912c",
   "metadata": {},
   "source": [
    "That's the likelihood value that we want to maximize"
   ]
  },
  {
   "cell_type": "markdown",
   "id": "fe00f97c-3e44-475b-bd98-4c30ff7cfd44",
   "metadata": {},
   "source": [
    "Newton raphson method is used in order to get the optimal value:"
   ]
  },
  {
   "cell_type": "markdown",
   "id": "c99b317e-6f5b-4c58-8e7f-5208ba42fe2d",
   "metadata": {},
   "source": [
    "At an extrema point the slope of a curve becomes 0:"
   ]
  },
  {
   "attachments": {
    "844732af-89e6-4b91-8e39-999aa9abec1d.png": {
     "image/png": "[encoded data removed]"
    }
   },
   "cell_type": "markdown",
   "id": "2e18ff46-fcee-4387-b706-f1b0dab2c193",
   "metadata": {},
   "source": [
    "![image.png](attachment:844732af-89e6-4b91-8e39-999aa9abec1d.png)\n",
    "\n",
    "(https://www.mathsisfun.com/calculus/maxima-minima.html)"
   ]
  },
  {
   "cell_type": "markdown",
   "id": "304f80db-ae33-497a-ba20-fa390260fcda",
   "metadata": {},
   "source": [
    "So the main task is to find the root (the x value where y becomes 0) of the slope or the first derivative or the gradient of the maximum likelihood function.\n",
    "\n",
    "We can start at an arbitrary value at the curve of the first derivative:\n",
    "\n",
    "- Draw a tangent line to the derivative curve,\n",
    "- Get the point where the tangent intersects the x axis\n",
    "- And get to the y point of that x coordinate on the derivative curve\n",
    "- Repoeat the above 3 steps until the y value on the curve converges to 0.\n",
    "- The final x value is the root of the derivative curve - where it becomes 0 - and also the point where the original curve reaches its extrema"
   ]
  },
  {
   "cell_type": "markdown",
   "id": "73c3847b-ab04-4f70-9224-1b6650ba74e8",
   "metadata": {},
   "source": [
    "![newton-raphson](../imagesbb/newton_raphson.gif)\n",
    "\n",
    "(https://medium.com/@ruhayel/an-intuitive-and-physical-approach-to-newtons-method-86a0bd812ec3)"
   ]
  }
 ],
 "metadata": {
  "kernelspec": {
   "display_name": "R",
   "language": "R",
   "name": "ir"
  },
  "language_info": {
   "codemirror_mode": "r",
   "file_extension": ".r",
   "mimetype": "text/x-r-source",
   "name": "R",
   "pygments_lexer": "r",
   "version": "4.2.1"
  }
 },
 "nbformat": 4,
 "nbformat_minor": 5
}
