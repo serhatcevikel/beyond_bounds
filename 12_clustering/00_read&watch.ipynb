{
 "cells": [
  {
   "cell_type": "markdown",
   "id": "8e2b0685-2496-4300-ae8a-46e110c3db2d",
   "metadata": {},
   "source": [
    "<font size=\"6\"><b>RESOURCES FOR CLUSTERING</b></font>"
   ]
  },
  {
   "cell_type": "markdown",
   "id": "f2aeff3e-354e-4a0e-80a2-67731327dcbf",
   "metadata": {},
   "source": [
    "# Watchlist"
   ]
  },
  {
   "cell_type": "markdown",
   "id": "c0c520d2-2864-4201-8051-b6cf9e90e6bd",
   "metadata": {},
   "source": [
    "[![clustering watch list](https://img.youtube.com/vi/4b5d3muPQmA/0.jpg)](https://www.youtube.com/playlist?list=PLg3eScSbYgxmIuXDaIi5sc96WpacejZFZ)"
   ]
  },
  {
   "cell_type": "markdown",
   "id": "8e192ee5-ffc4-4fef-ba8e-32d36baa4303",
   "metadata": {},
   "source": [
    "# Reading material"
   ]
  },
  {
   "cell_type": "markdown",
   "id": "7c108c57-e36e-4523-8b32-9faf27d3e774",
   "metadata": {},
   "source": [
    "- K-means Clustering: An Introductory Guide and Practical Application:\n",
    "\n",
    "https://towardsdatascience.com/k-means-clustering-an-introductory-guide-and-practical-application-dce70bfa4249\n",
    "\n",
    "- Hierarchical clustering explained:\n",
    "\n",
    "https://towardsdatascience.com/hierarchical-clustering-explained-e59b13846da8"
   ]
  }
 ],
 "metadata": {
  "kernelspec": {
   "display_name": "R",
   "language": "R",
   "name": "ir"
  },
  "language_info": {
   "codemirror_mode": "r",
   "file_extension": ".r",
   "mimetype": "text/x-r-source",
   "name": "R",
   "pygments_lexer": "r",
   "version": "4.3.3"
  },
  "widgets": {
   "application/vnd.jupyter.widget-state+json": {
    "state": {},
    "version_major": 2,
    "version_minor": 0
   }
  }
 },
 "nbformat": 4,
 "nbformat_minor": 5
}
