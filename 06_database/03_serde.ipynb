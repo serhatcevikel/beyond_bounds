{
 "cells": [
  {
   "cell_type": "markdown",
   "id": "d11bdd3c-aa92-4e78-be59-01487b7d7bdf",
   "metadata": {},
   "source": [
    "<font size=\"6\"><b>SERDE: SERIALIZATION/DESERIALIZATION</b></font>"
   ]
  },
  {
   "cell_type": "code",
   "execution_count": null,
   "id": "f0f92018-f99c-42bc-878b-80dcba497db7",
   "metadata": {},
   "outputs": [],
   "source": [
    "library(data.table)\n",
    "library(tidyverse)\n",
    "library(jsonlite)\n",
    "library(qs)\n",
    "library(fst)"
   ]
  },
  {
   "cell_type": "code",
   "execution_count": null,
   "id": "e1929b56-ba92-4b63-9af7-e234869d939b",
   "metadata": {},
   "outputs": [],
   "source": [
    "options(repr.matrix.max.rows=20, repr.matrix.max.cols=15) # for limiting the number of top and bottom rows of tables printed "
   ]
  },
  {
   "cell_type": "markdown",
   "id": "1477eceb-6114-4bf1-9ca6-454b92b3eb81",
   "metadata": {},
   "source": [
    "Serialization is tranforming a data object in a format that can be stored or transmitter while deserialization is the inverse of that, constructing the data object from that stored or transmitted format.\n",
    "\n",
    "**Serde** is an alias for serialization/deserialization."
   ]
  },
  {
   "cell_type": "markdown",
   "id": "d395c65b-c67f-4d9e-be3b-1f00a6f85094",
   "metadata": {},
   "source": [
    "In R, several options exist for serde operations"
   ]
  },
  {
   "cell_type": "markdown",
   "id": "4d40b81a-7875-4edf-8a2c-fe57028eda7e",
   "metadata": {},
   "source": [
    "# Text formats"
   ]
  },
  {
   "cell_type": "markdown",
   "id": "1674e4a6-94f0-4e91-b3c5-438a7228c970",
   "metadata": {},
   "source": [
    "Advantage is text formats, is the ease of conversion and ubiquity of tools across every platform and programming language.\n",
    "\n",
    "So a text based serde can be read/written by almost all applications easily.\n",
    "\n",
    "The downside is, metadata cannot easily be stored in text format so this data sometimes is not recreated during deserialization (however there are some methods to overcome this problem).\n",
    "\n",
    "Another downside is, text formats can hold more space than binary formats."
   ]
  },
  {
   "cell_type": "markdown",
   "id": "571fbe82-6d25-4d45-be70-59a519ddf492",
   "metadata": {},
   "source": [
    "## base writeLines, readLines"
   ]
  },
  {
   "cell_type": "markdown",
   "id": "1bd0197b-b3c9-4b85-bcba-c8a2d19c7a29",
   "metadata": {},
   "source": [
    "writeLines and readLines writes and reads objects as is, without any further conversionİ"
   ]
  },
  {
   "cell_type": "code",
   "execution_count": null,
   "id": "db20b44d-ca43-4f67-83bb-220cb28bd253",
   "metadata": {},
   "outputs": [],
   "source": [
    "set.seed(1000)\n",
    "charvec <- sample(letters, 100, replace = T)"
   ]
  },
  {
   "cell_type": "code",
   "execution_count": null,
   "id": "2af61601-1200-4a67-b97b-4abf05a64ca6",
   "metadata": {},
   "outputs": [],
   "source": [
    "charvec %>% head"
   ]
  },
  {
   "cell_type": "code",
   "execution_count": null,
   "id": "10d7392b-c556-4a7d-8591-202ba92d54eb",
   "metadata": {},
   "outputs": [],
   "source": [
    "writeLines(charvec, \"~/databb/temp/charvec\")"
   ]
  },
  {
   "cell_type": "code",
   "execution_count": null,
   "id": "c6b81d07-1f5a-4fa0-955e-f207d8be487f",
   "metadata": {},
   "outputs": [],
   "source": [
    "charvec2 <- readLines(\"~/databb/temp/charvec\")"
   ]
  },
  {
   "cell_type": "code",
   "execution_count": null,
   "id": "b37ad256-45ad-4e55-a63e-db27c7fe1861",
   "metadata": {},
   "outputs": [],
   "source": [
    "charvec2 %>% head"
   ]
  },
  {
   "cell_type": "code",
   "execution_count": null,
   "id": "fd3ac43f-5d3c-44b4-99bf-cd52ff5c223f",
   "metadata": {},
   "outputs": [],
   "source": [
    "identical(charvec, charvec2)"
   ]
  },
  {
   "cell_type": "markdown",
   "id": "945aa937-8cf6-4342-a681-af55edacb46d",
   "metadata": {},
   "source": [
    "Of course metadata is not kept with this simple method"
   ]
  },
  {
   "cell_type": "markdown",
   "id": "ac2c4797-9008-4251-a470-2075720b0900",
   "metadata": {},
   "source": [
    "## read_file from readr"
   ]
  },
  {
   "cell_type": "markdown",
   "id": "9900fa4d-705d-4c82-a0c9-3adf9d73f918",
   "metadata": {},
   "source": [
    "readr package has its own versions to serialize/deserialize many text or binary formats, including, csv, excel and rds.\n",
    "\n",
    "In contrast with readLines, which reads each line into a separate vector value, read_file concatenates all lines into a single character value:"
   ]
  },
  {
   "cell_type": "code",
   "execution_count": null,
   "id": "3d59f85d-17dd-401a-8832-20848d0252f0",
   "metadata": {},
   "outputs": [],
   "source": [
    "charvec3 <- read_file(\"~/databb/temp/charvec\")"
   ]
  },
  {
   "cell_type": "code",
   "execution_count": null,
   "id": "dbb5ab45-e848-49b9-81f3-cc90506dd2fb",
   "metadata": {},
   "outputs": [],
   "source": [
    "charvec3"
   ]
  },
  {
   "cell_type": "markdown",
   "id": "558b44b6-d282-4f06-aa95-b7c5aa956176",
   "metadata": {},
   "source": [
    "This is identical to collapsing the original vector with newline and appending a trailing newline at the end:"
   ]
  },
  {
   "cell_type": "code",
   "execution_count": null,
   "id": "f8b6bf11-ce6e-40d6-b4d1-6e8c6150cf1c",
   "metadata": {},
   "outputs": [],
   "source": [
    "charvec %>% paste(collapse=\"\\n\") %>% paste(\"\\n\", sep = \"\") %>% identical(charvec3)"
   ]
  },
  {
   "cell_type": "markdown",
   "id": "d93ffcad-871c-4a43-93b5-cb524fa00ced",
   "metadata": {},
   "source": [
    "## base write/read into/from csv/tsv"
   ]
  },
  {
   "cell_type": "markdown",
   "id": "878f7542-80ca-4423-a3c0-20bcd9732235",
   "metadata": {},
   "source": [
    "The easiest way is the base functions read.table, read.csv, read.delim, write.table"
   ]
  },
  {
   "cell_type": "code",
   "execution_count": null,
   "id": "d127ecb7-6db5-4bac-a12b-73ece783129c",
   "metadata": {},
   "outputs": [],
   "source": [
    "iris1 <- iris"
   ]
  },
  {
   "cell_type": "code",
   "execution_count": null,
   "id": "cadc5c6f-27c5-4b57-b652-98caf57dbeae",
   "metadata": {},
   "outputs": [],
   "source": [
    "iris1 %>% write.csv(\"~/databb/temp/iris1.csv\", row.names = F)"
   ]
  },
  {
   "cell_type": "code",
   "execution_count": null,
   "id": "bec65276-031f-4866-8ddc-1125d421d004",
   "metadata": {},
   "outputs": [],
   "source": [
    "iris2 <- read.csv(\"~/databb/temp/iris1.csv\")"
   ]
  },
  {
   "cell_type": "markdown",
   "id": "95d119af-71aa-47e4-811b-1494b30b14b4",
   "metadata": {},
   "source": [
    "While serde in text format can recreate the numeric types, the format cannot preserve the metadata of factor columns, so factor attributes are lost."
   ]
  },
  {
   "cell_type": "code",
   "execution_count": null,
   "id": "1af0a4d6-1fe7-4bb3-8b28-580dc3b937a5",
   "metadata": {},
   "outputs": [],
   "source": [
    "iris2"
   ]
  },
  {
   "cell_type": "markdown",
   "id": "e5fb9aab-e815-4e8f-8b78-dec92fef46df",
   "metadata": {},
   "source": [
    "While stringsAsFactors option can control the behaviour for reading character columns, alphanumeric order is taken for levels and it is not guaranteed to preserve the original level order."
   ]
  },
  {
   "cell_type": "markdown",
   "id": "02d81acb-6581-4988-9587-723a3cb7b1b3",
   "metadata": {},
   "source": [
    "## fread/fwrite from data.table"
   ]
  },
  {
   "cell_type": "markdown",
   "id": "437b67d8-c5f0-4a99-ade5-6fa306eab9f5",
   "metadata": {},
   "source": [
    "The advantage of `fread` and `fwrite` is parallel read/write of very large objects from/into disk"
   ]
  },
  {
   "cell_type": "markdown",
   "id": "ebf248d3-a64e-4af5-8937-fe26a540805d",
   "metadata": {},
   "source": [
    "The current number of threads used is retrieved by:"
   ]
  },
  {
   "cell_type": "code",
   "execution_count": null,
   "id": "8e8b53f2-a3b8-400f-8894-802bc6683d31",
   "metadata": {},
   "outputs": [],
   "source": [
    "getDTthreads()"
   ]
  },
  {
   "cell_type": "markdown",
   "id": "2d7e26bf-4978-4808-b222-134c6791e8df",
   "metadata": {},
   "source": [
    "The thread number can be increased:"
   ]
  },
  {
   "cell_type": "code",
   "execution_count": null,
   "id": "ac4441af-0ac8-4c02-b063-2d301e6aa9bb",
   "metadata": {},
   "outputs": [],
   "source": [
    "setDTthreads(getDTthreads() + 2)"
   ]
  },
  {
   "cell_type": "code",
   "execution_count": null,
   "id": "0df0c9c7-b0d7-4f05-a05a-763473901ac3",
   "metadata": {},
   "outputs": [],
   "source": [
    "getDTthreads()"
   ]
  },
  {
   "cell_type": "code",
   "execution_count": null,
   "id": "b54b29fb-c2c7-4c40-98f6-c76b35d5646c",
   "metadata": {},
   "outputs": [],
   "source": [
    "iris1 %>% fwrite(\"~/databb/temp/iris2.csv\", row.names = F)"
   ]
  },
  {
   "cell_type": "code",
   "execution_count": null,
   "id": "c53c3aa6-f6b8-4587-bd46-003c2f749434",
   "metadata": {},
   "outputs": [],
   "source": [
    "iris3 <- fread(\"~/databb/temp/iris2.csv\")"
   ]
  },
  {
   "cell_type": "markdown",
   "id": "0ed9c783-16c3-4391-a15b-2f4b7145d26e",
   "metadata": {},
   "source": [
    "While numeric columns are recreated, factor is now a character column, as with the case of `read.csv`"
   ]
  },
  {
   "cell_type": "code",
   "execution_count": null,
   "id": "531e3cc0-5497-4cd5-8255-d8bf6d24b0ae",
   "metadata": {},
   "outputs": [],
   "source": [
    "iris3"
   ]
  },
  {
   "cell_type": "markdown",
   "id": "7060af84-5d68-4cbc-b723-72cbfff327bd",
   "metadata": {},
   "source": [
    "The same stringsAsFactors option can be used, while the order of levels is not guaranteed to coincide with the original one"
   ]
  },
  {
   "cell_type": "markdown",
   "id": "e0281a79-d00c-46ab-afbf-2aa709bec36a",
   "metadata": {},
   "source": [
    "## JSON serde with jsonlite"
   ]
  },
  {
   "cell_type": "markdown",
   "id": "f9cbbd21-bb75-4d27-8833-0f7be4e067c4",
   "metadata": {},
   "source": [
    "We will spend more time with JSON format, because it has become almost a universal standard for serde of semistructured and complex data in text format, especially in web applications."
   ]
  },
  {
   "cell_type": "markdown",
   "id": "b1a3c059-d702-497b-bf45-706e70f372ca",
   "metadata": {},
   "source": [
    "The advantage of serde with JSON using jsonlite is that the metada can also be preserved so that the object is reconstructed to a large extent (the only limitation being the precision limit of numeric values="
   ]
  },
  {
   "cell_type": "code",
   "execution_count": null,
   "id": "598b1655-8526-4592-838e-f99f95ddfa6d",
   "metadata": {},
   "outputs": [],
   "source": [
    "iris_json1 <- serializeJSON(iris1)"
   ]
  },
  {
   "cell_type": "code",
   "execution_count": null,
   "id": "441829bf-74ee-4ac1-9547-135d9cda9007",
   "metadata": {},
   "outputs": [],
   "source": [
    "iris_json1 %>% class"
   ]
  },
  {
   "cell_type": "code",
   "execution_count": null,
   "id": "68c7365c-9832-4794-b5de-65907da37892",
   "metadata": {},
   "outputs": [],
   "source": [
    "iris_json1"
   ]
  },
  {
   "cell_type": "code",
   "execution_count": null,
   "id": "0f44da63-1895-423e-858b-a9954a541e3e",
   "metadata": {},
   "outputs": [],
   "source": [
    "writeLines(iris_json1, \"~/databb/temp/iris1.json\")"
   ]
  },
  {
   "cell_type": "code",
   "execution_count": null,
   "id": "72e74ef1-84a4-41e4-9b5e-48cfb71d5986",
   "metadata": {},
   "outputs": [],
   "source": [
    "iris_json2 <- readLines(\"~/databb/temp/iris1.json\")"
   ]
  },
  {
   "cell_type": "code",
   "execution_count": null,
   "id": "62bdfcd2-f052-469d-ae93-eee737105c39",
   "metadata": {},
   "outputs": [],
   "source": [
    "class(iris_json2) <- \"json\""
   ]
  },
  {
   "cell_type": "code",
   "execution_count": null,
   "id": "a061ddf0-c5f5-48c4-98b1-403633fd802c",
   "metadata": {},
   "outputs": [],
   "source": [
    "iris_json2"
   ]
  },
  {
   "cell_type": "code",
   "execution_count": null,
   "id": "66f471e1-a8c5-4313-b8ae-c1447f094681",
   "metadata": {},
   "outputs": [],
   "source": [
    "identical(iris_json1, iris_json2)"
   ]
  },
  {
   "cell_type": "markdown",
   "id": "b8e8c1a7-827e-4fbd-8656-a3774dfb6f5b",
   "metadata": {},
   "source": [
    "The deserialized and original jsons are identical"
   ]
  },
  {
   "cell_type": "markdown",
   "id": "7d29b7c8-e353-4111-9596-d5aaf0addf2f",
   "metadata": {},
   "source": [
    "Now let's deserialize the json into the native object format:"
   ]
  },
  {
   "cell_type": "code",
   "execution_count": null,
   "id": "b5b4fb82-cd04-4f63-a0b9-38d21deb0ebe",
   "metadata": {},
   "outputs": [],
   "source": [
    "iris4 <- unserializeJSON(iris_json2)"
   ]
  },
  {
   "cell_type": "code",
   "execution_count": null,
   "id": "b41a5cf5-83e6-434a-aa67-17d2341907a3",
   "metadata": {},
   "outputs": [],
   "source": [
    "iris1"
   ]
  },
  {
   "cell_type": "markdown",
   "id": "3f2c90de-1dbe-481c-aa85-c047dd1a3606",
   "metadata": {},
   "source": [
    "Objects are identical:"
   ]
  },
  {
   "cell_type": "code",
   "execution_count": null,
   "id": "01cd4f48-ed53-4102-a120-4b5278e61974",
   "metadata": {},
   "outputs": [],
   "source": [
    "identical(iris1, iris4)"
   ]
  },
  {
   "cell_type": "markdown",
   "id": "414683b5-7523-4ae7-9e38-3afd95a32475",
   "metadata": {},
   "source": [
    "# Binary formats"
   ]
  },
  {
   "cell_type": "markdown",
   "id": "86e6c434-76bb-4605-93f9-0af590c9443d",
   "metadata": {},
   "source": [
    "While binary formats cannot easily be shared across applications and languages, they hold less space, can be serialized/deserialized faster and metadata is preserved better"
   ]
  },
  {
   "cell_type": "markdown",
   "id": "7c30329e-69aa-49d2-9036-ff6f94157951",
   "metadata": {},
   "source": [
    "## Base rds"
   ]
  },
  {
   "cell_type": "markdown",
   "id": "294eb0f5-dacd-47ff-89ca-33b190301229",
   "metadata": {},
   "source": [
    "Except for very large objects, rds is the most convenient way to serde R objects back and forth in R. And rds can serde any kind of R objects, not just data.frames or similar."
   ]
  },
  {
   "cell_type": "code",
   "execution_count": null,
   "id": "1fe79062-a7e7-4aee-8d2e-d9b3438234ed",
   "metadata": {},
   "outputs": [],
   "source": [
    "saveRDS(iris1, \"~/databb/temp/iris1.rds\")"
   ]
  },
  {
   "cell_type": "code",
   "execution_count": null,
   "id": "4257cea1-b76f-4a44-a213-f756533ac184",
   "metadata": {},
   "outputs": [],
   "source": [
    "iris5 <- readRDS(\"~/databb/temp/iris1.rds\")"
   ]
  },
  {
   "cell_type": "code",
   "execution_count": null,
   "id": "59047b2a-5de2-4364-984a-dbe875694902",
   "metadata": {},
   "outputs": [],
   "source": [
    "identical(iris1, iris5)"
   ]
  },
  {
   "cell_type": "markdown",
   "id": "b4a7c942-877e-4a16-af69-6883645821a0",
   "metadata": {},
   "source": [
    "## Base rda"
   ]
  },
  {
   "cell_type": "markdown",
   "id": "f1f7c5dd-7a7a-4626-a346-6d1000e94ce2",
   "metadata": {},
   "source": [
    "The difference with rda is that, rda can hold multiple R objects and when and rda file is deserialized, the objects that it holds are automatically assigned to the orginal names"
   ]
  },
  {
   "cell_type": "code",
   "execution_count": null,
   "id": "31c929f0-0f48-4097-bc3c-c4a45dd6e47a",
   "metadata": {},
   "outputs": [],
   "source": [
    "iris6 <- iris1"
   ]
  },
  {
   "cell_type": "code",
   "execution_count": null,
   "id": "c883289d-9e2d-4c59-a352-0f98e7b4fe86",
   "metadata": {},
   "outputs": [],
   "source": [
    "iris7 <- iris1"
   ]
  },
  {
   "cell_type": "markdown",
   "id": "b69656e0-5402-410e-bb39-ab97a0488a3a",
   "metadata": {},
   "source": [
    "Serialize both objects into a single rda file:"
   ]
  },
  {
   "cell_type": "code",
   "execution_count": null,
   "id": "7752c98d-d9a1-45e5-a258-71731ec6327c",
   "metadata": {},
   "outputs": [],
   "source": [
    "save(iris6, iris7, file = \"~/databb/temp/iris1.rda\")"
   ]
  },
  {
   "cell_type": "markdown",
   "id": "bfac04fa-b824-4b5f-a4d7-c51f29e2c54d",
   "metadata": {},
   "source": [
    "Remove the objects and check that they don't exist anymore:"
   ]
  },
  {
   "cell_type": "code",
   "execution_count": null,
   "id": "39a717d4-f611-4d8e-8223-0ce87bfb6b71",
   "metadata": {},
   "outputs": [],
   "source": [
    "rm(iris6, iris7)"
   ]
  },
  {
   "cell_type": "code",
   "execution_count": null,
   "id": "af776df9-ddf7-4620-b671-c9c686a0010b",
   "metadata": {},
   "outputs": [],
   "source": [
    "exists(\"iris6\")"
   ]
  },
  {
   "cell_type": "code",
   "execution_count": null,
   "id": "ef3c43bf-b757-4de6-a619-5a5fbb61dd6e",
   "metadata": {},
   "outputs": [],
   "source": [
    "exists(\"iris7\")"
   ]
  },
  {
   "cell_type": "markdown",
   "id": "7d27f21b-40fd-4a76-b4e4-b700c96486e2",
   "metadata": {},
   "source": [
    "Load them again:"
   ]
  },
  {
   "cell_type": "code",
   "execution_count": null,
   "id": "f38eaf59-0f88-462a-a9e3-3a824adb8c66",
   "metadata": {},
   "outputs": [],
   "source": [
    "load(\"~/databb/temp/iris1.rda\")"
   ]
  },
  {
   "cell_type": "markdown",
   "id": "c324c4a3-1e4c-4647-a2ff-0f85f497c9de",
   "metadata": {},
   "source": [
    "Check that they exist and are identical with the original copy"
   ]
  },
  {
   "cell_type": "code",
   "execution_count": null,
   "id": "3d57d9f4-5d7d-4340-8a9b-472355ae19f0",
   "metadata": {},
   "outputs": [],
   "source": [
    "exists(\"iris6\")"
   ]
  },
  {
   "cell_type": "code",
   "execution_count": null,
   "id": "dedfd558-060d-4a13-a9e3-10b6839ad5ff",
   "metadata": {},
   "outputs": [],
   "source": [
    "exists(\"iris7\")"
   ]
  },
  {
   "cell_type": "code",
   "execution_count": null,
   "id": "2838a35f-ddc7-4424-a012-87f2be2416c5",
   "metadata": {},
   "outputs": [],
   "source": [
    "identical(iris1, iris6)"
   ]
  },
  {
   "cell_type": "code",
   "execution_count": null,
   "id": "12516463-7c0e-456e-8ad9-80d253884c18",
   "metadata": {},
   "outputs": [],
   "source": [
    "identical(iris1, iris7)"
   ]
  },
  {
   "cell_type": "markdown",
   "id": "3050e21c-b1b7-4d54-aa92-3424af3af456",
   "metadata": {},
   "source": [
    "rda is good when a large number of objects are used in a session and serialization/deserialization of each of the objects take too much effort"
   ]
  },
  {
   "cell_type": "markdown",
   "id": "37e40e8f-94df-4d9f-b358-42d48b4eb298",
   "metadata": {},
   "source": [
    "## fst"
   ]
  },
  {
   "cell_type": "markdown",
   "id": "6cff6978-37e0-4950-90b6-4e132e03a2b4",
   "metadata": {},
   "source": [
    "`fst` is a performance tool for serde of very large tabular objects.\n",
    "\n",
    "Serial read/write is possible, compression is available, and columns, rows to be read can also be selected"
   ]
  },
  {
   "cell_type": "markdown",
   "id": "68b1275f-0b07-40f4-8ec4-dd346611b032",
   "metadata": {},
   "source": [
    "The number of threads can be retrieved or set:"
   ]
  },
  {
   "cell_type": "code",
   "execution_count": null,
   "id": "58d92541-b973-4dab-bc61-79522b4a7745",
   "metadata": {},
   "outputs": [],
   "source": [
    "threads_fst()"
   ]
  },
  {
   "cell_type": "code",
   "execution_count": null,
   "id": "0eadc68a-1866-4e55-8714-0356c48a96f5",
   "metadata": {},
   "outputs": [],
   "source": [
    "write_fst(iris1, \"~/databb/temp/iris1.fst\")"
   ]
  },
  {
   "cell_type": "code",
   "execution_count": null,
   "id": "291157af-f4a1-43dc-b500-2d45032fbb03",
   "metadata": {},
   "outputs": [],
   "source": [
    "iris8 <- read_fst(\"~/databb/temp/iris1.fst\")"
   ]
  },
  {
   "cell_type": "code",
   "execution_count": null,
   "id": "d84df343-ecd4-41a9-bd72-206be7f37f75",
   "metadata": {},
   "outputs": [],
   "source": [
    "identical(iris1, iris8)"
   ]
  },
  {
   "cell_type": "markdown",
   "id": "534c93a8-25a1-4bc6-b776-a6db67ee4b7b",
   "metadata": {},
   "source": [
    "Selected columns and rows can also be read:"
   ]
  },
  {
   "cell_type": "code",
   "execution_count": null,
   "id": "707f6948-f930-4e28-b478-ff29626914a3",
   "metadata": {},
   "outputs": [],
   "source": [
    "iris9 <- read_fst(\"~/databb/temp/iris1.fst\", columns = c(\"Sepal.Length\", \"Sepal.Width\"), from = 40, to = 120)"
   ]
  },
  {
   "cell_type": "code",
   "execution_count": null,
   "id": "f4eb6969-c032-40d7-9db1-d13750dd51aa",
   "metadata": {},
   "outputs": [],
   "source": [
    "iris9"
   ]
  },
  {
   "cell_type": "markdown",
   "id": "277903c5-df98-43ef-b6e4-ad1d372f2c5d",
   "metadata": {},
   "source": [
    "Note that, fst can serialize/deserialize only data.frame and similar tabular objects"
   ]
  },
  {
   "cell_type": "markdown",
   "id": "34ad9b90-0979-4827-ace8-7f1be44ce850",
   "metadata": {},
   "source": [
    "## qs"
   ]
  },
  {
   "cell_type": "markdown",
   "id": "7156593a-7f3a-489e-92f0-28e81ee519e3",
   "metadata": {},
   "source": [
    "`qs` is also optimized for very large data objects of any kind and supports parallel threads and compression, just like fst.\n",
    "\n",
    "While fst has more fine tuned control for reading row and column wise data, qs reads the whole object once. However qs can also serialize/deserialize any kind of R objects, including lists, visualizations, etc."
   ]
  },
  {
   "cell_type": "code",
   "execution_count": null,
   "id": "e6ba8e92-19c8-4f94-878c-4cbe773d0a8f",
   "metadata": {},
   "outputs": [],
   "source": [
    "qsave(iris1, \"~/databb/temp/iris1.qs\", nthreads = 8)"
   ]
  },
  {
   "cell_type": "code",
   "execution_count": null,
   "id": "b75aa758-3e33-478d-a153-b3c8beebe154",
   "metadata": {},
   "outputs": [],
   "source": [
    "iris10 <- qread(\"~/databb/temp/iris1.qs\", nthreads = 8)"
   ]
  },
  {
   "cell_type": "code",
   "execution_count": null,
   "id": "96c3f4d0-616e-400a-82f5-6e741bd1355b",
   "metadata": {},
   "outputs": [],
   "source": [
    "identical(iris1, iris10)"
   ]
  },
  {
   "cell_type": "markdown",
   "id": "0fcad2d9-8b25-4456-be78-7205a8ae35a1",
   "metadata": {},
   "source": [
    "Now let's create a list object:"
   ]
  },
  {
   "cell_type": "code",
   "execution_count": null,
   "id": "e55491f3-384a-471c-b4c6-12678a0203aa",
   "metadata": {},
   "outputs": [],
   "source": [
    "irisl1 <- split(iris1, f = iris1$Species)"
   ]
  },
  {
   "cell_type": "code",
   "execution_count": null,
   "id": "754491bd-f402-48f1-a310-1f6949f98406",
   "metadata": {},
   "outputs": [],
   "source": [
    "irisl1 %>% str"
   ]
  },
  {
   "cell_type": "code",
   "execution_count": null,
   "id": "5d948210-324f-4864-872a-4b317abbb385",
   "metadata": {},
   "outputs": [],
   "source": [
    "qsave(irisl1, \"~/databb/temp/irisl1.qs\", nthreads = 8)"
   ]
  },
  {
   "cell_type": "code",
   "execution_count": null,
   "id": "7c025197-6ea1-42bc-9eaf-9111405e7eef",
   "metadata": {},
   "outputs": [],
   "source": [
    "irisl2 <- qread(\"~/databb/temp/irisl1.qs\", nthreads = 8)"
   ]
  },
  {
   "cell_type": "code",
   "execution_count": null,
   "id": "27983b59-292d-4ed4-98cd-5d96197c5291",
   "metadata": {},
   "outputs": [],
   "source": [
    "identical(irisl1, irisl2)"
   ]
  },
  {
   "cell_type": "markdown",
   "id": "2f5775b9-2a3d-4721-be8e-2f89949950b4",
   "metadata": {},
   "source": [
    "Check that this operation would fail, since fst cannot handle list objects:"
   ]
  },
  {
   "cell_type": "code",
   "execution_count": null,
   "id": "3f441f41-e6a0-41eb-9c28-439993d99900",
   "metadata": {},
   "outputs": [],
   "source": [
    "#write.fst(irisl1, \"~/databb/temp/irisl1.fst\")"
   ]
  },
  {
   "cell_type": "code",
   "execution_count": null,
   "id": "154324f8-79b9-4f93-b53f-4ed61060b042",
   "metadata": {},
   "outputs": [],
   "source": []
  }
 ],
 "metadata": {
  "kernelspec": {
   "display_name": "R",
   "language": "R",
   "name": "ir"
  },
  "language_info": {
   "codemirror_mode": "r",
   "file_extension": ".r",
   "mimetype": "text/x-r-source",
   "name": "R",
   "pygments_lexer": "r",
   "version": "4.3.2"
  }
 },
 "nbformat": 4,
 "nbformat_minor": 5
}
