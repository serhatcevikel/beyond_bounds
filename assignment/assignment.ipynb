{
 "cells": [
  {
   "cell_type": "code",
   "execution_count": null,
   "id": "952aae5c-302b-4842-99a7-5d790834dae1",
   "metadata": {
    "tags": []
   },
   "outputs": [],
   "source": [
    "pass <- getPass::getPass(\"Please enter the password for the solution: \")\n",
    "encrypt <- \"tidyv.crypt\"\n",
    "solution <- system(sprintf(\"cat %s | openssl enc -md sha256 -aes-128-cbc -a -d -salt -pass pass:%s 2> /dev/null\", encrypt, pass), intern = T, ignore.stderr = T)\n",
    "IRdisplay::display_markdown(paste(solution, collapse = \"\\n\"))"
   ]
  }
 ],
 "metadata": {
  "kernelspec": {
   "display_name": "R",
   "language": "R",
   "name": "ir"
  },
  "language_info": {
   "codemirror_mode": "r",
   "file_extension": ".r",
   "mimetype": "text/x-r-source",
   "name": "R",
   "pygments_lexer": "r",
   "version": "4.3.2"
  }
 },
 "nbformat": 4,
 "nbformat_minor": 5
}
