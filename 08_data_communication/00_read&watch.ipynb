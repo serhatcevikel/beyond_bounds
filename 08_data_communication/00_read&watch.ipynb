{
 "cells": [
  {
   "cell_type": "markdown",
   "id": "ac951efe-1fac-4777-988e-84177f601d60",
   "metadata": {},
   "source": [
    "<font size=\"6\"><b>RESOURCES FOR DATA VISUALIZATION, RMARKDOWN AND SHINY</b></font>"
   ]
  },
  {
   "cell_type": "markdown",
   "id": "083159b3-0755-4768-b164-13f4cd1f8213",
   "metadata": {},
   "source": [
    "# Data Visualization Resources"
   ]
  },
  {
   "cell_type": "markdown",
   "id": "359954f7-428d-4f80-9a80-a1d56fb713c0",
   "metadata": {},
   "source": [
    "## Watchlist"
   ]
  },
  {
   "cell_type": "markdown",
   "id": "1dd89471-b35f-4f0b-8288-afa86a66bd87",
   "metadata": {},
   "source": [
    "[![visualization watch list](https://img.youtube.com/vi/hr2X7rmkprM/0.jpg)](https://www.youtube.com/playlist?list=PLg3eScSbYgxkOvXovC9W6CzoepVBHkrCZ)"
   ]
  },
  {
   "cell_type": "markdown",
   "id": "3554e02f-04dd-4e63-9b94-a04cc04f17c4",
   "metadata": {},
   "source": [
    "## Reading material"
   ]
  },
  {
   "cell_type": "markdown",
   "id": "8de3eeba-6d8d-4ea5-b841-d2e306eed724",
   "metadata": {},
   "source": [
    "- ggplot2 and the grammer of graphics\n",
    "\n",
    "https://r-unimelb.gitbook.io/rbook/putting-the-r-in-art/ggplot2-and-the-grammar-of-graphics"
   ]
  },
  {
   "cell_type": "markdown",
   "id": "677bd641-8f47-4755-9021-6567fdd27aa0",
   "metadata": {},
   "source": [
    "- A quick introduction to ggplot2\n",
    "\n",
    "A quick introduction to ggplot2"
   ]
  },
  {
   "cell_type": "markdown",
   "id": "7bcfaba7-e6b0-4654-86d8-ac70eb0ea212",
   "metadata": {},
   "source": [
    "# Rmarkdown Resources"
   ]
  },
  {
   "cell_type": "markdown",
   "id": "521920a1-9757-4fb7-8713-80ca1e0220ab",
   "metadata": {},
   "source": [
    "## Watchlist"
   ]
  },
  {
   "cell_type": "markdown",
   "id": "6fb8cce2-50db-4729-86ec-68778f6f3c7a",
   "metadata": {},
   "source": [
    "[![rmarkdown watch list](https://img.youtube.com/vi/DNS7i2m4sB0/0.jpg)](https://www.youtube.com/playlist?list=PLg3eScSbYgxnK2W4DmQDBHCDKihX8tzTv)"
   ]
  },
  {
   "cell_type": "markdown",
   "id": "b485e2e8-0298-4a5b-a9b0-a08ab7cdbc2e",
   "metadata": {},
   "source": [
    "## Reading material"
   ]
  },
  {
   "cell_type": "markdown",
   "id": "10d4984b-d56b-4e70-94f7-7177054f8a1c",
   "metadata": {},
   "source": [
    "- RMarkdown Basics\n",
    "\n",
    "https://bookdown.org/yihui/rmarkdown/basics.html"
   ]
  },
  {
   "cell_type": "markdown",
   "id": "e5a7d46e-f5d9-4024-9a74-d86a2031ac12",
   "metadata": {},
   "source": [
    "# Shiny Resources"
   ]
  },
  {
   "cell_type": "markdown",
   "id": "54f59a07-129c-422b-9e79-37330811107b",
   "metadata": {},
   "source": [
    "## Watchlist"
   ]
  },
  {
   "cell_type": "markdown",
   "id": "08e0f551-b2e1-4d9f-ac88-d582f3318e98",
   "metadata": {},
   "source": [
    "[![shiny watch list](https://img.youtube.com/vi/HVa42mJYppE/0.jpg)](https://www.youtube.com/playlist?list=PLg3eScSbYgxlNMz9YtMkJQB1tU9Ko9S8T)"
   ]
  },
  {
   "cell_type": "markdown",
   "id": "c549c53b-c958-4dfb-a089-9b4043107209",
   "metadata": {},
   "source": [
    "## Reading material"
   ]
  },
  {
   "cell_type": "markdown",
   "id": "6b352fbd-9a56-419b-a5ab-63f82fba0520",
   "metadata": {},
   "source": [
    "- Welcome to Shiny\n",
    "\n",
    "https://shiny.posit.co/r/getstarted/shiny-basics/lesson1/index.html\n",
    "\n"
   ]
  },
  {
   "cell_type": "markdown",
   "id": "a57a3de4-69bb-4e19-aad1-fca72fb9a1fc",
   "metadata": {},
   "source": [
    "- Your first Shiny app\n",
    "\n",
    "https://mastering-shiny.org/basic-app.html"
   ]
  },
  {
   "cell_type": "code",
   "execution_count": null,
   "id": "88b2683f-6e26-4d83-b226-929e98fe77b4",
   "metadata": {},
   "outputs": [],
   "source": []
  }
 ],
 "metadata": {
  "kernelspec": {
   "display_name": "R",
   "language": "R",
   "name": "ir"
  },
  "language_info": {
   "codemirror_mode": "r",
   "file_extension": ".r",
   "mimetype": "text/x-r-source",
   "name": "R",
   "pygments_lexer": "r",
   "version": "4.3.2"
  }
 },
 "nbformat": 4,
 "nbformat_minor": 5
}
