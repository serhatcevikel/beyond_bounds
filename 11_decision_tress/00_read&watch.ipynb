{
 "cells": [
  {
   "cell_type": "markdown",
   "id": "8e2b0685-2496-4300-ae8a-46e110c3db2d",
   "metadata": {},
   "source": [
    "<font size=\"6\"><b>RESOURCES FOR DECISION TREES</b></font>"
   ]
  },
  {
   "cell_type": "markdown",
   "id": "f2aeff3e-354e-4a0e-80a2-67731327dcbf",
   "metadata": {},
   "source": [
    "# Watchlist"
   ]
  },
  {
   "cell_type": "markdown",
   "id": "c0c520d2-2864-4201-8051-b6cf9e90e6bd",
   "metadata": {},
   "source": [
    "[![decision trees watch list](https://img.youtube.com/vi/ZVR2Way4nwQ/0.jpg)](https://www.youtube.com/playlist?list=PLg3eScSbYgxmI9exnMun-zVGCkTILcgV9)"
   ]
  },
  {
   "cell_type": "markdown",
   "id": "8e192ee5-ffc4-4fef-ba8e-32d36baa4303",
   "metadata": {},
   "source": [
    "# Reading material"
   ]
  },
  {
   "cell_type": "markdown",
   "id": "7c108c57-e36e-4523-8b32-9faf27d3e774",
   "metadata": {},
   "source": [
    "- What is Decision Tree? [A Step-by-Step Guide]:\n",
    "\n",
    "https://www.analyticsvidhya.com/blog/2021/08/decision-tree-algorithm/\n",
    "\n",
    "- Decision Trees in Machine Learning Using R:\n",
    "\n",
    "https://www.datacamp.com/tutorial/decision-trees-R\n",
    "\n",
    "- Classification 1 - Tree, Lazy and Probabilistic (from Machine Learning with R Cookbook by AshishSingh Bhatia, Yu-Wei, Chiu (David Chiu))\n",
    "\n",
    "https://books.google.com.tr/books?id=4xhKDwAAQBAJ&lpg=PP1&pg=PA215#v=onepage&q&f=false"
   ]
  },
  {
   "cell_type": "code",
   "execution_count": null,
   "id": "e6cea5ac-37ca-4dda-b211-25ad5da9b806",
   "metadata": {},
   "outputs": [],
   "source": []
  }
 ],
 "metadata": {
  "kernelspec": {
   "display_name": "R",
   "language": "R",
   "name": "ir"
  },
  "language_info": {
   "codemirror_mode": "r",
   "file_extension": ".r",
   "mimetype": "text/x-r-source",
   "name": "R",
   "pygments_lexer": "r",
   "version": "4.3.3"
  },
  "widgets": {
   "application/vnd.jupyter.widget-state+json": {
    "state": {},
    "version_major": 2,
    "version_minor": 0
   }
  }
 },
 "nbformat": 4,
 "nbformat_minor": 5
}
