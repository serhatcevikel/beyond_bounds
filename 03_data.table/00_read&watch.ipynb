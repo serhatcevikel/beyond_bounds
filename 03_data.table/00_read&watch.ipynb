{
 "cells": [
  {
   "cell_type": "markdown",
   "id": "efce62ad-325f-47e8-86b7-bba4508e9abb",
   "metadata": {},
   "source": [
    "A watch list for introduction to data.table:\n",
    "\n",
    "Note that Matt Dowle and Arun Srinivasan are the creators/maintainers of the package"
   ]
  },
  {
   "cell_type": "markdown",
   "id": "88fdd2af-fae5-4882-9e1a-3c7d611d2580",
   "metadata": {},
   "source": [
    "[![data.table watch list](https://img.youtube.com/vi/pc1ARG6kbAM/0.jpg)](https://www.youtube.com/playlist?list=PLg3eScSbYgxkDgk_hXNc7K6vId0_xvohc)"
   ]
  },
  {
   "cell_type": "markdown",
   "id": "5a652742-c588-4977-be0d-d86266d49cc9",
   "metadata": {},
   "source": [
    "You can access the companion material to the \"useR! International R User 2017 Conference data table for beginners\" video from below links:\n",
    "\n",
    "https://goo.gl/FqqCWz\n",
    "\n",
    "https://github.com/arunsrinivasan/user2017-data.table-tutorial"
   ]
  },
  {
   "cell_type": "markdown",
   "id": "b88e9e50-3bf0-4b26-8cea-cb04820d200d",
   "metadata": {},
   "source": [
    "Some concise reading material for the main concepts of data.table:\n",
    "\n",
    "- A data.table R Tutorial: Intro to DT[i, j, by] (must read)\n",
    "\n",
    "By Karljin Willems\n",
    "\n",
    "https://www.datacamp.com/community/tutorials/data-table-r-tutorial\n",
    "\n",
    "- Introduction to data.table (must read)\n",
    "\n",
    "By data.table team\n",
    "\n",
    "https://cran.r-project.org/web/packages/data.table/vignettes/datatable-intro.html\n",
    "\n",
    "- Reference Semantics (must read)\n",
    "\n",
    "By data.table team\n",
    "\n",
    "https://cran.r-project.org/web/packages/data.table/vignettes/datatable-reference-semantics.html\n",
    "\n",
    "- Efficient reshaping using data.tables (must read)\n",
    "\n",
    "By data.table team\n",
    "\n",
    "https://cran.r-project.org/web/packages/data.table/vignettes/datatable-reshape.html\n",
    "\n",
    "- JOINing data in R using data.table (must read)\n",
    "\n",
    "By Ronald Stalder\n",
    "\n",
    "http://rpubs.com/ronasta/join_data_tables\n"
   ]
  },
  {
   "cell_type": "code",
   "execution_count": null,
   "id": "b5814b9d-c48d-4b2d-9096-6874dc883f6f",
   "metadata": {},
   "outputs": [],
   "source": []
  }
 ],
 "metadata": {
  "kernelspec": {
   "display_name": "R",
   "language": "R",
   "name": "ir"
  },
  "language_info": {
   "codemirror_mode": "r",
   "file_extension": ".r",
   "mimetype": "text/x-r-source",
   "name": "R",
   "pygments_lexer": "r",
   "version": "4.3.2"
  }
 },
 "nbformat": 4,
 "nbformat_minor": 5
}
