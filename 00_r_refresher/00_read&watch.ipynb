{
 "cells": [
  {
   "cell_type": "markdown",
   "id": "060e7dc8-0080-4a12-8e33-2b68a61d8752",
   "metadata": {},
   "source": [
    "<font size=\"6\"><b>RESOURCES AS A GENTLE INTRODUCTION TO R OR R REFRESHER</b></font>"
   ]
  },
  {
   "cell_type": "markdown",
   "id": "e996c5e9-f5fe-4a6c-ad7d-5d44b3691168",
   "metadata": {},
   "source": [
    "# Notebooks"
   ]
  },
  {
   "cell_type": "markdown",
   "id": "41a65dd3-cf5d-4af2-b28d-757b5d7e742c",
   "metadata": {},
   "source": [
    "- Basic R Features\n",
    "- Manipulating Data Structures"
   ]
  },
  {
   "cell_type": "markdown",
   "id": "11f39f7f-7332-4fa5-8f32-058f91dd8458",
   "metadata": {},
   "source": [
    "# Free DataCamp courses"
   ]
  },
  {
   "cell_type": "markdown",
   "id": "69426a69-7b43-410c-aa72-fc6e1212863e",
   "metadata": {},
   "source": [
    "[Introduction to R](https://app.datacamp.com/learn/courses/free-introduction-to-r)\n",
    "\n",
    "[Intermediate R](https://app.datacamp.com/learn/courses/intermediate-r)"
   ]
  },
  {
   "cell_type": "markdown",
   "id": "fdc74dec-9e70-4539-bcc4-e3dee95b3aca",
   "metadata": {},
   "source": [
    "# Swirl"
   ]
  },
  {
   "cell_type": "markdown",
   "id": "9c1e2d82-b672-44b9-bb87-ea3ea1b49121",
   "metadata": {},
   "source": [
    "Swirl offers interactive tutorials on the R console"
   ]
  },
  {
   "cell_type": "markdown",
   "id": "37e9aaed-174e-4fc9-bd5c-e85e8c354c3a",
   "metadata": {},
   "source": [
    "- Hit the plus sign at left top for launcher \n",
    "- Hit the RStudio logo to open an RStudio instance\n",
    "- On the R console execute following commands:"
   ]
  },
  {
   "cell_type": "markdown",
   "id": "eb6d6f58-713c-4549-910a-0d46a7837eff",
   "metadata": {},
   "source": [
    "```R\n",
    "library(swirl)\n",
    "swirl()\n",
    "```"
   ]
  },
  {
   "cell_type": "markdown",
   "id": "f61d6b95-0971-41a6-aa34-dfc142ce886e",
   "metadata": {},
   "source": [
    "- Follow the prompts\n",
    "- Select \"1: R Programming: The basics of programming in R\" course"
   ]
  },
  {
   "cell_type": "markdown",
   "id": "308ac6d8-bb97-4afc-96ee-5776c3952048",
   "metadata": {},
   "source": [
    "# Introduction to R video series (optional)"
   ]
  },
  {
   "cell_type": "markdown",
   "id": "609cec90-f420-4d37-86ad-2d64e6c6d149",
   "metadata": {},
   "source": [
    "If you need video tutorials, you can watch the first 12 videos of the [Introduction to R](https://www.youtube.com/playlist?list=PLiC1doDIe9rDjk9tSOIUZJU4s5NpEyYtE) YouTube list by DataDaft"
   ]
  }
 ],
 "metadata": {
  "kernelspec": {
   "display_name": "R",
   "language": "R",
   "name": "ir"
  },
  "language_info": {
   "codemirror_mode": "r",
   "file_extension": ".r",
   "mimetype": "text/x-r-source",
   "name": "R",
   "pygments_lexer": "r",
   "version": "4.3.2"
  }
 },
 "nbformat": 4,
 "nbformat_minor": 5
}
