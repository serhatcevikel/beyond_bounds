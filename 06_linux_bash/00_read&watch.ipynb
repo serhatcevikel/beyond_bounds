{
 "cells": [
  {
   "cell_type": "markdown",
   "id": "2665263f-248e-4e94-8181-0e55431003d7",
   "metadata": {},
   "source": [
    "<font size=\"6\"><b>RESOURCES FOR THIS SESSION'S TOPICS</b></font>"
   ]
  },
  {
   "cell_type": "markdown",
   "id": "3f16c61d-4e3d-4cee-add9-f559e9e191e4",
   "metadata": {},
   "source": [
    "# Resources for Linux and Bash"
   ]
  },
  {
   "cell_type": "markdown",
   "id": "4006ebec-a8a5-465d-9edf-d07ccc022053",
   "metadata": {},
   "source": [
    "Bash programming is not an integral part of the scope of this course, but I highly recommend that you include the Linux toolset via Bash in your skills.\n",
    "\n",
    "The notebook in the folder will give you a showcase of most important Linux and Bash tools."
   ]
  },
  {
   "cell_type": "markdown",
   "id": "8f4eee9f-6da0-4e5e-9f9a-e0be6559ba22",
   "metadata": {},
   "source": [
    "## Video"
   ]
  },
  {
   "cell_type": "markdown",
   "id": "3a1e4135-8190-4920-8735-4229cceaf78c",
   "metadata": {},
   "source": [
    "Data + Coding in Bash - episode 4 - Best Practices & Shortcuts (data science for beginners)\n",
    "\n",
    "[![bash](https://img.youtube.com/vi/WcZqmu9CdXk/0.jpg)](https://www.youtube.com/watch?v=WcZqmu9CdXk)"
   ]
  },
  {
   "cell_type": "markdown",
   "id": "206226b2-44a3-4ec6-ae15-ef0f7839a905",
   "metadata": {},
   "source": [
    "## Reading material"
   ]
  },
  {
   "cell_type": "markdown",
   "id": "698706df-4f6e-454f-8f16-1b2add842027",
   "metadata": {},
   "source": [
    "- \"Introduction\" chapter from \"Data Science at the Command Line\" book:\n",
    "\n",
    "https://jeroenjanssens.com/dsatcl/chapter-1-introduction"
   ]
  },
  {
   "cell_type": "markdown",
   "id": "14e1932f-a90e-4c8d-9551-04f961acb537",
   "metadata": {},
   "source": [
    "- Linux Is the Best OS for Big Data Apps: 10 Reasons Why\n",
    "\n",
    "https://www.eweek.com/database/linux-is-the-best-os-for-big-data-apps-10-reasons-why/"
   ]
  },
  {
   "cell_type": "code",
   "execution_count": null,
   "id": "4511b1c1-eac7-42e5-a285-47e01999fd74",
   "metadata": {},
   "outputs": [],
   "source": []
  }
 ],
 "metadata": {
  "kernelspec": {
   "display_name": "R",
   "language": "R",
   "name": "ir"
  },
  "language_info": {
   "codemirror_mode": "r",
   "file_extension": ".r",
   "mimetype": "text/x-r-source",
   "name": "R",
   "pygments_lexer": "r",
   "version": "4.4.1"
  }
 },
 "nbformat": 4,
 "nbformat_minor": 5
}
