{
 "cells": [
  {
   "cell_type": "markdown",
   "id": "8603148e-be0c-468e-9c6f-da817464efb8",
   "metadata": {},
   "source": [
    "<font size=\"6\"><b>RESOURCES FOR JSON, XML/HTML AND HTTP</b></font>"
   ]
  },
  {
   "cell_type": "markdown",
   "id": "ba3a1efc-0ccf-40fe-96f8-e280169e414a",
   "metadata": {},
   "source": [
    "# JSON Resources"
   ]
  },
  {
   "cell_type": "markdown",
   "id": "4f81da37-61dd-4fd6-9ffc-accf69809b75",
   "metadata": {},
   "source": [
    "## Watchlist"
   ]
  },
  {
   "cell_type": "markdown",
   "id": "140cfe00-547c-4f1e-a522-878ac426a240",
   "metadata": {},
   "source": [
    "[![json watch list](https://img.youtube.com/vi/BGfmpvM4Zp0/0.jpg)](https://www.youtube.com/playlist?list=PLg3eScSbYgxl92tOHXbZHitxPrzo1OntQ)"
   ]
  },
  {
   "cell_type": "markdown",
   "id": "057fea4f-41cb-44c5-aaa7-49122275e601",
   "metadata": {},
   "source": [
    "## Reading material"
   ]
  },
  {
   "cell_type": "markdown",
   "id": "6f486529-58e6-4761-8de1-0697689a8ed8",
   "metadata": {},
   "source": [
    "- JSON tutorial:\n",
    "\n",
    "https://www.w3resource.com/JSON/introduction.php\n",
    "\n",
    "- jq tutorial:\n",
    "\n",
    "https://jqlang.github.io/jq/tutorial/"
   ]
  },
  {
   "cell_type": "markdown",
   "id": "e8c723a5-4e30-4a01-884a-b405b6e654fd",
   "metadata": {},
   "source": [
    "# XML/HTML/XPath resources"
   ]
  },
  {
   "cell_type": "markdown",
   "id": "2e5014c1-2164-49ef-ad42-8fd2224f618a",
   "metadata": {},
   "source": [
    "## Watchlist"
   ]
  },
  {
   "cell_type": "markdown",
   "id": "53c6c26f-1b53-478d-ab17-0bc7e7d040d6",
   "metadata": {},
   "source": [
    "[![xml watch list](https://img.youtube.com/vi/O4Y0D0jC6to/0.jpg)](https://www.youtube.com/playlist?list=PLg3eScSbYgxkxwPol_JQAS6mV5TwNf7NB)"
   ]
  },
  {
   "cell_type": "markdown",
   "id": "48fbaf5c-4965-4377-8c82-c1e289fb43b8",
   "metadata": {},
   "source": [
    "## Reading material"
   ]
  },
  {
   "cell_type": "markdown",
   "id": "4ab874b7-6c62-4e19-a486-c5a1d99465be",
   "metadata": {},
   "source": [
    "- Introduction to XPath\n",
    "\n",
    "https://www.geeksforgeeks.org/introduction-to-xpath/"
   ]
  },
  {
   "cell_type": "markdown",
   "id": "0225200d-bd2a-4d2e-b76c-b993b1a35e5b",
   "metadata": {},
   "source": [
    "# HTTP resources"
   ]
  },
  {
   "cell_type": "markdown",
   "id": "666e7fb4-c12d-41ef-98d0-8ec9668f7825",
   "metadata": {},
   "source": [
    "## Watchlist"
   ]
  },
  {
   "cell_type": "markdown",
   "id": "24478822-421a-4b03-bdad-0f2dac48e90d",
   "metadata": {},
   "source": [
    "[![http watch list](https://img.youtube.com/vi/Ic37FI351G4/0.jpg)](https://www.youtube.com/playlist?list=PLg3eScSbYgxm01tAWsljsnu3gsUz5yy-S)"
   ]
  },
  {
   "cell_type": "markdown",
   "id": "d2cd0f3e-ea31-40ea-a554-61c431ad953a",
   "metadata": {},
   "source": [
    "## Reading material"
   ]
  },
  {
   "cell_type": "markdown",
   "id": "3f66df8b-25c8-4377-96f9-981e458350bc",
   "metadata": {},
   "source": [
    "- An Overview of HTTP:\n",
    "\n",
    "https://developer.mozilla.org/en-US/docs/Web/HTTP/Overview\n",
    "\n",
    "- Understanding HTTP Basics:\n",
    "\n",
    "http://www.steves-internet-guide.com/http-basics/\n"
   ]
  }
 ],
 "metadata": {
  "kernelspec": {
   "display_name": "R",
   "language": "R",
   "name": "ir"
  },
  "language_info": {
   "codemirror_mode": "r",
   "file_extension": ".r",
   "mimetype": "text/x-r-source",
   "name": "R",
   "pygments_lexer": "r",
   "version": "4.3.2"
  },
  "toc-autonumbering": true
 },
 "nbformat": 4,
 "nbformat_minor": 5
}
