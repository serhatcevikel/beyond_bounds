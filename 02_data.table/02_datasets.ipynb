{
 "cells": [
  {
   "cell_type": "markdown",
   "id": "5d463a64-baa7-4e31-bd76-8f587d265d3c",
   "metadata": {},
   "source": [
    "<font size=\"6\"><b>DATASETS IN PACKAGES</b></font>"
   ]
  },
  {
   "cell_type": "code",
   "execution_count": null,
   "id": "4150bbe9-2aa9-4e67-918b-92ed314672f1",
   "metadata": {},
   "outputs": [],
   "source": [
    "library(data.table)\n",
    "library(DT)"
   ]
  },
  {
   "cell_type": "markdown",
   "id": "aff47700-bb5c-4c78-b8c0-d037e6aa4665",
   "metadata": {},
   "source": [
    "When you need a dataset for an assignment or practice, the easisest solution is to select one from the built-in datasets.\n",
    "\n",
    "You can see the list of these datasets as such:"
   ]
  },
  {
   "cell_type": "code",
   "execution_count": null,
   "id": "2c8dac39-967d-4557-b507-f808e27a86b8",
   "metadata": {},
   "outputs": [],
   "source": [
    "data()"
   ]
  },
  {
   "cell_type": "markdown",
   "id": "35b07730-80d5-4492-ae67-582fa6a73f48",
   "metadata": {},
   "source": [
    "However, these built-in datasets of base R are usually not so useful for complex tasks.\n",
    "\n",
    "To see all datasets in all installed packages you can do:"
   ]
  },
  {
   "cell_type": "code",
   "execution_count": null,
   "id": "9159b97a-edef-4860-8f49-1e2e33222159",
   "metadata": {},
   "outputs": [],
   "source": [
    "data(package = .packages(all.available = TRUE))$results"
   ]
  },
  {
   "cell_type": "markdown",
   "id": "c59ef130-d8dd-4854-b535-11fdc8cc33f4",
   "metadata": {},
   "source": [
    "It is better to add some additional information to the datasets, such as the size of the dataset to see whether it is feature rich and sufficiently large:"
   ]
  },
  {
   "cell_type": "code",
   "execution_count": null,
   "id": "66fae316-4f4d-42b7-ae62-4c672ea25ddd",
   "metadata": {},
   "outputs": [],
   "source": [
    "datasetsx <- readRDS(\"~/databb/rds/datasets.rds\")"
   ]
  },
  {
   "cell_type": "code",
   "execution_count": null,
   "id": "04443664-b4fb-4cf1-a861-7785ae0c478c",
   "metadata": {},
   "outputs": [],
   "source": [
    "datatable(datasetsx, filter = \"top\", escape = F)"
   ]
  },
  {
   "cell_type": "markdown",
   "id": "9bdd9a37-99a3-446a-b5ea-bc71247a4457",
   "metadata": {},
   "source": [
    "The use a dataset in a package, either load the package through:\n",
    "\n",
    "```R\n",
    "library(packagename)\n",
    "```"
   ]
  },
  {
   "cell_type": "markdown",
   "id": "d387f185-c44a-450d-85fd-117e033909af",
   "metadata": {},
   "source": [
    "Or just load the dataset:\n",
    "\n",
    "```R\n",
    "\n",
    "data(list = \"datasetname\", package = \"packagename\")\n",
    "\n",
    "```"
   ]
  },
  {
   "cell_type": "markdown",
   "id": "9042f492-a04c-480b-a2b6-1c764ed6b96e",
   "metadata": {},
   "source": [
    "For example lending_club data from modeldata package is not loaded yet:"
   ]
  },
  {
   "cell_type": "code",
   "execution_count": null,
   "id": "938cad84-8582-47d0-9330-ae7c67a8b758",
   "metadata": {},
   "outputs": [],
   "source": [
    "exists(\"lending_club\")"
   ]
  },
  {
   "cell_type": "markdown",
   "id": "081e0aef-a0c9-42c5-923e-9475ee36e36a",
   "metadata": {},
   "source": [
    "Let's load it:"
   ]
  },
  {
   "cell_type": "code",
   "execution_count": null,
   "id": "fc94cdc7-f615-4599-98e8-dc7797d93d0e",
   "metadata": {},
   "outputs": [],
   "source": [
    "data(list = \"lending_club\", package = \"modeldata\")"
   ]
  },
  {
   "cell_type": "markdown",
   "id": "22172117-1e2f-4cd5-9b7e-9f1b6591d8f3",
   "metadata": {},
   "source": [
    "And see that it is loaded now:"
   ]
  },
  {
   "cell_type": "code",
   "execution_count": null,
   "id": "dc6db671-7028-4195-a0d2-7319cc199a5a",
   "metadata": {},
   "outputs": [],
   "source": [
    "exists(\"lending_club\")"
   ]
  },
  {
   "cell_type": "code",
   "execution_count": null,
   "id": "12677aeb-dda0-4569-9cd8-ccdceada42c7",
   "metadata": {},
   "outputs": [],
   "source": [
    "str(lending_club)"
   ]
  },
  {
   "cell_type": "code",
   "execution_count": null,
   "id": "52cc652a-5b2a-4261-bbe2-2dd3223ed208",
   "metadata": {},
   "outputs": [],
   "source": []
  }
 ],
 "metadata": {
  "kernelspec": {
   "display_name": "R",
   "language": "R",
   "name": "ir"
  },
  "language_info": {
   "codemirror_mode": "r",
   "file_extension": ".r",
   "mimetype": "text/x-r-source",
   "name": "R",
   "pygments_lexer": "r",
   "version": "4.4.3"
  }
 },
 "nbformat": 4,
 "nbformat_minor": 5
}
