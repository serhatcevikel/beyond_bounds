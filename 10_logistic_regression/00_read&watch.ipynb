{
 "cells": [
  {
   "cell_type": "markdown",
   "id": "8e2b0685-2496-4300-ae8a-46e110c3db2d",
   "metadata": {},
   "source": [
    "<font size=\"6\"><b>RESOURCES FOR LOGISTIC REGRESSION</b></font>"
   ]
  },
  {
   "cell_type": "markdown",
   "id": "f2aeff3e-354e-4a0e-80a2-67731327dcbf",
   "metadata": {},
   "source": [
    "# Watchlist"
   ]
  },
  {
   "cell_type": "markdown",
   "id": "c0c520d2-2864-4201-8051-b6cf9e90e6bd",
   "metadata": {},
   "source": [
    "[![logistic regression watch list](https://img.youtube.com/vi/EKm0spFxFG4/0.jpg)](https://www.youtube.com/playlist?list=PLg3eScSbYgxkT_omR8h2FQbQzmZDFunG_)"
   ]
  },
  {
   "cell_type": "markdown",
   "id": "8e192ee5-ffc4-4fef-ba8e-32d36baa4303",
   "metadata": {},
   "source": [
    "# Reading material"
   ]
  },
  {
   "cell_type": "markdown",
   "id": "7c108c57-e36e-4523-8b32-9faf27d3e774",
   "metadata": {},
   "source": [
    "- Logistic Regression in R Tutorial:\n",
    "\n",
    "https://www.datacamp.com/tutorial/logistic-regression-R\n",
    "\n",
    "- Logistic Regression – A Complete Tutorial With Examples in R\n",
    "\n",
    "https://www.machinelearningplus.com/machine-learning/logistic-regression-tutorial-examples-r/"
   ]
  },
  {
   "cell_type": "markdown",
   "id": "accomplished-monte",
   "metadata": {},
   "source": [
    "# Model formula syntax "
   ]
  },
  {
   "cell_type": "markdown",
   "id": "afraid-quantity",
   "metadata": {},
   "source": [
    "Check the details of formulae language from built-in help:"
   ]
  },
  {
   "cell_type": "code",
   "execution_count": null,
   "id": "proof-auckland",
   "metadata": {},
   "outputs": [],
   "source": [
    "?formula"
   ]
  }
 ],
 "metadata": {
  "kernelspec": {
   "display_name": "R",
   "language": "R",
   "name": "ir"
  },
  "language_info": {
   "codemirror_mode": "r",
   "file_extension": ".r",
   "mimetype": "text/x-r-source",
   "name": "R",
   "pygments_lexer": "r",
   "version": "4.3.3"
  },
  "widgets": {
   "application/vnd.jupyter.widget-state+json": {
    "state": {},
    "version_major": 2,
    "version_minor": 0
   }
  }
 },
 "nbformat": 4,
 "nbformat_minor": 5
}
