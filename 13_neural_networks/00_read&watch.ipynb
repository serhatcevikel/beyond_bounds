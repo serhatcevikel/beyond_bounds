{
 "cells": [
  {
   "cell_type": "markdown",
   "id": "8e2b0685-2496-4300-ae8a-46e110c3db2d",
   "metadata": {},
   "source": [
    "<font size=\"6\"><b>RESOURCES FOR NEURAL NETWORKS</b></font>"
   ]
  },
  {
   "cell_type": "markdown",
   "id": "f2aeff3e-354e-4a0e-80a2-67731327dcbf",
   "metadata": {},
   "source": [
    "# Watchlist"
   ]
  },
  {
   "cell_type": "markdown",
   "id": "c0c520d2-2864-4201-8051-b6cf9e90e6bd",
   "metadata": {},
   "source": [
    "[![clustering watch list](https://img.youtube.com/vi/CqOfi41LfDw/0.jpg)](https://www.youtube.com/playlist?list=PLg3eScSbYgxlwc8TCAIx9MqiwlRMQzL_M)"
   ]
  },
  {
   "cell_type": "markdown",
   "id": "8e192ee5-ffc4-4fef-ba8e-32d36baa4303",
   "metadata": {},
   "source": [
    "# Reading material"
   ]
  },
  {
   "cell_type": "markdown",
   "id": "7c108c57-e36e-4523-8b32-9faf27d3e774",
   "metadata": {},
   "source": [
    "- Introduction to Neural Networks - A detailed overview of neural networks with a wealth of examples and simple imagery:\n",
    "\n",
    "    https://towardsdatascience.com/simple-introduction-to-neural-networks-ac1d7c3d7a2c\n",
    "\n",
    "- Black Box Methods - Neural Networks and Support Vector Machines\n",
    "\n",
    "    from\n",
    "\n",
    "    Machine Learning with R\n",
    "\n",
    "    By Brett Lantz, 2015:\n",
    "\n",
    "    https://books.google.com.tr/books?id=ZaJNCgAAQBAJ&lpg=PP1&pg=PA219#v=onepage&q&f=false"
   ]
  },
  {
   "cell_type": "code",
   "execution_count": null,
   "id": "2334f646-143d-48be-82fb-6687a1c4b202",
   "metadata": {},
   "outputs": [],
   "source": []
  }
 ],
 "metadata": {
  "kernelspec": {
   "display_name": "R",
   "language": "R",
   "name": "ir"
  },
  "language_info": {
   "codemirror_mode": "r",
   "file_extension": ".r",
   "mimetype": "text/x-r-source",
   "name": "R",
   "pygments_lexer": "r",
   "version": "4.3.3"
  },
  "widgets": {
   "application/vnd.jupyter.widget-state+json": {
    "state": {},
    "version_major": 2,
    "version_minor": 0
   }
  }
 },
 "nbformat": 4,
 "nbformat_minor": 5
}
