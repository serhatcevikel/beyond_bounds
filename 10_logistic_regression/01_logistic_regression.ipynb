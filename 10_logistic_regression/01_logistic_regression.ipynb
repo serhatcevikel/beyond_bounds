{
 "cells": [
  {
   "cell_type": "markdown",
   "id": "03dcc424-c4a2-4022-ad17-79401a15cfe9",
   "metadata": {},
   "source": [
    "<font size=\"6\"><b>LOGISTIC REGRESSION</b></font>"
   ]
  },
  {
   "cell_type": "code",
   "execution_count": null,
   "id": "523ed44d-1c97-462f-bed9-2454f20ca364",
   "metadata": {},
   "outputs": [],
   "source": [
    "library(tidyverse)\n",
    "library(data.table)\n",
    "library(plotly) # for interactive ploting\n",
    "library(DT) # for interactive tabulation\n",
    "library(broom) # for tidy statistical summaries\n",
    "library(psych) # for pairwise comparisons\n",
    "library(GGally) # for pairwise comparisons\n",
    "library(magrittr) # for two-way pipes\n",
    "library(lindia) # for qqplots\n",
    "library(pROC) # for ROC curve\n",
    "library(plotROC) # for pretty plot ROC curve\n",
    "library(IRdisplay) # for displaying interactive ROC curves\n",
    "library(caret) # for lift chart and confusion matrix"
   ]
  },
  {
   "cell_type": "code",
   "execution_count": null,
   "id": "46624799-6da1-4445-ac6c-f3db11656f73",
   "metadata": {},
   "outputs": [],
   "source": [
    "options(repr.matrix.max.rows=20, repr.matrix.max.cols=15) # for limiting the number of top and bottom rows of tables printed "
   ]
  },
  {
   "cell_type": "code",
   "execution_count": null,
   "id": "3368d47e-f4eb-4141-869c-430e68133616",
   "metadata": {},
   "outputs": [],
   "source": [
    "datapath <- \"~/databb\""
   ]
  },
  {
   "cell_type": "markdown",
   "id": "3ac2a243-b85d-4bfa-931d-da13084b8f15",
   "metadata": {},
   "source": [
    "![xkcd](../imagesbb/logistic.png)\n",
    "\n",
    "(https://xkcd.com/2048/)"
   ]
  },
  {
   "cell_type": "markdown",
   "id": "cb685934-91c2-414a-beb7-58e0b03811a1",
   "metadata": {},
   "source": [
    "# LOGISTIC REGRESSION ON BANK LOAN ACCEPTANCE DATA"
   ]
  },
  {
   "cell_type": "markdown",
   "id": "7af48e7d-9697-408b-9ef8-2f94582e6060",
   "metadata": {},
   "source": [
    "Adapted from Shmueli (2017) Chapter 10"
   ]
  },
  {
   "cell_type": "markdown",
   "id": "c7e41386-548f-4508-ba9c-bf5f48754333",
   "metadata": {},
   "source": [
    "Dataset is about acceptance of a personal loan by Universal Bank. The bank’s dataset includes data on 5000 customers.\n",
    "\n",
    "The data include the customer’s response to the last personal loan campaign (Personal Loan), as well as customer demographic information (Age, Income, etc.) and the customer’s relationship with the bank (mortgage, securities account, etc.).\n",
    "\n",
    "Among these 5000 customers, only 480 (= 9.6%) accepted the personal loan offered to them in a previous campaign.\n",
    "\n",
    "The goal is to build a model that identifies customers who are most likely to accept the loan offer in future mailings."
   ]
  },
  {
   "cell_type": "markdown",
   "id": "de94b7a4-7e4b-4ccf-9738-a75e0a4498ef",
   "metadata": {},
   "source": [
    "## Libraries and dataset"
   ]
  },
  {
   "cell_type": "code",
   "execution_count": null,
   "id": "faf74645-9bb0-4fbe-b97d-4fe3e1e0befc",
   "metadata": {},
   "outputs": [],
   "source": [
    "bank_dt <- fread(sprintf(\"%s/csv/universalbank.csv\", datapath), stringsAsFactors = T)"
   ]
  },
  {
   "cell_type": "markdown",
   "id": "009b12f6-d029-4da6-9301-6d51da532689",
   "metadata": {},
   "source": [
    "## Explore data"
   ]
  },
  {
   "cell_type": "markdown",
   "id": "6f1bd8bd-0152-41d5-8496-2853ffece980",
   "metadata": {},
   "source": [
    "Delete unnecessary variables:"
   ]
  },
  {
   "cell_type": "code",
   "execution_count": null,
   "id": "c88034f1-5164-4e17-834b-85ab69b89af9",
   "metadata": {},
   "outputs": [],
   "source": [
    "bank_dt[, c(\"ID\", \"ZIP Code\") := NULL] #to drop ID and ZIP code columns"
   ]
  },
  {
   "cell_type": "markdown",
   "id": "9a875ca1-1dd9-428b-b35a-b22c0914c14f",
   "metadata": {},
   "source": [
    "Convert education to factor:"
   ]
  },
  {
   "cell_type": "code",
   "execution_count": null,
   "id": "a9432c55-90bf-49a5-b25d-c5798f461cb8",
   "metadata": {},
   "outputs": [],
   "source": [
    "bank_dt[, Education := factor(Education,\n",
    "                              levels = 1:3,\n",
    "                              labels = c(\"Undergrad\",\n",
    "                                        \"Graduate\",\n",
    "                                        \"Advanced/Professional\"))]"
   ]
  },
  {
   "cell_type": "markdown",
   "id": "c85f12fe-d316-4493-8dbc-bf90410ba9c3",
   "metadata": {},
   "source": [
    "Get the structure of the data:"
   ]
  },
  {
   "cell_type": "code",
   "execution_count": null,
   "id": "295f12d9-4b86-4e50-ae94-7cb87cf11c27",
   "metadata": {},
   "outputs": [],
   "source": [
    "str(bank_dt)"
   ]
  },
  {
   "cell_type": "markdown",
   "id": "ef4b0889-21f5-4f68-9476-418c7d0980c7",
   "metadata": {},
   "source": [
    "\"Personal Loan\" will be our dependent variable "
   ]
  },
  {
   "cell_type": "markdown",
   "id": "bfe9fb85-56a9-4478-8e46-a776f1888527",
   "metadata": {},
   "source": [
    "View data:"
   ]
  },
  {
   "cell_type": "code",
   "execution_count": null,
   "id": "a6e52e97-a508-4adb-abf5-878afee37600",
   "metadata": {},
   "outputs": [],
   "source": [
    "bank_dt"
   ]
  },
  {
   "cell_type": "markdown",
   "id": "4e1469b5-a76f-42fd-9ee3-180b948e4d78",
   "metadata": {},
   "source": [
    "Summarize numeric variables:"
   ]
  },
  {
   "cell_type": "code",
   "execution_count": null,
   "id": "b479fb3a-c4f0-4610-8b45-19b2dbf2858a",
   "metadata": {},
   "outputs": [],
   "source": [
    "bank_dt %>% purrr::keep(is.numeric) %>% sapply(quantile) %>% t()"
   ]
  },
  {
   "cell_type": "code",
   "execution_count": null,
   "id": "15df0c75-16b9-4a74-adc2-cd4965a8dd27",
   "metadata": {},
   "outputs": [],
   "source": [
    "bank_dt[,Age:Mortgage][,!\"Education\"]"
   ]
  },
  {
   "cell_type": "markdown",
   "id": "c28586a7-b5ad-4151-bb10-3c49eaa3b6be",
   "metadata": {},
   "source": [
    "We see that the last five variables are actually categoric ones that take values of 0 or 1 only\n",
    "\n",
    "But we will keep them as is, since they will be treated as dummy variables in the model"
   ]
  },
  {
   "cell_type": "markdown",
   "id": "5578a252-e1bf-4cda-a3d9-8eb19cf695dd",
   "metadata": {},
   "source": [
    "Let's see how numeric variables (other than the binary ones) are distributed:"
   ]
  },
  {
   "cell_type": "code",
   "execution_count": null,
   "id": "9784c38e-453d-4889-be99-4622288a725b",
   "metadata": {},
   "outputs": [],
   "source": [
    "bank_dt[,Age:Mortgage][,!\"Education\"] %>% # select columns\n",
    "    tidyr::gather() %>% # reshape into long format in columns \"key\" and \"value\"\n",
    "    ggplot(aes(value)) + # plot value\n",
    "        facet_wrap(~ key, scale = \"free\" ) + # divide into separate plots by key\n",
    "        geom_density(fill = \"green\")  # get density plots"
   ]
  },
  {
   "cell_type": "markdown",
   "id": "dabcda3c-441e-46c0-84a8-7c71555e024a",
   "metadata": {},
   "source": [
    "Summarize factor variables:"
   ]
  },
  {
   "cell_type": "code",
   "execution_count": null,
   "id": "2c3e889b-35a6-4a98-98cb-d84c20b1e3ab",
   "metadata": {},
   "outputs": [],
   "source": [
    "options(repr.plot.width = 10, repr.plot.height = 10)\n",
    "\n",
    "bank_dt[,Education:CreditCard][,!\"Mortgage\"] %>% # select columns\n",
    "\n",
    "    tidyr::gather() %>% # convert into long format for faceting\n",
    "    ggplot(aes(x = value)) + # plot value\n",
    "    facet_wrap(~ key, scales = \"free\") + # divide into separate plots by key\n",
    "    geom_bar()"
   ]
  },
  {
   "cell_type": "markdown",
   "id": "360da846-8db7-4910-b2c1-39518157cb2c",
   "metadata": {},
   "source": [
    "## Partition the dataset"
   ]
  },
  {
   "cell_type": "markdown",
   "id": "845b6bc0-1b7e-4281-aefe-3fd6500b6c7f",
   "metadata": {},
   "source": [
    "We will take 60% as train and 40% as test set: "
   ]
  },
  {
   "cell_type": "code",
   "execution_count": null,
   "id": "a1255f77-dca3-445b-8d87-38e60a092e37",
   "metadata": {},
   "outputs": [],
   "source": [
    "#partition data\n",
    "set.seed(2)\n",
    "train <- bank_dt[,sample(.I, .N * 0.6)]"
   ]
  },
  {
   "cell_type": "code",
   "execution_count": null,
   "id": "0d4f180a-74fd-4dea-a60b-6ce796634ad1",
   "metadata": {},
   "outputs": [],
   "source": [
    "bank_train <- bank_dt[train]\n",
    "bank_test <- bank_dt[-train]"
   ]
  },
  {
   "cell_type": "markdown",
   "id": "59faa619-aa2f-4f4b-9075-0f5cbf761bcb",
   "metadata": {},
   "source": [
    "## Build and train a model"
   ]
  },
  {
   "cell_type": "markdown",
   "id": "6308fddf-96c2-41a5-b97b-1c008adb1855",
   "metadata": {},
   "source": [
    "Build a logistic regression model: "
   ]
  },
  {
   "cell_type": "code",
   "execution_count": null,
   "id": "15133e4c-dd8a-402c-b565-e5101c033be5",
   "metadata": {},
   "outputs": [],
   "source": [
    "logit_reg <- glm(`Personal Loan` ~ ., data = bank_train, family = \"binomial\")"
   ]
  },
  {
   "cell_type": "markdown",
   "id": "d352d04c-8b3e-4e25-a5f6-4eb28a8f4ddc",
   "metadata": {},
   "source": [
    "## Evaluate the model"
   ]
  },
  {
   "cell_type": "markdown",
   "id": "dcccb85c-ecb8-49be-a511-b8baf0d90013",
   "metadata": {},
   "source": [
    "Summarize the model:"
   ]
  },
  {
   "cell_type": "code",
   "execution_count": null,
   "id": "56febd06-4ec1-4e28-b495-a0f0dacc8fd3",
   "metadata": {},
   "outputs": [],
   "source": [
    "summary(logit_reg)"
   ]
  },
  {
   "cell_type": "markdown",
   "id": "c2d4009b-f1b1-4d59-bd63-99a3cb4b89d8",
   "metadata": {},
   "source": [
    "All variables except Age, Experience, Mortgage and \"Securities Account\" are significant at 5%\n",
    "\n",
    "Residual deviance is highly below null deviance, hence the model could explain o good portion of the total variation"
   ]
  },
  {
   "cell_type": "markdown",
   "id": "6cdb1b08-c9be-452e-921f-8c5c3df840ff",
   "metadata": {},
   "source": [
    "### Deviance residuals"
   ]
  },
  {
   "cell_type": "markdown",
   "id": "7d1bb17c-5d09-44d6-904e-791b7994748d",
   "metadata": {},
   "source": [
    "Like the residual in a linear regression model, the deviance residuals are a measure of model fit.\n",
    "\n",
    "Smaller absolute values indicate better fit. This part of the output shows minimum, quantiles, and the maximum of the deviance residuals for individual sample examples used to fit the model. The maximum deviance is 4.17, with a very small median value of -0.06."
   ]
  },
  {
   "cell_type": "code",
   "execution_count": null,
   "id": "5e7a363e-1d82-4b16-8939-85c81d5b3432",
   "metadata": {},
   "outputs": [],
   "source": [
    "summary(logit_reg)$deviance.resid %>% summary()"
   ]
  },
  {
   "cell_type": "markdown",
   "id": "e9b4fd44-6b9a-46d0-8369-80e9c4f6b75b",
   "metadata": {},
   "source": [
    "### Estimated coefficients"
   ]
  },
  {
   "cell_type": "code",
   "execution_count": null,
   "id": "4993a515-8aec-435a-93a2-e529fe8977b8",
   "metadata": {},
   "outputs": [],
   "source": [
    "summary(logit_reg)$coefficients"
   ]
  },
  {
   "cell_type": "markdown",
   "id": "4432698d-50ae-4528-b729-b433c152e6cf",
   "metadata": {},
   "source": [
    "The estimated coefficients are shown in the next part of the output.\n",
    "\n",
    "The estimated values tell us the change in the log odds of the target variable for a one unit increase in a feature variable."
   ]
  },
  {
   "cell_type": "markdown",
   "id": "78990413-3f30-4e71-8958-1e6c41cd1c53",
   "metadata": {},
   "source": [
    "###  Statistical significance of coefficients"
   ]
  },
  {
   "cell_type": "code",
   "execution_count": null,
   "id": "3ff28762-a948-4213-8f13-4c295c09a0bc",
   "metadata": {},
   "outputs": [],
   "source": [
    "confint.default(logit_reg)"
   ]
  },
  {
   "cell_type": "markdown",
   "id": "92bad04a-8bf4-4bb2-a443-eab9323b8b57",
   "metadata": {},
   "source": [
    "For logistic models, R reports the confidence intervals using\n",
    "the profiled log-likelihood function.\n",
    "\n",
    "To see these:"
   ]
  },
  {
   "cell_type": "code",
   "execution_count": null,
   "id": "3fb87510-ad40-40d4-a099-5fcc0ced0730",
   "metadata": {},
   "outputs": [],
   "source": [
    "confint(logit_reg)"
   ]
  },
  {
   "cell_type": "markdown",
   "id": "3b00fab2-c032-4e75-b9a3-c2e87ab610f9",
   "metadata": {},
   "source": [
    "The variables that straddle 0 (0 is within the margins) are deemed not to be significantly different than zero."
   ]
  },
  {
   "cell_type": "markdown",
   "id": "3fef3cf4-9af4-47fc-bace-766f17c73d5e",
   "metadata": {},
   "source": [
    "### Null and residual deviance"
   ]
  },
  {
   "cell_type": "markdown",
   "id": "1cd64ff7-98af-4272-bd03-057a25d0585c",
   "metadata": {},
   "source": [
    "The residual deviance is analogous to the residual sum of squares of a linear regression model.\n",
    "\n",
    "Lower values indicate better fit.\n",
    "\n",
    "It takes a value of 690.83.\n",
    "\n",
    "The null deviance reports how well the target variable is predicted by a model that includes only the intercept.\n",
    "\n",
    "We would expect our model to do better than this.\n",
    "\n",
    "In this case it does, as the null deviance = 1915.10.\n",
    "\n",
    "This implies our model has reduced the deviance by to a large extent."
   ]
  },
  {
   "cell_type": "code",
   "execution_count": null,
   "id": "7db7a30f-5505-4c37-9b8f-a4c272a93965",
   "metadata": {},
   "outputs": [],
   "source": [
    "logit_reg$deviance\n",
    "logit_reg$null.deviance"
   ]
  },
  {
   "cell_type": "markdown",
   "id": "3f76616f-a0a6-4f60-ac24-b8654bf76abf",
   "metadata": {},
   "source": [
    "## Model discrimination, ROC, and AUC"
   ]
  },
  {
   "cell_type": "markdown",
   "id": "75889529-5140-496f-8ad7-11f53d63e9f3",
   "metadata": {},
   "source": [
    "The discrimination of a model – that is, how well the model separates male from female crabs - can also be assessed using the area under the receiver operating characteristic curve (AUC)\n",
    "\n",
    "It uses two metrics, Specificity and Sensitivity.\n",
    "\n",
    "Specificity is a measure of how often the model predicts “female”(y = 0) when the actual observation is “female crab”"
   ]
  },
  {
   "cell_type": "markdown",
   "id": "1c4e53f4-b81f-487d-af96-a6556880e9b2",
   "metadata": {},
   "source": [
    "$${\\text{Specificity}} = \\frac{\\text{True Negatives}}{{\\text{Total Negatives}}}$$"
   ]
  },
  {
   "cell_type": "markdown",
   "id": "75db188b-9f37-4d63-8091-f7ac98db7c8a",
   "metadata": {},
   "source": [
    "Sensitivity or true positive rate measures when it’s actually “male”, how often does the model predict “male”\n",
    "\n",
    "$${\\text{Sensitivity}} = \\frac{\\text{True Positives}}{{\\text{Total Positives}}}$$"
   ]
  },
  {
   "cell_type": "markdown",
   "id": "599f362b-aefd-4af5-a56e-747a48a845cf",
   "metadata": {},
   "source": [
    "Specificity and Sensitivity are often combined via a Receiver Operating Characteristic Curve (ROC).\n",
    "\n",
    "The ROC visually measures how well the predictive model separates the data into positives and negatives"
   ]
  },
  {
   "cell_type": "markdown",
   "id": "0247a0d3-006c-40b6-b58b-440f7a617fef",
   "metadata": {},
   "source": [
    "![ROC](https://www.researchgate.net/publication/8636163/figure/fig2/AS:202684352208899@1425335123086/Four-ROC-curves-with-different-values-of-the-area-under-the-ROC-curve-A-perfect-test-A.png)\n",
    "\n",
    "Four ROC curves with different values of the area under the ROC curve:\n",
    "- A perfect test (A) has an area under the ROC curve of 1.\n",
    "- The chance diagonal (D, the line segment from 0, 0 to 1, 1) has an area under the ROC curve of 0.5.\n",
    "- ROC curves of tests with some ability to distinguish between those subjects with and those without a disease (B, C) lie between these two extremes.\n",
    "- Test B with the higher area under the ROC curve has a better overall diagnostic performance than test C.\n",
    "\n",
    "(https://www.researchgate.net/figure/Four-ROC-curves-with-different-values-of-the-area-under-the-ROC-curve-A-perfect-test-A_fig2_8636163)"
   ]
  },
  {
   "cell_type": "markdown",
   "id": "bccc5a39-3fb4-4341-a407-6de44b9dc126",
   "metadata": {},
   "source": [
    "### Evaluate classification performance"
   ]
  },
  {
   "cell_type": "markdown",
   "id": "e208058d-a1ce-4cc2-bfe8-76d1a0c3c05d",
   "metadata": {},
   "source": [
    "Get the fitted values for train set:"
   ]
  },
  {
   "cell_type": "code",
   "execution_count": null,
   "id": "00916a3a-0cb4-41f6-9417-b9ed485b0cbf",
   "metadata": {},
   "outputs": [],
   "source": [
    "pred_train <- predict(logit_reg, bank_train[,!\"Personal Loan\"], type = \"response\")"
   ]
  },
  {
   "cell_type": "markdown",
   "id": "e15bece3-6124-43a8-8cd8-b89bb99cdbd0",
   "metadata": {},
   "source": [
    "Convert them to discrete values for labels:"
   ]
  },
  {
   "cell_type": "code",
   "execution_count": null,
   "id": "59738557-4cde-4162-a72d-8c1b3db340f3",
   "metadata": {},
   "outputs": [],
   "source": [
    "train_class <- ifelse(pred_train > 0.5, 1, 0)"
   ]
  },
  {
   "cell_type": "markdown",
   "id": "13d20c1a-1e75-42b7-b228-c4c5a341185b",
   "metadata": {},
   "source": [
    "#### A detailed look at the confusion matrix:"
   ]
  },
  {
   "cell_type": "markdown",
   "id": "9da2d171-3491-429a-b4c7-14a15bb7b7c2",
   "metadata": {},
   "source": [
    "Create a confusion matrix:"
   ]
  },
  {
   "cell_type": "code",
   "execution_count": null,
   "id": "1f3820d0-e418-43db-85b1-21ffa3558750",
   "metadata": {},
   "outputs": [],
   "source": [
    "table(fitted = train_class, actual = bank_train[,`Personal Loan`]) %>% caret::confusionMatrix(positive = \"1\")"
   ]
  },
  {
   "cell_type": "markdown",
   "id": "f8abbf77-ae52-472c-8152-7c6afeb81356",
   "metadata": {},
   "source": [
    "Now let's go into the details of a confusion matrix:\n",
    "\n",
    "![confusion matrix](https://3.bp.blogspot.com/--jLXutUe5Ss/VvPIO6ZH2tI/AAAAAAAACkU/pvVL4L-a70gnFEURcfBbL_R-GnhBR6f1Q/s1600/ConfusionMatrix.png)"
   ]
  },
  {
   "cell_type": "markdown",
   "id": "d51af17f-6a98-4659-8ab9-dda4752f56c7",
   "metadata": {},
   "source": [
    "According to Lantz (2015) Chapter 10:\n",
    "\n",
    "- True Positive (TP): Correctly classified as the class of interest\n",
    "- True Negative (TN): Correctly classified as not the class of interest\n",
    "- False Positive (FP): Incorrectly classified as the class of interest\n",
    "- False Negative (FN): Incorrectly classified as not the class of interest\n",
    "\n"
   ]
  },
  {
   "cell_type": "markdown",
   "id": "cf957dd6-06c8-497a-8275-7336be152203",
   "metadata": {},
   "source": [
    "- So accuracy is the sum of true negatives/positives over all cases\n",
    "- Error rate is \"1 - accuracy\"\n",
    "- The sensitivity of a model (also called the true positive rate) measures the proportion of positive examples that were correctly classified. Therefore, it is calculated as the number of true positives divided by the total number of positives, both correctly classified (the true positives) as well as incorrectly classified (the false negatives)\n",
    "- The specificity of a model (also called the true negative rate) measures the proportion of negative examples that were correctly classified. As with sensitivity, this is computed as the number of true negatives, divided by the total number of negatives—the true negatives plus the false positives\n",
    "- The precision (also known as the positive predictive value) is defined as the proportion of positive examples that are truly positive; in other words, when a model predicts the positive class, how often is it correct? A precise model will only predict the positive class in cases that are very likely to be positive. It will be very trustworthy.\n",
    "- On the other hand, recall is a measure of how complete the results are. This is defined as the number of true positives over the total number of positives. You may have already recognized this as the same as sensitivity. However, in this case, the interpretation differs slightly. A model with a high recall captures a large portion of the positive examples, meaning that it has wide breadth. For example, a search engine with a high recall returns a large number of documents pertinent to the search query. Similarly, the SMS spam filter has a high recall if the majority of spam messages are correctly identified."
   ]
  },
  {
   "cell_type": "markdown",
   "id": "ae0c27be-4f89-4d82-9043-ba03b6c553f1",
   "metadata": {},
   "source": [
    "Now another important metric is the kappa statistic:\n",
    "\n",
    "The kappa statistic (labeled Kappa in the previous output) adjusts accuracy by accounting for the possibility of a correct prediction by chance alone.\n",
    "\n",
    "This is especially important for datasets with a severe class imbalance, because a classifier can obtain high accuracy simply by always guessing the most frequent class.\n",
    "\n",
    "The kappa statistic will only reward the classifier if it is correct more often than this simplistic strategy.\n",
    "\n",
    "Kappa values range from 0 to a maximum of 1, which indicates perfect agreement between the model's predictions and the true values. Values less than one indicate imperfect agreement. Depending on how a model is to be used, the interpretation of the kappa statistic might vary. One common interpretation is shown as follows:\n",
    "- Poor agreement = less than 0.20\n",
    "- Fair agreement = 0.20 to 0.40\n",
    "- Moderate agreement = 0.40 to 0.60\n",
    "- Good agreement = 0.60 to 0.80\n",
    "- Very good agreement = 0.80 to 1.00"
   ]
  },
  {
   "cell_type": "markdown",
   "id": "1ce35b56-0188-4298-b14c-b5f3df2eae7e",
   "metadata": {},
   "source": [
    "### ROC curve"
   ]
  },
  {
   "cell_type": "markdown",
   "id": "66cb86d8-7d92-4125-81de-75f092c718e4",
   "metadata": {},
   "source": [
    "Now let's draw the ROC curve:"
   ]
  },
  {
   "cell_type": "code",
   "execution_count": null,
   "id": "340396b1-37d0-45f5-b3e3-8834e67faa2d",
   "metadata": {},
   "outputs": [],
   "source": [
    "p1 <- data.table(D = bank_train[,`Personal Loan`], M = pred_train) %>%\n",
    "ggplot(aes(m = M, d = D)) +\n",
    "    plotROC::geom_roc() +\n",
    "    plotROC::style_roc(theme = theme_grey)\n",
    "\n",
    "plotROC::export_interactive_roc(p1) %>% IRdisplay::display_html()"
   ]
  },
  {
   "cell_type": "markdown",
   "id": "cafb4af2-cf1b-4a1a-a64e-be9fa0097437",
   "metadata": {},
   "source": [
    "Curve is quite close the a perfect classifier"
   ]
  },
  {
   "cell_type": "markdown",
   "id": "2ced4538-dfe5-46c0-9389-7cb71f33db53",
   "metadata": {},
   "source": [
    "And let's calculate the area under curve (AUC)"
   ]
  },
  {
   "cell_type": "code",
   "execution_count": null,
   "id": "79478311-420d-40de-86ee-5abbc28b6dfd",
   "metadata": {},
   "outputs": [],
   "source": [
    "pROC::auc(bank_train[,`Personal Loan`], pred_train)"
   ]
  },
  {
   "cell_type": "markdown",
   "id": "514e50cc-62c2-453f-9555-c0f05618e024",
   "metadata": {},
   "source": [
    "AUC near 1 also confirms the accuracy"
   ]
  },
  {
   "cell_type": "markdown",
   "id": "ef5b1e68-5c63-4778-8e7e-95fc7c733b08",
   "metadata": {},
   "source": [
    "## Evaluate prediction performance"
   ]
  },
  {
   "cell_type": "markdown",
   "id": "47f42254-3abe-455d-9105-7884c6f3d2b2",
   "metadata": {},
   "source": [
    "Let's predict the probabilities of test set:"
   ]
  },
  {
   "cell_type": "code",
   "execution_count": null,
   "id": "aee8a576-0296-48b7-89a4-cb299fa7245e",
   "metadata": {},
   "outputs": [],
   "source": [
    "pred_test <- predict(logit_reg, bank_test[,!\"Personal Loan\"], type = \"response\")"
   ]
  },
  {
   "cell_type": "markdown",
   "id": "31cb85f9-f675-41a7-9dce-51d0d4241093",
   "metadata": {},
   "source": [
    "Convert probabilities to classes:"
   ]
  },
  {
   "cell_type": "code",
   "execution_count": null,
   "id": "1c525318-d95b-476a-ae55-39529ba9be4a",
   "metadata": {},
   "outputs": [],
   "source": [
    "test_class <- ifelse(pred_test > 0.5, 1, 0)"
   ]
  },
  {
   "cell_type": "markdown",
   "id": "d0fc6867-0190-41ad-be9c-1524b53f133b",
   "metadata": {},
   "source": [
    "And create a confusion matrix:"
   ]
  },
  {
   "cell_type": "code",
   "execution_count": null,
   "id": "186f7c56-6480-465d-8041-869a77e58aa1",
   "metadata": {},
   "outputs": [],
   "source": [
    "table(prediction = test_class, actual = bank_test[,`Personal Loan`]) %>% caret::confusionMatrix(positive = \"1\")"
   ]
  },
  {
   "cell_type": "markdown",
   "id": "cf6fcc21-49dc-4b83-a918-01a15f070b5b",
   "metadata": {},
   "source": [
    "While kappa and accuracy on the test set is slightly lower than the values for the train set, the model still performs good"
   ]
  },
  {
   "cell_type": "markdown",
   "id": "36134ace-cdf1-461b-b4a7-c5330f0c4691",
   "metadata": {},
   "source": [
    "# LOGISTIC REGRESSION ON REALTY DATASET"
   ]
  },
  {
   "cell_type": "markdown",
   "id": "ee375427-341b-4cdf-87a4-81ca0cb1a67d",
   "metadata": {},
   "source": [
    "We continue with the realty dataset.\n",
    "\n",
    "Remember that, we calculated the premium_neigh variable which is premium of the unit price of the property over the median unit price of the neighborhood.\n",
    "\n",
    "Now we will try to classify the properties into premium and discount"
   ]
  },
  {
   "cell_type": "markdown",
   "id": "8741575b-8625-4d6f-8895-56c8324cfaf4",
   "metadata": {},
   "source": [
    "Let's first import the realty dataset:"
   ]
  },
  {
   "cell_type": "code",
   "execution_count": null,
   "id": "b7f82754-ecf2-457c-84eb-36d2e04099e8",
   "metadata": {},
   "outputs": [],
   "source": [
    "realty_data3 <- readRDS(sprintf(\"%s/rds/06_02_realty_data3.rds\", datapath))"
   ]
  },
  {
   "cell_type": "code",
   "execution_count": null,
   "id": "436e1dbb-337a-4a35-bd53-dddb55a7ad0f",
   "metadata": {},
   "outputs": [],
   "source": [
    "realty_data3"
   ]
  },
  {
   "cell_type": "markdown",
   "id": "6afcd6ba-b500-40c6-8fe6-24b3abbdd917",
   "metadata": {},
   "source": [
    "Let's add the binary variable premium, which takes 1 when the premium is above 0, and 0 otherwise"
   ]
  },
  {
   "cell_type": "code",
   "execution_count": null,
   "id": "7f5e37b8-c073-4530-9a0d-7f11d290963f",
   "metadata": {},
   "outputs": [],
   "source": [
    "realty_data3[, premium := as.integer(premium_neigh > 0)]"
   ]
  },
  {
   "cell_type": "markdown",
   "id": "5f55930c-922f-4abf-af14-467c765af71a",
   "metadata": {},
   "source": [
    "Let's see the structure:"
   ]
  },
  {
   "cell_type": "code",
   "execution_count": null,
   "id": "a53b3e7f-b8ab-44b2-90f8-5b6574384270",
   "metadata": {},
   "outputs": [],
   "source": [
    "realty_data3 %>% str"
   ]
  },
  {
   "cell_type": "markdown",
   "id": "a40e39d5-d097-466f-a7bf-463f68daa3e1",
   "metadata": {},
   "source": [
    "Now, select some of the variables:"
   ]
  },
  {
   "cell_type": "code",
   "execution_count": null,
   "id": "0bbbf27f-841d-4861-ac03-d2eba900db76",
   "metadata": {},
   "outputs": [],
   "source": [
    "vars <- c(\"premium\", \"esyali\", \"krediye_uygunluk\", \"bina_yasi\", \"kat_sayisi\", \"kat\", realty_data3 %>% keep(is.logical) %>% names)\n",
    "vars"
   ]
  },
  {
   "cell_type": "markdown",
   "id": "0466e66a-7e18-4748-b0eb-ccc59a53909a",
   "metadata": {},
   "source": [
    "And assign the subset:"
   ]
  },
  {
   "cell_type": "code",
   "execution_count": null,
   "id": "7f4527a6-cb7b-4536-8cf2-8b9388a11a57",
   "metadata": {},
   "outputs": [],
   "source": [
    "realty_data4 <- realty_data3 %>% select(all_of(vars)) %>% na.omit"
   ]
  },
  {
   "cell_type": "markdown",
   "id": "d5c650c9-c4ae-4734-91cf-b3cd67c94e02",
   "metadata": {},
   "source": [
    "Our tasks are to:\n",
    "\n",
    "- Partition the data set into 70% train and 30% test sets\n",
    "- Create and run a logistic regression model to explain premium with all other variables **without intercept**. Note that, the median values are taken as basis for premium, so the classes are nearly equal\n",
    "- Print the summary of the model. Compare and interpret null and residual deviance values and create a table of the coefficients of the variables that are significant at 5% level\n",
    "- Calculate the fitted positive case (\"1\") probabilities from the model and also the fitted classes for the train set with a cut value of 0.5\n",
    "- Create a confusion matrix. You may use the below code template:\n",
    "\n",
    "```R\n",
    "table(actual = actual_classes, fitted = fitted_classes) %>% caret::confusionMatrix(positive = \"1\")\n",
    "```\n",
    "- What are the TP, TN, FP, FN counts? Interpret accuracy, sensitivity and specificity.\n",
    "- Interpret Kappa (what is the level of class agreement)\n",
    "- Create a ROC curve and calculate AUC. How far is the model better than pure random guessing?\n",
    "- Calculate the predicted positive case (\"1\") probabilities from the model and also the predicted classes for the test set with a cut values of 0.5\n",
    "- Create a confusion matrix for the test set similar to the one above.\n",
    "- What are the TP, TN, FP, FN counts? Interpret accuracy, sensitivity and specificity.\n",
    "- Interpret Kappa (what is the level of class agreement)\n",
    "- Compare the results from the confusion matrices of the train and test sets. "
   ]
  },
  {
   "cell_type": "markdown",
   "id": "c826fce4-cdc2-4a60-bb7d-5171834071fb",
   "metadata": {},
   "source": [
    "## Partition the dataset"
   ]
  },
  {
   "cell_type": "markdown",
   "id": "fa3c8feb-cff6-406d-b7de-e2aab1698883",
   "metadata": {},
   "source": [
    "We will take 60% as train and 40% as test set: "
   ]
  },
  {
   "cell_type": "code",
   "execution_count": null,
   "id": "5bb4655c-44ec-4fb7-96ca-b2c961099c33",
   "metadata": {},
   "outputs": [],
   "source": [
    "#partition data\n",
    "set.seed(2)\n",
    "train <- realty_data4[,sample(.I, .N * 0.7)]"
   ]
  },
  {
   "cell_type": "code",
   "execution_count": null,
   "id": "1fa82374-6aae-4f68-bc6a-bd5e450a5974",
   "metadata": {},
   "outputs": [],
   "source": [
    "realty_train <- realty_data4[train]\n",
    "realty_test <- realty_data4[-train]"
   ]
  },
  {
   "cell_type": "markdown",
   "id": "8ff30217-c3c1-4a38-84e1-177af065c690",
   "metadata": {},
   "source": [
    "## Build and train a model"
   ]
  },
  {
   "cell_type": "markdown",
   "id": "2d0adf9f-cd61-4815-915e-bee74bb39c94",
   "metadata": {},
   "source": [
    "Build a logistic regression model: "
   ]
  },
  {
   "cell_type": "code",
   "execution_count": null,
   "id": "fb354535-9369-410b-b716-3b930445af49",
   "metadata": {},
   "outputs": [],
   "source": [
    "logit_reg <- glm(`premium` ~ . -1, data = realty_train, family = \"binomial\")"
   ]
  },
  {
   "cell_type": "code",
   "execution_count": null,
   "id": "ce0a5980-96fc-4310-8249-092aacb1301b",
   "metadata": {},
   "outputs": [],
   "source": [
    "summary(logit_reg)"
   ]
  },
  {
   "cell_type": "code",
   "execution_count": null,
   "id": "a618a567-a8b8-42fe-9259-10a6fbaef530",
   "metadata": {},
   "outputs": [],
   "source": [
    "logit_reg %>% broom::tidy() %>% filter(p.value < 0.05)"
   ]
  },
  {
   "cell_type": "markdown",
   "id": "b1efcc98-b6ea-464b-a8ea-fc868280aa6f",
   "metadata": {},
   "source": [
    "## Get fitted values and create confusion matrix"
   ]
  },
  {
   "cell_type": "code",
   "execution_count": null,
   "id": "fb801314-e7b0-4fc7-a432-b1c94e6dd8f6",
   "metadata": {},
   "outputs": [],
   "source": [
    "pred_train <- predict(logit_reg, realty_train, type = \"response\")"
   ]
  },
  {
   "cell_type": "code",
   "execution_count": null,
   "id": "023177f5-b250-4c75-8438-99a2eef6cfef",
   "metadata": {},
   "outputs": [],
   "source": [
    "train_class <- ifelse(pred_train > 0.5, 1, 0)"
   ]
  },
  {
   "cell_type": "code",
   "execution_count": null,
   "id": "0c9f008e-1e35-4805-97ec-d0d54fc08d84",
   "metadata": {},
   "outputs": [],
   "source": [
    "table(fitted = train_class, actual = realty_train$premium) %>% caret::confusionMatrix(positive = \"1\")"
   ]
  },
  {
   "cell_type": "markdown",
   "id": "d4478cba-7453-42ea-bba2-88c987b4fc7c",
   "metadata": {},
   "source": [
    "- TP: 101\n",
    "- TN: 96\n",
    "- FP: 46\n",
    "- FN: 38\n",
    "\n",
    "- Accuracy: 0.7 of all cases are correctly classified\n",
    "- Sensitivity: 0.68 of the fitted positive cases are actually positive\n",
    "- Specificity: 0.71 of the fitted negative cases are actually negative\n",
    "- Kappa: 0.445, moderate aggreement"
   ]
  },
  {
   "cell_type": "markdown",
   "id": "98e58463-e614-434d-b2e2-70c19d86072f",
   "metadata": {},
   "source": [
    "## Create ROC and calculate AUC"
   ]
  },
  {
   "cell_type": "code",
   "execution_count": null,
   "id": "582b52f7-a52a-4b22-baa1-9bfa9f663c73",
   "metadata": {},
   "outputs": [],
   "source": [
    "p1 <- data.table(D = realty_train[,premium], M = pred_train) %>%\n",
    "ggplot(aes(m = M, d = D)) +\n",
    "    plotROC::geom_roc() +\n",
    "    plotROC::style_roc(theme = theme_grey)\n",
    "\n",
    "plotROC::export_interactive_roc(p1) %>% IRdisplay::display_html()"
   ]
  },
  {
   "cell_type": "code",
   "execution_count": null,
   "id": "92983b41-be2f-4c0a-a073-75f007f0dbf7",
   "metadata": {},
   "outputs": [],
   "source": [
    "pROC::auc(realty_train[,premium], pred_train)"
   ]
  },
  {
   "cell_type": "markdown",
   "id": "95bc20f4-2ffb-49cc-bd58-4d1716ef82dd",
   "metadata": {},
   "source": [
    "Pure random guessing would yield 0.5, perfect classification would yield 1. So the model performance is in between the perfect and pure random performances."
   ]
  },
  {
   "cell_type": "markdown",
   "id": "e53b6ecb-875a-4a52-82ac-f66376ac56f7",
   "metadata": {},
   "source": [
    "## Get predictions on test set and create a confusion matrix"
   ]
  },
  {
   "cell_type": "code",
   "execution_count": null,
   "id": "e993da34-8c33-4299-b20a-a2ad934d107b",
   "metadata": {},
   "outputs": [],
   "source": [
    "pred_test <- predict(logit_reg, realty_test, type = \"response\")"
   ]
  },
  {
   "cell_type": "code",
   "execution_count": null,
   "id": "22b672eb-7b43-48b0-a1bf-1b3e9d519cd2",
   "metadata": {},
   "outputs": [],
   "source": [
    "test_class <- ifelse(pred_test > 0.5, 1, 0)"
   ]
  },
  {
   "cell_type": "code",
   "execution_count": null,
   "id": "9a996dc5-f210-47a7-88bf-c7febd972e9b",
   "metadata": {},
   "outputs": [],
   "source": [
    "table(prediction = test_class, actual = realty_test$premium) %>% caret::confusionMatrix(positive = \"1\")"
   ]
  },
  {
   "cell_type": "markdown",
   "id": "1b092421-6a48-4526-9053-4c7adb472891",
   "metadata": {},
   "source": [
    "- TP: 40\n",
    "- TN: 36\n",
    "- FP: 25\n",
    "- FN: 20\n",
    "\n",
    "- Accuracy: 0.62 of all cases are correctly classified\n",
    "- Sensitivity: 0.62 of the fitted positive cases are actually positive\n",
    "- Specificity: 0.64 of the fitted negative cases are actually negative\n",
    "- Kappa: 0.25, fair aggreement"
   ]
  },
  {
   "cell_type": "markdown",
   "id": "1c2a8cf2-0822-4d20-b864-243690ac5bc5",
   "metadata": {},
   "source": [
    "Although the classification performance on test set is below that on the train set, we still have a fair prediction performance."
   ]
  }
 ],
 "metadata": {
  "kernelspec": {
   "display_name": "R",
   "language": "R",
   "name": "ir"
  },
  "language_info": {
   "codemirror_mode": "r",
   "file_extension": ".r",
   "mimetype": "text/x-r-source",
   "name": "R",
   "pygments_lexer": "r",
   "version": "4.3.3"
  },
  "toc-autonumbering": true
 },
 "nbformat": 4,
 "nbformat_minor": 5
}
