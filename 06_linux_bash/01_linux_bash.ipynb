{
 "cells": [
  {
   "cell_type": "markdown",
   "id": "3101d978-e9b3-4ad6-9f11-c61f9e9f9e27",
   "metadata": {},
   "source": [
    "<font size=\"6\"><b>BASH: THE LINUX SHELL</b></font>"
   ]
  },
  {
   "cell_type": "markdown",
   "id": "2e2bd946-c0f1-4d9e-ac40-4d3d6abdb85d",
   "metadata": {},
   "source": [
    "![xkcd](../imagesbb/tar.png)\n",
    "\n",
    "(https://xkcd.com/1168)"
   ]
  },
  {
   "cell_type": "markdown",
   "id": "74c1bf8e-74df-4880-93e2-2db7faf7cd8d",
   "metadata": {},
   "source": [
    "In this notebook, basic Linux tools and commands that can be accessed from Bash shell are introduced, along with some of the basic features of shell programming.\n",
    "\n",
    "In fact Bash is a kind of scripting language.\n",
    "\n",
    "Note that the kernel of this notebook - as you can see from top right corner - is not `R` but `Bash`. So the commands in code cells are executed in Bash"
   ]
  },
  {
   "cell_type": "markdown",
   "id": "634510d9-8dbb-4b93-bb2e-99e1450fa2a5",
   "metadata": {},
   "source": [
    "The purpose here is not to make you memorize all features but the provide a showcase of useful utilities in Linux shell and show the parsimony, beauty and variety of those utilities.\n",
    "\n",
    "This will serve as a reference material."
   ]
  },
  {
   "cell_type": "markdown",
   "id": "17e5df99-3a69-403c-9cda-ab7418f099ae",
   "metadata": {},
   "source": [
    "# First steps"
   ]
  },
  {
   "cell_type": "markdown",
   "id": "a4970b5b-06d2-46fa-9d6e-14d4e02f1146",
   "metadata": {
    "kernel": "SoS"
   },
   "source": [
    "## Journey to Linux: Breaking Windows habits"
   ]
  },
  {
   "cell_type": "markdown",
   "id": "fa5daf7d-0dcc-4d1a-b73b-2bcb35197f5a",
   "metadata": {
    "cell_style": "split",
    "kernel": "SoS"
   },
   "source": [
    "<!--In ![](https://thgtr.com/wp-content/uploads/2009/10/windows_logo.jpg.png =10x)\n",
    "https://thgtr.com/wp-content/uploads/2009/10/windows_logo.jpg.png\n",
    "https://openclipart.org/download/250889/Pinguino-Linux.svg\n",
    "-->\n",
    "\n",
    "<img src=\"../imagesbb/windows\" width=\"100\"><img src=\"../imagesbb/tux\" width=\"100\">"
   ]
  },
  {
   "cell_type": "markdown",
   "id": "0b889f66-1742-40d9-9cf1-07c78b17e533",
   "metadata": {
    "cell_style": "split",
    "kernel": "SoS"
   },
   "source": [
    "<img src=\"../imagesbb/windows\" width=\"20\"> We have letters for drives/volumes and each drive has its own root as such: C:\\, D:\\ .. "
   ]
  },
  {
   "cell_type": "markdown",
   "id": "5b49db1a-18f4-495c-8cf0-eb33760510a8",
   "metadata": {
    "cell_style": "split",
    "kernel": "SoS"
   },
   "source": [
    "<img src=\"../imagesbb/tux\" width=\"20\"> We have a single filesystem root \"/\" and all drives/volumes are \"mounted\" under this root"
   ]
  },
  {
   "cell_type": "markdown",
   "id": "541f3967-ef6c-4971-a495-e61c8010f8ee",
   "metadata": {
    "cell_style": "split",
    "kernel": "SoS"
   },
   "source": [
    "<img src=\"../imagesbb/windows\" width=\"20\"> Directories are separated by backslashes \"\\\\\""
   ]
  },
  {
   "cell_type": "markdown",
   "id": "5246cbb1-23a4-4fef-8fe3-50b9accf35f9",
   "metadata": {
    "cell_style": "split",
    "kernel": "SoS"
   },
   "source": [
    "<img src=\"../imagesbb/tux\" width=\"20\"> Directories are separated by slashes \"/\". Backslash is an escape character to toggle between literal and special usages of some characters"
   ]
  },
  {
   "cell_type": "markdown",
   "id": "03f8f61a-45da-454f-be84-aa51230f02ae",
   "metadata": {
    "cell_style": "split",
    "kernel": "SoS"
   },
   "source": [
    "<img src=\"../imagesbb/windows\" width=\"20\"> Directory and filenames are case insensitive: \"path\" and \"PATH\" are the same"
   ]
  },
  {
   "cell_type": "markdown",
   "id": "5b7536d8-3ae3-4088-beeb-8c457191483a",
   "metadata": {
    "cell_style": "split",
    "kernel": "SoS"
   },
   "source": [
    "<img src=\"../imagesbb/tux\" width=\"20\"> Directory and filenames are case sensitive: \"path\" and \"PATH\" are different and can co-exist"
   ]
  },
  {
   "cell_type": "markdown",
   "id": "9ef81ccb-0ea8-47ee-8d79-16e27616af48",
   "metadata": {
    "cell_style": "split",
    "kernel": "SoS"
   },
   "source": [
    "<img src=\"../imagesbb/windows\" width=\"20\"> In Windows tradition, directory and filenames contain many spaces since it does not matter in GUI usage"
   ]
  },
  {
   "cell_type": "markdown",
   "id": "4bdc6d72-b744-43b5-8264-7217ff912ecc",
   "metadata": {
    "cell_style": "split",
    "kernel": "SoS"
   },
   "source": [
    "<img src=\"../imagesbb/tux\" width=\"20\"> In Linux tradition, whitespaces are avoided as much as possible because they may cause trouble for shell commands"
   ]
  },
  {
   "cell_type": "markdown",
   "id": "18dc0044-422f-4a11-97c8-e74df7b35fe1",
   "metadata": {
    "cell_style": "split",
    "kernel": "SoS"
   },
   "source": [
    "<img src=\"../imagesbb/windows\" width=\"20\"> GUI's are the main interface for interaction with the OS"
   ]
  },
  {
   "cell_type": "markdown",
   "id": "549d33f8-d34b-489e-b941-af47cc92867f",
   "metadata": {
    "cell_style": "split",
    "kernel": "SoS"
   },
   "source": [
    "<img src=\"../imagesbb/tux\" width=\"20\"> [A true Linux/Unix \"hacker\"](http://www.catb.org/jargon/html/appendixc.html) prefers the terminal/CLI/shell (the black screen) for many good reasons!"
   ]
  },
  {
   "cell_type": "markdown",
   "id": "0424ea67-b300-45e9-8921-4d4808d88b4b",
   "metadata": {
    "kernel": "SoS"
   },
   "source": [
    "So:"
   ]
  },
  {
   "cell_type": "markdown",
   "id": "2aacc40d-e944-4fc3-becf-ffaa08f633ba",
   "metadata": {
    "kernel": "SoS"
   },
   "source": [
    "<img src=\"../imagesbb/tuxwin\" width=\"500\">"
   ]
  },
  {
   "cell_type": "markdown",
   "id": "0a9c4197-772d-40aa-8d7f-7e449b09611c",
   "metadata": {
    "kernel": "SoS"
   },
   "source": [
    "## The Shell and screen command"
   ]
  },
  {
   "cell_type": "markdown",
   "id": "12e2f1ce-24f7-4919-8ef7-92744448bb94",
   "metadata": {
    "kernel": "SoS"
   },
   "source": [
    "<!--<img src=\"https://static01.nyt.com/images/2018/05/15/arts/01hal-voice1/merlin_135847308_098289a6-90ee-461b-88e2-20920469f96a-superJumbo.jpg?quality=90&auto=webp\" width=\"300\">-->\n",
    "\n",
    "- The shell is the command interpreter of Unix/Linux systems\n",
    "- The terminal is the windows program that a shell works on in desktop environments\n",
    "- When we work in a virtual terminal, no need for a separate terminal program, everything IS inside the terminal. Try it yourself if you are on a \\*nix PC: Ctrl+Alt+F2 and login! And back here with Ctrl+Alt+F1\n",
    "- Together we call this mode of interaction with the OS \"Command Line Interface\" or CLI"
   ]
  },
  {
   "cell_type": "markdown",
   "id": "9018691d-825f-44c4-a2c2-9be5a65b2ac9",
   "metadata": {
    "kernel": "SoS"
   },
   "source": [
    "In Stanley Kubrick's sci-fi classic 2001: A Space Odyssey, an AI interface to the main computer of the spaceship looked and talked like that:"
   ]
  },
  {
   "cell_type": "markdown",
   "id": "f8c3b44e-08f5-4805-87f6-d5dbe48d11b4",
   "metadata": {
    "kernel": "SoS"
   },
   "source": [
    "[![](https://img.youtube.com/vi/7qnd-hdmgfk/0.jpg)](https://www.youtube.com/watch?v=7qnd-hdmgfk)"
   ]
  },
  {
   "cell_type": "markdown",
   "id": "dabf32bc-e8bc-446c-be45-a7bd47d31bcc",
   "metadata": {
    "kernel": "SoS"
   },
   "source": [
    "Hopefully the shell we use, BASH, do not refuse our requests arbitrarily, as HAL does to Dave"
   ]
  },
  {
   "cell_type": "markdown",
   "id": "0f1d28de-4174-44c3-b753-69ea99c14dc4",
   "metadata": {},
   "source": [
    "**For some of the following command to be executed without error, you should open a terminal window.**\n",
    "\n",
    "**In order to open a new terminal window invoke Bash please hit the button below:**"
   ]
  },
  {
   "cell_type": "markdown",
   "id": "3e93e829-ff00-4bcc-9b2d-84ee74b04512",
   "metadata": {},
   "source": [
    "<button data-commandLinker-command=\"terminal:create-new\" href=\"#\">Open Terminal</button>"
   ]
  },
  {
   "cell_type": "markdown",
   "id": "f80f1c57-304c-4a27-a3ae-932fae39c750",
   "metadata": {
    "kernel": "Bash"
   },
   "source": [
    "Now please copy and paste the below command inside that terminal:\n",
    "\n",
    "```Bash\n",
    "screen -S 1\n",
    "```\n",
    "\n",
    "A very powerful utility called \"screen\" is automatically opened inside the terminal"
   ]
  },
  {
   "cell_type": "markdown",
   "id": "aa709c42-1290-4111-8547-ed0a2026d846",
   "metadata": {
    "kernel": "Bash"
   },
   "source": [
    "From now on, we can send commands to the terminal from this Jupyter notebook using the utility called \"GNU Screen\".\n",
    "\n",
    "We will come to screen later, however, what it does are:\n",
    "- To multiplex many shell instances inside a session\n",
    "- To attach and detach to an ongoing process, from local and from remote hosts (think that you were disconnected from a remote computer, you want to reconnect and resume from where you were last. screen does that)\n",
    "- To send commands to other shell instances easily\n",
    "\n",
    "Note that, it may take some time for the screen inside terminal to be operational. We will go on and return back to screen terminal in order to send and execute some of our codes to terminal ..."
   ]
  },
  {
   "cell_type": "markdown",
   "id": "bf152c9c-86b1-4749-ad06-e43330b02698",
   "metadata": {
    "kernel": "Bash"
   },
   "source": [
    "And this code is getting the appropriate parameter in order to send remote commands to terminal from here:\n",
    "\n",
    "(content not important for the time being)"
   ]
  },
  {
   "cell_type": "code",
   "execution_count": null,
   "id": "a4088594-52e7-4850-8c73-b650de3bfac8",
   "metadata": {
    "kernel": "Bash"
   },
   "outputs": [],
   "source": [
    "#scr=$(screen -ls 2> /dev/null | grep -Po \"^.+(?=\\.jupyter)\" | head -1 | tr -d \"\\t\")\n",
    "scr=$(screen -ls | grep -P \"Attached\" | head -1 | grep -Po \"^\\t+.+?(?=\\s|\\t)\" | tr -d \"\\t\")\n",
    "echo $scr"
   ]
  },
  {
   "cell_type": "markdown",
   "id": "035bd46b-f786-4121-aad7-0db1d403e55e",
   "metadata": {
    "kernel": "Bash"
   },
   "source": [
    "## Get info on commands"
   ]
  },
  {
   "cell_type": "markdown",
   "id": "a8ce7b3f-7ae6-47bf-a5fa-fe8fd753a4c1",
   "metadata": {
    "kernel": "SoS"
   },
   "source": [
    "We do not usually memorize all usage details of all commands. We can access this info whenever we want:"
   ]
  },
  {
   "cell_type": "markdown",
   "id": "f643fe37-fe8d-4ebf-a4dd-69a6f6e4aaaf",
   "metadata": {
    "kernel": "Bash"
   },
   "source": [
    "To get a one-liner explanation, use `whatis`. However this system is minimized so some commands do not run, `whatis` is such a command:"
   ]
  },
  {
   "cell_type": "code",
   "execution_count": null,
   "id": "d407a481-be37-43ef-a4a9-221d27e6174d",
   "metadata": {
    "kernel": "Bash"
   },
   "outputs": [],
   "source": [
    "# whatis ls"
   ]
  },
  {
   "cell_type": "markdown",
   "id": "07ad9852-891a-4933-992f-f4b4f58b9c37",
   "metadata": {
    "kernel": "SoS"
   },
   "source": [
    "To get most verbose info use `man`. For the same reason that the system is minimized, `man` does not run either:"
   ]
  },
  {
   "cell_type": "code",
   "execution_count": null,
   "id": "265264ba-ceff-465f-9652-3d79af094353",
   "metadata": {
    "kernel": "Bash"
   },
   "outputs": [],
   "source": [
    "# man ls"
   ]
  },
  {
   "cell_type": "markdown",
   "id": "f3415f81-7754-4ac4-b3df-71c34b40347d",
   "metadata": {
    "kernel": "Bash"
   },
   "source": [
    "And best of both worlds, info on most common usages is provided by `tldr`:"
   ]
  },
  {
   "cell_type": "code",
   "execution_count": null,
   "id": "24af967b-040b-44f9-9790-b328cfba3f59",
   "metadata": {
    "kernel": "Bash"
   },
   "outputs": [],
   "source": [
    "tldr ls"
   ]
  },
  {
   "cell_type": "code",
   "execution_count": null,
   "id": "3e0704a1-2a5e-4e2e-b5e9-9b9c71709803",
   "metadata": {
    "kernel": "Bash"
   },
   "outputs": [],
   "source": [
    "tldr tldr"
   ]
  },
  {
   "cell_type": "markdown",
   "id": "05779832-851f-47c7-85ef-b611cb30ccb4",
   "metadata": {
    "kernel": "Bash"
   },
   "source": [
    "Note that, tldr is not a standard utility in \\*nix system and you have to install it as an npm package separately. It is a community project and it may not cover many lesser known utilities/programs"
   ]
  },
  {
   "cell_type": "markdown",
   "id": "461766dc-60fd-405f-8554-c362887109c9",
   "metadata": {
    "kernel": "Bash"
   },
   "source": [
    "And for screen:"
   ]
  },
  {
   "cell_type": "code",
   "execution_count": null,
   "id": "a536c588-23ba-4266-a9be-1b4827bcb235",
   "metadata": {
    "kernel": "Bash"
   },
   "outputs": [],
   "source": [
    "tldr screen"
   ]
  },
  {
   "cell_type": "markdown",
   "id": "d55dc19a-6d6c-4bf7-9606-44ac25f61b51",
   "metadata": {},
   "source": [
    "# Basic commands"
   ]
  },
  {
   "cell_type": "markdown",
   "id": "80ce59bc-870b-4bb0-bde4-156b4489fe08",
   "metadata": {
    "kernel": "Bash"
   },
   "source": [
    "## ls command"
   ]
  },
  {
   "cell_type": "code",
   "execution_count": null,
   "id": "4d69a874-76ff-4cd2-8695-773de7d84248",
   "metadata": {
    "kernel": "Bash"
   },
   "outputs": [],
   "source": [
    "tldr ls"
   ]
  },
  {
   "cell_type": "markdown",
   "id": "b8e8b399-972d-48c8-bcaa-8c57ca3601ab",
   "metadata": {
    "kernel": "Bash"
   },
   "source": [
    "We see that, most common flags are:\n",
    "- a: all incl. hidden\n",
    "- l: long and detail\n",
    "- h: human readable units\n",
    "- S: size sorted\n",
    "- t: time sorted\n",
    "- r: reverse sorted\n",
    "- 1: one file per line (default in l)"
   ]
  },
  {
   "cell_type": "markdown",
   "id": "f0f05589-ed40-4d80-ad22-e99fba8664c8",
   "metadata": {
    "kernel": "Bash"
   },
   "source": [
    "Let's list the contents of the root directory, with details and time sorted:"
   ]
  },
  {
   "cell_type": "code",
   "execution_count": null,
   "id": "96cd2880-d579-427d-a543-b8a6a6e553eb",
   "metadata": {
    "kernel": "Bash"
   },
   "outputs": [],
   "source": [
    "ls -lt /"
   ]
  },
  {
   "cell_type": "markdown",
   "id": "f82c320a-15df-4da1-9a07-f81df0d8e501",
   "metadata": {
    "kernel": "Bash"
   },
   "source": [
    "## echo command"
   ]
  },
  {
   "cell_type": "code",
   "execution_count": null,
   "id": "d42fdeb9-cb58-4e26-b68f-1823dee39fe7",
   "metadata": {
    "kernel": "Bash"
   },
   "outputs": [],
   "source": [
    "tldr echo"
   ]
  },
  {
   "cell_type": "markdown",
   "id": "a82de2dd-d162-4106-b0bf-276d7b5e280b",
   "metadata": {
    "kernel": "Bash"
   },
   "source": [
    "## glob \"*\""
   ]
  },
  {
   "cell_type": "markdown",
   "id": "90157dd0-b90d-441c-a1ca-2e952fbd8d42",
   "metadata": {
    "kernel": "Bash"
   },
   "source": [
    "Generalizes actions by pattern matching:"
   ]
  },
  {
   "cell_type": "code",
   "execution_count": null,
   "id": "65aae3e7-ac86-40c1-9ebe-23086f4b09fb",
   "metadata": {
    "kernel": "Bash"
   },
   "outputs": [],
   "source": [
    "ls -l ./*.ipynb"
   ]
  },
  {
   "cell_type": "markdown",
   "id": "8e8cbc9c-0a04-41fd-bc98-f8f5281e072a",
   "metadata": {
    "kernel": "Bash"
   },
   "source": [
    "## \">\" redirect"
   ]
  },
  {
   "cell_type": "markdown",
   "id": "db8272f1-a97d-44ce-a924-6095ff00e2b2",
   "metadata": {
    "kernel": "Bash"
   },
   "source": [
    "\">\" redirect operator \"redirects\" the standard input (stdin) from a command into a file (and saves)\n",
    "\">>\" appends, \">\" overwrites"
   ]
  },
  {
   "cell_type": "code",
   "execution_count": null,
   "id": "fe7a0bb9-1709-43d6-9ea3-042315d7067b",
   "metadata": {
    "kernel": "Bash"
   },
   "outputs": [],
   "source": [
    "echo \"Hello World\" > ~/databb/temp/helloworld\n",
    "echo \"Hello World a second time\" > ~/databb/temp/helloworld # this will overwrite the file\n",
    "echo \"Hello World a third time\" >> ~/databb/temp/helloworld # this will append the file"
   ]
  },
  {
   "cell_type": "code",
   "execution_count": null,
   "id": "94083b54-d63c-483f-aebd-283ce7a9ffb2",
   "metadata": {
    "kernel": "Bash"
   },
   "outputs": [],
   "source": [
    "ls ~/databb/temp/helloworld"
   ]
  },
  {
   "cell_type": "markdown",
   "id": "e936a8a4-3e13-44ec-a86d-9a97ab314786",
   "metadata": {
    "kernel": "Bash"
   },
   "source": [
    "We see the file is there, but how can see the contents?"
   ]
  },
  {
   "cell_type": "markdown",
   "id": "da274836-369c-4a2a-9195-aa974ca05622",
   "metadata": {
    "kernel": "Bash"
   },
   "source": [
    "## cat command"
   ]
  },
  {
   "cell_type": "markdown",
   "id": "37ad1bad-35b3-4ed1-aa9e-142076ac254b",
   "metadata": {
    "kernel": "Bash"
   },
   "source": [
    "Cat \"concatenates\" or combines and prints the contents of the files provided as arguments.\n",
    "\n",
    "Cat writes the contents of a file to stdout (that can be printed to shell, redirected to a file or a pipe):"
   ]
  },
  {
   "cell_type": "code",
   "execution_count": null,
   "id": "057ebe9e-75ed-4468-8c03-199ba299bd3d",
   "metadata": {
    "kernel": "Bash"
   },
   "outputs": [],
   "source": [
    "tldr cat"
   ]
  },
  {
   "cell_type": "markdown",
   "id": "22cbee90-c37b-4401-b7fe-bd5977b0c8c2",
   "metadata": {
    "kernel": "Bash"
   },
   "source": [
    "Let's view the main file for configuration, environment and options of the Bash shell for the current user:"
   ]
  },
  {
   "cell_type": "code",
   "execution_count": null,
   "id": "a9dd6f9d-6451-4f3f-8aad-fe7d19648499",
   "metadata": {
    "kernel": "Bash"
   },
   "outputs": [],
   "source": [
    "cat ~/.bashrc"
   ]
  },
  {
   "cell_type": "markdown",
   "id": "dc4458db-7391-419b-9c1b-c71575206f6a",
   "metadata": {
    "kernel": "Bash"
   },
   "source": [
    "## wc command"
   ]
  },
  {
   "cell_type": "markdown",
   "id": "b1902145-a920-4ad9-8de0-146beddd1635",
   "metadata": {
    "kernel": "Bash"
   },
   "source": [
    "Most of the time, we may be in a need to get the row/word/character/byte count of the output of a previous command"
   ]
  },
  {
   "cell_type": "code",
   "execution_count": null,
   "id": "63f54441-2405-4c6f-a6ae-7b937fb50c52",
   "metadata": {
    "kernel": "Bash"
   },
   "outputs": [],
   "source": [
    "tldr wc"
   ]
  },
  {
   "cell_type": "markdown",
   "id": "1462ec2a-6296-4af0-ae87-41fad9ca9302",
   "metadata": {
    "kernel": "Bash"
   },
   "source": [
    "See how many files/directory there are instantly under the root directory:"
   ]
  },
  {
   "cell_type": "code",
   "execution_count": null,
   "id": "adb711fc-0f03-4690-b907-b6a9b914b40d",
   "metadata": {
    "kernel": "Bash"
   },
   "outputs": [],
   "source": [
    "ls / | wc -l"
   ]
  },
  {
   "cell_type": "markdown",
   "id": "9ae26362-5bf8-462d-9629-30d096932cc0",
   "metadata": {
    "kernel": "Bash"
   },
   "source": [
    "We are ok with \"ls /\" and \"wc -l\" parts, but what about that strange \"|\" sign?"
   ]
  },
  {
   "cell_type": "markdown",
   "id": "7baa79a1-e25b-4cb5-ac74-fb70f5411496",
   "metadata": {
    "kernel": "Bash"
   },
   "source": [
    "## Unix pipe"
   ]
  },
  {
   "cell_type": "markdown",
   "id": "6adebee2-9d94-4f76-af9e-3fb7e2d95b55",
   "metadata": {
    "kernel": "Bash"
   },
   "source": [
    "Unix pipe \"|\" is a structure in Unix-like OS's, that redirects the standard output (stdout) of a former command into the standard input (stdin) of a latter command"
   ]
  },
  {
   "cell_type": "code",
   "execution_count": null,
   "id": "886d4a2e-e327-429d-a473-737cd5cb2113",
   "metadata": {
    "kernel": "Bash"
   },
   "outputs": [],
   "source": [
    "ls / | cat -n"
   ]
  },
  {
   "cell_type": "markdown",
   "id": "2c32816e-4cc2-4fef-bf86-e4b6898bd272",
   "metadata": {
    "kernel": "Bash"
   },
   "source": [
    "The first process writes the contents of the root /, and the output is fed into the input of \"cat\" with \"n\" flag for line numbers\n",
    "\n",
    "So the command takes the raw input and adds line numbers. See how many files"
   ]
  },
  {
   "cell_type": "code",
   "execution_count": null,
   "id": "3a93ab1a-453c-4b11-92f1-6f9c9dfe3ebc",
   "metadata": {
    "kernel": "Bash"
   },
   "outputs": [],
   "source": [
    "ls / | wc -l"
   ]
  },
  {
   "cell_type": "markdown",
   "id": "f2e0c1a3-090d-4f1d-9942-8daefdde723a",
   "metadata": {
    "kernel": "Bash"
   },
   "source": [
    "First process does the same thing, second counts the lines in the input"
   ]
  },
  {
   "cell_type": "markdown",
   "id": "96f9eb2c-adb4-43f3-9e82-66481f10889d",
   "metadata": {
    "kernel": "Bash"
   },
   "source": [
    "Pipe is very powerful and simplifies complex data and workflows!\n",
    "\n",
    "You'l create killer one-liners that does a lot of things using multiple pipes!!!"
   ]
  },
  {
   "cell_type": "markdown",
   "id": "74e310c7-ebcc-48b2-ba1e-f768077f9b0a",
   "metadata": {
    "kernel": "SoS"
   },
   "source": [
    "## Environment variables, which command"
   ]
  },
  {
   "cell_type": "markdown",
   "id": "95cc9bac-dd13-4e3a-a943-d6d6c9dc0fdd",
   "metadata": {
    "kernel": "SoS"
   },
   "source": [
    "In our workflow we may refer to same paths and filenames many times, and some values and parameters may be selected once and referred to in many places\n",
    "\n",
    "It is better that we define them once in an environment variable and refer by that variable name:"
   ]
  },
  {
   "cell_type": "markdown",
   "id": "e655bf5d-acf8-4cb0-b3ad-f465de09d451",
   "metadata": {
    "kernel": "Bash"
   },
   "source": [
    "First, some built-ins:"
   ]
  },
  {
   "cell_type": "code",
   "execution_count": null,
   "id": "f756963c-1238-4842-843a-9340ba1bd409",
   "metadata": {
    "kernel": "Bash"
   },
   "outputs": [],
   "source": [
    "echo $HOME # echoes the value of HOME env variable\n",
    "echo ~ # tilde is a shorthand for HOME\n",
    "echo $PATH # echoes the value of PATH env variable"
   ]
  },
  {
   "cell_type": "markdown",
   "id": "0e3f422e-db29-4de5-bfdc-cddd46d4ad3e",
   "metadata": {
    "kernel": "Bash"
   },
   "source": [
    "$PATH is where the OS looks for the executable files in return for a command"
   ]
  },
  {
   "cell_type": "markdown",
   "id": "edc4f62c-dea8-4975-921f-dca34456f638",
   "metadata": {
    "kernel": "Bash"
   },
   "source": [
    "For example when we just type \"ls\", we do not specify the exact location of the \"ls\" executable. The exact path of the executable file that ls command invokes is given by `which`:"
   ]
  },
  {
   "cell_type": "code",
   "execution_count": null,
   "id": "b8bb58b9-c25d-4e1b-95c1-fa42a66afd8d",
   "metadata": {},
   "outputs": [],
   "source": [
    "tldr which"
   ]
  },
  {
   "cell_type": "code",
   "execution_count": null,
   "id": "cac33ff6-a06b-482c-a385-eb15e4b182a7",
   "metadata": {
    "kernel": "Bash"
   },
   "outputs": [],
   "source": [
    "which ls"
   ]
  },
  {
   "cell_type": "markdown",
   "id": "e326adc4-3b9d-48e4-9621-bc0a91ceac0c",
   "metadata": {
    "kernel": "Bash"
   },
   "source": [
    "To list the details of that file:"
   ]
  },
  {
   "cell_type": "code",
   "execution_count": null,
   "id": "cd4c709e-e966-46d8-8451-15610432694a",
   "metadata": {
    "kernel": "Bash"
   },
   "outputs": [],
   "source": [
    "ls -l `which ls`"
   ]
  },
  {
   "cell_type": "markdown",
   "id": "efb54d6f-a7cb-458d-b921-96ca9eded568",
   "metadata": {
    "kernel": "Bash"
   },
   "source": [
    "The backticks execute the command inside and provide the output as an argument. The same is done with:"
   ]
  },
  {
   "cell_type": "code",
   "execution_count": null,
   "id": "23bbfd9a-6299-45af-a972-0fb27eca47cc",
   "metadata": {
    "kernel": "Bash"
   },
   "outputs": [],
   "source": [
    "ls -l $(which ls)"
   ]
  },
  {
   "cell_type": "markdown",
   "id": "e4d436de-21db-4c3c-a32f-97f16c6323e5",
   "metadata": {
    "kernel": "Bash"
   },
   "source": [
    "\\$(...) notation executes the command inside and saves it as a temporary variable to be used as arguments"
   ]
  },
  {
   "cell_type": "markdown",
   "id": "e14a7dd3-b868-4db0-91d2-b031bedc5193",
   "metadata": {
    "kernel": "Bash"
   },
   "source": [
    "Apart from /bin/ls, for all ls executables in whole $PATH locations:"
   ]
  },
  {
   "cell_type": "code",
   "execution_count": null,
   "id": "2d625d1d-d4de-42d3-afab-d99d42b25684",
   "metadata": {
    "kernel": "Bash"
   },
   "outputs": [],
   "source": [
    "which -a ls"
   ]
  },
  {
   "cell_type": "markdown",
   "id": "f7323d73-72f3-4a2f-8f25-83bc4ca8ae2f",
   "metadata": {
    "kernel": "Bash"
   },
   "source": [
    "- Now let's define the path to data directory, just under the \\$HOME.\n",
    "- Note that we do not use the \"$\" when the variable is on the LHS to an assignment:"
   ]
  },
  {
   "cell_type": "code",
   "execution_count": null,
   "id": "a40ba4c2-576b-4f7a-a9fe-082e2334e9b4",
   "metadata": {
    "kernel": "Bash"
   },
   "outputs": [],
   "source": [
    "datadir=~/databb"
   ]
  },
  {
   "cell_type": "markdown",
   "id": "84a2e431-7298-4b74-8495-8a377d078372",
   "metadata": {
    "kernel": "Bash"
   },
   "source": [
    "Now let's check the value (with \"$\"):"
   ]
  },
  {
   "cell_type": "code",
   "execution_count": null,
   "id": "49b371e3-bab4-40bf-9759-2d0fb599032d",
   "metadata": {
    "kernel": "Bash"
   },
   "outputs": [],
   "source": [
    "echo $datadir\n",
    "ls $datadir"
   ]
  },
  {
   "cell_type": "markdown",
   "id": "1b33777b-e19d-4501-b72f-394ba6e66482",
   "metadata": {},
   "source": [
    "## column, head, tail commands"
   ]
  },
  {
   "cell_type": "markdown",
   "id": "70e2237c-f7e2-4eda-890c-a2082c1db4a6",
   "metadata": {},
   "source": [
    "To align tab separated columns, `column` is used:"
   ]
  },
  {
   "cell_type": "code",
   "execution_count": null,
   "id": "0294ae6c-4c45-45f8-8e71-917e6624d25b",
   "metadata": {},
   "outputs": [],
   "source": [
    "tldr column"
   ]
  },
  {
   "cell_type": "code",
   "execution_count": null,
   "id": "39b93077-fb4a-44c6-9767-a2e39fccb532",
   "metadata": {},
   "outputs": [],
   "source": [
    "cat ~/databb/csv/iris.tsv | column -t"
   ]
  },
  {
   "cell_type": "markdown",
   "id": "ddfd1df4-c5a3-47b2-b92d-8d89c641076d",
   "metadata": {},
   "source": [
    "To get only the first n lines use `head`:"
   ]
  },
  {
   "cell_type": "code",
   "execution_count": null,
   "id": "a074b2af-1fe2-4c6e-b43c-6dc488c69f4b",
   "metadata": {},
   "outputs": [],
   "source": [
    "tldr head"
   ]
  },
  {
   "cell_type": "code",
   "execution_count": null,
   "id": "677caba0-96dd-4e5b-a70d-1eaf8e192beb",
   "metadata": {},
   "outputs": [],
   "source": [
    "cat ~/databb/csv/iris.tsv | head -3 | column -t"
   ]
  },
  {
   "cell_type": "markdown",
   "id": "d85e14e4-99c7-4d0e-9971-65545df33b6a",
   "metadata": {},
   "source": [
    "To trim lines from the end:"
   ]
  },
  {
   "cell_type": "code",
   "execution_count": null,
   "id": "9c0f5da9-9cee-4812-af61-226930a62b65",
   "metadata": {},
   "outputs": [],
   "source": [
    "cat ~/databb/csv/iris.tsv | head -n-50 | column -t"
   ]
  },
  {
   "cell_type": "markdown",
   "id": "fbf0e78a-d94b-4575-aa68-8bd56c69dcca",
   "metadata": {},
   "source": [
    "To get only the last n lines, use `tail`:"
   ]
  },
  {
   "cell_type": "code",
   "execution_count": null,
   "id": "e319b786-fef9-40ae-bd79-bca26aabc642",
   "metadata": {},
   "outputs": [],
   "source": [
    "tldr tail"
   ]
  },
  {
   "cell_type": "code",
   "execution_count": null,
   "id": "3b8746e0-9810-412a-8156-d795d29a31d0",
   "metadata": {},
   "outputs": [],
   "source": [
    "cat ~/databb/csv/iris.tsv | tail -3 | column -t"
   ]
  },
  {
   "cell_type": "markdown",
   "id": "ac2a8067-7808-4a14-b819-92fabb52143f",
   "metadata": {},
   "source": [
    "To trim lines from the beginning:"
   ]
  },
  {
   "cell_type": "code",
   "execution_count": null,
   "id": "9f00b531-bb72-4b02-8278-a1a783a18af9",
   "metadata": {},
   "outputs": [],
   "source": [
    "cat ~/databb/csv/iris.tsv | tail -n+100 | column -t"
   ]
  },
  {
   "cell_type": "markdown",
   "id": "0e42f134-e009-4dea-9557-d318464eb370",
   "metadata": {},
   "source": [
    "## mkdir, cp, rm commands"
   ]
  },
  {
   "cell_type": "markdown",
   "id": "adc8d372-6776-42c2-8885-82ff709e3493",
   "metadata": {},
   "source": [
    "`mkdir` creates a new directory"
   ]
  },
  {
   "cell_type": "code",
   "execution_count": null,
   "id": "9deedcf1-796b-465c-95c6-6343fe9786ee",
   "metadata": {},
   "outputs": [],
   "source": [
    "tldr mkdir"
   ]
  },
  {
   "cell_type": "markdown",
   "id": "4fc031bc-1b7c-4755-8603-2ac61ee5580a",
   "metadata": {},
   "source": [
    "`-p` flag creates non-existing parents and do not return an error if the directories exist:"
   ]
  },
  {
   "cell_type": "code",
   "execution_count": null,
   "id": "806bb739-2f9e-4be9-a6f7-0d266fce4030",
   "metadata": {},
   "outputs": [],
   "source": [
    "mkdir -p ~/databb/temp/somenewfolder/childofsomenewfolder"
   ]
  },
  {
   "cell_type": "code",
   "execution_count": null,
   "id": "fac4cc82-6da7-4552-b429-622fd58eb09b",
   "metadata": {},
   "outputs": [],
   "source": [
    "ls ~/databb/temp/*/**"
   ]
  },
  {
   "cell_type": "markdown",
   "id": "07b8c6f5-316a-42ff-aa4d-edde9accfaf9",
   "metadata": {},
   "source": [
    "We can create a copy of a file (or directory) with copy"
   ]
  },
  {
   "cell_type": "code",
   "execution_count": null,
   "id": "85e68e01-e31b-4c9a-9018-b9ab4d2b3c98",
   "metadata": {
    "kernel": "Bash"
   },
   "outputs": [],
   "source": [
    "tldr cp"
   ]
  },
  {
   "cell_type": "code",
   "execution_count": null,
   "id": "072d3f67-c8f0-4f32-a785-1cd4b816854d",
   "metadata": {
    "kernel": "Bash"
   },
   "outputs": [],
   "source": [
    "cp -n ~/databb/csv/iris.tsv ~/databb/temp/iris3.tsv"
   ]
  },
  {
   "cell_type": "markdown",
   "id": "0e5b2540-10b8-4034-b891-8b3cbaee06e6",
   "metadata": {
    "kernel": "Bash"
   },
   "source": [
    "Note that \"n\" flag is \"no-clobber\" which stands for \"do not overwrite existing files\""
   ]
  },
  {
   "cell_type": "code",
   "execution_count": null,
   "id": "71ab78d0-f7bf-4542-84fd-73543b20f7b3",
   "metadata": {},
   "outputs": [],
   "source": [
    "ls ~/databb/temp"
   ]
  },
  {
   "cell_type": "markdown",
   "id": "cb70e163-f2fc-404c-a1ad-11386a092136",
   "metadata": {
    "kernel": "Bash"
   },
   "source": [
    "And we can remove a file or folder"
   ]
  },
  {
   "cell_type": "code",
   "execution_count": null,
   "id": "d388e5a1-09ea-437b-8137-519f75aec0e6",
   "metadata": {
    "kernel": "Bash"
   },
   "outputs": [],
   "source": [
    "tldr rm"
   ]
  },
  {
   "cell_type": "code",
   "execution_count": null,
   "id": "89452e5e-9889-4b0d-af7c-a7fa9d60db66",
   "metadata": {},
   "outputs": [],
   "source": [
    "rm ~/databb/temp/iris3.tsv"
   ]
  },
  {
   "cell_type": "code",
   "execution_count": null,
   "id": "0ae38b23-97ed-4815-88ee-8f0593183c40",
   "metadata": {},
   "outputs": [],
   "source": [
    "ls ~/databb/temp"
   ]
  },
  {
   "cell_type": "markdown",
   "id": "4d0dd5c2-9ae5-4a2d-b424-d05631892d01",
   "metadata": {},
   "source": [
    "To remove a directory `-r` flag must be passed:"
   ]
  },
  {
   "cell_type": "code",
   "execution_count": null,
   "id": "d3f495d3-3389-4a3b-a624-49ba5dda135c",
   "metadata": {},
   "outputs": [],
   "source": [
    "rm -r ~/databb/temp/somenewfolder"
   ]
  },
  {
   "cell_type": "code",
   "execution_count": null,
   "id": "b53f1314-746d-4566-a765-8c5be805e5e1",
   "metadata": {},
   "outputs": [],
   "source": [
    "ls ~/databb/temp"
   ]
  },
  {
   "cell_type": "markdown",
   "id": "ec7763d1-0a04-471e-bce2-c50f553a6874",
   "metadata": {},
   "source": [
    "## gzip, gunzip, sha256sum"
   ]
  },
  {
   "cell_type": "markdown",
   "id": "efe4cc7d-dbe2-4dab-bd89-11ec6655a359",
   "metadata": {},
   "source": [
    "A file can be compressed with `gzip`.\n",
    "\n",
    "To create a new gzip file at the location of the original file and keeping the original file:"
   ]
  },
  {
   "cell_type": "code",
   "execution_count": null,
   "id": "c9a36f0f-4692-417d-bf90-8958366037f8",
   "metadata": {
    "tags": []
   },
   "outputs": [],
   "source": [
    "tldr gzip"
   ]
  },
  {
   "cell_type": "markdown",
   "id": "0e36ee13-de8f-44c1-b84a-82027c044782",
   "metadata": {},
   "source": [
    "`yes` passes an answer to \"overwrite?\" question without waiting for user prompt:"
   ]
  },
  {
   "cell_type": "code",
   "execution_count": null,
   "id": "4d93009a-b892-4599-aece-c3020c9a6391",
   "metadata": {},
   "outputs": [],
   "source": [
    "cp -n ~/databb/csv/iris.tsv ~/databb/temp/iris.tsv"
   ]
  },
  {
   "cell_type": "code",
   "execution_count": null,
   "id": "d61063ee-5fa5-4fc9-9eae-d5fcb1e0a3cd",
   "metadata": {},
   "outputs": [],
   "source": [
    "yes n | gzip -k ~/databb/temp/iris.tsv"
   ]
  },
  {
   "cell_type": "code",
   "execution_count": null,
   "id": "c747c0f1-17a5-459a-b56c-1bb036c065c7",
   "metadata": {},
   "outputs": [],
   "source": [
    "ls ~/databb/temp"
   ]
  },
  {
   "cell_type": "markdown",
   "id": "b02a54bc-a0a2-48f3-81ac-be7df77f09fe",
   "metadata": {},
   "source": [
    "Or redirect the binary stream into a designated new filepath with `-c` flag:"
   ]
  },
  {
   "cell_type": "code",
   "execution_count": null,
   "id": "9125f6ff-51a1-43b9-9a17-78f567bd90c8",
   "metadata": {},
   "outputs": [],
   "source": [
    "gzip -c ~/databb/temp/iris.tsv > ~/databb/temp/iris2.tsv.gz"
   ]
  },
  {
   "cell_type": "markdown",
   "id": "230ec5e9-8a76-455f-b0be-5fcabcd0ee8d",
   "metadata": {},
   "source": [
    "To see whether the two files have exactly the same binary content, use `sha256sum`:"
   ]
  },
  {
   "cell_type": "code",
   "execution_count": null,
   "id": "d06544ff-30e9-4dec-9cbd-d7e727146fda",
   "metadata": {},
   "outputs": [],
   "source": [
    "tldr sha256sum"
   ]
  },
  {
   "cell_type": "code",
   "execution_count": null,
   "id": "568fcb1d-741f-4e48-a084-0895f882d7df",
   "metadata": {},
   "outputs": [],
   "source": [
    "sha256sum ~/databb/temp/iris.tsv.gz"
   ]
  },
  {
   "cell_type": "code",
   "execution_count": null,
   "id": "d540e3f9-49e1-48a0-b6ad-c105365681ea",
   "metadata": {},
   "outputs": [],
   "source": [
    "sha256sum ~/databb/temp/iris2.tsv.gz"
   ]
  },
  {
   "cell_type": "markdown",
   "id": "206fb8d3-35c8-448b-a7e5-08d025f85dc3",
   "metadata": {},
   "source": [
    "An decompress the compressed file discarding the original gzipped file:"
   ]
  },
  {
   "cell_type": "code",
   "execution_count": null,
   "id": "8699f734-30dc-417c-b704-e45d2225e897",
   "metadata": {},
   "outputs": [],
   "source": [
    "tldr gunzip"
   ]
  },
  {
   "cell_type": "code",
   "execution_count": null,
   "id": "34877a26-5fe6-4c6b-8b7b-e75e93fb45f3",
   "metadata": {},
   "outputs": [],
   "source": [
    "gunzip ~/databb/temp/iris2.tsv.gz"
   ]
  },
  {
   "cell_type": "code",
   "execution_count": null,
   "id": "c67fd9b1-de58-4cad-822b-b1f939cb2f5d",
   "metadata": {},
   "outputs": [],
   "source": [
    "ls ~/databb/temp"
   ]
  },
  {
   "cell_type": "markdown",
   "id": "30d5eb6d-1ec0-49bf-ad07-66dd71fc4ca7",
   "metadata": {},
   "source": [
    "Check again the files have exactly the same binary content:"
   ]
  },
  {
   "cell_type": "code",
   "execution_count": null,
   "id": "1ab4413f-17d5-4279-a9ad-3ef171d121d6",
   "metadata": {},
   "outputs": [],
   "source": [
    "sha256sum ~/databb/temp/iris.tsv"
   ]
  },
  {
   "cell_type": "code",
   "execution_count": null,
   "id": "4bf345e3-3e4f-4e3a-b2ee-0887f41e1991",
   "metadata": {},
   "outputs": [],
   "source": [
    "sha256sum ~/databb/temp/iris2.tsv"
   ]
  },
  {
   "cell_type": "markdown",
   "id": "cd953097-4393-4de2-8018-cb4b9abbe810",
   "metadata": {},
   "source": [
    "## less, zcat, zless commands"
   ]
  },
  {
   "cell_type": "markdown",
   "id": "7c5fafbe-eb2a-48e0-bee5-c6d6714f5a5f",
   "metadata": {},
   "source": [
    "In order to page through a text file (even a very large file) without overwhelming the memory use `less`, "
   ]
  },
  {
   "cell_type": "code",
   "execution_count": null,
   "id": "8754ac7d-65a7-40b0-bcdf-c8209f5ff4d0",
   "metadata": {
    "kernel": "Bash"
   },
   "outputs": [],
   "source": [
    "tldr less"
   ]
  },
  {
   "cell_type": "markdown",
   "id": "0b99947e-031b-441e-9103-af63d1dd1920",
   "metadata": {},
   "source": [
    "Since less is an interactive program, it cannot be used here on a jupyter notebook cell, we need a terminal screen.\n",
    "\n",
    "We direct the command to a screen session:"
   ]
  },
  {
   "cell_type": "code",
   "execution_count": null,
   "id": "e5a51966-3e28-4b1a-8650-6f92b63d3974",
   "metadata": {},
   "outputs": [],
   "source": [
    "scr=$(screen -ls | grep -P \"Attached\" | head -1 | grep -Po \"^\\t+.+?(?=\\s|\\t)\" | tr -d \"\\t\")\n",
    "screen -S $scr -X stuff \"less -N ~/databb/temp/iris.tsv\\n\""
   ]
  },
  {
   "cell_type": "markdown",
   "id": "5ec171b0-3ced-4419-be72-8e0b82bab3ac",
   "metadata": {},
   "source": [
    "Now check the terminal screen with screen command running on"
   ]
  },
  {
   "cell_type": "markdown",
   "id": "70cbfe83-df5a-43dd-91db-a3c504e57588",
   "metadata": {},
   "source": [
    "To get the contents of a gzipped file, use `zcat`"
   ]
  },
  {
   "cell_type": "code",
   "execution_count": null,
   "id": "02b7eff9-ebe7-4af9-914e-e9dc49b48408",
   "metadata": {},
   "outputs": [],
   "source": [
    "tldr zcat"
   ]
  },
  {
   "cell_type": "code",
   "execution_count": null,
   "id": "fe52e3b9-8eb1-4c56-a789-e7716b70e12f",
   "metadata": {},
   "outputs": [],
   "source": [
    "zcat ~/databb/temp/iris.tsv.gz | head -5 | column -t"
   ]
  },
  {
   "cell_type": "markdown",
   "id": "c3ad8504-41a5-4301-b47c-f9794c845451",
   "metadata": {},
   "source": [
    "And to page through a gzipped file on the terminal use `zless`"
   ]
  },
  {
   "cell_type": "markdown",
   "id": "127c6063-4c6e-4a1b-893a-0633910a3883",
   "metadata": {},
   "source": [
    "Since less is an interactive program, it cannot be used here on a jupyter notebook cell, we need a terminal screen.\n",
    "\n",
    "We direct the command to a screen session:"
   ]
  },
  {
   "cell_type": "code",
   "execution_count": null,
   "id": "69e8016f-7809-4564-b75e-6ebb5b8c7047",
   "metadata": {},
   "outputs": [],
   "source": [
    "tldr zless"
   ]
  },
  {
   "cell_type": "code",
   "execution_count": null,
   "id": "9b14f04a-24f1-4c2f-a15f-c15111a2c278",
   "metadata": {},
   "outputs": [],
   "source": [
    "scr=$(screen -ls | grep -P \"Attached\" | head -1 | grep -Po \"^\\t+.+?(?=\\s|\\t)\" | tr -d \"\\t\")\n",
    "screen -S $scr -X stuff \"zless -N ~/databb/temp/iris.tsv.gz\\n\""
   ]
  },
  {
   "cell_type": "markdown",
   "id": "9a967d1b-cc3f-46c4-bcb6-6855a672e38a",
   "metadata": {},
   "source": [
    "Now check the terminal screen with screen command running on"
   ]
  },
  {
   "cell_type": "markdown",
   "id": "ff32680c-dee4-420a-a5c1-0e36cf534eff",
   "metadata": {},
   "source": [
    "## numfmt command"
   ]
  },
  {
   "cell_type": "markdown",
   "id": "d3fd0f31-e15e-4779-963a-b857f7714f9b",
   "metadata": {},
   "source": [
    "`numfmt` formats numbers into a more human readable form:"
   ]
  },
  {
   "cell_type": "code",
   "execution_count": null,
   "id": "6a0ff5b5-c4cf-4399-a889-fbd083fcb4d9",
   "metadata": {
    "kernel": "Bash"
   },
   "outputs": [],
   "source": [
    "tldr numfmt"
   ]
  },
  {
   "cell_type": "code",
   "execution_count": null,
   "id": "5ddde60e-f489-4e4f-814f-7807e09eb2b7",
   "metadata": {
    "kernel": "Bash"
   },
   "outputs": [],
   "source": [
    "echo \"1000000000\" | numfmt --to=si"
   ]
  },
  {
   "cell_type": "markdown",
   "id": "c8e1bd96-9677-458d-bfcd-644c327e0b4e",
   "metadata": {},
   "source": [
    "## seq command"
   ]
  },
  {
   "cell_type": "markdown",
   "id": "7296306c-4e15-4ac7-99e7-a2d23e479f41",
   "metadata": {},
   "source": [
    "`seq` creates a sequence of numbers:"
   ]
  },
  {
   "cell_type": "code",
   "execution_count": null,
   "id": "5f3dec0f-74fd-4e26-8b22-3d8068b5feac",
   "metadata": {},
   "outputs": [],
   "source": [
    "seq 2 2 20"
   ]
  },
  {
   "cell_type": "markdown",
   "id": "6d0aa115-e9d3-4ac2-b4dc-22ba19c5c11b",
   "metadata": {},
   "source": [
    "## arithmetics with $((...))"
   ]
  },
  {
   "cell_type": "markdown",
   "id": "3eb55041-4fb3-44cd-be73-3c34bc675b84",
   "metadata": {},
   "source": [
    "You can do arithmetic operations on the spot:"
   ]
  },
  {
   "cell_type": "code",
   "execution_count": null,
   "id": "fc4da7b2-2031-43c4-9ee7-f3ff99902daf",
   "metadata": {},
   "outputs": [],
   "source": [
    "echo $((1 + 1))"
   ]
  },
  {
   "cell_type": "code",
   "execution_count": null,
   "id": "c87d328a-3ccf-4cbe-9d6b-bdaf931303f5",
   "metadata": {},
   "outputs": [],
   "source": [
    "echo $((2 ** 2))"
   ]
  },
  {
   "cell_type": "markdown",
   "id": "b827b2fc-7f1e-4e5e-a9ae-dfb8a6937937",
   "metadata": {},
   "source": [
    "## Capture the output with $(...) and \\`...\\`"
   ]
  },
  {
   "cell_type": "markdown",
   "id": "62e269dc-5c91-4597-8397-08db9ccad067",
   "metadata": {},
   "source": [
    "With these two notations output of commands can be embedded in other commands: "
   ]
  },
  {
   "cell_type": "code",
   "execution_count": null,
   "id": "0737b3b0-6e2f-4f32-aa54-1ed413a41952",
   "metadata": {},
   "outputs": [],
   "source": [
    "echo \"$(seq 2 2 20)\""
   ]
  },
  {
   "cell_type": "code",
   "execution_count": null,
   "id": "8c51b4dd-7267-435d-ae79-e1b92f7b97ca",
   "metadata": {},
   "outputs": [],
   "source": [
    "echo \"`seq 2 2 20`\""
   ]
  },
  {
   "cell_type": "markdown",
   "id": "e3e7dea6-ee2a-496a-9855-d54d9c3f7d22",
   "metadata": {},
   "source": [
    "## Process substitution with <(...)"
   ]
  },
  {
   "cell_type": "markdown",
   "id": "4ace14d1-4894-4b07-8ce1-676cc9c4e549",
   "metadata": {},
   "source": [
    "When a command does not support input from stdin but only reading a file, the output of a command can be treated as a file with process substitution:"
   ]
  },
  {
   "cell_type": "code",
   "execution_count": null,
   "id": "0c7bdbbc-4a68-4cb8-8676-b0c4319b2c2b",
   "metadata": {},
   "outputs": [],
   "source": [
    "cat <(seq 2 2 20)"
   ]
  },
  {
   "cell_type": "markdown",
   "id": "fcb1da96-268e-4b66-80fa-e99944a9417d",
   "metadata": {},
   "source": [
    "## Here Documents"
   ]
  },
  {
   "cell_type": "markdown",
   "id": "ab5df80b-885b-4a9f-be7e-7df4c8ed7fa1",
   "metadata": {},
   "source": [
    "Multi-line inputs can be read as if they are file contents using here documents.\n",
    "\n",
    "The start and end tags should be the same. While any tag can be used usually EOF, standing for \"end of file\", is preferrred."
   ]
  },
  {
   "cell_type": "code",
   "execution_count": null,
   "id": "1754b979-1125-42f6-adba-42811e87ed36",
   "metadata": {},
   "outputs": [],
   "source": [
    "cat <<EOF\n",
    "This is\n",
    "a\n",
    "multiline\n",
    "input\n",
    "EOF"
   ]
  },
  {
   "cell_type": "code",
   "execution_count": null,
   "id": "68eafc7d-acbc-4082-908a-fa4df8e17dfc",
   "metadata": {},
   "outputs": [],
   "source": [
    "cat <<anywordisok\n",
    "This is\n",
    "a\n",
    "multiline\n",
    "input\n",
    "anywordisok"
   ]
  },
  {
   "cell_type": "markdown",
   "id": "ccec76cc-e3c8-408f-a2a1-8f975513034d",
   "metadata": {},
   "source": [
    "## shuf command"
   ]
  },
  {
   "cell_type": "markdown",
   "id": "13143455-a8b8-4b07-8907-11265c32a39a",
   "metadata": {},
   "source": [
    "Randomly shuffle or sample from input:"
   ]
  },
  {
   "cell_type": "code",
   "execution_count": null,
   "id": "dabe4525-3c08-481f-a189-b0ba5c0a6978",
   "metadata": {},
   "outputs": [],
   "source": [
    "tldr shuf"
   ]
  },
  {
   "cell_type": "code",
   "execution_count": null,
   "id": "afb35a53-4b6a-4561-a748-9465b269947c",
   "metadata": {},
   "outputs": [],
   "source": [
    "seq 1 1 10 | shuf -n 5"
   ]
  },
  {
   "cell_type": "markdown",
   "id": "a405c4bd-bb45-436c-b47b-8084fb7842f4",
   "metadata": {},
   "source": [
    "## paste command"
   ]
  },
  {
   "cell_type": "markdown",
   "id": "2899d871-2dca-43ef-83f3-6819cc624f01",
   "metadata": {},
   "source": [
    "Combines contents of files or processes into multi column streams:"
   ]
  },
  {
   "cell_type": "code",
   "execution_count": null,
   "id": "baf83ca5-ecb7-460a-a1ec-01bb173b7d3e",
   "metadata": {},
   "outputs": [],
   "source": [
    "tldr paste"
   ]
  },
  {
   "cell_type": "code",
   "execution_count": null,
   "id": "535dda53-05e2-4fad-9d17-cab296d814f4",
   "metadata": {},
   "outputs": [],
   "source": [
    "paste <(seq 1 1 10) <(seq 2 2 20) -d \"\\t\""
   ]
  },
  {
   "cell_type": "markdown",
   "id": "0d94104f-5ae5-4728-9b6b-0fc8ca809b85",
   "metadata": {},
   "source": [
    "Or collapses values with a separator:"
   ]
  },
  {
   "cell_type": "code",
   "execution_count": null,
   "id": "6f58e313-a86e-431b-afcd-3e38875ad145",
   "metadata": {},
   "outputs": [],
   "source": [
    "seq 1 1 10 | paste -sd\"-\""
   ]
  },
  {
   "cell_type": "markdown",
   "id": "dc04ae90-437f-4944-9e31-02f8555a97fb",
   "metadata": {},
   "source": [
    "## bc command"
   ]
  },
  {
   "cell_type": "markdown",
   "id": "e3198d0c-a984-443a-be0b-9af7713d027a",
   "metadata": {},
   "source": [
    "Make arithmetic operations in interacative or batch mode:"
   ]
  },
  {
   "cell_type": "code",
   "execution_count": null,
   "id": "26096441-eb8e-4aaf-824c-00930d3978e3",
   "metadata": {},
   "outputs": [],
   "source": [
    "echo \"(10 / 2) + 3\" | bc"
   ]
  },
  {
   "cell_type": "code",
   "execution_count": null,
   "id": "b9a1db56-f1b4-4bf3-a179-37cf53ad91ca",
   "metadata": {},
   "outputs": [],
   "source": [
    "echo \"scale=3; (10 / 3) + 3\" | bc"
   ]
  },
  {
   "cell_type": "code",
   "execution_count": null,
   "id": "67bc63db-3b26-4167-8c09-34e114a56093",
   "metadata": {},
   "outputs": [],
   "source": [
    "seq 1 1 10 | paste -sd+ | bc"
   ]
  },
  {
   "cell_type": "markdown",
   "id": "0e397a14-ab9e-4dfb-9b91-0367b0d8f874",
   "metadata": {},
   "source": [
    "## comm command"
   ]
  },
  {
   "cell_type": "markdown",
   "id": "7ccda7f3-5b50-4fa7-9b2f-ec06190e1d58",
   "metadata": {},
   "source": [
    "Get common or different lines comparing two files or processes.\n",
    "\n",
    "Descriptors are:\n",
    "\n",
    "- 1 stands for lines unique to first file\n",
    "- 2 stands for lines unique to second file\n",
    "- 3 stands for lines common in both files\n",
    "\n",
    "\"-\" flag suppresses the descripted lines:"
   ]
  },
  {
   "cell_type": "code",
   "execution_count": null,
   "id": "8fc717c2-8710-4260-b95b-e36e236e5a1c",
   "metadata": {},
   "outputs": [],
   "source": [
    "tldr comm"
   ]
  },
  {
   "cell_type": "code",
   "execution_count": null,
   "id": "5c580291-ccc9-42e9-9b0d-b6915f065fa8",
   "metadata": {},
   "outputs": [],
   "source": [
    "comm -13 <(seq 1 1 10) <(seq 2 2 20) 2> /dev/null"
   ]
  },
  {
   "cell_type": "code",
   "execution_count": null,
   "id": "05485f01-c632-42a5-8712-ae9548acb9b1",
   "metadata": {},
   "outputs": [],
   "source": [
    "comm -23 <(seq 1 1 10) <(seq 2 2 20) 2> /dev/null"
   ]
  },
  {
   "cell_type": "code",
   "execution_count": null,
   "id": "e811c1f7-5a7d-49bf-b78b-666062661c09",
   "metadata": {},
   "outputs": [],
   "source": [
    "comm -12 <(seq 1 1 10) <(seq 2 2 20) 2> /dev/null"
   ]
  },
  {
   "cell_type": "markdown",
   "id": "a38dc5ba-fa4b-48ec-801d-489489b2d54e",
   "metadata": {},
   "source": [
    "## printf command"
   ]
  },
  {
   "cell_type": "markdown",
   "id": "b2fc8658-27c8-4f31-ba6a-c549e88f84ff",
   "metadata": {},
   "source": [
    "`printf` provides a better and more fine tuned control over printing of text as compared to echo:"
   ]
  },
  {
   "cell_type": "code",
   "execution_count": null,
   "id": "f33b8d24-d01b-49a2-a617-c3a33d0233cf",
   "metadata": {},
   "outputs": [],
   "source": [
    "tldr printf"
   ]
  },
  {
   "cell_type": "code",
   "execution_count": null,
   "id": "d2f5e21c-36cb-4f16-b561-8fb50ca8d923",
   "metadata": {},
   "outputs": [],
   "source": [
    "printf \"%02d\\n\" `seq 2 2 20`"
   ]
  },
  {
   "cell_type": "markdown",
   "id": "4a543414-b186-4574-86e8-691e0090d428",
   "metadata": {},
   "source": [
    "## find command"
   ]
  },
  {
   "cell_type": "markdown",
   "id": "3353cffe-7728-4e42-9943-533babd77716",
   "metadata": {},
   "source": [
    "`find` is a very powerful command to find files and directories with many arguments and also provide the ability to execute commands on the results:"
   ]
  },
  {
   "cell_type": "code",
   "execution_count": null,
   "id": "f2e3b39d-fee8-4130-b935-f98aa6c36dc6",
   "metadata": {},
   "outputs": [],
   "source": [
    "tldr find"
   ]
  },
  {
   "cell_type": "markdown",
   "id": "4cb072c2-1d98-45f2-8a18-6df78b6f3d3b",
   "metadata": {},
   "source": [
    "Find only files (not directories) under the current directory at at most 2 depths of directory recursion and modified in the last 5 minutes and calculate the number of lines in these files:"
   ]
  },
  {
   "cell_type": "code",
   "execution_count": null,
   "id": "039e5843-c128-40d2-aa06-b8e2deb106ac",
   "metadata": {},
   "outputs": [],
   "source": [
    "find . -maxdepth 2 -type f -name \"*.ipynb\" -mmin -5 -exec wc -l \"{}\" \\;"
   ]
  },
  {
   "cell_type": "markdown",
   "id": "6e0b9812-06f7-457e-b791-bde861e609e4",
   "metadata": {},
   "source": [
    "## xargs, parallel commands"
   ]
  },
  {
   "cell_type": "markdown",
   "id": "2d5e79ff-70c8-41c4-9f1a-4023ff385bc8",
   "metadata": {},
   "source": [
    "`xargs` is like the `sapply` function in R: It creates an implicit loop on the inputs:"
   ]
  },
  {
   "cell_type": "code",
   "execution_count": null,
   "id": "471facba-b3af-4761-ba91-889c203648df",
   "metadata": {},
   "outputs": [],
   "source": [
    "tldr xargs"
   ]
  },
  {
   "cell_type": "code",
   "execution_count": null,
   "id": "e41696cb-12ae-4275-97dd-7304c8527a28",
   "metadata": {},
   "outputs": [],
   "source": [
    "find . -maxdepth 2 -type f -name \"*.ipynb\" -mmin -5"
   ]
  },
  {
   "cell_type": "code",
   "execution_count": null,
   "id": "b96e9c46-8d14-442c-8b0a-95e67226b1ad",
   "metadata": {},
   "outputs": [],
   "source": [
    "find . -maxdepth 2 -type f -name \"*.ipynb\" -mmin -5 | xargs -i wc -l \"{}\""
   ]
  },
  {
   "cell_type": "markdown",
   "id": "a5b9e1ce-cc3f-4cf1-a0ee-778ab28d890e",
   "metadata": {},
   "source": [
    "`parallel` works in a similar way but can execute in multiple parallel thread for better performance.\n",
    "\n",
    "Find the files, print the names of files, count the number of lines and print in human-readable format:"
   ]
  },
  {
   "cell_type": "code",
   "execution_count": null,
   "id": "dfa142bd-d128-477f-98b3-43edb675430f",
   "metadata": {},
   "outputs": [],
   "source": [
    "find . -maxdepth 2 -type f -name \"*.ipynb\" -mmin -5 | \\\n",
    "    parallel -k -j0 'printf \"%s\\t\" {}; cat {} | wc -l | numfmt --to=si' | \\\n",
    "    column -t"
   ]
  },
  {
   "cell_type": "markdown",
   "id": "1105ef73-369a-4e5b-966f-fa9a3e779891",
   "metadata": {},
   "source": [
    "## grep command"
   ]
  },
  {
   "cell_type": "markdown",
   "id": "24aca493-ef97-433d-a348-fe9e8c8e85ad",
   "metadata": {},
   "source": [
    "`grep` finds patterns in files with regex and is one of the most powerful commands in the Unix toolset:"
   ]
  },
  {
   "cell_type": "code",
   "execution_count": null,
   "id": "8773c826-b9ba-478f-b82d-db261fb82d6d",
   "metadata": {},
   "outputs": [],
   "source": [
    "tldr grep"
   ]
  },
  {
   "cell_type": "markdown",
   "id": "ee21edfe-b663-484f-b580-b855517a42ed",
   "metadata": {},
   "source": [
    "Return lines that start with 5:"
   ]
  },
  {
   "cell_type": "code",
   "execution_count": null,
   "id": "584bfdad-9bc2-42b3-af00-8e10cfeec161",
   "metadata": {},
   "outputs": [],
   "source": [
    "grep -P \"^5\" ~/databb/csv/iris.tsv"
   ]
  },
  {
   "cell_type": "markdown",
   "id": "36dbe243-113c-4ebf-b2fe-acea5c275caf",
   "metadata": {},
   "source": [
    "Return the patterns with 5 followed by any number of digits at the beginning of the lines:"
   ]
  },
  {
   "cell_type": "code",
   "execution_count": null,
   "id": "454624f5-d7d8-494b-b840-d24af0bd1f26",
   "metadata": {},
   "outputs": [],
   "source": [
    "grep -Po \"^5\\\\d*\" ~/databb/csv/iris.tsv"
   ]
  },
  {
   "cell_type": "markdown",
   "id": "3de328a8-f3a8-4d2f-902e-9580176e3d8f",
   "metadata": {},
   "source": [
    "## awk command"
   ]
  },
  {
   "cell_type": "markdown",
   "id": "d2422dea-b9d4-4087-b050-2ecd0bb00884",
   "metadata": {},
   "source": [
    "`awk` can make columnwise operations on text streams, so it is a simple and Bash version of data.table:"
   ]
  },
  {
   "cell_type": "code",
   "execution_count": null,
   "id": "75dfa490-30fd-4e94-9d63-106c5e023932",
   "metadata": {},
   "outputs": [],
   "source": [
    "tldr awk"
   ]
  },
  {
   "cell_type": "markdown",
   "id": "349757ac-28f6-46f7-b3cb-2426e4d9f6a0",
   "metadata": {},
   "source": [
    "Return the whole lines where the second column is larger than 5"
   ]
  },
  {
   "cell_type": "code",
   "execution_count": null,
   "id": "f32b034a-0b13-4c41-b1af-f7e1078826e0",
   "metadata": {},
   "outputs": [],
   "source": [
    "awk -F \"\\t\" '$2 > 5 {print $0}' ~/databb/csv/iris.tsv"
   ]
  },
  {
   "cell_type": "markdown",
   "id": "e466712c-e087-4fd8-8264-2aaeb9d881ed",
   "metadata": {},
   "source": [
    "## sed command"
   ]
  },
  {
   "cell_type": "markdown",
   "id": "36a63676-cccf-4a6e-88b1-3f6922e1b6b0",
   "metadata": {},
   "source": [
    "`sed` is like grep but has many additional capabilities like substituting patterns, deleting, inserting and appending lines and combining pattern search and those operations:"
   ]
  },
  {
   "cell_type": "markdown",
   "id": "0b5c28ad-3d8a-4cf0-a3ba-222c280becd2",
   "metadata": {},
   "source": [
    "Add xxx in front of the last word of the lines which start with 1:"
   ]
  },
  {
   "cell_type": "code",
   "execution_count": null,
   "id": "2b3dd161-1662-4b91-a323-34433fe3e16a",
   "metadata": {},
   "outputs": [],
   "source": [
    "sed '/^1/ s/\\(\\w\\+\\)$/xxx\\1/g' ~/databb/csv/iris.tsv"
   ]
  },
  {
   "cell_type": "markdown",
   "id": "06e53bfa-2043-4a61-9fd7-5455ee7d58d1",
   "metadata": {},
   "source": [
    "## sort, uniq commands"
   ]
  },
  {
   "cell_type": "markdown",
   "id": "c3de7989-5129-4f8d-b78e-fff5df039f0c",
   "metadata": {},
   "source": [
    "`sort` does what it does with some options:"
   ]
  },
  {
   "cell_type": "markdown",
   "id": "c51c99b3-825f-44b7-8712-04a47b0cf065",
   "metadata": {},
   "source": [
    "## tr command"
   ]
  },
  {
   "cell_type": "markdown",
   "id": "9a1e7c1c-17fe-44a0-8c0a-6fb72483bfa2",
   "metadata": {},
   "source": [
    "`tr` changes, deletes or squeeze all instances of a single character:"
   ]
  },
  {
   "cell_type": "code",
   "execution_count": null,
   "id": "8da1ee60-fbed-4d97-b79d-86a4b7e63eb7",
   "metadata": {},
   "outputs": [],
   "source": [
    "tldr tr"
   ]
  },
  {
   "cell_type": "markdown",
   "id": "7642883c-4ee4-451e-a8ae-17c1f213a216",
   "metadata": {},
   "source": [
    "Change 2 and 1 with 0:"
   ]
  },
  {
   "cell_type": "code",
   "execution_count": null,
   "id": "0f9afcf5-894d-4be4-9753-e6c3e411b1e4",
   "metadata": {},
   "outputs": [],
   "source": [
    "seq 2 2 20 | tr 2 0 | tr 1 0"
   ]
  },
  {
   "cell_type": "markdown",
   "id": "239d0a0a-4792-4ae4-a224-478f19e38545",
   "metadata": {},
   "source": [
    "Delete all zeros:"
   ]
  },
  {
   "cell_type": "code",
   "execution_count": null,
   "id": "fe2b65d2-e0a4-4828-8309-b9d89dd543cc",
   "metadata": {},
   "outputs": [],
   "source": [
    "seq 2 2 20 | tr 2 0 | tr 1 0 | tr -d 0"
   ]
  },
  {
   "cell_type": "markdown",
   "id": "de75be92-c4ac-43b1-b4cc-5c89872f510b",
   "metadata": {},
   "source": [
    "Squeeze all zeros:"
   ]
  },
  {
   "cell_type": "code",
   "execution_count": null,
   "id": "09e5c8b8-a0e6-4aa1-9e91-6fdfc9c5387e",
   "metadata": {},
   "outputs": [],
   "source": [
    "seq 2 2 20 | tr 2 0 | tr 1 0 | tr -s 0"
   ]
  },
  {
   "cell_type": "markdown",
   "id": "86ad7bbe-95ed-498b-b9ff-9c950ceba5ae",
   "metadata": {},
   "source": [
    "## sort command"
   ]
  },
  {
   "cell_type": "code",
   "execution_count": null,
   "id": "6e634659-05c7-47f0-8fa8-de1dace41e38",
   "metadata": {
    "kernel": "Bash"
   },
   "outputs": [],
   "source": [
    "tldr sort"
   ]
  },
  {
   "cell_type": "markdown",
   "id": "92c78e8e-093b-4994-9f73-362a6087b635",
   "metadata": {},
   "source": [
    "Reverse sort in alphanumeric order:"
   ]
  },
  {
   "cell_type": "code",
   "execution_count": null,
   "id": "d6015dd6-356b-4c3d-bae2-9746271b8dac",
   "metadata": {},
   "outputs": [],
   "source": [
    "seq 2 2 20 | sort -n"
   ]
  },
  {
   "cell_type": "markdown",
   "id": "75503b03-fc6b-4b87-a24d-ce735c68ef67",
   "metadata": {},
   "source": [
    "Reverse sort in numeric order:"
   ]
  },
  {
   "cell_type": "code",
   "execution_count": null,
   "id": "5dc6592b-2366-46e2-892a-3f4e968feb4c",
   "metadata": {},
   "outputs": [],
   "source": [
    "seq 2 2 20 | sort -nr"
   ]
  },
  {
   "cell_type": "markdown",
   "id": "d785ee80-faf7-43ea-bc98-b252fcda92ef",
   "metadata": {},
   "source": [
    "Sort and return unique values:"
   ]
  },
  {
   "cell_type": "code",
   "execution_count": null,
   "id": "88416f0c-db50-4e81-823e-c5fe7b82607b",
   "metadata": {},
   "outputs": [],
   "source": [
    "seq 2 2 20 | tr 2 0 | tr 1 0 | sort -u"
   ]
  },
  {
   "cell_type": "markdown",
   "id": "28da46f6-d465-4679-98f3-c578d0341e0c",
   "metadata": {},
   "source": [
    "## uniq command"
   ]
  },
  {
   "cell_type": "markdown",
   "id": "66e1230c-a46d-4b7f-9ae9-8d8ab3d88e5b",
   "metadata": {},
   "source": [
    "`uniq` returns unique values from sorted streams, and can also return the frequencies of those values:"
   ]
  },
  {
   "cell_type": "code",
   "execution_count": null,
   "id": "f2a9451f-351d-464b-84f1-a309b4dd4049",
   "metadata": {
    "kernel": "Bash"
   },
   "outputs": [],
   "source": [
    "tldr uniq"
   ]
  },
  {
   "cell_type": "code",
   "execution_count": null,
   "id": "323eb51c-2bdc-4a92-8b21-ff81abc232be",
   "metadata": {},
   "outputs": [],
   "source": [
    "seq 2 2 20 | tr 2 0 | tr 1 0 | sort | uniq -c"
   ]
  },
  {
   "cell_type": "markdown",
   "id": "7c6403fa-82d9-4f08-9fa3-2a4aa344633e",
   "metadata": {},
   "source": [
    "## curl"
   ]
  },
  {
   "cell_type": "markdown",
   "id": "b49211ab-3fe4-4d9f-9e73-da1f6f323a1f",
   "metadata": {},
   "source": [
    "`curl` can send any kind of HTTP request and get its response.\n",
    "\n",
    "In short it can simulate every kind of traffic that passes through a browser:"
   ]
  },
  {
   "cell_type": "code",
   "execution_count": null,
   "id": "5e8a2fe3-8f60-4459-900e-d168e01d5de0",
   "metadata": {},
   "outputs": [],
   "source": [
    "tldr curl"
   ]
  },
  {
   "cell_type": "markdown",
   "id": "eeb64f0a-6d46-4a78-827d-1c3dd266630f",
   "metadata": {},
   "source": [
    "Get the public ip:"
   ]
  },
  {
   "cell_type": "code",
   "execution_count": null,
   "id": "3ed471bf-b1d2-482f-b3b7-a3a6db352b67",
   "metadata": {},
   "outputs": [],
   "source": [
    "curl ipecho.net/plain"
   ]
  },
  {
   "cell_type": "markdown",
   "id": "c44d61e6-6fa3-4a97-871d-159ff2397689",
   "metadata": {},
   "source": [
    "# Programming structures"
   ]
  },
  {
   "cell_type": "markdown",
   "id": "e36cd35e-32b4-4df3-bdcf-b9e04a1d253e",
   "metadata": {
    "kernel": "Bash"
   },
   "source": [
    "## for loop"
   ]
  },
  {
   "cell_type": "markdown",
   "id": "fd539218-1baa-4ba1-a296-399acacb8776",
   "metadata": {
    "kernel": "Bash"
   },
   "source": [
    "Repeat the same action on multiple inputs"
   ]
  },
  {
   "cell_type": "code",
   "execution_count": null,
   "id": "14a14c1d-88b3-43bf-860f-1432f8b54736",
   "metadata": {
    "kernel": "Bash"
   },
   "outputs": [],
   "source": [
    "for i in ~/databb/*;\n",
    "do\n",
    "    ls -l $i\n",
    "done"
   ]
  },
  {
   "cell_type": "markdown",
   "id": "0291640d-a753-469e-ab5a-379d6efeecd2",
   "metadata": {
    "kernel": "Bash"
   },
   "source": [
    "## while loop"
   ]
  },
  {
   "cell_type": "markdown",
   "id": "730a527a-17fd-4006-ac73-a05ac27260a7",
   "metadata": {
    "kernel": "Bash"
   },
   "source": [
    "Repeats an action as long as a logical condition holds true "
   ]
  },
  {
   "cell_type": "code",
   "execution_count": null,
   "id": "039ad624-750f-42ea-8cf1-2b9ca912957b",
   "metadata": {
    "kernel": "Bash"
   },
   "outputs": [],
   "source": [
    "i=0\n",
    "\n",
    "while [ $i -lt 10 ]; # means while i is less than 10\n",
    "do\n",
    "    echo $i;\n",
    "    i=$(( $i + 1 )) # that is for an arithmetic operation for incrementing\n",
    "done"
   ]
  },
  {
   "cell_type": "markdown",
   "id": "669d762a-fc97-4675-b194-67428cd7aad4",
   "metadata": {
    "kernel": "Bash"
   },
   "source": [
    "## if.. else"
   ]
  },
  {
   "cell_type": "markdown",
   "id": "0caaf82e-15b5-40e8-bbe8-27aa0ec37434",
   "metadata": {
    "kernel": "Bash"
   },
   "source": [
    "To test a condition and make an action on the result"
   ]
  },
  {
   "cell_type": "code",
   "execution_count": null,
   "id": "3ad58c90-f597-407f-bff4-b79f1952afbf",
   "metadata": {
    "kernel": "Bash"
   },
   "outputs": [],
   "source": [
    "if [[ 1 == 1 ]];\n",
    "then\n",
    "    echo \"they are equal\";\n",
    "else\n",
    "    echo \"they are not equal\";\n",
    "fi"
   ]
  },
  {
   "cell_type": "code",
   "execution_count": null,
   "id": "687e1486-c564-4554-8872-f626c70cc5e0",
   "metadata": {
    "kernel": "Bash"
   },
   "outputs": [],
   "source": [
    "if [[ 1 == 2 ]];\n",
    "then\n",
    "    echo \"they are equal\";\n",
    "else\n",
    "    echo \"they are not equal\";\n",
    "fi"
   ]
  },
  {
   "cell_type": "markdown",
   "id": "76c33395-6688-469f-a17b-8346f6ef322f",
   "metadata": {},
   "source": [
    "## shell functions"
   ]
  },
  {
   "cell_type": "markdown",
   "id": "6851599f-611b-495b-a57e-7f4089478b54",
   "metadata": {},
   "source": [
    "Create a function similar to function in R, which takes arguments and return values. Note that arguments are referred to by position:"
   ]
  },
  {
   "cell_type": "code",
   "execution_count": null,
   "id": "92f9f194-d214-4207-8705-cfe9cc3225ff",
   "metadata": {},
   "outputs": [],
   "source": [
    "exists()  if [ -e $1 ]; then echo \"true\"; else echo \"false\"; fi"
   ]
  },
  {
   "cell_type": "code",
   "execution_count": null,
   "id": "1d6532c4-c2d8-401f-9840-682feaca377c",
   "metadata": {},
   "outputs": [],
   "source": [
    "exists ~/databb/csv/iris.tsv"
   ]
  },
  {
   "cell_type": "code",
   "execution_count": null,
   "id": "32dc9d30-20f2-4aec-83c8-38b1512745d1",
   "metadata": {},
   "outputs": [],
   "source": [
    "exists ~/databb/csv/iris5.tsv"
   ]
  },
  {
   "cell_type": "markdown",
   "id": "21d18e46-f74c-4b71-80c5-ccf5a103670f",
   "metadata": {},
   "source": [
    "# Arrays"
   ]
  },
  {
   "cell_type": "markdown",
   "id": "3d90f5a6-2024-4837-b36d-a250d8e20264",
   "metadata": {},
   "source": [
    "Arrays store and retrieve indexed values. Array indices start from 0 in Bash:"
   ]
  },
  {
   "cell_type": "markdown",
   "id": "2f89f42b-96ed-46a5-ae35-14f915557c9a",
   "metadata": {},
   "source": [
    "## Creating a new array"
   ]
  },
  {
   "cell_type": "markdown",
   "id": "e967f76e-b926-42be-bb0f-a3d910c01f0d",
   "metadata": {},
   "source": [
    "Hardcoding values:"
   ]
  },
  {
   "cell_type": "code",
   "execution_count": null,
   "id": "db7981ae-cdfb-4cd0-8e07-53974d32568f",
   "metadata": {},
   "outputs": [],
   "source": [
    "array1=( 1 2 3 )"
   ]
  },
  {
   "cell_type": "markdown",
   "id": "28f75555-a181-40b5-9d94-7578c7729b2f",
   "metadata": {},
   "source": [
    "Or capture the output of a command:"
   ]
  },
  {
   "cell_type": "code",
   "execution_count": null,
   "id": "3428da7e-bee0-402d-9b22-2e0a8b54c8b1",
   "metadata": {},
   "outputs": [],
   "source": [
    "array2=( $(seq 1 1 10) )"
   ]
  },
  {
   "cell_type": "markdown",
   "id": "5878003f-c764-4db6-89e8-e435ada355c2",
   "metadata": {},
   "source": [
    "Using readarray command:"
   ]
  },
  {
   "cell_type": "code",
   "execution_count": null,
   "id": "decf9b76-1b18-4cf5-bb9c-1a7cb86f5882",
   "metadata": {},
   "outputs": [],
   "source": [
    "readarray array3 < <(seq 2 2 20)"
   ]
  },
  {
   "cell_type": "markdown",
   "id": "345cbad4-121d-4cac-8feb-b5529fd3e92b",
   "metadata": {},
   "source": [
    "From multiline input with heredoc and readarray:"
   ]
  },
  {
   "cell_type": "code",
   "execution_count": null,
   "id": "f732e57e-1c5f-4c44-87f3-c535e84b02a6",
   "metadata": {},
   "outputs": [],
   "source": [
    "readarray array4 <<EOF\n",
    "3\n",
    "5\n",
    "7\n",
    "9\n",
    "EOF"
   ]
  },
  {
   "cell_type": "markdown",
   "id": "69d30af5-965b-4fa4-98a0-06943e0d42c9",
   "metadata": {},
   "source": [
    "Or converting an existing variable into an array ..."
   ]
  },
  {
   "cell_type": "code",
   "execution_count": null,
   "id": "28331889-8c95-4a46-9ded-24fd785d1dae",
   "metadata": {},
   "outputs": [],
   "source": [
    "var1=$(seq 2 2 20)"
   ]
  },
  {
   "cell_type": "code",
   "execution_count": null,
   "id": "43728a25-6a93-406e-9940-faf4d2cff65c",
   "metadata": {},
   "outputs": [],
   "source": [
    "echo \"$var1\""
   ]
  },
  {
   "cell_type": "markdown",
   "id": "71a479a5-3236-4633-97ea-af03a112f82a",
   "metadata": {},
   "source": [
    "... by capturing the echo:"
   ]
  },
  {
   "cell_type": "code",
   "execution_count": null,
   "id": "f14bb2c6-e52c-4be7-8238-7ce8fdff5c8d",
   "metadata": {},
   "outputs": [],
   "source": [
    "array5=( $(echo \"$var1\") )"
   ]
  },
  {
   "cell_type": "markdown",
   "id": "ad9291e7-f4b5-4b28-8a69-c44438b26793",
   "metadata": {},
   "source": [
    "... or using readarray:"
   ]
  },
  {
   "cell_type": "code",
   "execution_count": null,
   "id": "d2867df5-b5f5-4472-ac55-f876d754ba19",
   "metadata": {},
   "outputs": [],
   "source": [
    "readarray array6 < <(echo \"$var1\")"
   ]
  },
  {
   "cell_type": "markdown",
   "id": "9c9190e4-e94c-4bc6-9263-adb3835e1532",
   "metadata": {},
   "source": [
    "## Get the length of arrays"
   ]
  },
  {
   "cell_type": "code",
   "execution_count": null,
   "id": "d3d17027-8e92-446e-af5a-81776d5737de",
   "metadata": {},
   "outputs": [],
   "source": [
    "echo ${#array1[@]}"
   ]
  },
  {
   "cell_type": "code",
   "execution_count": null,
   "id": "1a1ce94f-7ed9-4e4c-9346-b15d494fd5f5",
   "metadata": {},
   "outputs": [],
   "source": [
    "echo ${#array2[@]}"
   ]
  },
  {
   "cell_type": "code",
   "execution_count": null,
   "id": "6d6a8066-5cda-40c2-8327-e217249ba66f",
   "metadata": {},
   "outputs": [],
   "source": [
    "echo ${#array3[@]}"
   ]
  },
  {
   "cell_type": "code",
   "execution_count": null,
   "id": "9ae9ca39-8092-4a3e-9a9e-8f245222e776",
   "metadata": {},
   "outputs": [],
   "source": [
    "echo ${#array4[@]}"
   ]
  },
  {
   "cell_type": "code",
   "execution_count": null,
   "id": "1bcc3cda-748f-4b41-8b14-eab88a1fa529",
   "metadata": {},
   "outputs": [],
   "source": [
    "echo ${#array5[@]}"
   ]
  },
  {
   "cell_type": "code",
   "execution_count": null,
   "id": "7496859f-9e41-40f0-80b8-074eebf32584",
   "metadata": {},
   "outputs": [],
   "source": [
    "echo ${#array6[@]}"
   ]
  },
  {
   "cell_type": "markdown",
   "id": "4d9b21d5-1689-4408-8c05-1ae1a6302004",
   "metadata": {},
   "source": [
    "## Print all values of an array"
   ]
  },
  {
   "cell_type": "code",
   "execution_count": null,
   "id": "cb42fc6f-6cc3-47fb-b127-51331071557c",
   "metadata": {},
   "outputs": [],
   "source": [
    "echo \"${array1[*]}\""
   ]
  },
  {
   "cell_type": "code",
   "execution_count": null,
   "id": "58e4a69b-734a-49b4-9a6a-bc196e708c15",
   "metadata": {},
   "outputs": [],
   "source": [
    "echo \"${array2[*]}\""
   ]
  },
  {
   "cell_type": "code",
   "execution_count": null,
   "id": "171619f1-6ce3-47fa-a650-04d22c8e198f",
   "metadata": {},
   "outputs": [],
   "source": [
    "echo \"${array3[*]}\""
   ]
  },
  {
   "cell_type": "code",
   "execution_count": null,
   "id": "62b1eaac-60f0-4547-beab-cfd3c2d7dabb",
   "metadata": {},
   "outputs": [],
   "source": [
    "echo \"${array4[*]}\""
   ]
  },
  {
   "cell_type": "code",
   "execution_count": null,
   "id": "0da36335-1739-4d35-a381-e67dc3e274de",
   "metadata": {},
   "outputs": [],
   "source": [
    "echo \"${array5[*]}\""
   ]
  },
  {
   "cell_type": "code",
   "execution_count": null,
   "id": "1ddd4c6a-9341-410e-aebb-fbb2e1c3373a",
   "metadata": {},
   "outputs": [],
   "source": [
    "echo \"${array6[*]}\""
   ]
  },
  {
   "cell_type": "markdown",
   "id": "59cba385-c7d4-427a-8236-7e4620145a36",
   "metadata": {},
   "source": [
    "## Get indices to iterate"
   ]
  },
  {
   "cell_type": "code",
   "execution_count": null,
   "id": "1cee69f2-3a07-4e1b-8146-e81e52243c82",
   "metadata": {},
   "outputs": [],
   "source": [
    "echo ${!array1[@]}"
   ]
  },
  {
   "cell_type": "code",
   "execution_count": null,
   "id": "95c735c2-1f38-4170-86d5-0ac56e3ecafa",
   "metadata": {},
   "outputs": [],
   "source": [
    "echo ${!array2[@]}"
   ]
  },
  {
   "cell_type": "code",
   "execution_count": null,
   "id": "6d84d81e-6c8e-43bd-9df9-eb44c197f466",
   "metadata": {},
   "outputs": [],
   "source": [
    "echo ${!array3[@]}"
   ]
  },
  {
   "cell_type": "code",
   "execution_count": null,
   "id": "100bc06c-0c78-46b5-a320-0a7992088e3b",
   "metadata": {},
   "outputs": [],
   "source": [
    "echo ${!array4[@]}"
   ]
  },
  {
   "cell_type": "code",
   "execution_count": null,
   "id": "4b948fd0-74d4-478f-8a91-9302ec800069",
   "metadata": {},
   "outputs": [],
   "source": [
    "echo ${!array5[@]}"
   ]
  },
  {
   "cell_type": "code",
   "execution_count": null,
   "id": "752756a4-f701-4214-9298-6e2cdecd6175",
   "metadata": {},
   "outputs": [],
   "source": [
    "echo ${!array6[@]}"
   ]
  },
  {
   "cell_type": "markdown",
   "id": "5ea26604-6b95-42d3-87c8-0f871cc80cfc",
   "metadata": {},
   "source": [
    "## Get an indexed value"
   ]
  },
  {
   "cell_type": "code",
   "execution_count": null,
   "id": "7676c1d8-f0fa-4b14-ba5c-500a4b6f2b83",
   "metadata": {},
   "outputs": [],
   "source": [
    "echo ${array1[0]}"
   ]
  },
  {
   "cell_type": "code",
   "execution_count": null,
   "id": "7b5d5844-ffd7-4f5c-8b64-8891f5c2d7a7",
   "metadata": {},
   "outputs": [],
   "source": [
    "echo ${array2[2]}"
   ]
  },
  {
   "cell_type": "code",
   "execution_count": null,
   "id": "c1f899a8-d3da-4262-8587-6e5b55d715c8",
   "metadata": {},
   "outputs": [],
   "source": [
    "echo ${array3[1]}"
   ]
  },
  {
   "cell_type": "code",
   "execution_count": null,
   "id": "7035dceb-7a7f-4271-ab04-396596ce19bd",
   "metadata": {},
   "outputs": [],
   "source": [
    "echo ${array4[3]}"
   ]
  },
  {
   "cell_type": "code",
   "execution_count": null,
   "id": "3d0bcd82-8526-42b3-9225-894bd309348a",
   "metadata": {},
   "outputs": [],
   "source": [
    "echo ${array5[5]}"
   ]
  },
  {
   "cell_type": "code",
   "execution_count": null,
   "id": "9637f5d2-7200-45ed-ad33-ace3612cd227",
   "metadata": {},
   "outputs": [],
   "source": [
    "echo ${array6[4]}"
   ]
  },
  {
   "cell_type": "markdown",
   "id": "935e69c7-5573-40ea-a309-3240de74864c",
   "metadata": {},
   "source": [
    "## Loop through array values"
   ]
  },
  {
   "cell_type": "code",
   "execution_count": null,
   "id": "5ce8c66e-32c6-4647-a66b-ff38244bfa2a",
   "metadata": {},
   "outputs": [],
   "source": [
    "for value in ${array1[*]};\n",
    "do\n",
    "    echo $(( $value + 1 ));\n",
    "done"
   ]
  },
  {
   "cell_type": "code",
   "execution_count": null,
   "id": "4eb86c3c-fec7-440f-8553-7fc03b9d7afc",
   "metadata": {},
   "outputs": [],
   "source": [
    "for value in ${array2[*]};\n",
    "do\n",
    "    echo $(( $value + 1 ));\n",
    "done"
   ]
  },
  {
   "cell_type": "code",
   "execution_count": null,
   "id": "101f4dd0-72db-49ba-ac0c-d1b53cd4555b",
   "metadata": {},
   "outputs": [],
   "source": [
    "for value in ${array3[*]};\n",
    "do\n",
    "    echo $(( $value + 1 ));\n",
    "done"
   ]
  },
  {
   "cell_type": "code",
   "execution_count": null,
   "id": "645430a6-8a08-404c-bf89-e537c17ce440",
   "metadata": {},
   "outputs": [],
   "source": [
    "for value in ${array4[*]};\n",
    "do\n",
    "    echo $(( $value + 1 ));\n",
    "done"
   ]
  },
  {
   "cell_type": "code",
   "execution_count": null,
   "id": "d43a9bd4-0c64-4cb6-bb87-8b8ad96aee98",
   "metadata": {},
   "outputs": [],
   "source": [
    "for value in ${array5[*]};\n",
    "do\n",
    "    echo $(( $value + 1 ));\n",
    "done"
   ]
  },
  {
   "cell_type": "code",
   "execution_count": null,
   "id": "cd7d3c54-e9d8-4955-9551-60f38e719ea9",
   "metadata": {},
   "outputs": [],
   "source": [
    "for value in ${array6[*]};\n",
    "do\n",
    "    echo $(( $value + 1 ));\n",
    "done"
   ]
  },
  {
   "cell_type": "markdown",
   "id": "b6493b7a-9e42-40d1-b361-ee18d0253877",
   "metadata": {},
   "source": [
    "## Loop through indices"
   ]
  },
  {
   "cell_type": "code",
   "execution_count": null,
   "id": "13cf9bc2-c60b-462a-81f9-124989531a2b",
   "metadata": {},
   "outputs": [],
   "source": [
    "for index in ${!array1[@]};\n",
    "do\n",
    "    echo $(( ${array1[$index]} + 1 ));\n",
    "done"
   ]
  },
  {
   "cell_type": "code",
   "execution_count": null,
   "id": "0f5c5134-c81d-4c89-a864-1d198ce732f4",
   "metadata": {},
   "outputs": [],
   "source": [
    "for index in ${!array2[@]};\n",
    "do\n",
    "    echo $(( ${array2[$index]} + ${array3[$index]} ));\n",
    "done"
   ]
  },
  {
   "cell_type": "markdown",
   "id": "db715a92-ce82-4014-a830-e695b8e7f9ba",
   "metadata": {},
   "source": [
    "# Other commands"
   ]
  },
  {
   "cell_type": "markdown",
   "id": "9b54507b-4012-4cb0-8217-d05173fa7ec9",
   "metadata": {},
   "source": [
    "## ps command"
   ]
  },
  {
   "cell_type": "markdown",
   "id": "eabd6de3-41f1-48a8-88ea-3ffe38e381cb",
   "metadata": {
    "kernel": "Bash"
   },
   "source": [
    "To get details on ongoing processes on the operating system:"
   ]
  },
  {
   "cell_type": "code",
   "execution_count": null,
   "id": "1d1dc93f-b84b-4eff-987d-f8128e93caa4",
   "metadata": {
    "kernel": "Bash"
   },
   "outputs": [],
   "source": [
    "tldr ps"
   ]
  },
  {
   "cell_type": "markdown",
   "id": "62028640-441e-4891-bf66-9bb980d8bb55",
   "metadata": {
    "kernel": "Bash"
   },
   "source": [
    "For example, list \"python\" processes:"
   ]
  },
  {
   "cell_type": "code",
   "execution_count": null,
   "id": "654736bd-8975-44db-ab7e-95f89230c201",
   "metadata": {
    "kernel": "Bash"
   },
   "outputs": [],
   "source": [
    "ps aux | grep python"
   ]
  },
  {
   "cell_type": "markdown",
   "id": "c6ce8515-4d95-478c-a848-4b12ec046819",
   "metadata": {},
   "source": [
    "## du command"
   ]
  },
  {
   "cell_type": "markdown",
   "id": "f08bc8ed-6962-4701-81e8-b6cdbfe60197",
   "metadata": {
    "kernel": "Bash"
   },
   "source": [
    "\"ls\" does not report the recursive size of directories, for this you may use du (disk usage)"
   ]
  },
  {
   "cell_type": "code",
   "execution_count": null,
   "id": "0430afd3-f776-4407-a11e-1a4e2dc0c732",
   "metadata": {
    "kernel": "Bash"
   },
   "outputs": [],
   "source": [
    "tldr du"
   ]
  },
  {
   "cell_type": "code",
   "execution_count": null,
   "id": "4e42f07c-ad28-47e4-8b86-9af0069a9309",
   "metadata": {
    "kernel": "Bash"
   },
   "outputs": [],
   "source": [
    "du -sh ~/databb/*"
   ]
  },
  {
   "cell_type": "markdown",
   "id": "784d8cc0-dc0d-41b6-9ee6-6733208f0dad",
   "metadata": {},
   "source": [
    "## df command"
   ]
  },
  {
   "cell_type": "markdown",
   "id": "6be1cd6f-d88c-4b33-b009-b93def87c28f",
   "metadata": {
    "kernel": "Bash"
   },
   "source": [
    "To get information on mounted file systems, use df:"
   ]
  },
  {
   "cell_type": "code",
   "execution_count": null,
   "id": "9cd7960b-0cbd-49ed-bc1e-d6e80927f780",
   "metadata": {
    "kernel": "Bash"
   },
   "outputs": [],
   "source": [
    "tldr df"
   ]
  },
  {
   "cell_type": "markdown",
   "id": "422727da-893f-4a8f-908b-4d6ed074f390",
   "metadata": {
    "kernel": "Bash"
   },
   "source": [
    "To list mounted file systems, with file types and human readable sizes:"
   ]
  },
  {
   "cell_type": "code",
   "execution_count": null,
   "id": "bba1c859-43c1-41da-8e30-5610cc9e226e",
   "metadata": {
    "kernel": "Bash"
   },
   "outputs": [],
   "source": [
    "df -hT"
   ]
  },
  {
   "cell_type": "markdown",
   "id": "96e4ca4f-6417-4023-9ffa-4ea7ba4c14c0",
   "metadata": {},
   "source": [
    "## wget"
   ]
  },
  {
   "cell_type": "markdown",
   "id": "9d52d9dc-1911-4ed2-a91e-21b2c9cbb582",
   "metadata": {},
   "source": [
    "`wget` downloads a file."
   ]
  },
  {
   "cell_type": "code",
   "execution_count": null,
   "id": "d5595884-ce02-412b-87df-cf3486cebbfa",
   "metadata": {},
   "outputs": [],
   "source": [
    "tldr wget"
   ]
  },
  {
   "cell_type": "code",
   "execution_count": null,
   "id": "43fd2a32-1a49-4071-8b37-2ef62c3b3c59",
   "metadata": {},
   "outputs": [],
   "source": [
    "wget -O ~/databb/temp/wiki.html https://en.wikipedia.org"
   ]
  },
  {
   "cell_type": "markdown",
   "id": "2b127f94-27c0-4074-b471-1e741406645c",
   "metadata": {},
   "source": [
    "With proper options, it can even act as a spider to download everything in a website, following links."
   ]
  },
  {
   "cell_type": "markdown",
   "id": "9cdc9bba-2d13-4ebb-87ef-6e25ebc97d46",
   "metadata": {},
   "source": [
    "## w3m"
   ]
  },
  {
   "cell_type": "markdown",
   "id": "e618f875-8e45-4cf1-b930-a05f8749a566",
   "metadata": {},
   "source": [
    "`w3m` is a terminal based browser."
   ]
  },
  {
   "cell_type": "code",
   "execution_count": null,
   "id": "d7957b68-55b9-433e-afe6-11f7b85cb986",
   "metadata": {},
   "outputs": [],
   "source": [
    "tldr w3m"
   ]
  },
  {
   "cell_type": "markdown",
   "id": "254fbba5-5801-47db-b53e-4f72b37f3d84",
   "metadata": {},
   "source": [
    "It can also render an html file as plain text:"
   ]
  },
  {
   "cell_type": "code",
   "execution_count": null,
   "id": "5c3bc593-68fe-4d2d-a8a0-c4dff79218d9",
   "metadata": {},
   "outputs": [],
   "source": [
    "cat ~/databb/temp/wiki.html | w3m -dump -T text/html | head -50"
   ]
  },
  {
   "cell_type": "markdown",
   "id": "f01f4e11-e916-4c6d-8ffd-f7e7f3bd847b",
   "metadata": {},
   "source": [
    "## lynx"
   ]
  },
  {
   "cell_type": "markdown",
   "id": "011a199f-448e-4101-a264-4b32655e0d48",
   "metadata": {},
   "source": [
    "`lynx` is also a terminal based browser."
   ]
  },
  {
   "cell_type": "code",
   "execution_count": null,
   "id": "e401f42a-ce82-4d3b-81f0-61b0f0e4877c",
   "metadata": {},
   "outputs": [],
   "source": [
    "tldr lynx"
   ]
  },
  {
   "cell_type": "markdown",
   "id": "2cddca3c-00f0-4562-874c-7e47f7f46288",
   "metadata": {},
   "source": [
    "It has some useful features such as extracting all links in a local html file or webpage:"
   ]
  },
  {
   "cell_type": "code",
   "execution_count": null,
   "id": "78b90d87-3905-43e2-95e7-d2f5cbeab92b",
   "metadata": {},
   "outputs": [],
   "source": [
    "lynx -listonly -nonumbers -dump https://en.wikipedia.org | head -50"
   ]
  },
  {
   "cell_type": "markdown",
   "id": "e4e90573-a9ac-42e4-9c4e-5709bf3bacdb",
   "metadata": {},
   "source": [
    "## tar"
   ]
  },
  {
   "cell_type": "markdown",
   "id": "ea72f4cc-39a1-4130-9b24-4f1568e488eb",
   "metadata": {},
   "source": [
    "`tar` creates a single archive file from a directory. It can also be zipped:"
   ]
  },
  {
   "cell_type": "code",
   "execution_count": null,
   "id": "2b7fbe06-aeb8-4c36-a69d-5d7fdbc9539a",
   "metadata": {},
   "outputs": [],
   "source": [
    "tldr tar"
   ]
  },
  {
   "cell_type": "markdown",
   "id": "a8d3b694-4a85-4d99-9437-9b173524519b",
   "metadata": {},
   "source": [
    "Create a tarball of the current directory:"
   ]
  },
  {
   "cell_type": "code",
   "execution_count": null,
   "id": "59fe40d7-7dbe-4347-bfa5-9e2e05df2d87",
   "metadata": {},
   "outputs": [],
   "source": [
    "tar -czvf ~/databb/temp/06_database.tar.gz ."
   ]
  },
  {
   "cell_type": "code",
   "execution_count": null,
   "id": "c6cff94b-6ee1-4df7-9f7a-6a6c946ad76a",
   "metadata": {},
   "outputs": [],
   "source": [
    "ls ~/databb/temp/*.tar.gz"
   ]
  },
  {
   "cell_type": "markdown",
   "id": "02ee1210-6182-4109-839a-fb52cf98cd94",
   "metadata": {},
   "source": [
    "Untar into a new directory_:"
   ]
  },
  {
   "cell_type": "code",
   "execution_count": null,
   "id": "67df8108-f9bd-4090-98c2-ba0d9712aaf8",
   "metadata": {},
   "outputs": [],
   "source": [
    "mkdir -p ~/databb/temp/06_database"
   ]
  },
  {
   "cell_type": "code",
   "execution_count": null,
   "id": "95a10a78-3a22-494a-9054-6562b6198270",
   "metadata": {},
   "outputs": [],
   "source": [
    "tar -xzvf ~/databb/temp/06_database.tar.gz -C ~/databb/temp/06_database"
   ]
  },
  {
   "cell_type": "code",
   "execution_count": null,
   "id": "2afdfd5d-95f2-4804-a4be-7c15712c3f0a",
   "metadata": {},
   "outputs": [],
   "source": [
    "ls -l ~/databb/temp/06_database"
   ]
  },
  {
   "cell_type": "markdown",
   "id": "5c9e05b8-beee-4dc4-8ec5-068bea5bcb27",
   "metadata": {},
   "source": [
    "Now you are luckier than the characters in the comic strip at the top!"
   ]
  },
  {
   "cell_type": "markdown",
   "id": "2022e377-2f98-418f-aa4d-06cf959d8ba4",
   "metadata": {},
   "source": [
    "# Resources"
   ]
  },
  {
   "cell_type": "markdown",
   "id": "b9e30d84-725a-42bd-9ee8-198a810051c3",
   "metadata": {},
   "source": [
    "- The Linux Documentation Project is very good resource for learning GNU/Linux and Bash programming:\n",
    "\n",
    "https://www.tldp.org"
   ]
  },
  {
   "cell_type": "markdown",
   "id": "b6712f01-fec1-447e-977c-56b2d0d9e22e",
   "metadata": {},
   "source": [
    "- I especially recommend \"Advanced Bash-Scripting Guide\" if you are serious in learning Bash programming and Linux in general: \n",
    "\n",
    "https://tldp.org/LDP/abs/html/index.html"
   ]
  },
  {
   "cell_type": "markdown",
   "id": "8fe5d671-a1ca-44ac-98bc-b4093b22f246",
   "metadata": {},
   "source": [
    "- \"Data science at the command line\" is also a great online book for learning Bash programming with a focus on data science tasks:\n",
    "\n",
    "https://datascienceatthecommandline.com/\n",
    "\n",
    "https://jeroenjanssens.com/dsatcl/"
   ]
  },
  {
   "cell_type": "markdown",
   "id": "282f46aa-57a6-4f56-a66e-02ae11ca758a",
   "metadata": {},
   "source": [
    "- Linux Command-line basics video (2.5 hours) by Scientific Programming School"
   ]
  },
  {
   "cell_type": "markdown",
   "id": "90868e22-910e-495a-ab8f-9c5b53c08872",
   "metadata": {},
   "source": [
    "https://www.youtube.com/watch?v=ghTJS52ghGU"
   ]
  }
 ],
 "metadata": {
  "kernelspec": {
   "display_name": "Bash",
   "language": "bash",
   "name": "bash"
  },
  "language_info": {
   "codemirror_mode": "shell",
   "file_extension": ".sh",
   "mimetype": "text/x-sh",
   "name": "bash"
  }
 },
 "nbformat": 4,
 "nbformat_minor": 5
}
