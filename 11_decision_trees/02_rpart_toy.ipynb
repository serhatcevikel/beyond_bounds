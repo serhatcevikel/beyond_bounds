{
 "cells": [
  {
   "cell_type": "markdown",
   "id": "0dca0857-3f2a-49e0-b62b-cd0682ace5fb",
   "metadata": {},
   "source": [
    "<font size=\"6\"><b>RECURSIVE PARTIONING TREE TOY EXAMPLE</b></font>"
   ]
  },
  {
   "cell_type": "code",
   "execution_count": null,
   "id": "af46a7a3-3fc4-48f9-9d4c-c73d0cc81a1b",
   "metadata": {
    "tags": []
   },
   "outputs": [],
   "source": [
    "library(tidyverse)\n",
    "library(data.table)\n",
    "library(MASS) # for generating random samples from multivariate normal distribution\n",
    "library(trialr) # for generating random correlation matrix from LKJ distribution\n",
    "library(rpart) # for recursive partioning trees\n",
    "library(visNetwork) # for better plotting recursive partioning trees"
   ]
  },
  {
   "cell_type": "code",
   "execution_count": null,
   "id": "d0713512-973f-4d18-ac83-73fb5123db07",
   "metadata": {
    "tags": []
   },
   "outputs": [],
   "source": [
    "options(repr.matrix.max.rows=20, repr.matrix.max.cols=15) # for limiting the number of top and bottom rows of tables printed "
   ]
  },
  {
   "cell_type": "markdown",
   "id": "4b68ab93-4d2c-4d60-a363-0c5dab0e1dfb",
   "metadata": {},
   "source": [
    "We will simulate a toy dataset to demonstrate decision tree algorithm for classification:"
   ]
  },
  {
   "cell_type": "markdown",
   "id": "32d6cb72-973e-4934-aa42-8fb3c1ff5103",
   "metadata": {},
   "source": [
    "We will sample continous values from multivariate normal distribution and then discretize them to get factor variables:"
   ]
  },
  {
   "cell_type": "markdown",
   "id": "ef4ed749-30ea-43a1-81a5-9653103a2328",
   "metadata": {},
   "source": [
    "Let's first create a random correlation matrix using the relevant LKJ distribution:"
   ]
  },
  {
   "cell_type": "code",
   "execution_count": null,
   "id": "9869daba-2c04-4f41-adfc-d234d70cc095",
   "metadata": {
    "tags": []
   },
   "outputs": [],
   "source": [
    "set.seed(1)\n",
    "matcor <- rlkjcorr(1, 3, 0.1)"
   ]
  },
  {
   "cell_type": "code",
   "execution_count": null,
   "id": "87382fec-bba1-480d-8a58-96bafeee0016",
   "metadata": {
    "tags": []
   },
   "outputs": [],
   "source": [
    "matcor"
   ]
  },
  {
   "cell_type": "markdown",
   "id": "eec97258-20e5-4442-b275-bf52c18264cc",
   "metadata": {},
   "source": [
    "And let's sample some correlated random values from multivariate normal distribution:"
   ]
  },
  {
   "cell_type": "code",
   "execution_count": null,
   "id": "4b14490a-b046-44b4-83ba-7abd0aed19d1",
   "metadata": {
    "tags": []
   },
   "outputs": [],
   "source": [
    "set.seed(1)\n",
    "vals <- mvrnorm(2e2, rep(0, 3), matcor)"
   ]
  },
  {
   "cell_type": "code",
   "execution_count": null,
   "id": "015cbf45-0f89-4c80-953c-ce8d66bf2351",
   "metadata": {
    "tags": []
   },
   "outputs": [],
   "source": [
    "vals"
   ]
  },
  {
   "cell_type": "markdown",
   "id": "8db57487-7b87-4382-8bc2-5999e6726fbe",
   "metadata": {},
   "source": [
    "Check the correlation matrix of sampled values:"
   ]
  },
  {
   "cell_type": "code",
   "execution_count": null,
   "id": "41f412f9-97cb-4645-b1b4-0034734171aa",
   "metadata": {
    "tags": []
   },
   "outputs": [],
   "source": [
    "cor(vals)"
   ]
  },
  {
   "cell_type": "markdown",
   "id": "d31c43e8-e138-41c3-b794-c75f352a3f44",
   "metadata": {},
   "source": [
    "Similar to the generating correlation matrix we passed"
   ]
  },
  {
   "cell_type": "markdown",
   "id": "318f6760-24d5-435f-8622-0ba0a0d1d147",
   "metadata": {},
   "source": [
    "Make it a data.table:"
   ]
  },
  {
   "cell_type": "code",
   "execution_count": null,
   "id": "4a510e0c-34ff-492b-b7f2-f3f2859f1a95",
   "metadata": {
    "tags": []
   },
   "outputs": [],
   "source": [
    "vals_dt <- as.data.table(vals)"
   ]
  },
  {
   "cell_type": "markdown",
   "id": "3ce74362-73c0-4b3e-84b2-37477661948c",
   "metadata": {},
   "source": [
    "First column will be the response variable, others are independent variables:"
   ]
  },
  {
   "cell_type": "code",
   "execution_count": null,
   "id": "41c16d55-7de6-4b19-bd19-117bbc626e10",
   "metadata": {
    "tags": []
   },
   "outputs": [],
   "source": [
    "setnames(vals_dt, c(\"dep\", \"ind1\", \"ind2\"))"
   ]
  },
  {
   "cell_type": "markdown",
   "id": "cdc81828-78bc-467a-840e-aea8b447276a",
   "metadata": {},
   "source": [
    "Discretize values:"
   ]
  },
  {
   "cell_type": "code",
   "execution_count": null,
   "id": "3306ac9f-d420-42f8-84c1-9bd85899f8d7",
   "metadata": {
    "tags": []
   },
   "outputs": [],
   "source": [
    "vals_dt <- vals_dt %>% mutate_all(cut, c(-Inf, 0, Inf), c(\"no\", \"yes\"))"
   ]
  },
  {
   "cell_type": "markdown",
   "id": "44988b53-2cbc-43c5-b4e0-11638b36d628",
   "metadata": {},
   "source": [
    "Check the correlation among classes:"
   ]
  },
  {
   "cell_type": "code",
   "execution_count": null,
   "id": "bc2dfc92-2e55-44cb-85df-3e1b0254c79a",
   "metadata": {
    "tags": []
   },
   "outputs": [],
   "source": [
    "cor(vals_dt %>% mutate_all(as.integer))"
   ]
  },
  {
   "cell_type": "markdown",
   "id": "1ac6e186-1e86-45c6-ab0e-d4d66a635728",
   "metadata": {},
   "source": [
    "Let's visualize the possible splits:"
   ]
  },
  {
   "cell_type": "code",
   "execution_count": null,
   "id": "05414151-86d1-4483-bb63-7b9ddef7da35",
   "metadata": {
    "tags": []
   },
   "outputs": [],
   "source": [
    "vals_dt %>%\n",
    "mutate_at(c(\"ind1\", \"ind2\"), as.integer) %>%\n",
    "ggplot(aes(x = ind1, y = ind2, col = dep)) +\n",
    "geom_jitter() +\n",
    "geom_hline(yintercept = 1.5) +\n",
    "geom_vline(xintercept = 1.5)"
   ]
  },
  {
   "cell_type": "markdown",
   "id": "6f2ba04e-7091-49f0-9e79-0f1f937177a7",
   "metadata": {},
   "source": [
    "Let's formalize this through entropy measure:"
   ]
  },
  {
   "cell_type": "markdown",
   "id": "03bca7ff-e583-4476-a498-dfe6969f5966",
   "metadata": {},
   "source": [
    "$${\\displaystyle \\mathrm {H} (X):=-\\sum _{x\\in {\\mathcal {X}}}p(x)\\log p(x),}$$\n",
    "\n",
    "(https://en.wikipedia.org/wiki/Entropy_(information_theory))"
   ]
  },
  {
   "cell_type": "code",
   "execution_count": null,
   "id": "9c74cdee-feb7-4be4-8166-e7b5e44a3af1",
   "metadata": {
    "tags": []
   },
   "outputs": [],
   "source": [
    "entrop <- function(x)\n",
    "{\n",
    "    props <- prop.table(table(as.character(x)))\n",
    "    sum(-props * log2(props))\n",
    "}"
   ]
  },
  {
   "cell_type": "markdown",
   "id": "97d715bc-dbbb-430d-82c9-8a4bc9eb4644",
   "metadata": {},
   "source": [
    "And the gini impurity measure:"
   ]
  },
  {
   "cell_type": "markdown",
   "id": "740f2c4b-25ae-4823-ba75-08d1f746807b",
   "metadata": {},
   "source": [
    "$${\\displaystyle \\operatorname {I} _{G}(p)=1-\\sum _{i=1}^{J}p_{i}^{2}.}$$\n",
    "\n",
    "(https://en.wikipedia.org/wiki/Decision_tree_learning#Gini_impurity)"
   ]
  },
  {
   "cell_type": "code",
   "execution_count": null,
   "id": "ec97d36e-77d7-4865-ad50-b293941f5eaa",
   "metadata": {
    "tags": []
   },
   "outputs": [],
   "source": [
    "ginix <- function(x)\n",
    "{\n",
    "    props <- prop.table(table(as.character(x)))\n",
    "    1- sum(props^2)\n",
    "}"
   ]
  },
  {
   "cell_type": "markdown",
   "id": "cd16c98d-6be3-48d9-9310-3313d068abe0",
   "metadata": {},
   "source": [
    "Select the independent variables to split across:"
   ]
  },
  {
   "cell_type": "code",
   "execution_count": null,
   "id": "6a2e58fa-20ee-4c5b-99b2-06c38cc27e77",
   "metadata": {
    "tags": []
   },
   "outputs": [],
   "source": [
    "vars <- c(\"ind1\", \"ind2\")"
   ]
  },
  {
   "cell_type": "markdown",
   "id": "188d1e46-a728-4c38-8b66-c2e0912bf55e",
   "metadata": {},
   "source": [
    "See the weighted entropies across two variables:"
   ]
  },
  {
   "cell_type": "code",
   "execution_count": null,
   "id": "28e22cfd-ed19-4d35-a101-ee2bd0a0992c",
   "metadata": {
    "tags": []
   },
   "outputs": [],
   "source": [
    "ents <- sapply(vars, function(x) vals_dt[, .(N = .N, en = entrop(dep)), by = get(x)][, sum(N * en)/sum(N)])"
   ]
  },
  {
   "cell_type": "code",
   "execution_count": null,
   "id": "6a421b1b-7c31-4773-a274-2f0a751cdcce",
   "metadata": {
    "tags": []
   },
   "outputs": [],
   "source": [
    "ents"
   ]
  },
  {
   "cell_type": "markdown",
   "id": "48bf60fb-e38f-4afd-96c8-e77fec231f9a",
   "metadata": {},
   "source": [
    "Recalculate using gini impurity values:"
   ]
  },
  {
   "cell_type": "code",
   "execution_count": null,
   "id": "ea65baa8-e45a-4d54-8497-b64a83d5e5bb",
   "metadata": {
    "tags": []
   },
   "outputs": [],
   "source": [
    "ginis <- sapply(vars, function(x) vals_dt[, .(N = .N, en = ginix(dep)), by = get(x)][, sum(N * en)/sum(N)])"
   ]
  },
  {
   "cell_type": "code",
   "execution_count": null,
   "id": "a1fdab8a-0af0-4522-89c1-3c5fa8b5332c",
   "metadata": {
    "tags": []
   },
   "outputs": [],
   "source": [
    "ginis"
   ]
  },
  {
   "cell_type": "markdown",
   "id": "9aa8eda1-5ac6-4b09-af5d-1cb6022b03a6",
   "metadata": {},
   "source": [
    "They are parallel"
   ]
  },
  {
   "cell_type": "markdown",
   "id": "72c4c6be-a528-4293-a8c3-af3e198808f1",
   "metadata": {},
   "source": [
    "Select the variable that cause the lower entropy:"
   ]
  },
  {
   "cell_type": "code",
   "execution_count": null,
   "id": "b6ba3f2a-5a70-436d-a1f5-e576de3e84c7",
   "metadata": {
    "tags": []
   },
   "outputs": [],
   "source": [
    "splitvar1 <- names(ents[which.min(ents)])\n",
    "splitvar1"
   ]
  },
  {
   "cell_type": "markdown",
   "id": "3e758d28-066c-4186-9208-8d0d883b7e4a",
   "metadata": {},
   "source": [
    "Split the data.table across this variable:"
   ]
  },
  {
   "cell_type": "code",
   "execution_count": null,
   "id": "b32afffe-ed09-4db6-a5cf-c2a48d0aaaa8",
   "metadata": {
    "tags": []
   },
   "outputs": [],
   "source": [
    "vals_dt_l1 <- split(vals_dt, f = vals_dt[, .(get(splitvar1))])[c(\"no\", \"yes\")]"
   ]
  },
  {
   "cell_type": "markdown",
   "id": "824bc070-3dcf-4cd3-9a1c-f48a0d67b054",
   "metadata": {},
   "source": [
    "And repeat the entropy calculation for both splits across the other variable (there is only one variable left, anyway, nothing to compare):"
   ]
  },
  {
   "cell_type": "code",
   "execution_count": null,
   "id": "311e986d-d997-4154-8dea-6b3db6b8a8ab",
   "metadata": {
    "tags": []
   },
   "outputs": [],
   "source": [
    "lapply(vals_dt_l1, function(y)\n",
    "    {\n",
    "    sapply(setdiff(vars, splitvar1), function(x) y[, .(N = .N, en = entrop(dep)), by = get(x)][, sum(N * en)/sum(N)])\n",
    "    }\n",
    ")"
   ]
  },
  {
   "cell_type": "markdown",
   "id": "3e1d2f1a-071b-4be1-94c4-aa7a55df2c6a",
   "metadata": {},
   "source": [
    "Now let's see the information gain, the reduction in entropy, at the beginning and after each split:"
   ]
  },
  {
   "cell_type": "markdown",
   "id": "78debcbe-e0b0-43b9-9c9a-b6079c00b030",
   "metadata": {},
   "source": [
    "First at the root:"
   ]
  },
  {
   "cell_type": "code",
   "execution_count": null,
   "id": "8c779f32-a268-4bb1-86ff-a12b2a9f4885",
   "metadata": {
    "tags": []
   },
   "outputs": [],
   "source": [
    "counts_dt0 <- vals_dt[, .N, by = c(\"dep\")][, prop := N / sum(N)][]"
   ]
  },
  {
   "cell_type": "code",
   "execution_count": null,
   "id": "e3ad9ef1-97a3-43a4-9b5b-1b4593d63b13",
   "metadata": {
    "tags": []
   },
   "outputs": [],
   "source": [
    "counts_dt0"
   ]
  },
  {
   "cell_type": "markdown",
   "id": "1f0476b6-4cff-4834-b799-650a9755891e",
   "metadata": {},
   "source": [
    "Get the entropy:"
   ]
  },
  {
   "cell_type": "code",
   "execution_count": null,
   "id": "68d73463-a4ad-4850-9bb6-0c9f0276680e",
   "metadata": {
    "tags": []
   },
   "outputs": [],
   "source": [
    "ent0 <- counts_dt0[, sum(-setdiff(prop, 0) * log2(setdiff(prop, 0)))]\n",
    "ent0"
   ]
  },
  {
   "cell_type": "markdown",
   "id": "da17e407-04f8-4777-9bb5-719152b570ca",
   "metadata": {},
   "source": [
    "And the error rate:"
   ]
  },
  {
   "cell_type": "code",
   "execution_count": null,
   "id": "3dc219d7-b85b-4d34-8aa7-5082b8312703",
   "metadata": {
    "tags": []
   },
   "outputs": [],
   "source": [
    "er0 <- counts_dt0[, sum((N != max(N))*N) / sum(N)]\n",
    "er0"
   ]
  },
  {
   "cell_type": "markdown",
   "id": "7b02bb67-e0c9-49ef-8197-b38c44c22e58",
   "metadata": {},
   "source": [
    "Now, after the first split:"
   ]
  },
  {
   "cell_type": "code",
   "execution_count": null,
   "id": "9b7ae203-6229-40f7-990e-61d1930252df",
   "metadata": {
    "tags": []
   },
   "outputs": [],
   "source": [
    "counts_dt1 <- vals_dt[, .N, by = c(\"dep\", splitvar1)][, prop := N / sum(N), by = splitvar1][]"
   ]
  },
  {
   "cell_type": "code",
   "execution_count": null,
   "id": "09371911-9e91-4b8f-b40a-0837042abf08",
   "metadata": {
    "tags": []
   },
   "outputs": [],
   "source": [
    "counts_dt1"
   ]
  },
  {
   "cell_type": "markdown",
   "id": "b5ab4d02-e110-4e4c-9756-753c66833954",
   "metadata": {},
   "source": [
    "The entropy value:"
   ]
  },
  {
   "cell_type": "code",
   "execution_count": null,
   "id": "92f89638-a86a-4fdb-b5a2-5d64d5b3ba54",
   "metadata": {
    "tags": []
   },
   "outputs": [],
   "source": [
    "ent1 <- counts_dt1[, .(N = sum(N), ent = sum(-setdiff(prop, 0) * log2(setdiff(prop, 0)))), by = splitvar1][, sum(N * ent) / sum(N)]\n",
    "ent1"
   ]
  },
  {
   "cell_type": "markdown",
   "id": "61c30cf1-4032-4899-aa65-54711c62057e",
   "metadata": {},
   "source": [
    "Entropy is reduced by:"
   ]
  },
  {
   "cell_type": "code",
   "execution_count": null,
   "id": "7b105cd7-8244-4d96-9a87-4b130f0d4673",
   "metadata": {
    "tags": []
   },
   "outputs": [],
   "source": [
    "ent0 - ent1"
   ]
  },
  {
   "cell_type": "markdown",
   "id": "05e7e153-9502-4948-822c-e8eb742c1459",
   "metadata": {},
   "source": [
    "The error rate:"
   ]
  },
  {
   "cell_type": "code",
   "execution_count": null,
   "id": "11839519-340b-4c8d-82cc-a51215e1f529",
   "metadata": {
    "tags": []
   },
   "outputs": [],
   "source": [
    "er1 <- counts_dt1[, sum((dep != ind1) * N) / sum(N)]\n",
    "er1"
   ]
  },
  {
   "cell_type": "markdown",
   "id": "0e1b738e-f50b-4063-b095-069ad3a2f256",
   "metadata": {},
   "source": [
    "And relative decrease in error:"
   ]
  },
  {
   "cell_type": "code",
   "execution_count": null,
   "id": "4bba34b4-34db-4bb0-8705-b50e88df680e",
   "metadata": {
    "tags": []
   },
   "outputs": [],
   "source": [
    "1 - er1 / er0"
   ]
  },
  {
   "cell_type": "markdown",
   "id": "9418106d-2272-4850-b9e5-2d917b5c9e23",
   "metadata": {},
   "source": [
    "Keep that value in mind!"
   ]
  },
  {
   "cell_type": "markdown",
   "id": "d43fa731-e782-4f32-be31-e1d3ad8d4a0f",
   "metadata": {},
   "source": [
    "Now the second split:"
   ]
  },
  {
   "cell_type": "code",
   "execution_count": null,
   "id": "e9565678-8a6a-47b9-99e0-da7e4f1d4027",
   "metadata": {
    "tags": []
   },
   "outputs": [],
   "source": [
    "counts_dt2 <- vals_dt[, .N, by = c(\"dep\", vars)][, prop := N / sum(N), by = vars][]"
   ]
  },
  {
   "cell_type": "code",
   "execution_count": null,
   "id": "4255dd2b-9b3e-4069-ae5f-114d803f8e8e",
   "metadata": {
    "tags": []
   },
   "outputs": [],
   "source": [
    "counts_dt2"
   ]
  },
  {
   "cell_type": "markdown",
   "id": "a27430b0-d3bd-4ab6-8e65-0859c1875bc0",
   "metadata": {},
   "source": [
    "Let's look at the error rate for each split:"
   ]
  },
  {
   "cell_type": "markdown",
   "id": "fe389b31-9183-40bd-9adb-00fdf9d3f5e9",
   "metadata": {},
   "source": [
    "When ind1 == \"yes\" condition is not split further: (labels for the splitting variable are determined such that classification error is minimized)"
   ]
  },
  {
   "cell_type": "code",
   "execution_count": null,
   "id": "c32da403-ff47-4e74-89ed-86d393896182",
   "metadata": {
    "tags": []
   },
   "outputs": [],
   "source": [
    "min(\n",
    "counts_dt2[ind1 == \"yes\"][, sum((dep == ind1) * N) / sum(N)],\n",
    "counts_dt2[ind1 == \"yes\"][, sum((dep != ind1) * N) / sum(N)])"
   ]
  },
  {
   "cell_type": "markdown",
   "id": "c588204e-6ad1-4a8a-8094-af598367618e",
   "metadata": {},
   "source": [
    "And when the node is split further by ind2:"
   ]
  },
  {
   "cell_type": "code",
   "execution_count": null,
   "id": "2f358ffb-199c-4693-8d38-f2f840660707",
   "metadata": {
    "tags": []
   },
   "outputs": [],
   "source": [
    "min(\n",
    "counts_dt2[ind1 == \"yes\"][, sum((dep == ind2) * N) / sum(N)],\n",
    "counts_dt2[ind1 == \"yes\"][, sum((dep != ind2) * N) / sum(N)])"
   ]
  },
  {
   "cell_type": "markdown",
   "id": "537b8606-247d-4462-8670-69e53a5a7e94",
   "metadata": {},
   "source": [
    "So the error rate increases with further split on the second variable for the ind1 == \"yes\" split"
   ]
  },
  {
   "cell_type": "markdown",
   "id": "c49f0cea-6491-4711-9c7f-f0709a9fafc5",
   "metadata": {},
   "source": [
    "Now let's repeat it for ind1 == \"no\" split"
   ]
  },
  {
   "cell_type": "code",
   "execution_count": null,
   "id": "8a386f68-0368-4b05-9738-295e933368ab",
   "metadata": {
    "tags": []
   },
   "outputs": [],
   "source": [
    "min(\n",
    "counts_dt2[ind1 == \"no\"][, sum((dep == ind1) * N) / sum(N)],\n",
    "counts_dt2[ind1 == \"no\"][, sum((dep != ind1) * N) / sum(N)])"
   ]
  },
  {
   "cell_type": "markdown",
   "id": "4394beeb-9109-4c8a-8928-e1b8504a79bd",
   "metadata": {},
   "source": [
    "And when the node is split further by ind2:"
   ]
  },
  {
   "cell_type": "code",
   "execution_count": null,
   "id": "8b3a863f-d62b-44cb-82ca-361da472dc09",
   "metadata": {
    "tags": []
   },
   "outputs": [],
   "source": [
    "min(\n",
    "counts_dt2[ind1 == \"no\"][, sum((dep == ind2) * N) / sum(N)],\n",
    "counts_dt2[ind1 == \"no\"][, sum((dep != ind2) * N) / sum(N)])"
   ]
  },
  {
   "cell_type": "markdown",
   "id": "e8b1c791-db89-4411-b194-abbd6cb9cf00",
   "metadata": {},
   "source": [
    "The error rate decreases for that split"
   ]
  },
  {
   "cell_type": "markdown",
   "id": "0ea66323-03b3-4f12-b88f-a23457bd8337",
   "metadata": {},
   "source": [
    "Let's delete the second level split on the ind1 == \"yes\" node:"
   ]
  },
  {
   "cell_type": "code",
   "execution_count": null,
   "id": "49ab17cf-4e40-499d-9e86-d5be7b894ff4",
   "metadata": {
    "tags": []
   },
   "outputs": [],
   "source": [
    "counts_dt2b <- copy(counts_dt2)"
   ]
  },
  {
   "cell_type": "code",
   "execution_count": null,
   "id": "1a5a4925-3acf-4a41-99ba-3e53e2552fc0",
   "metadata": {
    "tags": []
   },
   "outputs": [],
   "source": [
    "counts_dt2b[ind1 == \"yes\", ind2 := NA]"
   ]
  },
  {
   "cell_type": "code",
   "execution_count": null,
   "id": "ddcffae5-7e91-4981-8642-e6302326cd39",
   "metadata": {
    "tags": []
   },
   "outputs": [],
   "source": [
    "counts_dt2b <- counts_dt2b[, .(N = sum(N)), by = c(\"dep\", \"ind1\", \"ind2\")][, prop := N / sum(N), by = vars][]"
   ]
  },
  {
   "cell_type": "code",
   "execution_count": null,
   "id": "520e6ee5-629e-4c58-a460-afc642560e22",
   "metadata": {
    "tags": []
   },
   "outputs": [],
   "source": [
    "counts_dt2b"
   ]
  },
  {
   "cell_type": "markdown",
   "id": "bee5407a-e423-48ff-b52c-e591d1c18120",
   "metadata": {},
   "source": [
    "Calculate the entropy:"
   ]
  },
  {
   "cell_type": "code",
   "execution_count": null,
   "id": "7dcdb1ea-1fa0-4e32-aa8a-8e81ebcc20f2",
   "metadata": {
    "tags": []
   },
   "outputs": [],
   "source": [
    "ent2b <- counts_dt2b[, .(N = sum(N), ent = sum(-setdiff(prop, 0) * log2(setdiff(prop, 0)))), by = vars][, sum(N * ent) / sum(N)]\n",
    "ent2b"
   ]
  },
  {
   "cell_type": "markdown",
   "id": "dc89971f-e95f-4c55-be2d-1a88de4a7252",
   "metadata": {},
   "source": [
    "Entropy is reduced by:"
   ]
  },
  {
   "cell_type": "code",
   "execution_count": null,
   "id": "2a5aa69c-4f36-4448-b514-ce5b9f3c8e75",
   "metadata": {
    "tags": []
   },
   "outputs": [],
   "source": [
    "ent1 - ent2b"
   ]
  },
  {
   "cell_type": "markdown",
   "id": "bb7f8282-83dc-48c1-b901-e1276c6e2ef6",
   "metadata": {},
   "source": [
    "So for short, **as long as the relative classification error decreases sufficiently**, at each node, next variable for split is chosen so that entropy is reduced most"
   ]
  },
  {
   "cell_type": "markdown",
   "id": "3385591a-8493-4e7f-94f5-17cd5ee7fcc1",
   "metadata": {},
   "source": [
    "Now let's make rpart do the heavy lifting:"
   ]
  },
  {
   "cell_type": "code",
   "execution_count": null,
   "id": "b2b5bdba-7f8a-4285-ae55-aab314579470",
   "metadata": {
    "tags": []
   },
   "outputs": [],
   "source": [
    "churn.rp <- rpart::rpart(dep ~ ., data = vals_dt)"
   ]
  },
  {
   "cell_type": "markdown",
   "id": "0a2621b2-32e6-4bda-8961-f676ce56b5d4",
   "metadata": {},
   "source": [
    "How the splits are done:"
   ]
  },
  {
   "cell_type": "code",
   "execution_count": null,
   "id": "4ede0934-8ec3-4d6a-b866-7d33def9d465",
   "metadata": {
    "tags": []
   },
   "outputs": [],
   "source": [
    "churn.rp"
   ]
  },
  {
   "cell_type": "markdown",
   "id": "7e0f8dec-0bce-430c-9fb3-d5441a359ae9",
   "metadata": {},
   "source": [
    "Summary of complexity parameters (CP) table:"
   ]
  },
  {
   "cell_type": "code",
   "execution_count": null,
   "id": "5449e085-f56f-4abb-8991-311c86535112",
   "metadata": {
    "tags": []
   },
   "outputs": [],
   "source": [
    "printcp(churn.rp)"
   ]
  },
  {
   "cell_type": "markdown",
   "id": "9baa4ece-fc01-4a1a-81d7-880b4df1957a",
   "metadata": {},
   "source": [
    "Remember the first value in the CP column: The decrease in relative error we calculated before.\n",
    "\n",
    "Relative error is the error at the depth level divided by the error at the root node (before any splits)"
   ]
  },
  {
   "cell_type": "markdown",
   "id": "2f9f4c25-c51b-48ab-9a74-d5604eef37ab",
   "metadata": {},
   "source": [
    "Let's extract the CP table"
   ]
  },
  {
   "cell_type": "code",
   "execution_count": null,
   "id": "cf770544-6d40-4bac-95eb-d0a205a923ba",
   "metadata": {},
   "outputs": [],
   "source": [
    "cpdt <- churn.rp$cptable %>% as.data.table"
   ]
  },
  {
   "cell_type": "code",
   "execution_count": null,
   "id": "b5aead36-0164-4da7-83b5-53999ea107d1",
   "metadata": {
    "tags": []
   },
   "outputs": [],
   "source": [
    "cpdt"
   ]
  },
  {
   "cell_type": "markdown",
   "id": "96e8886d-fdf0-4476-95e8-8c9c0d789007",
   "metadata": {},
   "source": [
    "CP is the change in relative error if further splits are made, divided by the increase in number of splits:"
   ]
  },
  {
   "cell_type": "code",
   "execution_count": null,
   "id": "7f49339d-d4e0-44a2-84af-085f95daa030",
   "metadata": {
    "tags": []
   },
   "outputs": [],
   "source": [
    "cpdt[, -diff(`rel error`) / diff(nsplit)]"
   ]
  },
  {
   "cell_type": "markdown",
   "id": "87c609db-955b-416b-af20-aed38bfa55b8",
   "metadata": {},
   "source": [
    "Let's visualize the tree:"
   ]
  },
  {
   "cell_type": "code",
   "execution_count": null,
   "id": "5669eb34-2a39-407a-91f5-c61c8a985376",
   "metadata": {
    "tags": []
   },
   "outputs": [],
   "source": [
    "visNetwork::visTree(churn.rp)"
   ]
  }
 ],
 "metadata": {
  "kernelspec": {
   "display_name": "R",
   "language": "R",
   "name": "ir"
  },
  "language_info": {
   "codemirror_mode": "r",
   "file_extension": ".r",
   "mimetype": "text/x-r-source",
   "name": "R",
   "pygments_lexer": "r",
   "version": "4.5.0"
  }
 },
 "nbformat": 4,
 "nbformat_minor": 5
}
