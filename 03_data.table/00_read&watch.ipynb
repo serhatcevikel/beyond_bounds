{
 "cells": [
  {
   "cell_type": "markdown",
   "id": "499b840e-2021-47c4-88a6-b0f85de4194c",
   "metadata": {},
   "source": [
    "# Resources for data.table"
   ]
  },
  {
   "cell_type": "markdown",
   "id": "acfe8d2b-0959-45d0-b4e7-9a3f40f66eda",
   "metadata": {},
   "source": [
    "## A watch list for introduction to data.table"
   ]
  },
  {
   "cell_type": "markdown",
   "id": "88fdd2af-fae5-4882-9e1a-3c7d611d2580",
   "metadata": {},
   "source": [
    "[![data.table watch list](https://img.youtube.com/vi/pc1ARG6kbAM/0.jpg)](https://www.youtube.com/playlist?list=PLg3eScSbYgxkDgk_hXNc7K6vId0_xvohc)"
   ]
  },
  {
   "cell_type": "markdown",
   "id": "5a652742-c588-4977-be0d-d86266d49cc9",
   "metadata": {},
   "source": [
    "You can access the companion material to the \"useR! International R User 2017 Conference data table for beginners\" video from below links:\n",
    "\n",
    "https://goo.gl/FqqCWz\n",
    "\n",
    "https://github.com/arunsrinivasan/user2017-data.table-tutorial"
   ]
  },
  {
   "cell_type": "markdown",
   "id": "e0039909-c242-44e5-b7a3-a98a939edbe0",
   "metadata": {},
   "source": [
    "## Some concise reading material for the main concepts of data.table:"
   ]
  },
  {
   "cell_type": "markdown",
   "id": "b88e9e50-3bf0-4b26-8cea-cb04820d200d",
   "metadata": {},
   "source": [
    "- A data.table R Tutorial: Intro to DT[i, j, by] (must read)\n",
    "\n",
    "By Karljin Willems\n",
    "\n",
    "https://www.datacamp.com/community/tutorials/data-table-r-tutorial\n",
    "\n",
    "- Introduction to data.table (must read)\n",
    "\n",
    "By data.table team\n",
    "\n",
    "https://cran.r-project.org/web/packages/data.table/vignettes/datatable-intro.html\n",
    "\n",
    "- Reference Semantics (must read)\n",
    "\n",
    "By data.table team\n",
    "\n",
    "https://cran.r-project.org/web/packages/data.table/vignettes/datatable-reference-semantics.html\n",
    "\n",
    "- Efficient reshaping using data.tables (must read)\n",
    "\n",
    "By data.table team\n",
    "\n",
    "https://cran.r-project.org/web/packages/data.table/vignettes/datatable-reshape.html\n",
    "\n",
    "- JOINing data in R using data.table (must read)\n",
    "\n",
    "By Ronald Stalder\n",
    "\n",
    "http://rpubs.com/ronasta/join_data_tables\n"
   ]
  },
  {
   "cell_type": "markdown",
   "id": "03c13c6d-9023-40bc-b1db-a53b730b6e05",
   "metadata": {},
   "source": [
    "## DataCamp Course (optional)"
   ]
  },
  {
   "cell_type": "markdown",
   "id": "b57a33aa-8bbc-4387-8879-d5579e74a1e9",
   "metadata": {},
   "source": [
    "If you can devote 4 hours, this is an excellent interactive course by the package creators, Matt Dowle and Arun Srinivasan:\n",
    "\n",
    "[Data Manipulation with data.table in R](https://app.datacamp.com/learn/courses/data-manipulation-with-datatable-in-r)"
   ]
  },
  {
   "cell_type": "code",
   "execution_count": null,
   "id": "b5814b9d-c48d-4b2d-9096-6874dc883f6f",
   "metadata": {},
   "outputs": [],
   "source": []
  }
 ],
 "metadata": {
  "kernelspec": {
   "display_name": "R",
   "language": "R",
   "name": "ir"
  },
  "language_info": {
   "codemirror_mode": "r",
   "file_extension": ".r",
   "mimetype": "text/x-r-source",
   "name": "R",
   "pygments_lexer": "r",
   "version": "4.3.2"
  }
 },
 "nbformat": 4,
 "nbformat_minor": 5
}
