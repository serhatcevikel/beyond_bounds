{
 "cells": [
  {
   "cell_type": "markdown",
   "id": "2ebcc957-7700-46cc-b8f1-da38c5bce978",
   "metadata": {},
   "source": [
    "<font size=\"6\"><b>REGULAR EXPRESSIONS (REGEX)</b></font>"
   ]
  },
  {
   "cell_type": "code",
   "execution_count": null,
   "id": "97946619-e6b4-4900-8982-3d3ee70e8be8",
   "metadata": {},
   "outputs": [],
   "source": [
    "library(data.table)\n",
    "library(tidyverse)\n",
    "library(htm2txt)\n",
    "library(pdftools)\n",
    "library(textreadr)\n",
    "library(magrittr)"
   ]
  },
  {
   "cell_type": "code",
   "execution_count": null,
   "id": "81333d2f-ca34-49ba-bdd5-4fe327f417c4",
   "metadata": {},
   "outputs": [],
   "source": [
    "options(repr.matrix.max.rows=100, repr.matrix.max.cols=40) # for limiting the number of top and bottom rows of tables printed "
   ]
  },
  {
   "cell_type": "markdown",
   "id": "18977cdc-a73c-4dfe-bac5-3dcdcb389cd2",
   "metadata": {},
   "source": [
    "![xkcd](../imagesbb/regular_expressions.png)\n",
    "\n",
    "(https://xkcd.com/208/)"
   ]
  },
  {
   "cell_type": "markdown",
   "id": "46f8ef57-69e8-43fa-8701-428ade7d9b08",
   "metadata": {},
   "source": [
    "According to [Regular-Expression.info](https://www.regular-expressions.info/):\n",
    "\n",
    ">A regular expression (regex or regexp for short) is a special text string for describing a search pattern. You can think of regular expressions as wildcards on steroids."
   ]
  },
  {
   "cell_type": "markdown",
   "id": "c1f63492-28d7-4618-bed5-e276a9bd5958",
   "metadata": {},
   "source": [
    "While mathematician Stephen Cole Kleene is the first person to introduce the concept ([Regular expression](https://en.wikipedia.org/wiki/Regular_expression)),\n",
    "\n",
    "It was again the great Ken Thompson who designed the first implementation to popularize the usage of regex by grep function in text editor ed and later as the grep command in UNIX shell\n",
    "\n",
    "Let's hear its story from himself as interviewed by the great Brian Kernighan:"
   ]
  },
  {
   "cell_type": "markdown",
   "id": "a3deac3d-64be-4205-8681-b7b1aa688d28",
   "metadata": {},
   "source": [
    "[![Ken Thompson interviewed by Brian Kernighan at VCF East 2019](https://img.youtube.com/vi/EY6q5dv_B-o/0.jpg)](https://youtu.be/EY6q5dv_B-o?t=2115)"
   ]
  },
  {
   "cell_type": "markdown",
   "id": "19eca095-dbf1-43e4-9a0f-6047b1db33da",
   "metadata": {},
   "source": [
    "> So I had grep squirreled away and I'd use it for everything. Again Doug McIlroy, my department head, came in and said\n",
    "> - You know, it would be really good if we could look for things in files and do this nice\n",
    "> - Oh, let me think, I'll think about it overnight\n",
    ">\n",
    "> So the overnight think was basically getting rid of bugs and things I'd meant to do that I hadn't done and you know an hour work maybe at most and next day I presented him with grep and he was \"that's exactly what I wanted\"."
   ]
  },
  {
   "cell_type": "markdown",
   "id": "9c2cb962-3dcc-453f-a4b8-59ff737462c9",
   "metadata": {},
   "source": [
    "# Basic functions from stringr"
   ]
  },
  {
   "cell_type": "markdown",
   "id": "9da1173d-42bf-4cfc-a0a0-a78c85254f94",
   "metadata": {},
   "source": [
    "What do you think is the greatest rock song ever?\n",
    "\n",
    "My answer is:\n",
    "\n",
    "\n",
    "[![Shine On You Crazy Diamond](https://img.youtube.com/vi/54W8kktFE_o/0.jpg)](https://www.youtube.com/watch?v=54W8kktFE_o)\n",
    "\n",
    "It was written for their former bandmate SYD Barrett who had mental problems, so S(hine) on Y(ou) crazy D(iamond)\n",
    "\n",
    "After years of seclusion with no contact, Syd paid a surprise visit to the recording session of the song, a real story:\n",
    "\n",
    "> Roger was there, and he was sitting at the desk, and I came in and I saw this guy sitting behind him – huge, bald, fat guy. I thought, \"He looks a bit... strange...\" Anyway, so I sat down with Roger at the desk and we worked for about ten minutes, and this guy kept on getting up and brushing his teeth and then sitting – doing really weird things, but keeping quiet. And I said to Roger, \"Who is he?\" and Roger said \"I don't know.\" And I said \"Well, I assumed he was a friend of yours,\" and he said \"No, I don't know who he is.\" Anyway, it took me a long time, and then suddenly I realised it was Syd, after maybe 45 minutes. He came in as we were doing the vocals for \"Shine On You Crazy Diamond\", which was basically about Syd. He just, for some incredible reason picked the very day that we were doing a song which was about him. And we hadn't seen him, I don't think, for two years before. That's what's so incredibly... weird about this guy. And a bit disturbing, as well, I mean, particularly when you see a guy, that you don't, you couldn't recognise him. And then, for him to pick the very day we want to start putting vocals on, which is a song about him. Very strange."
   ]
  },
  {
   "cell_type": "markdown",
   "id": "b7c8b03f-d433-4eb3-8f3b-5dca6e2374bb",
   "metadata": {},
   "source": [
    "Here he is captured during that real visit:"
   ]
  },
  {
   "cell_type": "markdown",
   "id": "713fa0f6-ed90-492e-aabb-854176d0db55",
   "metadata": {},
   "source": [
    "![syd](https://upload.wikimedia.org/wikipedia/en/b/b6/Syd_Barrett_Abbey_Road_1975.jpg)"
   ]
  },
  {
   "cell_type": "code",
   "execution_count": null,
   "id": "b2ba2c99-a178-45c4-9962-747ebe2a5f4e",
   "metadata": {},
   "outputs": [],
   "source": [
    "shine <- readLines(\"~/databb/text/shine\")"
   ]
  },
  {
   "cell_type": "code",
   "execution_count": null,
   "id": "c643c7bb-0218-43cc-83ec-28908f06ce46",
   "metadata": {},
   "outputs": [],
   "source": [
    "shine %>% paste(collapse = \"\\n\") %>% cat"
   ]
  },
  {
   "cell_type": "markdown",
   "id": "e49a43e4-b5f1-4354-945b-d50b5826ac87",
   "metadata": {},
   "source": [
    " "
   ]
  },
  {
   "cell_type": "markdown",
   "id": "23177cf6-6837-4dd1-ab97-c2db0c0cdc82",
   "metadata": {},
   "source": [
    "Select the whole lines matching the pattern:"
   ]
  },
  {
   "cell_type": "code",
   "execution_count": null,
   "id": "50b1cee8-1401-49f9-91f3-47ddb0fb8c3b",
   "metadata": {},
   "outputs": [],
   "source": [
    "shine %>% str_subset(\"Shine\")"
   ]
  },
  {
   "cell_type": "markdown",
   "id": "282e4143-fd14-4a89-90b9-459f6db83e7b",
   "metadata": {},
   "source": [
    "Extract the parts that match the pattern"
   ]
  },
  {
   "cell_type": "markdown",
   "id": "f69d631f-a4fa-44ab-be1a-52b560e1d5c2",
   "metadata": {},
   "source": [
    "Only the first match as a vector:"
   ]
  },
  {
   "cell_type": "code",
   "execution_count": null,
   "id": "dd03f4fb-3aa4-441a-83df-98f31080c525",
   "metadata": {},
   "outputs": [],
   "source": [
    "shine %>% str_extract(\"Shine on you crazy diamond\")"
   ]
  },
  {
   "cell_type": "markdown",
   "id": "9d8fbbba-af28-4b7a-bd10-028d18217f5b",
   "metadata": {},
   "source": [
    "Or all matches as a list:"
   ]
  },
  {
   "cell_type": "code",
   "execution_count": null,
   "id": "752c1a14-37a0-4c93-8f3f-3c9f913f3206",
   "metadata": {},
   "outputs": [],
   "source": [
    "shine %>% str_extract_all(\"you\")"
   ]
  },
  {
   "cell_type": "markdown",
   "id": "209b6c13-4ac7-402b-8a3f-d8c7f3356d79",
   "metadata": {},
   "source": [
    "Replace the first match with sth else:"
   ]
  },
  {
   "cell_type": "code",
   "execution_count": null,
   "id": "e5923e36-ccb2-4946-81fc-93e108eeb386",
   "metadata": {},
   "outputs": [],
   "source": [
    "shine %>% str_replace(\"you\", \"YO\")"
   ]
  },
  {
   "cell_type": "markdown",
   "id": "bd28948b-2af2-47a7-9ae7-822ca95bf9cb",
   "metadata": {},
   "source": [
    "Replace all matches with sth else:"
   ]
  },
  {
   "cell_type": "code",
   "execution_count": null,
   "id": "53bdda6a-3fe0-4607-8129-12e383115907",
   "metadata": {},
   "outputs": [],
   "source": [
    "shine %>% str_replace_all(\"you\", \"YO\")"
   ]
  },
  {
   "cell_type": "markdown",
   "id": "c0bb2a43-88dd-4bee-820a-8ac2b763f9cb",
   "metadata": {},
   "source": [
    "Check whether each lines matches the pattern:"
   ]
  },
  {
   "cell_type": "code",
   "execution_count": null,
   "id": "0814b428-2eb3-42e6-b943-1ff13307ae54",
   "metadata": {},
   "outputs": [],
   "source": [
    "shine %>% str_detect(\"Shine\")"
   ]
  },
  {
   "cell_type": "markdown",
   "id": "29a3b54f-d6f7-4a46-8e67-c0413c61b9d3",
   "metadata": {},
   "source": [
    "Get the indices of matching lines:"
   ]
  },
  {
   "cell_type": "code",
   "execution_count": null,
   "id": "51efc730-204e-4dfe-90ce-cdb834324e3a",
   "metadata": {},
   "outputs": [],
   "source": [
    "shine %>% str_which(\"Shine\")"
   ]
  },
  {
   "cell_type": "markdown",
   "id": "e5df173b-ef22-49cf-a820-8ea8fc2a018d",
   "metadata": {},
   "source": [
    "# Fixed \"irregular\" patterns"
   ]
  },
  {
   "cell_type": "markdown",
   "id": "8f8ab340-4434-4852-a574-6e8805016bbe",
   "metadata": {},
   "source": [
    "Let's first create some gibberish like the one spoken by Evan, played by Steve Carell in Bruce Almighty:\n",
    "\n",
    "\n",
    "[![Bruce Almighty - Evan's Gibberish](https://img.youtube.com/vi/FiEw1jcLztA/0.jpg)](https://www.youtube.com/watch?v=FiEw1jcLztA)"
   ]
  },
  {
   "cell_type": "markdown",
   "id": "37b74bce-7f37-4fbf-bb76-0532eec4dca8",
   "metadata": {},
   "source": [
    "We will create initial length of words, create the characters for the letters and also number of repetitions for each character for a richer set of possibilities for us to query with regex.\n",
    "\n",
    "Then we play around with these characters and repetitions to create the words and then sentences:"
   ]
  },
  {
   "cell_type": "code",
   "execution_count": null,
   "id": "3c0101c6-84a7-4adb-a326-d9dc2dd55de8",
   "metadata": {},
   "outputs": [],
   "source": [
    "nwords <- 100"
   ]
  },
  {
   "cell_type": "code",
   "execution_count": null,
   "id": "251b55c3-9daf-4092-9db5-a2809b76e921",
   "metadata": {},
   "outputs": [],
   "source": [
    "set.seed(20240221)"
   ]
  },
  {
   "cell_type": "markdown",
   "id": "389865c5-674a-49b2-a217-68ab810de260",
   "metadata": {},
   "source": [
    "We use double poisson distribution for word lengths and number of repetitions for each character inside the word:"
   ]
  },
  {
   "cell_type": "code",
   "execution_count": null,
   "id": "cf78f09a-3011-47bd-ac78-22d1b66cd423",
   "metadata": {},
   "outputs": [],
   "source": [
    "wlength <- (1 + gamlss.dist::rDPO(nwords, 4, 0.5))"
   ]
  },
  {
   "cell_type": "code",
   "execution_count": null,
   "id": "2626c982-26f5-4fa7-b446-522988ac9688",
   "metadata": {},
   "outputs": [],
   "source": [
    "wlength"
   ]
  },
  {
   "cell_type": "code",
   "execution_count": null,
   "id": "440bd947-7ebb-4dfc-a730-3741d3f6f18b",
   "metadata": {},
   "outputs": [],
   "source": [
    "wlength %>% hist"
   ]
  },
  {
   "cell_type": "code",
   "execution_count": null,
   "id": "958afaaa-fbe5-47f7-a428-7274cc32b6ef",
   "metadata": {},
   "outputs": [],
   "source": [
    "reps <- lapply(wlength, function(x) (1 + gamlss.dist::rDPO(x, 1, 1.5)))"
   ]
  },
  {
   "cell_type": "code",
   "execution_count": null,
   "id": "f8b11875-e761-4ce2-879f-538df1c0fee0",
   "metadata": {},
   "outputs": [],
   "source": [
    "reps %>% head"
   ]
  },
  {
   "cell_type": "code",
   "execution_count": null,
   "id": "55bef30d-0c05-4e09-a3a9-a8996109c17b",
   "metadata": {},
   "outputs": [],
   "source": [
    "reps %>% unlist %>% hist"
   ]
  },
  {
   "cell_type": "markdown",
   "id": "3b1705a0-4667-4960-98da-8d3f67e69841",
   "metadata": {},
   "source": [
    "Sample letters:"
   ]
  },
  {
   "cell_type": "code",
   "execution_count": null,
   "id": "1c89c5e3-bbb0-49f9-9c11-b23475278971",
   "metadata": {},
   "outputs": [],
   "source": [
    "lets <- lapply(wlength, function(x) sample(c(LETTERS, letters, rep(0:9, 3), \".\"), x, replace = T))"
   ]
  },
  {
   "cell_type": "markdown",
   "id": "228a0c6e-fc8c-4302-a69f-7efd129b9b80",
   "metadata": {},
   "source": [
    "Repeat those letters by first creating a function for that:"
   ]
  },
  {
   "cell_type": "code",
   "execution_count": null,
   "id": "98087c5c-e789-4e66-8620-3f7e8665e486",
   "metadata": {},
   "outputs": [],
   "source": [
    "repv <- function(x, y) mapply(rep, x, y, SIMPLIFY = F) %>% unlist %>% unname"
   ]
  },
  {
   "cell_type": "markdown",
   "id": "d723c6ca-a6a7-4d85-a132-3d4038997671",
   "metadata": {},
   "source": [
    "Paste into words:"
   ]
  },
  {
   "cell_type": "code",
   "execution_count": null,
   "id": "df150a6f-5a26-4052-80ad-eb1fd0536d2f",
   "metadata": {},
   "outputs": [],
   "source": [
    "words <- mapply(repv, lets, reps, SIMPLIFY = F) %>% lapply(paste, collapse = \"\")"
   ]
  },
  {
   "cell_type": "markdown",
   "id": "c7555a39-c424-42e2-8081-a3ba0bcd72a9",
   "metadata": {},
   "source": [
    "Paste into sentences:"
   ]
  },
  {
   "cell_type": "code",
   "execution_count": null,
   "id": "9969a8b8-4454-4022-a1bc-76cdf6d16bb6",
   "metadata": {},
   "outputs": [],
   "source": [
    "nsentence <- 5"
   ]
  },
  {
   "cell_type": "code",
   "execution_count": null,
   "id": "155b187f-b72e-4c73-b85d-07b560e1e149",
   "metadata": {},
   "outputs": [],
   "source": [
    "sentences <- words %>% split(rep(1:nsentence, each = nwords/nsentence)) %>% lapply(paste, collapse = \" \") %>% unlist"
   ]
  },
  {
   "cell_type": "markdown",
   "id": "252a1a5b-01a7-40a2-955a-b8f34753d479",
   "metadata": {},
   "source": [
    "Now we have our gibberish:"
   ]
  },
  {
   "cell_type": "code",
   "execution_count": null,
   "id": "4cea63d9-93ba-40da-8e42-53cc4260397c",
   "metadata": {},
   "outputs": [],
   "source": [
    "sentences"
   ]
  },
  {
   "cell_type": "markdown",
   "id": "5a28f71b-ef8b-4edc-a7c2-2b0466b00cab",
   "metadata": {},
   "source": [
    "And we can start matching fixed patterns:"
   ]
  },
  {
   "cell_type": "code",
   "execution_count": null,
   "id": "0bfaf04c-8a96-46fc-a2b2-f8e9dd777417",
   "metadata": {},
   "outputs": [],
   "source": [
    "sentences %>% str_subset(\"a\") %>% str_extract_all(\"a\")"
   ]
  },
  {
   "cell_type": "code",
   "execution_count": null,
   "id": "70f4590d-34c1-47ae-8bf4-75327b0f640b",
   "metadata": {},
   "outputs": [],
   "source": [
    "sentences %>% str_subset(\"aa\") %>% str_extract_all(\"aa\")"
   ]
  },
  {
   "cell_type": "code",
   "execution_count": null,
   "id": "a7c97032-ab8b-4e54-8715-fe2bffcb819b",
   "metadata": {},
   "outputs": [],
   "source": [
    "sentences %>% str_subset(\"bbb\") %>% str_extract_all(\"bbb\")"
   ]
  },
  {
   "cell_type": "code",
   "execution_count": null,
   "id": "c27367bb-a4c3-42a7-967c-97f9a6a643c0",
   "metadata": {},
   "outputs": [],
   "source": [
    "sentences %>% str_subset(\"01\") %>% str_extract_all(\"01\")"
   ]
  },
  {
   "cell_type": "code",
   "execution_count": null,
   "id": "c06c4833-9793-44bf-96ef-2f54cb8863a8",
   "metadata": {},
   "outputs": [],
   "source": [
    "sentences %>% str_subset(\"34\") %>% str_extract_all(\"34\")"
   ]
  },
  {
   "cell_type": "code",
   "execution_count": null,
   "id": "05b75568-1276-49ca-a684-7e6960673fa9",
   "metadata": {},
   "outputs": [],
   "source": [
    "sentences %>% str_subset(\"42\") %>% str_extract_all(\"42\")"
   ]
  },
  {
   "cell_type": "markdown",
   "id": "2377c4c9-6ca2-480e-a63b-ec924e0db332",
   "metadata": {},
   "source": [
    "Fixed patterns are not so useful to work with"
   ]
  },
  {
   "cell_type": "markdown",
   "id": "178f007d-bdc6-4355-a434-1426d11dfce2",
   "metadata": {},
   "source": [
    "# Building blocks of regex"
   ]
  },
  {
   "cell_type": "markdown",
   "id": "76467cd4-f61b-4652-a7b8-4a80d34f47d2",
   "metadata": {},
   "source": [
    "## Quantifiers"
   ]
  },
  {
   "cell_type": "markdown",
   "id": "8a96a48c-8599-487a-8f40-17926c2a4adc",
   "metadata": {},
   "source": [
    "### Exact repetitions"
   ]
  },
  {
   "cell_type": "markdown",
   "id": "9411d54f-b152-4dfb-97ef-f2dc7875bd8d",
   "metadata": {},
   "source": [
    "Two times:"
   ]
  },
  {
   "cell_type": "code",
   "execution_count": null,
   "id": "59551886-dbab-49f3-ad85-e5c72c5bd9ca",
   "metadata": {},
   "outputs": [],
   "source": [
    "sentences %>% unlist %>% str_extract_all(\"a{2}\")"
   ]
  },
  {
   "cell_type": "markdown",
   "id": "640ebdb7-204b-4b85-b848-d06053f1d4a1",
   "metadata": {},
   "source": [
    "Three times"
   ]
  },
  {
   "cell_type": "code",
   "execution_count": null,
   "id": "bece03ec-3925-4e0f-a59e-dac07b87ab0b",
   "metadata": {},
   "outputs": [],
   "source": [
    "sentences %>% unlist %>% str_extract_all(\"b{3}\")"
   ]
  },
  {
   "cell_type": "markdown",
   "id": "54783605-3671-43e6-9f6f-06fb31fa940f",
   "metadata": {},
   "source": [
    "Two to three times:"
   ]
  },
  {
   "cell_type": "code",
   "execution_count": null,
   "id": "8fe02d00-beed-4ff2-a289-eb4e24b58ef5",
   "metadata": {},
   "outputs": [],
   "source": [
    "sentences %>% unlist %>% str_extract_all(\"c{2,3}\")"
   ]
  },
  {
   "cell_type": "markdown",
   "id": "077e30e3-409a-44e6-b3c1-ee46a89844f4",
   "metadata": {},
   "source": [
    "Two or more times:"
   ]
  },
  {
   "cell_type": "code",
   "execution_count": null,
   "id": "6c460fa7-d91f-4fe7-a2d0-7b4df1902940",
   "metadata": {},
   "outputs": [],
   "source": [
    "sentences %>% unlist %>% str_extract_all(\"7{2,}\")"
   ]
  },
  {
   "cell_type": "markdown",
   "id": "b8f2af10-90cc-4601-9e5e-a3eac06afbd7",
   "metadata": {},
   "source": [
    "One to four times:"
   ]
  },
  {
   "cell_type": "code",
   "execution_count": null,
   "id": "1a5a7d06-b18f-42d8-bd87-9a7afbbbd6a5",
   "metadata": {},
   "outputs": [],
   "source": [
    "sentences %>% unlist %>% str_extract_all(\"d{1,4}\")"
   ]
  },
  {
   "cell_type": "markdown",
   "id": "6a3f5b2f-90ae-4dd7-95aa-a7fcb2af7b56",
   "metadata": {},
   "source": [
    "### \\+: One or more"
   ]
  },
  {
   "cell_type": "code",
   "execution_count": null,
   "id": "785fe466-3369-4385-b8d5-fc6768835f23",
   "metadata": {},
   "outputs": [],
   "source": [
    "sentences %>% unlist %>% str_extract_all(\"e+\")"
   ]
  },
  {
   "cell_type": "code",
   "execution_count": null,
   "id": "f978aef5-e658-46f4-a71a-72a2128182f3",
   "metadata": {},
   "outputs": [],
   "source": [
    "sentences %>% unlist %>% str_extract_all(\"f+d\")"
   ]
  },
  {
   "cell_type": "code",
   "execution_count": null,
   "id": "2013016d-56fe-4e16-9d85-9a50aad0625b",
   "metadata": {},
   "outputs": [],
   "source": [
    "sentences %>% unlist %>% str_extract_all(\"2+3\")"
   ]
  },
  {
   "cell_type": "markdown",
   "id": "8521c13c-5768-4133-8f09-5338a10f3f60",
   "metadata": {},
   "source": [
    "### \\*: Zero or more"
   ]
  },
  {
   "cell_type": "code",
   "execution_count": null,
   "id": "747f71b2-6fdc-4747-b24c-ca3c0b3f42ff",
   "metadata": {},
   "outputs": [],
   "source": [
    "sentences %>% unlist %>% str_extract_all(\"2*3\")"
   ]
  },
  {
   "cell_type": "markdown",
   "id": "58ceaaef-8ddd-4bda-822c-6d44622f8a47",
   "metadata": {},
   "source": [
    "### ?: Zero or one"
   ]
  },
  {
   "cell_type": "code",
   "execution_count": null,
   "id": "76ffbf95-7291-438d-a5db-474b5aa881ff",
   "metadata": {},
   "outputs": [],
   "source": [
    "sentences %>% unlist %>% str_extract_all(\"2?3\")"
   ]
  },
  {
   "cell_type": "markdown",
   "id": "bdaf59c6-637d-489c-92ac-46568a8b35a6",
   "metadata": {},
   "source": [
    "## Capture group"
   ]
  },
  {
   "cell_type": "markdown",
   "id": "8c160c37-0442-4b3f-9042-88653f8d7469",
   "metadata": {},
   "source": [
    "Just like in mathematics:"
   ]
  },
  {
   "cell_type": "code",
   "execution_count": null,
   "id": "1980dc4f-e962-4004-a3a1-33df405f875e",
   "metadata": {},
   "outputs": [],
   "source": [
    "\"aaabb abbb aab bbbaa aa bbbb ababab bab bb\" %>% str_extract_all(\"(a*b+)+\")"
   ]
  },
  {
   "cell_type": "markdown",
   "id": "c0e92b6c-5def-4f18-a93d-6a09ccf8e08c",
   "metadata": {},
   "source": [
    "## Qualifiers"
   ]
  },
  {
   "cell_type": "markdown",
   "id": "56deabff-34de-46e2-949e-b39785825ae1",
   "metadata": {},
   "source": [
    "### \\.: Any character"
   ]
  },
  {
   "cell_type": "code",
   "execution_count": null,
   "id": "b0087a80-66f5-415a-a164-78c67d7c8993",
   "metadata": {},
   "outputs": [],
   "source": [
    "sentences %>% unlist %>% str_extract_all(\"a.*b\")"
   ]
  },
  {
   "cell_type": "markdown",
   "id": "eb30791e-d77c-4be0-8579-e445648fda8a",
   "metadata": {},
   "source": [
    "### \\*?, \\+?: lazy"
   ]
  },
  {
   "cell_type": "markdown",
   "id": "70477f91-a883-4d7f-acb9-0a242f668e37",
   "metadata": {},
   "source": [
    "This is greedy, matches the longest pattern:"
   ]
  },
  {
   "cell_type": "code",
   "execution_count": null,
   "id": "0591eb44-d6af-4898-aee8-1facf75ac647",
   "metadata": {},
   "outputs": [],
   "source": [
    "\"abeaxbbcccb\" %>% str_extract_all(\"a.*b\")"
   ]
  },
  {
   "cell_type": "markdown",
   "id": "0ecf97fc-20df-4b07-8d98-91ab2c91f653",
   "metadata": {},
   "source": [
    "This is lazy, matches the shortest pattern:"
   ]
  },
  {
   "cell_type": "code",
   "execution_count": null,
   "id": "2a95ec92-4bcd-4f9e-b243-2dba4904bc67",
   "metadata": {},
   "outputs": [],
   "source": [
    "\"abeaxbbcccb\" %>% str_extract_all(\"a.*?b\")"
   ]
  },
  {
   "cell_type": "markdown",
   "id": "45e8721c-0d5f-456e-b1ae-19174d1b0a27",
   "metadata": {},
   "source": [
    "Greedy:"
   ]
  },
  {
   "cell_type": "code",
   "execution_count": null,
   "id": "f6078b00-d3ea-49c5-b860-35299ca8e9dc",
   "metadata": {},
   "outputs": [],
   "source": [
    "\"abeaxbbcccb\" %>% str_extract_all(\"a.+b\")"
   ]
  },
  {
   "cell_type": "markdown",
   "id": "7ba570c0-68cf-4b06-ad49-ea20387c3dd2",
   "metadata": {},
   "source": [
    "Lazy:"
   ]
  },
  {
   "cell_type": "code",
   "execution_count": null,
   "id": "05ccfedb-5dcc-4865-8785-6fd59ba16f5e",
   "metadata": {},
   "outputs": [],
   "source": [
    "\"axbbcccb\" %>% str_extract_all(\"a.+?b\")"
   ]
  },
  {
   "cell_type": "markdown",
   "id": "5b8301ce-8439-444b-be27-61b88665eda8",
   "metadata": {},
   "source": [
    "### \\\\w: alphanumeric"
   ]
  },
  {
   "cell_type": "code",
   "execution_count": null,
   "id": "cd2de46e-6187-4429-af7c-dd298bdcc762",
   "metadata": {},
   "outputs": [],
   "source": [
    "\"abc123.,?_-[{vvvv\" %>% str_extract_all(\"\\\\w+\")"
   ]
  },
  {
   "cell_type": "markdown",
   "id": "b058eb7b-76f0-46eb-bd1a-1836f59ccfc5",
   "metadata": {},
   "source": [
    "### digits"
   ]
  },
  {
   "cell_type": "code",
   "execution_count": null,
   "id": "de3c5ccb-41f2-4613-aa1a-4c2455d098c3",
   "metadata": {},
   "outputs": [],
   "source": [
    "\"abc123.,?_-[{vvvv3434aa-bb241\" %>% str_extract_all(\"\\\\d+\")"
   ]
  },
  {
   "cell_type": "markdown",
   "id": "2961e112-92b6-4ab7-a079-9d2145606d35",
   "metadata": {},
   "source": [
    "### \\\\s: whitespace"
   ]
  },
  {
   "cell_type": "code",
   "execution_count": null,
   "id": "2a308c61-3147-4128-a39b-1e231756de82",
   "metadata": {},
   "outputs": [],
   "source": [
    "\"a  b c     d  e f    g\" %>% str_replace_all(\" +\", \"\") "
   ]
  },
  {
   "cell_type": "markdown",
   "id": "7d999d27-bb0e-4f1a-a91f-22201b4ddff3",
   "metadata": {},
   "source": [
    "## Character set"
   ]
  },
  {
   "cell_type": "markdown",
   "id": "850506bb-8b8a-460e-943b-82038e3c806d",
   "metadata": {},
   "source": [
    "Match only the characters inside the brackets:"
   ]
  },
  {
   "cell_type": "code",
   "execution_count": null,
   "id": "9107fb37-15d4-44d7-9ed8-779dee7264f8",
   "metadata": {},
   "outputs": [],
   "source": [
    "sentences %>% unlist %>% str_extract_all(\"[abcdef12345]+\")"
   ]
  },
  {
   "cell_type": "markdown",
   "id": "2b9dae80-7071-4808-8df4-8671ee29cef5",
   "metadata": {},
   "source": [
    "### [a-z]: letters"
   ]
  },
  {
   "cell_type": "code",
   "execution_count": null,
   "id": "384626b4-7885-44a0-823a-512b895debf7",
   "metadata": {},
   "outputs": [],
   "source": [
    "sentences %>% unlist %>% str_extract_all(\"[a-z]+\")"
   ]
  },
  {
   "cell_type": "markdown",
   "id": "9364de9e-093d-4dc9-9bdb-8624f3899453",
   "metadata": {},
   "source": [
    "### [A-Z]: LETTERS"
   ]
  },
  {
   "cell_type": "code",
   "execution_count": null,
   "id": "85aa46f2-ad5b-44b4-9df8-90290b061c30",
   "metadata": {},
   "outputs": [],
   "source": [
    "sentences %>% unlist %>% str_extract_all(\"[A-Z]+\")"
   ]
  },
  {
   "cell_type": "markdown",
   "id": "f4e6dee6-086c-46c5-837a-ddbedbd75241",
   "metadata": {},
   "source": [
    "### [0-9]: digits again"
   ]
  },
  {
   "cell_type": "code",
   "execution_count": null,
   "id": "c53c7dd9-24ae-49c3-87ef-e851b45d5dd4",
   "metadata": {},
   "outputs": [],
   "source": [
    "sentences %>% unlist %>% str_extract_all(\"[0-9]+\")"
   ]
  },
  {
   "cell_type": "markdown",
   "id": "5bec8c11-bb46-42fd-b279-785d55ba7278",
   "metadata": {},
   "source": [
    "### [^]: Exclude"
   ]
  },
  {
   "cell_type": "markdown",
   "id": "b5e70555-458b-4a89-8b87-e843ca799400",
   "metadata": {},
   "source": [
    "Do not match characters inside the brackets:"
   ]
  },
  {
   "cell_type": "code",
   "execution_count": null,
   "id": "563d2c81-6f47-4f3d-934c-a2c3422767cd",
   "metadata": {},
   "outputs": [],
   "source": [
    "sentences %>% unlist %>% str_extract_all(\"[^abcdef12345]+\")"
   ]
  },
  {
   "cell_type": "markdown",
   "id": "e4a8a616-d8e8-4b2e-abb3-3fce20283924",
   "metadata": {},
   "source": [
    "## Others"
   ]
  },
  {
   "cell_type": "markdown",
   "id": "e02c5c91-4f3c-4c2d-85e3-425b7335b400",
   "metadata": {},
   "source": [
    "### ^: Start anchor"
   ]
  },
  {
   "cell_type": "markdown",
   "id": "b6118254-87e2-4792-8e3c-ee09fe9115c9",
   "metadata": {},
   "source": [
    "Beginning of line"
   ]
  },
  {
   "cell_type": "code",
   "execution_count": null,
   "id": "f2795697-e54e-4097-b5bd-e41079275c66",
   "metadata": {},
   "outputs": [],
   "source": [
    "words %>% str_subset(\"^1\")"
   ]
  },
  {
   "cell_type": "markdown",
   "id": "ef091cfb-0224-42d5-a7c7-ba44908ef8a7",
   "metadata": {},
   "source": [
    "### $: End anchor"
   ]
  },
  {
   "cell_type": "markdown",
   "id": "9223e741-760e-4057-b717-ff23d5986dd6",
   "metadata": {},
   "source": [
    "End of line"
   ]
  },
  {
   "cell_type": "code",
   "execution_count": null,
   "id": "8c770bab-d585-4edc-9045-2332063d95b1",
   "metadata": {},
   "outputs": [],
   "source": [
    "words %>% str_subset(\"a$\")"
   ]
  },
  {
   "cell_type": "markdown",
   "id": "9e79002d-a206-4745-8c6c-c0bfc64cf237",
   "metadata": {},
   "source": [
    "### Word boundary"
   ]
  },
  {
   "cell_type": "markdown",
   "id": "495d6919-7373-4770-b5e2-289f5f671172",
   "metadata": {},
   "source": [
    "Beginning or end of words:"
   ]
  },
  {
   "cell_type": "code",
   "execution_count": null,
   "id": "b2e5b4ae-a761-40ef-835d-019ec1652a10",
   "metadata": {},
   "outputs": [],
   "source": [
    "\"asdasda ccccc dasdasda\n",
    "ffgggg\" %>% str_extract_all(\"\\\\b\\\\w{2}\")"
   ]
  },
  {
   "cell_type": "code",
   "execution_count": null,
   "id": "e87a6873-8e73-4a56-9a09-82b635189f46",
   "metadata": {},
   "outputs": [],
   "source": [
    "\"asdasda ccccc dasdasda\n",
    "ffgggg\" %>% str_extract_all(\"\\\\w{2}\\\\b\")"
   ]
  },
  {
   "cell_type": "markdown",
   "id": "75ec4c4f-ab0d-406a-80dd-24a9f5e5e77b",
   "metadata": {},
   "source": [
    "### \\\\: Escape literals"
   ]
  },
  {
   "cell_type": "markdown",
   "id": "b74178ad-f333-4bd9-816b-135e4c9ea4f9",
   "metadata": {},
   "source": [
    "If we want to treat a special character in regex as a literal:"
   ]
  },
  {
   "cell_type": "code",
   "execution_count": null,
   "id": "c5e99d42-da5b-4eb6-ac2f-e48069150e25",
   "metadata": {},
   "outputs": [],
   "source": [
    "\"aa[bbd..ccc{}}\" %>% str_extract_all(\"[\\\\.\\\\[\\\\{\\\\}]+\")"
   ]
  },
  {
   "cell_type": "markdown",
   "id": "b266e091-38ca-4886-97b3-b1fbf7753bd4",
   "metadata": {},
   "source": [
    "### |: Alternation/Or"
   ]
  },
  {
   "cell_type": "code",
   "execution_count": null,
   "id": "241bee72-4644-4c78-93dd-0876d0cf2e1e",
   "metadata": {},
   "outputs": [],
   "source": [
    "sentences %>% unlist %>% str_extract_all(\"a{3,}|b{1,4}\")"
   ]
  },
  {
   "cell_type": "code",
   "execution_count": null,
   "id": "9b9d93a1-0cf2-43ab-8618-03f6f8bea77b",
   "metadata": {},
   "outputs": [],
   "source": [
    "sentences %>% unlist %>% str_extract_all(\"(a|b){2,4}\")"
   ]
  },
  {
   "cell_type": "markdown",
   "id": "643f1614-a79a-4f52-bbe0-9649d01f104a",
   "metadata": {},
   "source": [
    "## backreference"
   ]
  },
  {
   "cell_type": "markdown",
   "id": "e4b0944e-0be4-44d4-9bed-e44e71dea58f",
   "metadata": {},
   "source": [
    "Using the capture group as a variable referred with \\\\1 \\\\2 and so on"
   ]
  },
  {
   "cell_type": "code",
   "execution_count": null,
   "id": "686dc353-6c78-4042-a0ea-e1bd05f4d3c3",
   "metadata": {},
   "outputs": [],
   "source": [
    "\"asda sdfsdfs gs fb asdasda bjk gs\" %>% str_replace_all(\"(gs)\", \"\\\\1 HURRAH\")"
   ]
  },
  {
   "cell_type": "markdown",
   "id": "98248e1b-42d3-474b-9515-d79706ef1177",
   "metadata": {},
   "source": [
    "## case insensitive"
   ]
  },
  {
   "cell_type": "code",
   "execution_count": null,
   "id": "c3537270-dc48-4dc8-97cf-8bc9dd771136",
   "metadata": {},
   "outputs": [],
   "source": [
    "sentences %>% unlist %>% str_extract_all(\"a+\")"
   ]
  },
  {
   "cell_type": "code",
   "execution_count": null,
   "id": "68cbda71-9a0b-4612-a5dd-f47032366523",
   "metadata": {},
   "outputs": [],
   "source": [
    "sentences %>% unlist %>% str_extract_all(\"A+\")"
   ]
  },
  {
   "cell_type": "code",
   "execution_count": null,
   "id": "8dce72d1-1499-452e-b25d-10a9a07a520b",
   "metadata": {},
   "outputs": [],
   "source": [
    "sentences %>% unlist %>% str_extract_all(\"(?i)[a-z]{1,6}\")"
   ]
  },
  {
   "cell_type": "markdown",
   "id": "acba9bfe-dbbd-4a01-b412-15731ff949c8",
   "metadata": {},
   "source": [
    "## non-capturing group"
   ]
  },
  {
   "cell_type": "code",
   "execution_count": null,
   "id": "d8a0fa00-f7b5-4849-9072-17d10b68e152",
   "metadata": {},
   "outputs": [],
   "source": [
    "\"aaaaaa bcgsd gs ee\" %>% str_extract_all(\"(?:bc)(gs)\")"
   ]
  },
  {
   "cell_type": "code",
   "execution_count": null,
   "id": "02b92aeb-8e06-4843-9e6f-f7e4b42e2b0f",
   "metadata": {},
   "outputs": [],
   "source": [
    "\"aaaaaa bcgsd gs ee\" %>% str_replace_all(\"(bc)(gs)\", \"\\\\1 HURRAH\")"
   ]
  },
  {
   "cell_type": "markdown",
   "id": "c202a60f-8d52-49c5-9eae-4ad6fef5ed18",
   "metadata": {},
   "source": [
    "\\\\1 does not back refer to the first group, it is not captured because of ?:"
   ]
  },
  {
   "cell_type": "code",
   "execution_count": null,
   "id": "457745d7-cb3d-44b6-9518-60e9ab73890c",
   "metadata": {},
   "outputs": [],
   "source": [
    "\"aaaaaa bcgsd gs ee\" %>% str_replace_all(\"(?:bc)(gs)\", \"\\\\1 HURRAH\")"
   ]
  },
  {
   "cell_type": "code",
   "execution_count": null,
   "id": "ec2956ab-bd7a-4c5d-9cbc-17bd3afc40a1",
   "metadata": {},
   "outputs": [],
   "source": [
    "\"aaaaaa bcgsd gs ee\" %>% str_replace_all(\"(bc)(gs)\", \"\\\\1\\\\2 HURRAH\")"
   ]
  },
  {
   "cell_type": "markdown",
   "id": "799ea0df-1ca3-47dd-bf00-f580d967d666",
   "metadata": {},
   "source": [
    "## lookahead / lookbehind"
   ]
  },
  {
   "cell_type": "markdown",
   "id": "211c56ae-6292-4596-8629-8598682a3242",
   "metadata": {},
   "source": [
    "### lookahead"
   ]
  },
  {
   "cell_type": "markdown",
   "id": "1c556591-657a-48a9-a68b-1869614113ba",
   "metadata": {},
   "source": [
    "#### positive lookahead"
   ]
  },
  {
   "cell_type": "markdown",
   "id": "510cf404-9e84-49b2-a5f3-f2986e53b603",
   "metadata": {},
   "source": [
    "Get the pattern followed by sth:"
   ]
  },
  {
   "cell_type": "code",
   "execution_count": null,
   "id": "69350136-b21e-42d9-ae23-5757d4f3d9d7",
   "metadata": {},
   "outputs": [],
   "source": [
    "\"form field 1: blah blah blah end\n",
    "form field 2: bluh bluh bluh\n",
    "bloh bloh bloh\n",
    "bleh bleh bleh end\" %>% strsplit(\"\\\\n\") %>% unlist %>% str_extract_all(\"(bl\\\\wh ?)+(?=end)\")"
   ]
  },
  {
   "cell_type": "markdown",
   "id": "7984484a-719b-4507-95db-c6cc535b7ee8",
   "metadata": {},
   "source": [
    "#### negative lookahead"
   ]
  },
  {
   "cell_type": "markdown",
   "id": "07c9252b-0e2b-4361-b4b4-c4aa75b2154e",
   "metadata": {},
   "source": [
    "Get the pattern NOT followed by sth:"
   ]
  },
  {
   "cell_type": "code",
   "execution_count": null,
   "id": "4f0cbf99-90f2-4c29-b0a1-667d40523f38",
   "metadata": {},
   "outputs": [],
   "source": [
    "\"form field 1: blah blah blah end\n",
    "form field 2: bluh bluh bluh\n",
    "bloh bloh bloh\n",
    "bleh bleh bleh end\" %>% strsplit(\"\\\\n\") %>% unlist %>% str_extract_all(\"(bl\\\\wh ?)+(?!end)$\")"
   ]
  },
  {
   "cell_type": "markdown",
   "id": "8dee228c-95ab-41e0-9d48-7d4ffcd4518c",
   "metadata": {},
   "source": [
    "### lookbehind"
   ]
  },
  {
   "cell_type": "markdown",
   "id": "0b9ea9c7-1f9d-4f9b-9f19-a5871c45ffc6",
   "metadata": {},
   "source": [
    "#### positive lookbehind"
   ]
  },
  {
   "cell_type": "markdown",
   "id": "dd8caa77-125a-45f1-a67f-4b0c8baffae2",
   "metadata": {},
   "source": [
    "Get the pattern following sth:"
   ]
  },
  {
   "cell_type": "code",
   "execution_count": null,
   "id": "d40010f8-a74d-4160-87e4-687b14e01c09",
   "metadata": {},
   "outputs": [],
   "source": [
    "\"form field 1: blah blah blah end\n",
    "form field 2: bluh bluh bluh\n",
    "bloh bloh bloh\n",
    "bleh bleh bleh end\" %>% strsplit(\"\\\\n\") %>% unlist %>% str_extract_all(\"(?<=^form field \\\\d: )(bl\\\\wh ?)+\")"
   ]
  },
  {
   "cell_type": "markdown",
   "id": "05abd249-699b-42d9-9b96-2ba712682a83",
   "metadata": {},
   "source": [
    "#### negative lookbehind"
   ]
  },
  {
   "cell_type": "markdown",
   "id": "d4846662-9483-4d60-b694-d91e9fdb189d",
   "metadata": {},
   "source": [
    "Get the pattern not following sth:"
   ]
  },
  {
   "cell_type": "code",
   "execution_count": null,
   "id": "0c54abaa-73e1-44eb-98a5-72e39990e926",
   "metadata": {},
   "outputs": [],
   "source": [
    "\"form field 1: blah blah blah end\n",
    "form field 2: bluh bluh bluh\n",
    "bloh bloh bloh\n",
    "bleh bleh bleh end\" %>% strsplit(\"\\\\n\") %>% unlist %>% str_extract_all(\"^(?<!form field \\\\d: )(bl\\\\wh ?)+\")"
   ]
  },
  {
   "cell_type": "markdown",
   "id": "3cbc46af-87ec-4a4d-aa37-0a924ca1df01",
   "metadata": {},
   "source": [
    " "
   ]
  },
  {
   "cell_type": "markdown",
   "id": "f9e0f278-3978-48d9-ba5c-225ff79894cb",
   "metadata": {},
   "source": [
    "## Parse numbers easy way"
   ]
  },
  {
   "cell_type": "markdown",
   "id": "c57490f5-c9c1-464a-bdff-495307333bd0",
   "metadata": {},
   "source": [
    "We can use regex as we know:"
   ]
  },
  {
   "cell_type": "code",
   "execution_count": null,
   "id": "6cbe577d-952e-4a5e-ab05-edbbece81150",
   "metadata": {},
   "outputs": [],
   "source": [
    "\"TRY 100,000.15\" %>% str_replace_all(\"[^0-9\\\\.]+\", \"\") %>% as.numeric"
   ]
  },
  {
   "cell_type": "code",
   "execution_count": null,
   "id": "6834dd9f-87e6-4363-9aae-08c4732eda6d",
   "metadata": {},
   "outputs": [],
   "source": [
    "\"100.000,15 TL\" %>% str_replace_all(\"[^0-9,]+\", \"\") %>% str_replace(\",\", \"\\\\.\") %>% as.numeric"
   ]
  },
  {
   "cell_type": "markdown",
   "id": "9633df76-bff9-4198-82ab-8287cb1690b8",
   "metadata": {},
   "source": [
    "Or we can use some helper/wrapper functions from readr package for simpler cases:"
   ]
  },
  {
   "cell_type": "code",
   "execution_count": null,
   "id": "85e087d1-52f2-4796-a2a3-62c810d49f1c",
   "metadata": {},
   "outputs": [],
   "source": [
    "\"TRY 100,000.15\" %>% parse_number()"
   ]
  },
  {
   "cell_type": "code",
   "execution_count": null,
   "id": "0c233895-c01d-47ba-bd8f-4bd7780637da",
   "metadata": {},
   "outputs": [],
   "source": [
    "\"TRY 100,000.15\" %>% parse_number(locale = locale(decimal_mark = \".\", grouping_mark = \",\"))"
   ]
  },
  {
   "cell_type": "code",
   "execution_count": null,
   "id": "e053aaff-a910-4a36-81bc-d3ff3c43ee7e",
   "metadata": {},
   "outputs": [],
   "source": [
    "\"100.000,15 TL\" %>% parse_number(locale = locale(decimal_mark = \",\", grouping_mark = \".\"))"
   ]
  },
  {
   "cell_type": "markdown",
   "id": "47a6dcd6-1360-458e-b0c2-8169d4549605",
   "metadata": {},
   "source": [
    " "
   ]
  },
  {
   "cell_type": "markdown",
   "id": "484cc380-13bc-4169-9f69-4fa0d728ffb7",
   "metadata": {},
   "source": [
    "Are we ready for some applications?"
   ]
  },
  {
   "cell_type": "markdown",
   "id": "810ce3dc-7b3d-4ff1-b69b-d71b6df1f471",
   "metadata": {},
   "source": [
    "# Applications"
   ]
  },
  {
   "cell_type": "markdown",
   "id": "b60f4894-298e-44de-a239-3ec149d245bb",
   "metadata": {},
   "source": [
    "## Universities and Provinces"
   ]
  },
  {
   "cell_type": "markdown",
   "id": "1f4019ad-f058-4de5-917f-0f3e9040a6ea",
   "metadata": {},
   "source": [
    "Let's get text from the YKS report by OSYM:\n",
    "\n",
    "https://dokuman.osym.gov.tr/pdfdokuman/2021/GENEL/yksdegrapor24122021.pdf"
   ]
  },
  {
   "cell_type": "code",
   "execution_count": null,
   "id": "283d135c-a33e-4e92-9772-014679f9e095",
   "metadata": {},
   "outputs": [],
   "source": [
    "yksreport <- read_pdf(\"~/databb/pdf/yksdegrapor24122021.pdf\")"
   ]
  },
  {
   "cell_type": "code",
   "execution_count": null,
   "id": "092dc683-8002-4c96-bba0-7db6ccdd1e41",
   "metadata": {},
   "outputs": [],
   "source": [
    "setDT(yksreport)"
   ]
  },
  {
   "cell_type": "markdown",
   "id": "69d050f2-c20a-477b-9839-e3f313e3035c",
   "metadata": {},
   "source": [
    "Get the pages for the table of universities and split from newlines:"
   ]
  },
  {
   "cell_type": "code",
   "execution_count": null,
   "id": "21780a8c-a9c6-4c3e-a2e4-6f3aeb2fae1b",
   "metadata": {},
   "outputs": [],
   "source": [
    "pages <- yksreport[page_id %between% c(103, 110), text]  %>% strsplit(\"\\n\") %>% unlist"
   ]
  },
  {
   "cell_type": "code",
   "execution_count": null,
   "id": "04db26ea-c5f2-406c-a8c1-a4a2516e71c8",
   "metadata": {},
   "outputs": [],
   "source": [
    "pages %>% head(20)"
   ]
  },
  {
   "cell_type": "markdown",
   "id": "2beea71b-69b3-44cb-ab08-cf47c2406290",
   "metadata": {},
   "source": [
    "Exclude those parts which only have digits, dots, dashes and whitespaces\n",
    "\n",
    "From the remaining parts, delete the patterns with digit, dot, dashe and whitespace sequences longer than some given characters to clear the mess up:"
   ]
  },
  {
   "cell_type": "code",
   "execution_count": null,
   "id": "c9cf910d-242e-490c-a9d5-fca5a0466dbd",
   "metadata": {},
   "outputs": [],
   "source": [
    "list1 <- pages %>% tail(-12) %>% head(-2) %>% str_subset(\"^[\\\\-\\\\. \\\\d]+$\", negate = T) %>% str_replace_all(\"[\\\\d\\\\-\\\\. ]{5,}\", \"\")"
   ]
  },
  {
   "cell_type": "code",
   "execution_count": null,
   "id": "2574527e-30ae-463c-a9f0-dff1c68af915",
   "metadata": {},
   "outputs": [],
   "source": [
    "listd1 <- data.table(list1)"
   ]
  },
  {
   "cell_type": "code",
   "execution_count": null,
   "id": "e371d820-ea9e-498f-a000-cb93cff10c25",
   "metadata": {},
   "outputs": [],
   "source": [
    "listd1"
   ]
  },
  {
   "cell_type": "markdown",
   "id": "5a5c0c22-88b2-4929-bfe6-62823242cab1",
   "metadata": {},
   "source": [
    "There are some sequence of cells that correspond to headers and footers in tables in each page, we want to exclude them.\n",
    "\n",
    "Figure out what we do here:"
   ]
  },
  {
   "cell_type": "code",
   "execution_count": null,
   "id": "29d774da-3567-4009-92ba-e2757538c957",
   "metadata": {},
   "outputs": [],
   "source": [
    "listd1[, delx1 := str_detect(list1, \"^Devam ediyor\\\\.$\")]"
   ]
  },
  {
   "cell_type": "code",
   "execution_count": null,
   "id": "a1845b14-86ef-4fff-906b-e87722de9ece",
   "metadata": {},
   "outputs": [],
   "source": [
    "listd1[, delx2 := -str_detect(list1, \"^Üstü$\")]"
   ]
  },
  {
   "cell_type": "code",
   "execution_count": null,
   "id": "f13b0a5f-c0db-4c30-8455-1c73bd62a479",
   "metadata": {},
   "outputs": [],
   "source": [
    "listd1[, delx2 := lag(delx2, 1)]"
   ]
  },
  {
   "cell_type": "code",
   "execution_count": null,
   "id": "347b1f7c-28ec-4533-94b8-dd44290c0d3d",
   "metadata": {},
   "outputs": [],
   "source": [
    "listd1[, delx2 := replace_na(delx2, 0)]"
   ]
  },
  {
   "cell_type": "code",
   "execution_count": null,
   "id": "c0f97953-bb6d-4190-8982-334e8ab82453",
   "metadata": {},
   "outputs": [],
   "source": [
    "listd1[, delx3 := cumsum(delx1 + delx2)]"
   ]
  },
  {
   "cell_type": "code",
   "execution_count": null,
   "id": "de9f5e0f-6011-4bac-b58e-7dbe1da6bee9",
   "metadata": {},
   "outputs": [],
   "source": [
    "listd1"
   ]
  },
  {
   "cell_type": "code",
   "execution_count": null,
   "id": "fc734e79-7aeb-4810-b40a-be69dbcaf6be",
   "metadata": {},
   "outputs": [],
   "source": [
    "listd1 <- listd1[delx3 != 1]"
   ]
  },
  {
   "cell_type": "markdown",
   "id": "a5563b60-61d7-4233-9945-b213fd108fc7",
   "metadata": {},
   "source": [
    "And delete empty lines that have nothing in between the start and end:"
   ]
  },
  {
   "cell_type": "code",
   "execution_count": null,
   "id": "a07b9e18-43f9-41d0-af4e-e404b516fabc",
   "metadata": {},
   "outputs": [],
   "source": [
    "listd1 <- listd1[!str_detect(list1, \"^$\")]"
   ]
  },
  {
   "cell_type": "code",
   "execution_count": null,
   "id": "ee75cf0e-78b8-4ad2-8e01-e2df75a8c2f2",
   "metadata": {},
   "outputs": [],
   "source": [
    "#listd1[, str_extract(list1, \"\\\\b[^\\\\s\\\\)]+$\") %>% unique]"
   ]
  },
  {
   "cell_type": "markdown",
   "id": "db9f0a5a-6a64-404a-8b15-0d379ff9cd6a",
   "metadata": {},
   "source": [
    "In pdfs, the text in cells can be split into multiple lines in an awkward way.\n",
    "\n",
    "We have to paste them together. Figure out what we do here:"
   ]
  },
  {
   "cell_type": "code",
   "execution_count": null,
   "id": "540f8e3d-f5dd-4957-88d8-1faf34400587",
   "metadata": {},
   "outputs": [],
   "source": [
    "listd1[, cont := !str_detect(list1, \"^\\\\(|^Üni|^ve|^Yüksekokulu\") & !str_detect(lag(list1, 1), \"( ve *|-|Uluslararası|Sosyal|Teknoloji|bosna|Toplum)$\")]"
   ]
  },
  {
   "cell_type": "code",
   "execution_count": null,
   "id": "5fa21808-7b39-491a-9df3-7864d54155de",
   "metadata": {},
   "outputs": [],
   "source": [
    "#listd1[, cont := !str_detect(list1, \"^\\\\(|^Üni|^ve|^Yüksekokulu\") & str_detect(lag(list1, 1), \"(Üniversitesi|Yüksekokulu|Enstitüsü|Cerrahpaşa)$\")]"
   ]
  },
  {
   "cell_type": "code",
   "execution_count": null,
   "id": "d2680b75-22f2-43d7-b4a3-da1ae724bbcc",
   "metadata": {},
   "outputs": [],
   "source": [
    "listd1[, cont := replace_na(cont, T)]"
   ]
  },
  {
   "cell_type": "code",
   "execution_count": null,
   "id": "4c86b3d7-5a50-4235-abe0-ca3664a3b6a5",
   "metadata": {},
   "outputs": [],
   "source": [
    "listd1[, cont2 := cumsum(cont)]"
   ]
  },
  {
   "cell_type": "code",
   "execution_count": null,
   "id": "caf051e2-9f5c-403b-b1c3-9285bc680605",
   "metadata": {},
   "outputs": [],
   "source": [
    "listd1"
   ]
  },
  {
   "cell_type": "markdown",
   "id": "35f4bf00-6612-45be-9313-c8596a64dc1c",
   "metadata": {},
   "source": [
    "Combine rows that correspond to the same entity:"
   ]
  },
  {
   "cell_type": "code",
   "execution_count": null,
   "id": "3dbf6013-7582-4ed5-91b4-0bffd432ffd8",
   "metadata": {},
   "outputs": [],
   "source": [
    "listd2 <- listd1[, .(fulln = paste(list1, collapse = \" \")), by = cont2]"
   ]
  },
  {
   "cell_type": "markdown",
   "id": "e40486ac-5b5c-42c8-b0b2-fb14af708bf5",
   "metadata": {},
   "source": [
    "Better to standardize text, by converting to lower case and ascii:"
   ]
  },
  {
   "cell_type": "code",
   "execution_count": null,
   "id": "28fdb6c1-727f-41a0-918e-62f90652dcf2",
   "metadata": {},
   "outputs": [],
   "source": [
    "listd2[, fulln2 := iconv(tolower(fulln), from = \"utf-8\", to = \"ascii//TRANSLIT\")]"
   ]
  },
  {
   "cell_type": "markdown",
   "id": "9ab3a445-9fb0-415b-86e9-b85e31d53077",
   "metadata": {},
   "source": [
    "Strip university names out of the parantheses for places:"
   ]
  },
  {
   "cell_type": "code",
   "execution_count": null,
   "id": "3341dd22-e85c-4d89-ba9b-e0f015a012f9",
   "metadata": {},
   "outputs": [],
   "source": [
    "listd2[, fulln3 := str_replace(fulln2, \" \\\\(.*?\\\\)$\", \"\")]"
   ]
  },
  {
   "cell_type": "markdown",
   "id": "a2b13109-f3b5-4664-aee0-f53561ebdf8e",
   "metadata": {},
   "source": [
    "And keep those places in another field:"
   ]
  },
  {
   "cell_type": "code",
   "execution_count": null,
   "id": "eb63ddfa-429b-4600-9ea6-2adb12d6135b",
   "metadata": {},
   "outputs": [],
   "source": [
    "listd2[, loc1 := str_extract(fulln2, \"\\\\(.*?\\\\)$\")]"
   ]
  },
  {
   "cell_type": "code",
   "execution_count": null,
   "id": "0cc8ec66-1a9f-40cb-b301-5a0876eb80aa",
   "metadata": {},
   "outputs": [],
   "source": [
    "listd2[, loc1 := str_replace_all(loc1, \"[\\\\(\\\\)]\", \"\")]"
   ]
  },
  {
   "cell_type": "markdown",
   "id": "3cb04cca-5bd6-4a70-950e-c784dbfb405e",
   "metadata": {},
   "source": [
    "Convert empty characters to NA in locations"
   ]
  },
  {
   "cell_type": "code",
   "execution_count": null,
   "id": "03516061-40bf-405f-8dbb-794aae666d4b",
   "metadata": {},
   "outputs": [],
   "source": [
    "listd2[nchar(loc1) == 0, loc1 := na_if(loc1, \"\")]"
   ]
  },
  {
   "cell_type": "markdown",
   "id": "809672e1-524f-48df-85df-d99f9bfe13ea",
   "metadata": {},
   "source": [
    "When location is not stated in a parantheses, it is the first word of the university name:"
   ]
  },
  {
   "cell_type": "code",
   "execution_count": null,
   "id": "6c57f4b8-ce42-455e-81cd-8b888632ce7e",
   "metadata": {},
   "outputs": [],
   "source": [
    "listd2[is.na(loc1), loc1 := str_extract(fulln3, \"^\\\\w+\\\\b\")]"
   ]
  },
  {
   "cell_type": "markdown",
   "id": "b8765859-1f94-4fc2-b611-1ad3738fa8fe",
   "metadata": {},
   "source": [
    "Some locations are abroad with a dash, exclude them and get the unique values for provinces:"
   ]
  },
  {
   "cell_type": "code",
   "execution_count": null,
   "id": "96c0d75e-9ff8-4094-b2af-e545ecad0dda",
   "metadata": {},
   "outputs": [],
   "source": [
    "provs1 <- listd2[, unique(loc1) %>% sort] %>% str_subset(\"-\", negate = T)"
   ]
  },
  {
   "cell_type": "code",
   "execution_count": null,
   "id": "c5e0ae94-b7e2-42bd-8875-0020ea335552",
   "metadata": {},
   "outputs": [],
   "source": [
    "provs1"
   ]
  },
  {
   "cell_type": "code",
   "execution_count": null,
   "id": "a0f5b0c7-ba9e-4b55-b573-024445a3025d",
   "metadata": {},
   "outputs": [],
   "source": [
    "#listd2[, str_extract(fulln3, \"\\\\w+$\")] %>% unique"
   ]
  },
  {
   "cell_type": "code",
   "execution_count": null,
   "id": "7cc736c0-2af2-429f-9919-04c2464b0004",
   "metadata": {},
   "outputs": [],
   "source": [
    "listd2 %>% DT::datatable(filter = \"top\")"
   ]
  },
  {
   "cell_type": "markdown",
   "id": "04e30020-e1af-406c-8b30-19594de3cbe6",
   "metadata": {},
   "source": [
    "Now let's compare with province names in Turkey from the wiki page at:\n",
    "\n",
    "https://en.wikipedia.org/wiki/Provinces_of_Turkey"
   ]
  },
  {
   "cell_type": "code",
   "execution_count": null,
   "id": "11119aec-0902-48de-acda-d255c612d1f9",
   "metadata": {},
   "outputs": [],
   "source": [
    "prov <- htm2txt::gettxt(\"~/databb/html/Provinces of Turkey - Wikipedia.html\")"
   ]
  },
  {
   "cell_type": "markdown",
   "id": "4f84dc56-7759-463a-ba42-3d57ea58772a",
   "metadata": {},
   "source": [
    "Delete non printable byte characters that cause a problem and split into parts from newlines:"
   ]
  },
  {
   "cell_type": "code",
   "execution_count": null,
   "id": "18a68070-598d-4ce2-84c9-1b0caedd6b52",
   "metadata": {},
   "outputs": [],
   "source": [
    "prov2 <- prov %>% iconv(\"UTF-8\", \"UTF-8\", sub='') %>% strsplit(split = \"\\\\n\") %>% unlist"
   ]
  },
  {
   "cell_type": "markdown",
   "id": "a34ab7c5-8a31-4e83-a4c0-04850fb3ba2c",
   "metadata": {},
   "source": [
    "Get the lines between two identified delimiters and get the beginning of the lines that start with two digits and alphanumeric characters until the word boundary:"
   ]
  },
  {
   "cell_type": "code",
   "execution_count": null,
   "id": "6c4b1eaf-383c-481c-8ebb-e8caafb1d917",
   "metadata": {},
   "outputs": [],
   "source": [
    "provnames <- prov2[str_which(prov2, \"Provinces of the Republic of Turkey\"):max(str_which(prov2, \"Codes\"))] %>%\n",
    "str_extract(\"(?<=^\\\\d{2} )\\\\w+\\\\b\") %>% na.omit"
   ]
  },
  {
   "cell_type": "markdown",
   "id": "e9fc87f0-2240-4bb0-aeac-cfbf3da6c5f3",
   "metadata": {},
   "source": [
    "Standardize again:"
   ]
  },
  {
   "cell_type": "code",
   "execution_count": null,
   "id": "b29bf93d-2f3f-40aa-8022-dd48fdf0eb1a",
   "metadata": {},
   "outputs": [],
   "source": [
    "provnames <- iconv(tolower(provnames), from = \"utf-8\", to = \"ascii//TRANSLIT\")"
   ]
  },
  {
   "cell_type": "markdown",
   "id": "083b8e55-f6aa-4e2f-9bb1-4a38e067cd31",
   "metadata": {},
   "source": [
    "Now compare the provinces of universities and full province list"
   ]
  },
  {
   "cell_type": "markdown",
   "id": "d1625c46-a058-4e3f-8e20-c8f9c0d17c1e",
   "metadata": {},
   "source": [
    "Every province have universities:"
   ]
  },
  {
   "cell_type": "code",
   "execution_count": null,
   "id": "39070dff-259c-4e89-9c25-62fc30e8cc48",
   "metadata": {},
   "outputs": [],
   "source": [
    "setdiff(provnames, provs1)"
   ]
  },
  {
   "cell_type": "markdown",
   "id": "8252da96-96f2-413a-b1a5-083e949809de",
   "metadata": {},
   "source": [
    "Gebze is not a province:"
   ]
  },
  {
   "cell_type": "code",
   "execution_count": null,
   "id": "d116a63d-8cf0-40f2-ab61-be1bfc5c53ca",
   "metadata": {},
   "outputs": [],
   "source": [
    "setdiff(provs1, provnames)"
   ]
  },
  {
   "cell_type": "markdown",
   "id": "61273c0c-b83d-47c9-af56-8638ee9c12ee",
   "metadata": {},
   "source": [
    "Let's change it to Kocaeli:"
   ]
  },
  {
   "cell_type": "code",
   "execution_count": null,
   "id": "cc0f241c-72da-445c-86dc-ff829a4026ae",
   "metadata": {},
   "outputs": [],
   "source": [
    "listd2[loc1 %in% setdiff(provs1, provnames), loc1 := \"kocaeli\"]"
   ]
  },
  {
   "cell_type": "markdown",
   "id": "63ff26e6-2d8b-426d-9296-6d9ecd232674",
   "metadata": {},
   "source": [
    "And let's get the contingency table for the number of universities per province:"
   ]
  },
  {
   "cell_type": "code",
   "execution_count": null,
   "id": "48e242f2-563e-4b70-b0b9-ca309442235b",
   "metadata": {},
   "outputs": [],
   "source": [
    "listd2[str_detect(loc1, \"-\", negate = T), .N, by = loc1][order(-N)]"
   ]
  },
  {
   "cell_type": "markdown",
   "id": "526a8701-15e2-49ca-b0df-4b56972545c7",
   "metadata": {},
   "source": [
    " "
   ]
  },
  {
   "cell_type": "markdown",
   "id": "eeac3a16-9095-4829-88e1-98a11c349930",
   "metadata": {},
   "source": [
    "## HSS course codes"
   ]
  },
  {
   "cell_type": "markdown",
   "id": "2a783daf-7bba-4f1a-8e38-152c58dd2f1f",
   "metadata": {},
   "source": [
    "Let's extract the codes of HSS courses from:\n",
    "\n",
    "https://bogazici.edu.tr/Assets/Documents/hss_course_list___2023_fall_term.pdf "
   ]
  },
  {
   "cell_type": "code",
   "execution_count": null,
   "id": "48280200-072d-4107-8436-64068a9f3075",
   "metadata": {},
   "outputs": [],
   "source": [
    "hsslist <- read_pdf(\"~/databb/pdf/hss_course_list___2023_fall_term.pdf\")"
   ]
  },
  {
   "cell_type": "code",
   "execution_count": null,
   "id": "df53edc7-c01a-44ce-baec-997ae2b670a1",
   "metadata": {},
   "outputs": [],
   "source": [
    "hsslistv <- hsslist$text %>% strsplit(\"\\n\") %>% unlist"
   ]
  },
  {
   "cell_type": "code",
   "execution_count": null,
   "id": "fbb0f8d8-ab97-452d-b57a-8f97aae07845",
   "metadata": {},
   "outputs": [],
   "source": [
    "hsslistv %>% head"
   ]
  },
  {
   "cell_type": "markdown",
   "id": "7ec47d1d-08dc-4377-9e22-856e4fb496d0",
   "metadata": {},
   "source": [
    "Let's subset those rows where a code pattern of 2-4 letters, an optional space, 2-3 digits and an optional last letter is within some margin of letters from the beginning of the line:"
   ]
  },
  {
   "cell_type": "code",
   "execution_count": null,
   "id": "c87d6434-8d1f-4d9a-b222-a48ef56f5613",
   "metadata": {},
   "outputs": [],
   "source": [
    "hsslistv2 <- hsslistv %>% str_subset(\"^.{0,30}\\\\b[A-Z]{2,4} ?\\\\d{2,3}[A-Z]?\\\\b\") %>% na.omit"
   ]
  },
  {
   "cell_type": "code",
   "execution_count": null,
   "id": "17d3da79-6147-4dae-97be-64171302f666",
   "metadata": {},
   "outputs": [],
   "source": [
    "hsslistv2 %>% head"
   ]
  },
  {
   "cell_type": "markdown",
   "id": "7f25e4e4-75e8-4788-912e-5089f63deb34",
   "metadata": {},
   "source": [
    "Now extract only the first course code patterns (there may be subsequent ones that stand for prerequisites) and delete whitespaces for uniformity:"
   ]
  },
  {
   "cell_type": "code",
   "execution_count": null,
   "id": "02f0a0db-1a92-42ce-b1fc-45786251261e",
   "metadata": {},
   "outputs": [],
   "source": [
    "hsslistv2 %>%\n",
    "str_extract(\"\\\\b[A-Z]{2,4} ?\\\\d{2,3}[A-Z]?\\\\b\") %>% str_replace_all(\"\\\\s+\", \"\")"
   ]
  },
  {
   "cell_type": "markdown",
   "id": "a30b8fa3-80ab-4f4c-a37d-8d4c19a24b86",
   "metadata": {},
   "source": [
    " "
   ]
  },
  {
   "cell_type": "markdown",
   "id": "b7271070-063a-498b-9c54-b97d5c3f5918",
   "metadata": {},
   "source": [
    "## Get the explicitly used packages in this repo"
   ]
  },
  {
   "cell_type": "markdown",
   "id": "2931da90-5ef1-41d2-9063-6a529fc960a4",
   "metadata": {},
   "source": [
    "Get the names of the ipynb files in this repo:"
   ]
  },
  {
   "cell_type": "code",
   "execution_count": null,
   "id": "9e3a0d9d-9ca4-4847-a3e1-aa49324c6bad",
   "metadata": {},
   "outputs": [],
   "source": [
    "notebooks <- list.files(\"..\", pattern = \"*.ipynb\", recursive = T, full.names = T)"
   ]
  },
  {
   "cell_type": "code",
   "execution_count": null,
   "id": "20d4b276-63a0-49f1-849f-f5a582fef0c6",
   "metadata": {},
   "outputs": [],
   "source": [
    "notebooks"
   ]
  },
  {
   "cell_type": "markdown",
   "id": "5419ce16-e04c-4a09-8a8d-e244827a75ff",
   "metadata": {},
   "source": [
    "Read them into an object:"
   ]
  },
  {
   "cell_type": "code",
   "execution_count": null,
   "id": "2a5f251d-60c1-486e-abb0-296c805f475f",
   "metadata": {},
   "outputs": [],
   "source": [
    "all_nb <- lapply(notebooks, readLines)"
   ]
  },
  {
   "cell_type": "code",
   "execution_count": null,
   "id": "ca5e02a3-56aa-41f7-ae86-dfc0b0e7ad29",
   "metadata": {},
   "outputs": [],
   "source": [
    "all_nb %<>% unlist"
   ]
  },
  {
   "cell_type": "markdown",
   "id": "c3c3d9e6-90ca-47d0-a9a7-a9e1e0ec5974",
   "metadata": {},
   "source": [
    "Packages are either attached by \"library\" command or used as a namespace with \"::\"."
   ]
  },
  {
   "cell_type": "markdown",
   "id": "3609043d-de4d-4473-9181-4764b85b9483",
   "metadata": {},
   "source": [
    "Let's first get the package names inside library(...) call:"
   ]
  },
  {
   "cell_type": "code",
   "execution_count": null,
   "id": "923eb377-b277-43e6-a7ca-b11cf62db333",
   "metadata": {},
   "outputs": [],
   "source": [
    "libs <- all_nb %>% str_extract_all(\"(?<=library\\\\().*?(?=\\\\))\") %>% unlist %>% unique"
   ]
  },
  {
   "cell_type": "code",
   "execution_count": null,
   "id": "33cb35ac-e364-4cbf-84ac-f935e24b55c3",
   "metadata": {},
   "outputs": [],
   "source": [
    "#nss <- all_nb %>% str_extract_all(\"\\\\b[^, \\\\(]*?(?=::)\") %>% unlist %>% unique"
   ]
  },
  {
   "cell_type": "markdown",
   "id": "0e66c93e-9240-4f58-8e86-aba1d9dff3e6",
   "metadata": {},
   "source": [
    "And now, trickier, get those patterns xxxxx::yyyyyy( and extract the xxxxxx part"
   ]
  },
  {
   "cell_type": "code",
   "execution_count": null,
   "id": "087cbdf0-6ed7-4126-84b4-29ad3774c8da",
   "metadata": {},
   "outputs": [],
   "source": [
    "nss <- all_nb %>% str_extract_all(\"\\\\b\\\\w+?::\\\\w+?\\\\(\") %>% unlist %>%\n",
    "str_extract_all(\"\\\\b\\\\w*?(?=::)\") %>% unlist %>% unique"
   ]
  },
  {
   "cell_type": "markdown",
   "id": "6c31ce9a-3e98-4371-934a-e1fcb543d2c0",
   "metadata": {},
   "source": [
    "There may be some pattern matches which are not packages indeed, false alarms:"
   ]
  },
  {
   "cell_type": "code",
   "execution_count": null,
   "id": "63fa4d5c-3b21-4a7c-b124-9ae327d2df7c",
   "metadata": {},
   "outputs": [],
   "source": [
    "nss %>% head"
   ]
  },
  {
   "cell_type": "markdown",
   "id": "505c9d52-d9b5-4f06-af09-f620ec78e6ef",
   "metadata": {},
   "source": [
    "Let's intersect with installed packages:"
   ]
  },
  {
   "cell_type": "code",
   "execution_count": null,
   "id": "f58d657b-605d-4778-924b-c9df91a532c0",
   "metadata": {},
   "outputs": [],
   "source": [
    "packs <- installed.packages()[,\"Package\"] %>% unname"
   ]
  },
  {
   "cell_type": "code",
   "execution_count": null,
   "id": "93a512e1-a760-4812-abfa-246b7721b608",
   "metadata": {},
   "outputs": [],
   "source": [
    "intersect(union(nss, libs), packs)"
   ]
  },
  {
   "cell_type": "markdown",
   "id": "4a5f4f51-a84e-4501-90f9-339c670a5f47",
   "metadata": {},
   "source": [
    " "
   ]
  },
  {
   "cell_type": "markdown",
   "id": "37e36fc9-5205-4c3a-8454-b63ba73ce0cd",
   "metadata": {},
   "source": [
    "## Get ips and geo locations: How internet is routed"
   ]
  },
  {
   "cell_type": "markdown",
   "id": "8d776687-bf2f-4389-9fce-ca0475dd180b",
   "metadata": {},
   "source": [
    "Let's see how the visit to a webpage hosted in a landlocked country is routed throughout the internet.\n",
    "\n",
    "Zambia is a landlocked country in Africa.\n",
    "\n",
    "`host` command in Linux gets the ip of a domain name, `traceroute` command gets the ip addresses of the routers in between.\n",
    "\n",
    "The output from these commands is already directed to a text file. We will start with that"
   ]
  },
  {
   "cell_type": "code",
   "execution_count": null,
   "id": "37881639-eb63-400a-95fa-28197a0c3f15",
   "metadata": {},
   "outputs": [],
   "source": [
    "# host -W 10 parliament.gov.zm | grep -Po \"(\\d{1,3}\\.){3}\\d{1,3}\" | head -1\n",
    "# traceroute 41.77.145.34"
   ]
  },
  {
   "cell_type": "code",
   "execution_count": null,
   "id": "4e3880e5-03e9-41a5-a3dc-d02573db5b63",
   "metadata": {},
   "outputs": [],
   "source": [
    "route <- readLines(\"~/databb/text/route\")"
   ]
  },
  {
   "cell_type": "code",
   "execution_count": null,
   "id": "43a190d4-636e-4efe-a1a5-ae6bb199b970",
   "metadata": {},
   "outputs": [],
   "source": [
    "route"
   ]
  },
  {
   "cell_type": "markdown",
   "id": "f2fa364d-0de0-4e85-857a-cea92c0d1612",
   "metadata": {},
   "source": [
    "Extract all matches for an ip pattern: 4 groups of 1-3 digits separated by dots:"
   ]
  },
  {
   "cell_type": "code",
   "execution_count": null,
   "id": "c8ca9b5d-a3bb-4eae-87f1-d3dd11f559a6",
   "metadata": {},
   "outputs": [],
   "source": [
    "ipsl <- route %>% str_extract_all(\"(\\\\d{1,3}\\\\.){3}\\\\d{1,3}\")"
   ]
  },
  {
   "cell_type": "code",
   "execution_count": null,
   "id": "e0c32a6a-b2b7-4edd-a482-76fe3eb065f2",
   "metadata": {},
   "outputs": [],
   "source": [
    "#ips <- ipsl %>% sapply(rev) %>% sapply(\"[\", 1) %>% na.omit\n",
    "ips <- ipsl %>% unlist %>% na.omit"
   ]
  },
  {
   "cell_type": "code",
   "execution_count": null,
   "id": "5d8fd365-d65f-4477-9cb8-f82093be5922",
   "metadata": {},
   "outputs": [],
   "source": [
    "ips"
   ]
  },
  {
   "cell_type": "markdown",
   "id": "6fe7a017-2c13-41a2-b303-1fc04379defd",
   "metadata": {},
   "source": [
    "Only get the first instance of each ip:"
   ]
  },
  {
   "cell_type": "code",
   "execution_count": null,
   "id": "ba18df5b-4436-4709-af57-144996b5cc51",
   "metadata": {},
   "outputs": [],
   "source": [
    "ips2 <- data.table(ips)[, ips[1], by = ips] %>% pull(ips)"
   ]
  },
  {
   "cell_type": "code",
   "execution_count": null,
   "id": "0a8a1cd1-6d06-4739-9f24-8853d4cb6ecd",
   "metadata": {},
   "outputs": [],
   "source": [
    "ips2"
   ]
  },
  {
   "cell_type": "markdown",
   "id": "d9118e43-b93b-4f37-bed7-c3611d2b8dd7",
   "metadata": {},
   "source": [
    "Now we will use the geoiplookup command in Linux to get geo location information:"
   ]
  },
  {
   "cell_type": "code",
   "execution_count": null,
   "id": "db5e39f2-fcbd-4c3e-b0da-f51a44590348",
   "metadata": {},
   "outputs": [],
   "source": [
    "geop <- lapply(sprintf(\"geoiplookup %s\", ips2), system, intern = T)"
   ]
  },
  {
   "cell_type": "code",
   "execution_count": null,
   "id": "06c6deab-7bdd-4da8-8e6e-4ddc3f178eb2",
   "metadata": {},
   "outputs": [],
   "source": [
    "geop[[1]]"
   ]
  },
  {
   "cell_type": "markdown",
   "id": "74bf25cd-0154-4239-9709-a5897032c1c5",
   "metadata": {},
   "source": [
    "We need only the countries:"
   ]
  },
  {
   "cell_type": "code",
   "execution_count": null,
   "id": "f7a5803f-fcbf-4eb6-b591-b33b6cbec059",
   "metadata": {},
   "outputs": [],
   "source": [
    "countries <- sapply(geop, str_subset, \"Country Edition\")"
   ]
  },
  {
   "cell_type": "code",
   "execution_count": null,
   "id": "e21ca2d7-4832-4548-a135-15415aded11d",
   "metadata": {},
   "outputs": [],
   "source": [
    "countries"
   ]
  },
  {
   "cell_type": "markdown",
   "id": "f1dade83-7c8f-496a-a2da-b55dd486060a",
   "metadata": {},
   "source": [
    "Extract the end of the line after the comma and space:"
   ]
  },
  {
   "cell_type": "code",
   "execution_count": null,
   "id": "8b2d293b-8d91-4a08-8302-2594887c68c1",
   "metadata": {},
   "outputs": [],
   "source": [
    "countries2 <- countries %>% str_extract(\"(?<=, ).*?$\")"
   ]
  },
  {
   "cell_type": "markdown",
   "id": "e5b82ffa-f18d-4ad6-a3ce-e38fa2aed5bd",
   "metadata": {},
   "source": [
    "Get only the first instances of each country:"
   ]
  },
  {
   "cell_type": "code",
   "execution_count": null,
   "id": "9099e9d0-c31e-492d-beb9-f9ccb8a9eb6b",
   "metadata": {},
   "outputs": [],
   "source": [
    "data.table(countries2)[, countries2[1], by = countries2] %>% pull(countries2)"
   ]
  },
  {
   "cell_type": "markdown",
   "id": "3011a65e-65b0-4b48-ac80-9e0b515d574b",
   "metadata": {},
   "source": [
    "The routing does not follow a direct terrestrial line.\n",
    "\n",
    "We are first routed to Europe and then follow a transatlantic route to US and then follow another transatlantic route to Africa, Mauritius island and then from the Indian Ocean to African land ending at Zambia.\n",
    "\n",
    "Maybe submarine lines are more seamless with fewer routers and secure than terrestrial lines?"
   ]
  },
  {
   "cell_type": "markdown",
   "id": "2c32dca0-d41f-4f48-97aa-465dae8c503c",
   "metadata": {},
   "source": [
    "# Resources"
   ]
  },
  {
   "cell_type": "markdown",
   "id": "3e35307e-c983-4b05-ad1a-fc48a22c5c6a",
   "metadata": {
    "kernel": "Python3"
   },
   "source": [
    "This tutorial is a good starting point:\n",
    "\n",
    "http://www.regular-expressions.info/tutorial.html"
   ]
  },
  {
   "cell_type": "markdown",
   "id": "94947df6-2da9-43df-a9dd-1f3bd251f44c",
   "metadata": {
    "kernel": "Python3"
   },
   "source": [
    "And this site if for testing regex patterns on some text:\n",
    "\n",
    "https://regex101.com/"
   ]
  },
  {
   "cell_type": "markdown",
   "id": "e8882c36-43a1-40e6-bd14-ea4717db3ab6",
   "metadata": {
    "kernel": "Python3"
   },
   "source": [
    "And this competition website if good for progressing in regex and having fun at the same time:\n",
    "\n",
    "https://regexcrossword.com/"
   ]
  }
 ],
 "metadata": {
  "kernelspec": {
   "display_name": "R",
   "language": "R",
   "name": "ir"
  },
  "language_info": {
   "codemirror_mode": "r",
   "file_extension": ".r",
   "mimetype": "text/x-r-source",
   "name": "R",
   "pygments_lexer": "r",
   "version": "4.3.2"
  },
  "toc-autonumbering": true
 },
 "nbformat": 4,
 "nbformat_minor": 5
}
