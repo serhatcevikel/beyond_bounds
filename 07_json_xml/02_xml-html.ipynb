{
 "cells": [
  {
   "cell_type": "markdown",
   "id": "de0043a2-86a2-491d-b4ff-938afd4f9c5a",
   "metadata": {},
   "source": [
    "<font size=\"6\"><b>WORKING WITH AND QUERYING XML AND HTML OBJECTS</b></font>"
   ]
  },
  {
   "cell_type": "code",
   "execution_count": null,
   "id": "84ca4d06-0481-4aab-bc44-6263b5fc0fca",
   "metadata": {},
   "outputs": [],
   "source": [
    "library(data.table)\n",
    "library(tidyverse)\n",
    "library(XML)\n",
    "library(httr)\n",
    "library(jsonlite)"
   ]
  },
  {
   "cell_type": "code",
   "execution_count": null,
   "id": "c029fb02-4492-4efd-9ccc-46bf1af925ee",
   "metadata": {},
   "outputs": [],
   "source": [
    "options(repr.matrix.max.rows=20, repr.matrix.max.cols=15) # for limiting the number of top and bottom rows of tables printed "
   ]
  },
  {
   "cell_type": "markdown",
   "id": "56d3b817-cea0-4372-a2a9-81f165b80575",
   "metadata": {
    "kernel": "R"
   },
   "source": [
    "# What is XML"
   ]
  },
  {
   "cell_type": "markdown",
   "id": "8ae1b191-e274-4c77-8e4d-a3b13cbdce1d",
   "metadata": {
    "kernel": "R"
   },
   "source": [
    "(https://www.w3schools.com/XML/xml_whatis.asp)\n",
    "\n",
    "XML is a software- and hardware-independent tool for storing and transporting data.\n",
    "\n",
    "What is XML?\n",
    "\n",
    "- XML stands for eXtensible Markup Language\n",
    "- XML is a markup language much like HTML\n",
    "- XML was designed to store and transport data\n",
    "- XML was designed to be self-descriptive\n",
    "- XML is a W3C Recommendation\n"
   ]
  },
  {
   "cell_type": "markdown",
   "id": "2ee261a8-8261-46a0-a609-8e4e5fd53e4e",
   "metadata": {
    "kernel": "R"
   },
   "source": [
    "XML Does Not DO Anything\n",
    "\n",
    "Maybe it is a little hard to understand, but XML does not DO anything.\n",
    "\n",
    "This note is a note to Tove from Jani, stored as XML:\n",
    "```XML\n",
    "<note>\n",
    "  <to>Tove</to>\n",
    "  <from>Jani</from>\n",
    "  <heading>Reminder</heading>\n",
    "  <body>Don't forget me this weekend!</body>\n",
    "</note>\n",
    "```\n",
    "\n",
    "The XML above is quite self-descriptive:\n",
    "\n",
    "- It has sender information.\n",
    "- It has receiver information\n",
    "- It has a heading\n",
    "- It has a message body.\n",
    "\n",
    "But still, the XML above does not DO anything. XML is just information wrapped in tags.\n",
    "\n"
   ]
  },
  {
   "cell_type": "markdown",
   "id": "881cbafd-612a-44b6-9db0-f4ef0d76a471",
   "metadata": {
    "kernel": "R"
   },
   "source": [
    "The Difference Between XML and HTML\n",
    "\n",
    "XML and HTML were designed with different goals:\n",
    "\n",
    "- XML was designed to carry data - with focus on what data is\n",
    "- HTML was designed to display data - with focus on how data looks\n",
    "- XML tags are not predefined like HTML tags are"
   ]
  },
  {
   "cell_type": "markdown",
   "id": "5b54a266-e20e-4970-9425-32788e221910",
   "metadata": {
    "kernel": "R"
   },
   "source": [
    "XML Does Not Use Predefined Tags\n",
    "\n",
    "The XML language has no predefined tags.\n",
    "\n",
    "```XML\n",
    "The tags in the example above (like <to> and <from>) are not defined in any XML standard. These tags are \"invented\" by the author of the XML document.\n",
    "\n",
    "HTML works with predefined tags like <p>, <h1>, <table>, etc.\n",
    "\n",
    "With XML, the author must define both the tags and the document structure.\n",
    "```"
   ]
  },
  {
   "cell_type": "markdown",
   "id": "fb44a8df-674c-4b51-8a0f-83cf410ada4b",
   "metadata": {
    "kernel": "R"
   },
   "source": [
    "XML is Extensible\n",
    "\n",
    "Most XML applications will work as expected even if new data is added (or removed).\n",
    "\n",
    "```XML\n",
    "Imagine an application designed to display the original version of note.xml (<to> <from> <heading> <body>).\n",
    "\n",
    "Then imagine a newer version of note.xml with added <date> and <hour> elements, and a removed <heading>.\n",
    "```\n",
    "\n",
    "The way XML is constructed, older version of the application can still work:\n",
    "\n",
    "```XML\n",
    "<note>\n",
    "  <date>2015-09-01</date>\n",
    "  <hour>08:30</hour>\n",
    "  <to>Tove</to>\n",
    "  <from>Jani</from>\n",
    "  <body>Don't forget me this weekend!</body>\n",
    "</note>\n",
    "```"
   ]
  },
  {
   "cell_type": "markdown",
   "id": "2c7d8547-5c3b-4cdf-913c-331e4382fb5e",
   "metadata": {
    "kernel": "R"
   },
   "source": [
    "# Basic XML Syntax"
   ]
  },
  {
   "cell_type": "markdown",
   "id": "27345bec-3d76-4dbb-962b-b83daabba742",
   "metadata": {
    "kernel": "R"
   },
   "source": [
    "(https://www.w3schools.com/XML/xml_syntax.asp)\n",
    "\n",
    "The syntax rules of XML are very simple and logical. The rules are easy to learn, and easy to use.\n",
    "\n",
    "XML Documents Must Have a Root Element\n",
    "\n",
    "XML documents must contain one root element that is the parent of all other elements:\n",
    "\n",
    "```XML\n",
    "<root>\n",
    "  <child>\n",
    "    <subchild>.....</subchild>\n",
    "  </child>\n",
    "</root> \n",
    "```\n",
    "\n",
    "In this example <note> is the root element:\n",
    "\n",
    "```XML\n",
    "<?xml version=\"1.0\" encoding=\"UTF-8\"?>\n",
    "<note>\n",
    "  <to>Tove</to>\n",
    "  <from>Jani</from>\n",
    "  <heading>Reminder</heading>\n",
    "  <body>Don't forget me this weekend!</body>\n",
    "</note> \n",
    "```"
   ]
  },
  {
   "cell_type": "markdown",
   "id": "6e8bcb31-1316-4ffb-8e72-5805dfecd703",
   "metadata": {
    "kernel": "R"
   },
   "source": [
    "All XML Elements Must Have a Closing Tag\n",
    "\n",
    "In XML, it is illegal to omit the closing tag. All elements must have a closing tag:\n",
    "\n",
    "```XML\n",
    "<p>This is a paragraph.</p>\n",
    "<br />\n",
    "```\n",
    "\n",
    "XML Tags are Case Sensitive\n",
    "\n",
    "XML tags are case sensitive. The tag <Letter> is different from the tag <letter>.\n",
    "\n",
    "Opening and closing tags must be written with the same case:\n",
    "```XML\n",
    "<message>This is correct</message> \n",
    "```"
   ]
  },
  {
   "cell_type": "markdown",
   "id": "cb22e465-351d-48b4-a08f-ffb02d8f2d0b",
   "metadata": {
    "kernel": "R"
   },
   "source": [
    "XML Elements Must be Properly Nested\n",
    "\n",
    "In HTML, you might see improperly nested elements:\n",
    "```XML\n",
    "<b><i>This text is bold and italic</b></i>\n",
    "```\n",
    "\n",
    "In XML, all elements must be properly nested within each other:\n",
    "```XML\n",
    "<b><i>This text is bold and italic</i></b>\n",
    "```\n",
    "\n",
    "In the example above, \"Properly nested\" simply means that since the <i> element is opened inside the <b> element, it must be closed inside the <b> element."
   ]
  },
  {
   "cell_type": "markdown",
   "id": "5e0ad6ae-b5b7-4ef3-a81e-a1111e412958",
   "metadata": {
    "kernel": "R"
   },
   "source": [
    "XML Attribute Values Must Always be Quoted\n",
    "\n",
    "XML elements can have attributes in name/value pairs just like in HTML.\n",
    "\n",
    "In XML, the attribute values must always be quoted:\n",
    "```XML\n",
    "<note date=\"12/11/2007\">\n",
    "  <to>Tove</to>\n",
    "  <from>Jani</from>\n",
    "</note>\n",
    "```"
   ]
  },
  {
   "cell_type": "markdown",
   "id": "f08acdb2-c42e-4939-9f79-f477426f93e8",
   "metadata": {
    "kernel": "R"
   },
   "source": [
    "Entity References\n",
    "\n",
    "Some characters have a special meaning in XML.\n",
    "\n",
    "If you place a character like \"<\" inside an XML element, it will generate an error because the parser interprets it as the start of a new element.\n",
    "\n",
    "This will generate an XML error:\n",
    "```XML\n",
    "<message>salary < 1000</message>\n",
    "```\n",
    "    \n",
    "To avoid this error, replace the \"<\" character with an entity reference:\n",
    "```XML\n",
    "<message>salary &lt; 1000</message>\n",
    "```\n",
    "\n",
    "There are 5 pre-defined entity references in XML:\n",
    "```\n",
    "&lt; \t< \tless than\n",
    "&gt; \t> \tgreater than\n",
    "&amp; \t& \tampersand \n",
    "&apos; \t' \tapostrophe\n",
    "&quot; \t\" \tquotation mark\n",
    "```"
   ]
  },
  {
   "cell_type": "markdown",
   "id": "b4987318-fbd4-4922-8603-c69dc5336b1c",
   "metadata": {
    "kernel": "R"
   },
   "source": [
    "# A real XML/HTML dataset"
   ]
  },
  {
   "cell_type": "markdown",
   "id": "9fda92f0-5243-47c5-a521-a7ce8de88c30",
   "metadata": {
    "kernel": "R"
   },
   "source": [
    "On the 2nd of December 2018, I scraped 994 realty listing pages of residences for sale in Mecidiyekoy, Sisli neighbourhood from www.hurriyetemlak.com\n",
    "\n",
    "Some of these pages are in our binder repor databb directory:"
   ]
  },
  {
   "cell_type": "code",
   "execution_count": null,
   "id": "ed51751e-988d-4398-ae1d-af00fa9bafcb",
   "metadata": {},
   "outputs": [],
   "source": [
    "hemlak_path <- \"~/databb/html/he_sisli\""
   ]
  },
  {
   "cell_type": "code",
   "execution_count": null,
   "id": "69af8903-7345-427f-989e-57ae366f7e66",
   "metadata": {},
   "outputs": [],
   "source": [
    "hemlak_files <- list.files(hemlak_path, full.names = T)"
   ]
  },
  {
   "cell_type": "code",
   "execution_count": null,
   "id": "c91ba3e2-2dcd-4ef4-9b5b-333ed903d6f0",
   "metadata": {},
   "outputs": [],
   "source": [
    "hemlak_files"
   ]
  },
  {
   "cell_type": "markdown",
   "id": "00ee248c-c9f1-4397-9f1e-a75ce5cf8484",
   "metadata": {},
   "source": [
    "Let's the files as text first:"
   ]
  },
  {
   "cell_type": "code",
   "execution_count": null,
   "id": "25445c6f-2b0e-4af1-8f85-5ed6d2f402c1",
   "metadata": {},
   "outputs": [],
   "source": [
    "hemlak_text <- lapply(hemlak_files, readLines)"
   ]
  },
  {
   "cell_type": "code",
   "execution_count": null,
   "id": "409691f4-8603-4c73-8f87-045dc78bb336",
   "metadata": {},
   "outputs": [],
   "source": [
    "hemlak_text %>% str"
   ]
  },
  {
   "cell_type": "markdown",
   "id": "bafaba11-cc40-435a-b5d8-a6139c5d0de6",
   "metadata": {},
   "source": [
    "But this is not so suitable for extracting data from the objects.\n",
    "\n",
    "We should parse them:"
   ]
  },
  {
   "cell_type": "code",
   "execution_count": null,
   "id": "987bde6e-1b77-4e41-8edb-6494fc42f42e",
   "metadata": {},
   "outputs": [],
   "source": [
    "hemlak_parsed <- lapply(hemlak_text, htmlParse)"
   ]
  },
  {
   "cell_type": "code",
   "execution_count": null,
   "id": "abf9a770-1a70-41dc-a528-0cef47264392",
   "metadata": {},
   "outputs": [],
   "source": [
    "hemlak_parsed %>% str"
   ]
  },
  {
   "cell_type": "markdown",
   "id": "b62127a0-3d61-42bb-92fa-dbb4b72321f7",
   "metadata": {},
   "source": [
    "To navigate through the nested structure, the best option is to open the page with a web browser (preferably Chrome), hitting the F12 button and viewing the \"elements\" pane is the best option.\n",
    "\n",
    "This way we will get the Xpath nodes for the information we want from the files."
   ]
  },
  {
   "cell_type": "markdown",
   "id": "3eb9865a-1999-4b75-8d0b-8c47ea78088c",
   "metadata": {
    "kernel": "R"
   },
   "source": [
    "# XPath basics"
   ]
  },
  {
   "cell_type": "markdown",
   "id": "593488f5-3ccc-48cc-b080-93c647e2964c",
   "metadata": {
    "kernel": "R"
   },
   "source": [
    "https://www.w3schools.com/xml/xpath_intro.asp\n",
    "\n",
    "- XPath can be used to navigate through elements and attributes in an XML document.\n",
    "- XPath stands for XML Path Language\n",
    "- XPath uses \"path like\" syntax to identify and navigate nodes in an XML document\n",
    "- XPath contains over 200 built-in functions\n",
    "- XPath uses path expressions to select nodes or node-sets in an XML document.\n",
    "- These path expressions look very much like the path expressions you use with traditional computer file systems"
   ]
  },
  {
   "cell_type": "markdown",
   "id": "f47bb0b2-6490-4070-bbcb-6828a7719462",
   "metadata": {
    "kernel": "R"
   },
   "source": [
    "## XPath Nodes"
   ]
  },
  {
   "cell_type": "markdown",
   "id": "3237c52e-349b-4144-a435-128425111ac2",
   "metadata": {
    "kernel": "R"
   },
   "source": [
    "https://www.w3schools.com/xml/xpath_nodes.asp\n",
    "\n",
    "XPath Terminology\n",
    "Nodes\n",
    "\n",
    "In XPath, there are seven kinds of nodes: element, attribute, text, namespace, processing-instruction, comment, and document nodes.\n",
    "\n",
    "XML documents are treated as trees of nodes. The topmost element of the tree is called the root element.\n",
    "\n",
    "Look at the following XML document:\n",
    "\n",
    "```XML\n",
    "<?xml version=\"1.0\" encoding=\"UTF-8\"?>\n",
    "\n",
    "<bookstore>\n",
    "  <book>\n",
    "    <title lang=\"en\">Harry Potter</title>\n",
    "    <author>J K. Rowling</author>\n",
    "    <year>2005</year>\n",
    "    <price>29.99</price>\n",
    "  </book>\n",
    "</bookstore>\n",
    "```\n",
    "\n",
    "Example of nodes in the XML document above:\n",
    "```XML\n",
    "<bookstore> (root element node)\n",
    "\n",
    "<author>J K. Rowling</author> (element node)\n",
    "\n",
    "lang=\"en\" (attribute node) \n",
    "```\n",
    "\n",
    "Atomic values\n",
    "\n",
    "Atomic values are nodes with no children or parent.\n",
    "\n",
    "Example of atomic values:\n",
    "\n",
    "J K. Rowling\n",
    "\n",
    "\"en\"\n",
    "\n",
    "Items\n",
    "\n",
    "Items are atomic values or nodes."
   ]
  },
  {
   "cell_type": "markdown",
   "id": "942ee56f-ef99-4533-8de5-f36e3f7fbfac",
   "metadata": {
    "kernel": "R"
   },
   "source": [
    "### Relationship of Nodes"
   ]
  },
  {
   "cell_type": "markdown",
   "id": "b2543c13-6d44-497b-86ea-64a1ec741460",
   "metadata": {
    "kernel": "R"
   },
   "source": [
    "#### Parent"
   ]
  },
  {
   "cell_type": "markdown",
   "id": "fc2890e3-85c9-4e29-9033-88cde6f4504a",
   "metadata": {
    "kernel": "R"
   },
   "source": [
    "Parent\n",
    "\n",
    "Each element and attribute has one parent.\n",
    "\n",
    "In the following example; the book element is the parent of the title, author, year, and price:\n",
    "```XML\n",
    "<book>\n",
    "  <title>Harry Potter</title>\n",
    "  <author>J K. Rowling</author>\n",
    "  <year>2005</year>\n",
    "  <price>29.99</price>\n",
    "</book>\n",
    "```"
   ]
  },
  {
   "cell_type": "markdown",
   "id": "1598fccb-ad0f-4fca-b106-9bcb0b56f5c5",
   "metadata": {
    "kernel": "R"
   },
   "source": [
    "#### Children"
   ]
  },
  {
   "cell_type": "markdown",
   "id": "6bc996bc-b2f8-4386-a9a9-4854294858c0",
   "metadata": {
    "kernel": "R"
   },
   "source": [
    "Element nodes may have zero, one or more children.\n",
    "\n",
    "In the following example; the title, author, year, and price elements are all children of the book element:\n",
    "```XML\n",
    "<book>\n",
    "  <title>Harry Potter</title>\n",
    "  <author>J K. Rowling</author>\n",
    "  <year>2005</year>\n",
    "  <price>29.99</price>\n",
    "</book>\n",
    "```"
   ]
  },
  {
   "cell_type": "markdown",
   "id": "ab664a2d-9193-4aac-bc22-a22e67e6ccee",
   "metadata": {
    "kernel": "R"
   },
   "source": [
    "#### Siblings"
   ]
  },
  {
   "cell_type": "markdown",
   "id": "c41e7ebc-130c-41c5-b848-df1d8cc4f36c",
   "metadata": {
    "kernel": "R"
   },
   "source": [
    "Nodes that have the same parent.\n",
    "\n",
    "In the following example; the title, author, year, and price elements are all siblings:\n",
    "```XML\n",
    "<book>\n",
    "  <title>Harry Potter</title>\n",
    "  <author>J K. Rowling</author>\n",
    "  <year>2005</year>\n",
    "  <price>29.99</price>\n",
    "</book>\n",
    "```"
   ]
  },
  {
   "cell_type": "markdown",
   "id": "fa581619-bc83-43bf-949b-a506b13f559f",
   "metadata": {
    "kernel": "R"
   },
   "source": [
    "#### Ancestors"
   ]
  },
  {
   "cell_type": "markdown",
   "id": "d55dd9bb-1e17-4f5a-b002-2ee05f73a8dc",
   "metadata": {
    "kernel": "R"
   },
   "source": [
    "A node's parent, parent's parent, etc.\n",
    "\n",
    "In the following example; the ancestors of the title element are the book element and the bookstore element:\n",
    "```XML\n",
    "<bookstore>\n",
    "\n",
    "<book>\n",
    "  <title>Harry Potter</title>\n",
    "  <author>J K. Rowling</author>\n",
    "  <year>2005</year>\n",
    "  <price>29.99</price>\n",
    "</book>\n",
    "\n",
    "</bookstore> \n",
    "```"
   ]
  },
  {
   "cell_type": "markdown",
   "id": "5754d146-8a42-4ed7-ae39-6d7e2e686f70",
   "metadata": {
    "kernel": "R"
   },
   "source": [
    "#### Descendants"
   ]
  },
  {
   "cell_type": "markdown",
   "id": "5340a999-6617-4c71-8210-cc7162747a54",
   "metadata": {
    "kernel": "R"
   },
   "source": [
    "A node's children, children's children, etc.\n",
    "\n",
    "In the following example; descendants of the bookstore element are the book, title, author, year, and price elements:\n",
    "```XML\n",
    "<bookstore>\n",
    "\n",
    "<book>\n",
    "  <title>Harry Potter</title>\n",
    "  <author>J K. Rowling</author>\n",
    "  <year>2005</year>\n",
    "  <price>29.99</price>\n",
    "</book>\n",
    "\n",
    "</bookstore> \n",
    "```"
   ]
  },
  {
   "cell_type": "markdown",
   "id": "f96bd692-d581-46d4-822a-5f1af63f1610",
   "metadata": {
    "kernel": "R"
   },
   "source": [
    "## XPath Syntax"
   ]
  },
  {
   "cell_type": "markdown",
   "id": "065fdc28-777c-48fb-8d55-4ac9f83319b6",
   "metadata": {
    "kernel": "R"
   },
   "source": [
    "https://www.w3schools.com/xml/xpath_syntax.asp"
   ]
  },
  {
   "cell_type": "markdown",
   "id": "43253678-6549-4c2d-af13-3e7f25f08e6a",
   "metadata": {
    "kernel": "R"
   },
   "source": [
    "### The XML Example Document"
   ]
  },
  {
   "cell_type": "markdown",
   "id": "e5e56f00-236f-4fb5-9efb-bc56844df699",
   "metadata": {
    "kernel": "R"
   },
   "source": [
    "We will use the following XML document in the examples below.\n",
    "```XML\n",
    "<?xml version=\"1.0\" encoding=\"UTF-8\"?>\n",
    "\n",
    "<bookstore>\n",
    "\n",
    "<book>\n",
    "  <title lang=\"en\">Harry Potter</title>\n",
    "  <price>29.99</price>\n",
    "</book>\n",
    "\n",
    "<book>\n",
    "  <title lang=\"en\">Learning XML</title>\n",
    "  <price>39.95</price>\n",
    "</book>\n",
    "\n",
    "</bookstore>\n",
    "```"
   ]
  },
  {
   "cell_type": "markdown",
   "id": "c2dac409-ddba-475c-8b58-f9911de9ece1",
   "metadata": {
    "kernel": "R"
   },
   "source": [
    "### Selecting Nodes"
   ]
  },
  {
   "cell_type": "markdown",
   "id": "e730e5e9-cc65-4800-8b10-c2847defe05b",
   "metadata": {
    "kernel": "R"
   },
   "source": [
    "XPath uses path expressions to select nodes in an XML document. The node is selected by following a path or steps. The most useful path expressions are listed below:"
   ]
  },
  {
   "cell_type": "markdown",
   "id": "9806d691-2593-4977-ba88-66087dfda6ce",
   "metadata": {
    "kernel": "R"
   },
   "source": [
    "<table class=\"w3-table-all notranslate\">\n",
    "  <tbody><tr>\n",
    " <th style=\"width:25%\">Expression</th>\n",
    "    <th>Description</th>\n",
    "  </tr>\n",
    "  <tr>\n",
    "    <td><i>nodename</i></td>\n",
    "    <td>Selects all nodes with the name \"<i>nodename</i>\"</td>\n",
    "    </tr>\n",
    "  <tr>\n",
    "    <td>/</td>\n",
    "    <td>Selects from the root node</td>\n",
    "    </tr>\n",
    "  <tr>\n",
    "    <td>//</td>\n",
    "    <td>Selects nodes in the document from the current node that match the selection no matter where they are </td>\n",
    "  </tr>\n",
    "  <tr>\n",
    "    <td>.</td>\n",
    "    <td>Selects the current node</td>\n",
    "  </tr>\n",
    "  <tr>\n",
    "    <td>..</td>\n",
    "    <td>Selects the parent of the current node</td>\n",
    "  </tr>\n",
    "  <tr>\n",
    "    <td>@</td>\n",
    "    <td>Selects attributes</td>\n",
    "  </tr>\n",
    "</tbody></table>"
   ]
  },
  {
   "cell_type": "markdown",
   "id": "ff6a50ee-fa86-42cc-a4a3-7d6e1f20f7c0",
   "metadata": {
    "kernel": "R"
   },
   "source": [
    "In the table below we have listed some path expressions and the result of the expressions:"
   ]
  },
  {
   "cell_type": "markdown",
   "id": "27e818c4-561c-467a-8023-0f8fdd4a476c",
   "metadata": {
    "kernel": "R"
   },
   "source": [
    "<table class=\"w3-table-all notranslate\">\n",
    "  <tbody><tr>\n",
    " <th style=\"width:25%\">Path Expression</th>\n",
    "    <th>Result</th>\n",
    "  </tr>\n",
    "  <tr>\n",
    "    <td>bookstore</td>\n",
    "    <td>Selects all nodes with the name \"bookstore\"</td>\n",
    "    </tr>\n",
    "  <tr>\n",
    "    <td>/bookstore</td>\n",
    "    <td>Selects the root element bookstore<p><b>Note:</b> If the path starts with a slash ( / ) it always represents an absolute \n",
    "path to an element!</p></td>\n",
    "    </tr>\n",
    "  <tr>\n",
    "    <td>bookstore/book</td>\n",
    "    <td>Selects all book elements that are children of bookstore</td>\n",
    "  </tr>\n",
    "  <tr>\n",
    "    <td>//book</td>\n",
    "    <td>Selects all book elements no matter where they are in the document</td>\n",
    "  </tr>\n",
    "  <tr>\n",
    "    <td>bookstore//book</td>\n",
    "    <td>Selects all book elements that are descendant of the bookstore element, no matter where they are under the bookstore element</td>\n",
    "  </tr>\n",
    "  <tr>\n",
    "    <td>//@lang</td>\n",
    "    <td>Selects all attributes that are named lang</td>\n",
    "  </tr>\n",
    "  </tbody></table>"
   ]
  },
  {
   "cell_type": "markdown",
   "id": "4279d042-0e97-4fc3-86c7-29c4f0d99960",
   "metadata": {
    "kernel": "R"
   },
   "source": [
    "### Predicates"
   ]
  },
  {
   "cell_type": "markdown",
   "id": "8336c275-d46b-48b8-b02e-ff2db5482a44",
   "metadata": {
    "kernel": "R"
   },
   "source": [
    "- Predicates are used to find a specific node or a node that contains a specific value.\n",
    "- Predicates are always embedded in square brackets.\n",
    "- In the table below we have listed some path expressions with predicates and the result of the expressions:"
   ]
  },
  {
   "cell_type": "markdown",
   "id": "f13fa892-0405-416f-a417-75795180a3e4",
   "metadata": {
    "kernel": "R"
   },
   "source": [
    "<table class=\"w3-table-all notranslate\">\n",
    "  <tbody><tr>\n",
    " <th style=\"width:40%\">Path Expression</th>\n",
    "    <th>Result</th>\n",
    "  </tr>\n",
    "  <tr>\n",
    "    <td>/bookstore/book[1] </td>\n",
    "    <td>Selects the first book element that is the child of the bookstore element.\n",
    " <p><b>Note:</b> In IE 5,6,7,8,9 first node is[0], but according to W3C, it is [1]. To solve this problem in IE, set the SelectionLanguage to XPath:</p>\n",
    " <i>In JavaScript: xml</i>.setProperty(\"SelectionLanguage\",\"XPath\");</td>\n",
    "    </tr>\n",
    "  <tr>\n",
    "    <td>/bookstore/book[last()]</td>\n",
    "    <td>Selects the last book element that is the child of the bookstore element</td>\n",
    "    </tr>\n",
    "  <tr>\n",
    "    <td>/bookstore/book[last()-1]</td>\n",
    "    <td>Selects the last but one book element that is the child of the bookstore element</td>\n",
    "  </tr>\n",
    "  <tr>\n",
    "    <td>/bookstore/book[position()&lt;3]</td>\n",
    "    <td>Selects the first two book elements that are children of the bookstore element</td>\n",
    "  </tr>\n",
    "  <tr>\n",
    "    <td>//title[@lang]</td>\n",
    "    <td>Selects all the title elements that have an attribute named lang</td>\n",
    "  </tr>\n",
    "  <tr>\n",
    "    <td>//title[@lang='en']</td>\n",
    "    <td>Selects all the title elements that have a \"lang\" attribute  with a value of \"en\"</td>\n",
    "  </tr>\n",
    "  <tr>\n",
    "    <td>/bookstore/book[price&gt;35.00]</td>\n",
    "    <td>Selects all the book elements of the bookstore element that have a price element with a value greater than 35.00</td>\n",
    "  </tr>\n",
    "  <tr>\n",
    "    <td>/bookstore/book[price&gt;35.00]/title</td>\n",
    "    <td>Selects all the title elements of the book elements of the bookstore element that have a price element with a value greater than 35.00</td>\n",
    "  </tr>\n",
    "  </tbody></table>"
   ]
  },
  {
   "cell_type": "markdown",
   "id": "cba9cc55-0e54-4b28-a20e-2a9eb7d2ff89",
   "metadata": {
    "kernel": "R"
   },
   "source": [
    "### Selecting Unknown Nodes"
   ]
  },
  {
   "cell_type": "markdown",
   "id": "32644984-6372-4b4b-8490-ca026a528e0c",
   "metadata": {
    "kernel": "R"
   },
   "source": [
    "XPath wildcards can be used to select unknown XML nodes."
   ]
  },
  {
   "cell_type": "markdown",
   "id": "0dfafe08-b721-4a70-bf61-097a97779c46",
   "metadata": {
    "kernel": "R"
   },
   "source": [
    "<table class=\"w3-table-all notranslate\">\n",
    "  <tbody><tr>\n",
    " <th style=\"width:25%\">Wildcard</th>\n",
    "    <th>Description</th>\n",
    "  </tr>\n",
    "  <tr>\n",
    "    <td>*</td>\n",
    "    <td>Matches any element node</td>\n",
    "    </tr>\n",
    "  <tr>\n",
    "    <td>@*</td>\n",
    "    <td>Matches any attribute node</td>\n",
    "  </tr>\n",
    "  <tr>\n",
    "    <td>node()</td>\n",
    "    <td>Matches any node of any kind</td>\n",
    "    </tr>\n",
    "  </tbody></table>"
   ]
  },
  {
   "cell_type": "markdown",
   "id": "3bf036b0-a755-4355-90ad-69bc13f93489",
   "metadata": {
    "kernel": "R"
   },
   "source": [
    "In the table below we have listed some path expressions and the result of the expressions:"
   ]
  },
  {
   "cell_type": "markdown",
   "id": "395e7128-07b1-4b71-bd4f-ec51d649d9c4",
   "metadata": {
    "kernel": "R"
   },
   "source": [
    "<table class=\"w3-table-all notranslate\">\n",
    "  <tbody><tr>\n",
    " <th style=\"width:25%\">Path Expression</th>\n",
    "    <th>Result</th>\n",
    "  </tr>\n",
    "  <tr>\n",
    "    <td>/bookstore/*</td>\n",
    "    <td>Selects all the child element nodes of the bookstore element</td>\n",
    "    </tr>\n",
    "  <tr>\n",
    "    <td>//*</td>\n",
    "    <td>Selects all elements in the document</td>\n",
    "    </tr>\n",
    "  <tr>\n",
    "    <td>//title[@*]</td>\n",
    "    <td>Selects all title elements which have at least one attribute of any kind</td>\n",
    "  </tr>\n",
    "  </tbody></table>"
   ]
  },
  {
   "cell_type": "markdown",
   "id": "f6f1d338-7ba4-4e8f-80e6-4c60e36b69e3",
   "metadata": {
    "kernel": "R"
   },
   "source": [
    "### Selecting Several Paths"
   ]
  },
  {
   "cell_type": "markdown",
   "id": "bc96f336-d342-4def-b0d2-58d5c8bcf8a4",
   "metadata": {
    "kernel": "R"
   },
   "source": [
    "- By using the | operator in an XPath expression you can select several paths.\n",
    "- In the table below we have listed some path expressions and the result of the expressions:"
   ]
  },
  {
   "cell_type": "markdown",
   "id": "2ab306b4-b1c7-4665-a1bd-0d611eddb3b4",
   "metadata": {
    "kernel": "R"
   },
   "source": [
    "<table class=\"w3-table-all notranslate\">\n",
    "  <tbody><tr>\n",
    " <th style=\"width:40%\">Path Expression</th>\n",
    "    <th>Result</th>\n",
    "  </tr>\n",
    "  <tr>\n",
    "    <td>//book/title | //book/price</td>\n",
    "    <td>Selects all the title AND price elements of all book elements</td>\n",
    "    </tr>\n",
    "  <tr>\n",
    "    <td>//title | //price</td>\n",
    "    <td>Selects all the title AND price elements in the document</td>\n",
    "    </tr>\n",
    "  <tr>\n",
    "    <td>/bookstore/book/title | //price</td>\n",
    "    <td>Selects all the title elements of the book element of the bookstore element AND all the price elements in the document</td>\n",
    "  </tr>\n",
    "  </tbody></table>"
   ]
  },
  {
   "cell_type": "markdown",
   "id": "2edb9899-3562-4c6e-822e-752ab3bb15b9",
   "metadata": {
    "kernel": "R"
   },
   "source": [
    "# Xpath example"
   ]
  },
  {
   "cell_type": "markdown",
   "id": "321a6613-8746-46a7-8289-652abff2e5c8",
   "metadata": {},
   "source": [
    "## Get the price info from listings"
   ]
  },
  {
   "cell_type": "markdown",
   "id": "73405103-88be-472e-907a-42926101d119",
   "metadata": {},
   "source": [
    "Now please open the `30487516.html` file under"
   ]
  },
  {
   "cell_type": "code",
   "execution_count": null,
   "id": "bb14e3a5-6cc0-46b5-a5c2-e8042d4d5e86",
   "metadata": {},
   "outputs": [],
   "source": [
    "hemlak_path"
   ]
  },
  {
   "cell_type": "markdown",
   "id": "9fd51895-2f20-42da-92dd-a8ddeb861a08",
   "metadata": {
    "kernel": "R"
   },
   "source": [
    "- Navigate to any listing, hit F12 (debug tools) and select the elements pane\n",
    "- By using the element selector on top left, hit any point on the web page and see how the Elements windows navigates\n",
    "- Now hit the price info with the selector\n",
    "- Right click the highlighted element on the right pane, and click on \"Copy Element\"\n",
    "- The result will be something like:\n",
    "\n",
    "```XML\n",
    "<span>530.000 TL</span>\n",
    "```"
   ]
  },
  {
   "cell_type": "markdown",
   "id": "af5a2851-eed8-4e99-8fb1-f249cfb099e4",
   "metadata": {},
   "source": [
    "Now we want to get the path to this node:\n",
    "\n",
    "- Right click again, this time click on \"Copy XPath\"\n",
    "\n",
    "```XPath\n",
    "/html/body/div[1]/div[2]/div[2]/div[1]/div[3]/div[1]/div[3]/div[1]/ul/li[1]/span\n",
    "```\n",
    "\n",
    "Now we can use xpath to get the value at this XPath, provided that the queried XML/HTML file has a similar DOM structure (hierarchy of nodes) "
   ]
  },
  {
   "cell_type": "code",
   "execution_count": null,
   "id": "0e196707-af6b-4f2b-a787-bb49cdaabd6a",
   "metadata": {},
   "outputs": [],
   "source": [
    "hemlak1 <- hemlak_parsed[[1]]"
   ]
  },
  {
   "cell_type": "code",
   "execution_count": null,
   "id": "ce5a34b4-8733-4a89-ae6f-3c3f27e5e276",
   "metadata": {},
   "outputs": [],
   "source": [
    "xpathSApply(hemlak1, \"/html/body/div[1]/div[2]/div[2]/div[1]/div[3]/div[1]/div[3]/div[1]/ul/li[1]/span\",\n",
    "            xmlValue)"
   ]
  },
  {
   "cell_type": "markdown",
   "id": "3ff30f19-93f4-41a7-a0ac-06e4ebcdeb42",
   "metadata": {
    "kernel": "Bash"
   },
   "source": [
    "However, traversing using only indices might not be correct in all cases: The count of a certain element may change across similar pages\n",
    "\n",
    "So we will use attributes to be more robust:"
   ]
  },
  {
   "cell_type": "code",
   "execution_count": null,
   "id": "7e40b2dc-0b8b-450e-95f6-1f48e033731f",
   "metadata": {},
   "outputs": [],
   "source": [
    "price1 <- xpathSApply(hemlak1,\n",
    "                      \"//div[@class='realty-details realty-details-right clearfix']/ul[@class='clearfix']/li[@class='price-line clearfix']/span/text()\",\n",
    "            xmlValue)"
   ]
  },
  {
   "cell_type": "code",
   "execution_count": null,
   "id": "8cae70a1-c60d-4648-af07-7e71c81b1d23",
   "metadata": {},
   "outputs": [],
   "source": [
    "price1"
   ]
  },
  {
   "cell_type": "markdown",
   "id": "de0bb291-676b-4139-80c8-fdf24416538b",
   "metadata": {},
   "source": [
    "Or course it is better to get only the numeric values and skip \".\" and \"TL\" parts"
   ]
  },
  {
   "cell_type": "code",
   "execution_count": null,
   "id": "94b15058-b9c1-4a96-800a-568729151e35",
   "metadata": {},
   "outputs": [],
   "source": [
    "price1 %>% parse_number(locale = locale(decimal_mark = \",\", grouping_mark = \".\"))"
   ]
  },
  {
   "cell_type": "markdown",
   "id": "8dd4561d-0d47-4b66-92a3-98a9fa07a105",
   "metadata": {},
   "source": [
    "Now we can traverse through three files to get price information"
   ]
  },
  {
   "cell_type": "code",
   "execution_count": null,
   "id": "9139c124-ddb5-4dba-9c6d-9b7c5e697d5b",
   "metadata": {},
   "outputs": [],
   "source": [
    "prices <- sapply(hemlak_parsed, xpathSApply,\n",
    "                 \"//div[@class='realty-details realty-details-right clearfix']/ul[@class='clearfix']/li[@class='price-line clearfix']/span/text()\",\n",
    "            xmlValue)"
   ]
  },
  {
   "cell_type": "code",
   "execution_count": null,
   "id": "fbc5d607-6c19-48ad-a8b0-8453e0c22297",
   "metadata": {},
   "outputs": [],
   "source": [
    "prices"
   ]
  },
  {
   "cell_type": "code",
   "execution_count": null,
   "id": "38a41bd3-3c49-4d72-b9e6-6242382b78ff",
   "metadata": {},
   "outputs": [],
   "source": [
    "prices2 <- parse_number(prices, locale = locale(decimal_mark = \",\", grouping_mark = \".\"))"
   ]
  },
  {
   "cell_type": "code",
   "execution_count": null,
   "id": "74b8391c-8db8-4db5-bd38-20f36b48d89f",
   "metadata": {},
   "outputs": [],
   "source": [
    "prices2"
   ]
  },
  {
   "cell_type": "markdown",
   "id": "54e376c9-3217-499a-bf4c-4ee69cfa0bb4",
   "metadata": {
    "kernel": "Bash"
   },
   "source": [
    "## Get the square meter information"
   ]
  },
  {
   "cell_type": "markdown",
   "id": "ed93812d-be9e-44d4-ad65-ce37cb0e3613",
   "metadata": {
    "kernel": "Bash"
   },
   "source": [
    "Similarly we will get the square meter information from listing files:"
   ]
  },
  {
   "cell_type": "code",
   "execution_count": null,
   "id": "e05e9728-125c-4d6b-8881-616b929aa3ea",
   "metadata": {},
   "outputs": [],
   "source": [
    "sqms <- sapply(hemlak_parsed, xpathSApply,\n",
    "               \"//div[@class='realty-details realty-details-right clearfix']/ul[@class='clearfix']//span[@id='realtyGrossSqm']/following-sibling::span/text()\",\n",
    "            xmlValue)"
   ]
  },
  {
   "cell_type": "code",
   "execution_count": null,
   "id": "b7d50cca-d410-490d-87af-33634b758b24",
   "metadata": {},
   "outputs": [],
   "source": [
    "sqms"
   ]
  },
  {
   "cell_type": "code",
   "execution_count": null,
   "id": "4e6f2cbe-fe80-4a09-b6f4-63e80bd7c592",
   "metadata": {},
   "outputs": [],
   "source": [
    "sqms2 <- sqms %>% parse_number"
   ]
  },
  {
   "cell_type": "code",
   "execution_count": null,
   "id": "cb442dd0-5ae6-432d-bb68-f0dd9cb8a1da",
   "metadata": {},
   "outputs": [],
   "source": [
    "sqms2"
   ]
  },
  {
   "cell_type": "markdown",
   "id": "2a5a76e3-ddca-4b61-80fc-02d56b041319",
   "metadata": {
    "kernel": "Bash"
   },
   "source": [
    "## Get loan eligibility info"
   ]
  },
  {
   "cell_type": "markdown",
   "id": "29f5b3cf-78e8-403b-b992-e84def3cf7e8",
   "metadata": {
    "kernel": "Bash"
   },
   "source": [
    "Note that we also have to control for missing values so that the output is parallel to previous ones"
   ]
  },
  {
   "cell_type": "code",
   "execution_count": null,
   "id": "4a489c54-1020-4893-8410-06c272713e95",
   "metadata": {},
   "outputs": [],
   "source": [
    "kredis <- sapply(hemlak_parsed, xpathSApply,\n",
    "                 \"//div[@class='realty-details realty-details-right clearfix']/ul[@class='clearfix']//span[text()='Krediye Uygunluk']/following-sibling::span/text()\",\n",
    "            xmlValue)"
   ]
  },
  {
   "cell_type": "code",
   "execution_count": null,
   "id": "0c1c52e7-969b-4d30-bd38-5c5fbc3aa66b",
   "metadata": {},
   "outputs": [],
   "source": [
    "kredis"
   ]
  },
  {
   "cell_type": "markdown",
   "id": "9f8d3fdf-bb48-48a9-aaf4-36b100ef5075",
   "metadata": {},
   "source": [
    "## Get property age info"
   ]
  },
  {
   "cell_type": "markdown",
   "id": "f02bd9be-b5c1-4c3a-a787-375934fb63b6",
   "metadata": {},
   "source": [
    "Now let's get the age (Bina Yaşı) info from files and save into \"ages\" object."
   ]
  },
  {
   "cell_type": "code",
   "execution_count": null,
   "id": "b4483728-6880-4d93-addf-ad104743a234",
   "metadata": {},
   "outputs": [],
   "source": [
    "ages <- sapply(hemlak_parsed, xpathSApply,\n",
    "                 \"//div[@class='realty-details realty-details-right clearfix']/ul[@class='clearfix']//span[text()='Bina Yaşı']/following-sibling::span/text()\",\n",
    "            xmlValue)"
   ]
  },
  {
   "cell_type": "code",
   "execution_count": null,
   "id": "575f4554-25e3-40af-baea-6f64c743edf0",
   "metadata": {},
   "outputs": [],
   "source": [
    "ages"
   ]
  },
  {
   "cell_type": "code",
   "execution_count": null,
   "id": "ca373e22-01cc-4e31-ba1a-4aaf70acf448",
   "metadata": {},
   "outputs": [],
   "source": [
    "ages2 <- ages %>% as.integer"
   ]
  },
  {
   "cell_type": "code",
   "execution_count": null,
   "id": "db7a7c25-2ebe-41ab-b075-2bbe9d8cb4ea",
   "metadata": {},
   "outputs": [],
   "source": [
    "ages2"
   ]
  },
  {
   "cell_type": "markdown",
   "id": "5e3959a1-d9c6-49a9-b39c-b854eecd99ab",
   "metadata": {},
   "source": [
    "# HTTP GET and POST requests"
   ]
  },
  {
   "cell_type": "markdown",
   "id": "c6796d59-eb8b-4b5e-a023-b31e70bf2a77",
   "metadata": {},
   "source": [
    "HTTP is the main protocol to transfer data through a network especially for web servers.\n",
    "\n",
    "According to [Wikipedia](https://en.wikipedia.org/wiki/HTTP):\n",
    "\n",
    "> The Hypertext Transfer Protocol (HTTP) is an application layer protocol in the Internet protocol suite model for distributed, collaborative, hypermedia information systems.[1] HTTP is the foundation of data communication for the World Wide Web, where hypertext documents include hyperlinks to other resources that the user can easily access, for example by a mouse click or by tapping the screen in a web browser."
   ]
  },
  {
   "cell_type": "markdown",
   "id": "7aa1d228-c1a8-4306-be2f-efd1fae366e0",
   "metadata": {},
   "source": [
    "The main library to deliver HTTP requests is cURL.\n",
    "\n",
    "According to [Wikipedia](https://en.wikipedia.org/wiki/CURL):\n",
    "\n",
    "> cURL ... is a computer software project providing a library (libcurl) and command-line tool (curl) for transferring data using various network protocols. The name stands for \"Client for URL\"."
   ]
  },
  {
   "cell_type": "markdown",
   "id": "ece0aee0-8d8b-4c04-ad82-60a31a664c61",
   "metadata": {},
   "source": [
    "The main requests that we use in HTTP are GET and POST requests:\n",
    "\n",
    "> GET\n",
    "The GET method requests that the target resource transfer a representation of its state. GET requests should only retrieve data and should have no other effect. (This is also true of some other HTTP methods.)[1] For retrieving resources without making changes, GET is preferred over POST, as they can be addressed through a URL. This enables bookmarking and sharing and makes GET responses eligible for caching, which can save bandwidth...\n",
    "\n",
    ">POST\n",
    "The POST method requests that the target resource process the representation enclosed in the request according to the semantics of the target resource. For example, it is used for posting a message to an Internet forum, subscribing to a mailing list, or completing an online shopping transaction."
   ]
  },
  {
   "cell_type": "markdown",
   "id": "4d316fc8-f124-4619-85f2-17a0c1bee364",
   "metadata": {},
   "source": [
    "So the main difference is GET only retrieves a data while POST request is processed and may cause side effects or changes"
   ]
  },
  {
   "cell_type": "markdown",
   "id": "c05f974c-826b-4f27-952d-f305f4aa8864",
   "metadata": {},
   "source": [
    "We can send these requests by interfacing to `curl` command on Bash or using `GET` or `POST` functions of `httr` package in R."
   ]
  },
  {
   "cell_type": "markdown",
   "id": "7200fa33-6178-402c-bebf-cf49eac0f1e1",
   "metadata": {},
   "source": [
    "To get any detailed curl request of any action on a browser:\n",
    "\n",
    "- First open the debug tools with F12\n",
    "- Navigate to the network pane\n",
    "- When the action is done on the browser, track the traffic from the pane, right click and select `Copy as cURL`"
   ]
  },
  {
   "cell_type": "markdown",
   "id": "0f8ae2b9-3246-4bcc-b6e2-c7a53cb216f9",
   "metadata": {},
   "source": [
    "## GET request"
   ]
  },
  {
   "cell_type": "markdown",
   "id": "4bf36797-7cad-40ff-830e-8119f187bb29",
   "metadata": {},
   "source": [
    "In order to make a sample GET request, https://httpbin.org, a test site for echoing the result of requests will be used."
   ]
  },
  {
   "cell_type": "markdown",
   "id": "402034d3-1f5a-45fa-9a92-035bea0091c7",
   "metadata": {},
   "source": [
    "First we will send a curl request to the Bash using `system` command:"
   ]
  },
  {
   "cell_type": "code",
   "execution_count": null,
   "id": "d528f0e5-0ea7-4d72-9d6b-d098db37191f",
   "metadata": {},
   "outputs": [],
   "source": [
    "requestget1 <- \"curl https://httpbin.org/get\""
   ]
  },
  {
   "cell_type": "code",
   "execution_count": null,
   "id": "8eefbc84-237f-4ab7-af7e-89839c3d113f",
   "metadata": {},
   "outputs": [],
   "source": [
    "returnget1 <- system(requestget1, intern = T)"
   ]
  },
  {
   "cell_type": "markdown",
   "id": "6e5f278a-000a-4519-9cc3-a91f5562dcae",
   "metadata": {},
   "source": [
    "This is the return value:"
   ]
  },
  {
   "cell_type": "code",
   "execution_count": null,
   "id": "246c0545-2e53-4d30-924e-207eeff0cd23",
   "metadata": {},
   "outputs": [],
   "source": [
    "returnget1"
   ]
  },
  {
   "cell_type": "code",
   "execution_count": null,
   "id": "8b2fb5d3-987a-4f36-b50b-b614725478fa",
   "metadata": {},
   "outputs": [],
   "source": [
    "fromJSON(returnget1)"
   ]
  },
  {
   "cell_type": "markdown",
   "id": "63a57639-b762-4c8e-a25c-24c5d2e20f6a",
   "metadata": {},
   "source": [
    "Now let's add some arguments to the request, that happens when you select some options from a web page to get a more specific results (for example select a city for realty adds)"
   ]
  },
  {
   "cell_type": "code",
   "execution_count": null,
   "id": "e2bf05f3-f89e-4cc2-b9b9-df43b9673280",
   "metadata": {},
   "outputs": [],
   "source": [
    "requestget2 <- \"curl 'https://httpbin.org/get?a=1&b=2'\""
   ]
  },
  {
   "cell_type": "code",
   "execution_count": null,
   "id": "3b55d579-0357-481a-87f8-27513c7e6938",
   "metadata": {},
   "outputs": [],
   "source": [
    "returnget2 <- system(requestget2, intern = T)"
   ]
  },
  {
   "cell_type": "code",
   "execution_count": null,
   "id": "b8e1adcb-f09f-4948-9a4d-dfbc9321d641",
   "metadata": {},
   "outputs": [],
   "source": [
    "fromJSON(returnget2)"
   ]
  },
  {
   "cell_type": "markdown",
   "id": "cb7e36ce-4d69-41e5-a0e3-44e7ebff4458",
   "metadata": {},
   "source": [
    "Now let's add some random headers. Headers customize how the web server should handle the request. These headers are mostly created by the browser automatically:"
   ]
  },
  {
   "cell_type": "code",
   "execution_count": null,
   "id": "0a96939c-aec5-4452-95c6-1aecbffa37a2",
   "metadata": {},
   "outputs": [],
   "source": [
    "requestget3 <- \"curl 'https://httpbin.org/get?a=1&b=2' -H 'c: 3' -H 'd: 4'\""
   ]
  },
  {
   "cell_type": "code",
   "execution_count": null,
   "id": "5e2ed9e9-c62a-4fb5-adbf-33109bb7d5a8",
   "metadata": {},
   "outputs": [],
   "source": [
    "returnget3 <- system(requestget3, intern = T)"
   ]
  },
  {
   "cell_type": "code",
   "execution_count": null,
   "id": "bbaac31e-36ba-4397-8f4a-140b67e04587",
   "metadata": {},
   "outputs": [],
   "source": [
    "fromJSON(returnget3)"
   ]
  },
  {
   "cell_type": "markdown",
   "id": "a278fdff-77b1-499b-b1e8-61cc15f07def",
   "metadata": {},
   "source": [
    "Now let's make the same requests and get the returned value using GET function from httr package:"
   ]
  },
  {
   "cell_type": "code",
   "execution_count": null,
   "id": "bd50998c-3349-4cfe-86f4-f09aae8dabe1",
   "metadata": {},
   "outputs": [],
   "source": [
    "returnget2b <- GET(\"https://httpbin.org/get?a=1&b=2\")"
   ]
  },
  {
   "cell_type": "code",
   "execution_count": null,
   "id": "a2e29c85-1c43-4534-b8f4-6560585d75f9",
   "metadata": {},
   "outputs": [],
   "source": [
    "returnget2b %>% content"
   ]
  },
  {
   "cell_type": "markdown",
   "id": "ca9d0599-3169-42a6-80ca-c6cd8153e34c",
   "metadata": {},
   "source": [
    "And we can pass the headers again:"
   ]
  },
  {
   "cell_type": "code",
   "execution_count": null,
   "id": "6a714ca6-31c7-4cb8-a569-6defe23d76ce",
   "metadata": {},
   "outputs": [],
   "source": [
    "returnget3b <- GET(\"https://httpbin.org/get?a=1&b=2\", add_headers(c = 3, d = 4))"
   ]
  },
  {
   "cell_type": "code",
   "execution_count": null,
   "id": "4e1f8b4b-62ca-4391-97fa-7c63138155a4",
   "metadata": {},
   "outputs": [],
   "source": [
    "returnget3b %>% content"
   ]
  },
  {
   "cell_type": "markdown",
   "id": "de369c0b-fc05-4858-9cee-0db6273b73d7",
   "metadata": {},
   "source": [
    "## POST request"
   ]
  },
  {
   "cell_type": "markdown",
   "id": "c121299d-a65c-4adf-ab1a-8c33d38dc854",
   "metadata": {},
   "source": [
    "Now let's make a post request with the data option -d, using https://httpbin.org again:"
   ]
  },
  {
   "cell_type": "code",
   "execution_count": null,
   "id": "b502384d-3df4-4da0-8fc2-2fd8fb662a5f",
   "metadata": {},
   "outputs": [],
   "source": [
    "requestpost1 <- \"curl https://httpbin.org/post -d 'a=1' -d 'b=2'\""
   ]
  },
  {
   "cell_type": "code",
   "execution_count": null,
   "id": "f8cce568-ad28-4949-8aa4-b2479539ea63",
   "metadata": {},
   "outputs": [],
   "source": [
    "returnpost1 <- system(requestpost1, intern = T)"
   ]
  },
  {
   "cell_type": "code",
   "execution_count": null,
   "id": "5d57a29c-ba95-438a-93a9-927460bbd35f",
   "metadata": {},
   "outputs": [],
   "source": [
    "returnpost1"
   ]
  },
  {
   "cell_type": "markdown",
   "id": "9572c1fe-9e7c-4ce7-b3be-f98014f62a11",
   "metadata": {},
   "source": [
    "What if we have non-alphanumeric characters or non-ASCII characters that have to be encoded:"
   ]
  },
  {
   "cell_type": "code",
   "execution_count": null,
   "id": "abe9bf30-f8e9-4933-b4fe-451d3f2230b6",
   "metadata": {},
   "outputs": [],
   "source": [
    "requestpost2a <- \"curl https://httpbin.org/post --d 'a=İş güç' -d 'b=2'\""
   ]
  },
  {
   "cell_type": "code",
   "execution_count": null,
   "id": "e78ec3ca-398b-4953-9f1f-e6c38133a4bf",
   "metadata": {},
   "outputs": [],
   "source": [
    "returnpost2a <- system(requestpost2a, intern = T)"
   ]
  },
  {
   "cell_type": "code",
   "execution_count": null,
   "id": "bb745ca0-7fff-4511-8822-5f2dfe3b6eb3",
   "metadata": {},
   "outputs": [],
   "source": [
    "returnpost2a"
   ]
  },
  {
   "cell_type": "markdown",
   "id": "d90f72da-e5ea-4a35-8516-4417307d7e29",
   "metadata": {},
   "source": [
    "We can automatically send the request by url encoding using --data-urlencode options instead of -d:"
   ]
  },
  {
   "cell_type": "code",
   "execution_count": null,
   "id": "ba7e4bbf-a2c6-4782-9b18-6d174a31caf9",
   "metadata": {},
   "outputs": [],
   "source": [
    "requestpost2 <- \"curl https://httpbin.org/post --data-urlencode 'a=İş güç' -d 'b=2'\""
   ]
  },
  {
   "cell_type": "code",
   "execution_count": null,
   "id": "5ce9be0a-f098-478d-a42a-c3366f802e57",
   "metadata": {},
   "outputs": [],
   "source": [
    "returnpost2 <- system(requestpost2, intern = T)"
   ]
  },
  {
   "cell_type": "code",
   "execution_count": null,
   "id": "c7298bb2-e8af-432f-b8dc-030bc3f8e525",
   "metadata": {},
   "outputs": [],
   "source": [
    "fromJSON(returnpost2)"
   ]
  },
  {
   "cell_type": "markdown",
   "id": "e892c4eb-fe99-4587-85f0-13a6091e5aa9",
   "metadata": {},
   "source": [
    "And let's add headers again:"
   ]
  },
  {
   "cell_type": "code",
   "execution_count": null,
   "id": "cf50b25e-898e-40bd-b3d6-5c76453281eb",
   "metadata": {},
   "outputs": [],
   "source": [
    "requestpost3 <- \"curl https://httpbin.org/post --data-urlencode 'a=İş güç' -d 'b=2' -H 'c: 3' -H 'd: 4'\""
   ]
  },
  {
   "cell_type": "code",
   "execution_count": null,
   "id": "d258a7fb-7cea-4743-b5ec-ce8cdb897665",
   "metadata": {},
   "outputs": [],
   "source": [
    "returnpost3 <- system(requestpost3, intern = T)"
   ]
  },
  {
   "cell_type": "code",
   "execution_count": null,
   "id": "7159cdc9-29cf-4d7f-9115-4b6065ad3b0d",
   "metadata": {},
   "outputs": [],
   "source": [
    "fromJSON(returnpost3)"
   ]
  },
  {
   "cell_type": "markdown",
   "id": "e62dd13f-ce3f-477b-9d47-a936662f4a41",
   "metadata": {},
   "source": [
    "Now let's see how that is handled with `POST` command from `httr`:"
   ]
  },
  {
   "cell_type": "code",
   "execution_count": null,
   "id": "5b630ea2-eefa-48d2-addf-67af64eadc9f",
   "metadata": {},
   "outputs": [],
   "source": [
    "returnpost3a <- POST(\"https://httpbin.org/post\",\n",
    "                      body = list(a = \"İş güç\", b = 2),\n",
    "                      add_headers(c = 3, d = 4))"
   ]
  },
  {
   "cell_type": "code",
   "execution_count": null,
   "id": "33797dd6-f301-4eb1-806d-9f84c3023db0",
   "metadata": {},
   "outputs": [],
   "source": [
    "returnpost3a %>% content"
   ]
  },
  {
   "cell_type": "markdown",
   "id": "fd24a522-d18d-4c3b-981f-54ea02485d78",
   "metadata": {},
   "source": [
    "# Extracting tables"
   ]
  },
  {
   "cell_type": "markdown",
   "id": "c44d392c-03fc-448c-ad5c-87161f83a5ec",
   "metadata": {},
   "source": [
    "Let's get the detailed schedule of Management department for a semester:"
   ]
  },
  {
   "cell_type": "markdown",
   "id": "609363da-f39d-49d1-8b40-f9d8fb4d3d7a",
   "metadata": {},
   "source": [
    "On a browser the request has many headers created automatically by the browser:"
   ]
  },
  {
   "cell_type": "markdown",
   "id": "3e4fae3b-6791-43eb-8d54-7075cdef5911",
   "metadata": {},
   "source": [
    "```Bash\n",
    "curl 'https://registration.boun.edu.tr/scripts/sch.asp?donem=2023/2024-2&kisaadi=AD&bolum=MANAGEMENT' \\\n",
    "  -H 'Accept: text/html,application/xhtml+xml,application/xml;q=0.9,image/avif,image/webp,image/apng,*/*;q=0.8,application/signed-exchange;v=b3;q=0.7' \\\n",
    "  -H 'Accept-Language: en-US,en;q=0.9,tr;q=0.8' \\\n",
    "  -H 'Cache-Control: no-cache' \\\n",
    "  -H 'Connection: keep-alive' \\\n",
    "  -H 'DNT: 1' \\\n",
    "  -H 'Pragma: no-cache' \\\n",
    "  -H 'Sec-Fetch-Dest: document' \\\n",
    "  -H 'Sec-Fetch-Mode: navigate' \\\n",
    "  -H 'Sec-Fetch-Site: none' \\\n",
    "  -H 'Sec-Fetch-User: ?1' \\\n",
    "  -H 'Upgrade-Insecure-Requests: 1' \\\n",
    "  -H 'sec-ch-ua-mobile: ?0' \\\n",
    "  -H 'sec-ch-ua-platform: \"Linux\"'\n",
    "```"
   ]
  },
  {
   "cell_type": "markdown",
   "id": "0f72c475-8ced-44c8-8996-0d399f6d3f88",
   "metadata": {},
   "source": [
    "However in this simple example we do not need those details:"
   ]
  },
  {
   "cell_type": "code",
   "execution_count": null,
   "id": "150f9b0e-493a-467a-8323-2a7d96dd0ee2",
   "metadata": {},
   "outputs": [],
   "source": [
    "requestx <- 'curl \"http://registration.boun.edu.tr/scripts/sch.asp?donem=2023/2024-2&kisaadi=AD&bolum=MANAGEMENT\"'"
   ]
  },
  {
   "cell_type": "markdown",
   "id": "753c1175-9097-4c59-b773-58aaa2d343db",
   "metadata": {},
   "source": [
    "Note the part that starts after \"?\", which includes some parameters to be passed as key/value pairs separated by ampersand (\"&\") sign:\n",
    "\n",
    "- donem=2023/2024-2\n",
    "- kisaadi=AD\n",
    "- bolum=MANAGEMENT"
   ]
  },
  {
   "cell_type": "code",
   "execution_count": null,
   "id": "91352745-16b6-4663-b3fb-a054cdc4b6df",
   "metadata": {},
   "outputs": [],
   "source": [
    "requestx"
   ]
  },
  {
   "cell_type": "markdown",
   "id": "fc0797e2-18cf-4385-878b-95e9f7d0c9b9",
   "metadata": {},
   "source": [
    "And now execute it on Bash remotely and retrieve the results:"
   ]
  },
  {
   "cell_type": "code",
   "execution_count": null,
   "id": "65ed81f5-30d0-4a60-a01f-6e462f5fd50d",
   "metadata": {},
   "outputs": [],
   "source": [
    "schedule1 <- system(requestx, intern = T)"
   ]
  },
  {
   "cell_type": "code",
   "execution_count": null,
   "id": "df7217ed-c2ca-4fa8-b495-805d4f03bdab",
   "metadata": {},
   "outputs": [],
   "source": [
    "schedule1 %>% str"
   ]
  },
  {
   "cell_type": "markdown",
   "id": "3abcbec5-f337-4003-8156-97213386701c",
   "metadata": {},
   "source": [
    "You can automate this behaviour by parametrizing the requests with different values"
   ]
  },
  {
   "cell_type": "markdown",
   "id": "79b945ce-b26c-4704-a23c-28dffc472bcd",
   "metadata": {},
   "source": [
    "In order to ensure reproducibility a saved version is available on our repo:"
   ]
  },
  {
   "cell_type": "code",
   "execution_count": null,
   "id": "c776cfb6-ca92-4227-94a8-00c01a16a30c",
   "metadata": {},
   "outputs": [],
   "source": [
    "schedule1 <- readLines(\"~/databb/html//schedule1.html\")"
   ]
  },
  {
   "cell_type": "code",
   "execution_count": null,
   "id": "4f766dc7-9042-444c-9028-009a3f665d19",
   "metadata": {},
   "outputs": [],
   "source": [
    "schedule1 %>% str"
   ]
  },
  {
   "cell_type": "markdown",
   "id": "d6cdb003-8e4f-4d35-9b16-f9bd4fc93346",
   "metadata": {},
   "source": [
    "Now let's parse the html:"
   ]
  },
  {
   "cell_type": "code",
   "execution_count": null,
   "id": "87c24faa-5b88-4737-b39c-9d8a171a1f12",
   "metadata": {},
   "outputs": [],
   "source": [
    "schedulep <- htmlParse(schedule1)"
   ]
  },
  {
   "cell_type": "markdown",
   "id": "3d54719c-4e4e-472e-ae55-a63797287e7b",
   "metadata": {},
   "source": [
    "From the Elements pane of the debug tools on the browser, locate the `tabel` label at the beginning of the table and create a suitable XPath expression to get to it. Since no class or id attributes exist, the style attributes will be used:"
   ]
  },
  {
   "cell_type": "code",
   "execution_count": null,
   "id": "d4dec30b-a115-444e-a6e3-1251826e27a7",
   "metadata": {},
   "outputs": [],
   "source": [
    "table1 <- xpathSApply(schedulep, \"//table[@width='1300px']\")"
   ]
  },
  {
   "cell_type": "markdown",
   "id": "2f9d5fa4-981b-4c83-8cec-f99527a2b26e",
   "metadata": {},
   "source": [
    "This returns a list:"
   ]
  },
  {
   "cell_type": "code",
   "execution_count": null,
   "id": "92f716b5-0009-43ea-914b-d3853eec730b",
   "metadata": {},
   "outputs": [],
   "source": [
    "table1 %>% str"
   ]
  },
  {
   "cell_type": "markdown",
   "id": "fd2d3aba-f1f3-4a5c-add7-9346b47ba6be",
   "metadata": {},
   "source": [
    "Now convert the first element of the list into a table easily!:"
   ]
  },
  {
   "cell_type": "code",
   "execution_count": null,
   "id": "5394d702-d8ec-4521-949a-fd65331ded1b",
   "metadata": {},
   "outputs": [],
   "source": [
    "schedule_dt <- readHTMLTable(table1[[1]]) %>% as.data.table"
   ]
  },
  {
   "cell_type": "code",
   "execution_count": null,
   "id": "9c977362-1801-48dd-8b4b-68e5aa102bc5",
   "metadata": {},
   "outputs": [],
   "source": [
    "schedule_dt"
   ]
  },
  {
   "cell_type": "code",
   "execution_count": null,
   "id": "a00d4282-484d-492b-bdb9-88c8aa5c98c9",
   "metadata": {},
   "outputs": [],
   "source": []
  }
 ],
 "metadata": {
  "kernelspec": {
   "display_name": "R",
   "language": "R",
   "name": "ir"
  },
  "language_info": {
   "codemirror_mode": "r",
   "file_extension": ".r",
   "mimetype": "text/x-r-source",
   "name": "R",
   "pygments_lexer": "r",
   "version": "4.3.2"
  }
 },
 "nbformat": 4,
 "nbformat_minor": 5
}
