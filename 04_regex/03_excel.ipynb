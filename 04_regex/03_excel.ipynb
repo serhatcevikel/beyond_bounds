{
 "cells": [
  {
   "cell_type": "markdown",
   "id": "c593323e-76f9-4f83-8b89-bd05b196dccc",
   "metadata": {},
   "source": [
    "<font size=\"6\"><b>IMPORT/EXPORT DATA FROM/TO EXCEL FILES</b></font>"
   ]
  },
  {
   "cell_type": "code",
   "execution_count": null,
   "id": "ae0161c5-e02c-43ff-868c-e539300ae08d",
   "metadata": {},
   "outputs": [],
   "source": [
    "library(data.table)\n",
    "library(tidyverse)\n",
    "library(xlsx)\n",
    "library(readxl)\n",
    "library(tidyxl)"
   ]
  },
  {
   "cell_type": "code",
   "execution_count": null,
   "id": "3c305633-8212-45f1-a08c-1ee95ec744a7",
   "metadata": {},
   "outputs": [],
   "source": [
    "options(repr.matrix.max.rows=20, repr.matrix.max.cols=10) # for limiting the number of top and bottom rows of tables printed "
   ]
  },
  {
   "cell_type": "markdown",
   "id": "568c39eb-330f-40f9-8f4d-7823a8c75dfd",
   "metadata": {},
   "source": [
    "![xkcd](../imagesbb/spreadsheets.png)\n",
    "\n",
    "(https://xkcd.com/2180)"
   ]
  },
  {
   "cell_type": "markdown",
   "id": "f22b7da2-0fc5-43f3-88e0-3f9acdb5267d",
   "metadata": {},
   "source": [
    "Here we will show three alternative packages two write and/or read data into/from R and excel"
   ]
  },
  {
   "cell_type": "markdown",
   "id": "6a8a6e44-c980-411b-a5ec-06e53458b063",
   "metadata": {},
   "source": [
    "Let's create a data.table copy of built-in iris"
   ]
  },
  {
   "cell_type": "code",
   "execution_count": null,
   "id": "a9e058be-4e45-4440-a935-e35adec24217",
   "metadata": {},
   "outputs": [],
   "source": [
    "iris2 <- iris"
   ]
  },
  {
   "cell_type": "code",
   "execution_count": null,
   "id": "46e9bab6-5a2b-4095-9437-452f7fc3f5f1",
   "metadata": {},
   "outputs": [],
   "source": [
    "setDT(iris2)"
   ]
  },
  {
   "cell_type": "code",
   "execution_count": null,
   "id": "56bb4d90-28dd-402e-8a13-e5cdd624885d",
   "metadata": {},
   "outputs": [],
   "source": [
    "iris2 %>% str"
   ]
  },
  {
   "cell_type": "code",
   "execution_count": null,
   "id": "bbea2a2d-d6e2-4711-b176-93c34e71a962",
   "metadata": {},
   "outputs": [],
   "source": [
    "iris2 %>% head"
   ]
  },
  {
   "cell_type": "markdown",
   "id": "d73b63b0-3112-469d-b707-641a46905d64",
   "metadata": {},
   "source": [
    "# xlsx package"
   ]
  },
  {
   "cell_type": "markdown",
   "id": "dbcd672b-5fd0-4c9c-bdd0-f157735ee15c",
   "metadata": {},
   "source": [
    "Write iris2 into an excel file:"
   ]
  },
  {
   "cell_type": "code",
   "execution_count": null,
   "id": "cacb6e91-4ccf-462d-bfb3-13fcef86b3c0",
   "metadata": {},
   "outputs": [],
   "source": [
    "write.xlsx(iris2, row.names = F, \"~/databb/temp/iris.xlsx\")"
   ]
  },
  {
   "cell_type": "markdown",
   "id": "30151cd6-2307-4e08-9aa0-6abdb30c281f",
   "metadata": {},
   "source": [
    "Read from excel into a data.frame and convert to data.table:"
   ]
  },
  {
   "cell_type": "code",
   "execution_count": null,
   "id": "7e648614-9f7d-45f7-b8ab-49c49e464236",
   "metadata": {},
   "outputs": [],
   "source": [
    "iris_from_xl1 <- read.xlsx(\"~/databb/temp/iris.xlsx\", sheetIndex = 1)"
   ]
  },
  {
   "cell_type": "code",
   "execution_count": null,
   "id": "7cbdc962-f403-4f87-80e9-551e5f35246d",
   "metadata": {},
   "outputs": [],
   "source": [
    "setDT(iris_from_xl1)"
   ]
  },
  {
   "cell_type": "markdown",
   "id": "a161dc6a-86b6-416f-a7bc-14caeed09a25",
   "metadata": {},
   "source": [
    "Change Species from character to factor:"
   ]
  },
  {
   "cell_type": "code",
   "execution_count": null,
   "id": "8041869c-d519-42df-95f2-417f95550bdc",
   "metadata": {},
   "outputs": [],
   "source": [
    "iris_from_xl1[, Species := factor(Species, levels(iris$Species))]"
   ]
  },
  {
   "cell_type": "markdown",
   "id": "0effbcde-acf4-4d8b-b8e2-72f4cb47e5f5",
   "metadata": {},
   "source": [
    "The first table imported from excel is also identical with the original one:"
   ]
  },
  {
   "cell_type": "code",
   "execution_count": null,
   "id": "072c07f5-0703-47d8-84a0-000fd92c6415",
   "metadata": {},
   "outputs": [],
   "source": [
    "identical(iris2, iris_from_xl1)"
   ]
  },
  {
   "cell_type": "markdown",
   "id": "e7077ed9-d1b8-4468-b5f0-378f18256040",
   "metadata": {},
   "source": [
    "# readxl package"
   ]
  },
  {
   "cell_type": "markdown",
   "id": "eec3495d-3eae-43bc-b1a7-28778cdb62a0",
   "metadata": {},
   "source": [
    "Similar to xlsx package:"
   ]
  },
  {
   "cell_type": "code",
   "execution_count": null,
   "id": "a97b3bbd-ab1a-4c45-ab99-96847f376982",
   "metadata": {},
   "outputs": [],
   "source": [
    "iris_from_xl2 <- read_xlsx(\"~/databb/temp/iris.xlsx\", sheet = 1)"
   ]
  },
  {
   "cell_type": "code",
   "execution_count": null,
   "id": "37fe982d-8900-4c9d-9a3a-8904b54dc9e1",
   "metadata": {},
   "outputs": [],
   "source": [
    "setDT(iris_from_xl2)"
   ]
  },
  {
   "cell_type": "code",
   "execution_count": null,
   "id": "f363313f-b29c-4bf7-9a03-5b6418312a4c",
   "metadata": {},
   "outputs": [],
   "source": [
    "iris_from_xl2[, Species := factor(Species, levels(iris$Species))]"
   ]
  },
  {
   "cell_type": "markdown",
   "id": "3e3095e7-8773-4d62-9a32-27a5b3675042",
   "metadata": {},
   "source": [
    "The second table imported from excel is also identical with the original one:"
   ]
  },
  {
   "cell_type": "code",
   "execution_count": null,
   "id": "a6f712b7-193b-4f2d-b332-d4ccc39132fb",
   "metadata": {},
   "outputs": [],
   "source": [
    "identical(iris2, iris_from_xl2)"
   ]
  },
  {
   "cell_type": "markdown",
   "id": "2e5f0f99-eac5-4996-8fc6-e41c6ae0d789",
   "metadata": {},
   "source": [
    "# tidyxl"
   ]
  },
  {
   "cell_type": "markdown",
   "id": "9650d23e-bd65-49c7-80c0-fe9fb60e6eb0",
   "metadata": {},
   "source": [
    "tidyxl package is an overkill for excel files with a regular format\n",
    "\n",
    "But if the excel sheets have multiple tables of complex structure (multiple header column/rows, formatting relavant for data, formulas to extract, etc), tidyxl is a powerhouse: It read data cellwise into a long object with all metadata, format and coordinates as separate columns:"
   ]
  },
  {
   "cell_type": "code",
   "execution_count": null,
   "id": "99a896ad-5203-41bf-87f0-fdbaa1eef65c",
   "metadata": {},
   "outputs": [],
   "source": [
    "iris_from_xl_long <- tidyxl::xlsx_cells(\"~/databb/temp/iris.xlsx\", sheet = 1)"
   ]
  },
  {
   "cell_type": "code",
   "execution_count": null,
   "id": "2a82d001-bc9d-48e7-83af-d5c2ded321b3",
   "metadata": {},
   "outputs": [],
   "source": [
    "setDT(iris_from_xl_long)"
   ]
  },
  {
   "cell_type": "markdown",
   "id": "b3f8f276-8874-4def-94bc-862a0cdce94b",
   "metadata": {},
   "source": [
    "See how large a number of metadata is imported:"
   ]
  },
  {
   "cell_type": "code",
   "execution_count": null,
   "id": "046f0b7a-1400-4c06-8db4-d6f00904fd4b",
   "metadata": {},
   "outputs": [],
   "source": [
    "iris_from_xl_long %>% str"
   ]
  },
  {
   "cell_type": "markdown",
   "id": "974f8b11-168c-4e7f-857d-0a0658088c12",
   "metadata": {},
   "source": [
    "Select relevant columns:"
   ]
  },
  {
   "cell_type": "code",
   "execution_count": null,
   "id": "5e4f200d-f972-423e-b01e-890c868e88f5",
   "metadata": {},
   "outputs": [],
   "source": [
    "iris_from_xl_long_2 <- iris_from_xl_long %>% select(row, col, is_blank, data_type, character, numeric)"
   ]
  },
  {
   "cell_type": "markdown",
   "id": "c6f31ed7-c8f2-4adc-ae65-9e8f70943765",
   "metadata": {},
   "source": [
    "And filter for only the numeric values with coordinate information (rows and columns)"
   ]
  },
  {
   "cell_type": "code",
   "execution_count": null,
   "id": "69cbdab5-3edc-423c-8593-2616ec3e270f",
   "metadata": {},
   "outputs": [],
   "source": [
    "values1 <- iris_from_xl_long_2[data_type == \"numeric\", .(row, col, values = numeric)]"
   ]
  },
  {
   "cell_type": "code",
   "execution_count": null,
   "id": "4d5db90b-bfa7-4ce5-b70c-3c83374627eb",
   "metadata": {},
   "outputs": [],
   "source": [
    "values1"
   ]
  },
  {
   "cell_type": "markdown",
   "id": "ce212eca-0f95-43a5-b9bb-39927817b7fd",
   "metadata": {},
   "source": [
    "Now let's filter for character values. These include column headers and the Species column:"
   ]
  },
  {
   "cell_type": "code",
   "execution_count": null,
   "id": "0578f6b2-ea3f-4a10-8d3b-879bbc19c234",
   "metadata": {},
   "outputs": [],
   "source": [
    "iris_from_xl_long_3 <- iris_from_xl_long_2[data_type == \"character\"]"
   ]
  },
  {
   "cell_type": "markdown",
   "id": "0c0202e8-6483-4d59-a023-d5b5ad9d4379",
   "metadata": {},
   "source": [
    "Column names reside in the first row:"
   ]
  },
  {
   "cell_type": "code",
   "execution_count": null,
   "id": "2bc07cca-12a6-4946-bd3c-44dd31774fad",
   "metadata": {},
   "outputs": [],
   "source": [
    "colnamesx <- iris_from_xl_long_3[row == 1, .(col, colname = character)]"
   ]
  },
  {
   "cell_type": "code",
   "execution_count": null,
   "id": "a0654196-7f60-4283-9423-9c221098a239",
   "metadata": {},
   "outputs": [],
   "source": [
    "colnamesx"
   ]
  },
  {
   "cell_type": "markdown",
   "id": "1caef54c-ee45-4163-9806-b0823cef7ebb",
   "metadata": {},
   "source": [
    "Species values reside on the rest of the rows:"
   ]
  },
  {
   "cell_type": "code",
   "execution_count": null,
   "id": "fc03dd8c-5f76-4155-b6de-a3de199152a8",
   "metadata": {},
   "outputs": [],
   "source": [
    "values2 <- iris_from_xl_long_3[row != 1, .(row, col, values = character)]"
   ]
  },
  {
   "cell_type": "code",
   "execution_count": null,
   "id": "fb28a502-cb63-4ec5-ad2e-11bc18d8501e",
   "metadata": {},
   "outputs": [],
   "source": [
    "values2"
   ]
  },
  {
   "cell_type": "markdown",
   "id": "719d65b4-ba25-4b6e-b36a-4d9152d7101c",
   "metadata": {},
   "source": [
    "Now we have two data.tables for values: One for numeric columns, the other for species. Both are in long format now"
   ]
  },
  {
   "cell_type": "markdown",
   "id": "b9b86764-bd4c-4b28-b3fb-b63778eb0db4",
   "metadata": {},
   "source": [
    "Now join the column names through `col`:"
   ]
  },
  {
   "cell_type": "code",
   "execution_count": null,
   "id": "2eacb739-0d38-4e1f-a34f-df46b8dbc8ea",
   "metadata": {},
   "outputs": [],
   "source": [
    "values1b <- values1 %>% left_join(colnamesx, by = \"col\")"
   ]
  },
  {
   "cell_type": "code",
   "execution_count": null,
   "id": "74eedaeb-1dcb-479e-9b16-851411464ab5",
   "metadata": {},
   "outputs": [],
   "source": [
    "values2b <- values2 %>% left_join(colnamesx, by = \"col\")"
   ]
  },
  {
   "cell_type": "markdown",
   "id": "89f41580-f2e0-465a-b425-ac0dcad4d2fb",
   "metadata": {},
   "source": [
    "And convert into wide format:"
   ]
  },
  {
   "cell_type": "code",
   "execution_count": null,
   "id": "71d845b6-53ff-4eb8-a705-299a31a2bb2f",
   "metadata": {},
   "outputs": [],
   "source": [
    "values1c <- values1b %>% dcast(row ~ colname, value.var = \"values\")"
   ]
  },
  {
   "cell_type": "code",
   "execution_count": null,
   "id": "88b06700-709f-4fea-a7c7-a16ef4d560ac",
   "metadata": {},
   "outputs": [],
   "source": [
    "values1c"
   ]
  },
  {
   "cell_type": "code",
   "execution_count": null,
   "id": "aef18b25-a217-442b-aeb8-5eec485b3fc9",
   "metadata": {},
   "outputs": [],
   "source": [
    "values2c <- values2b %>% dcast(row ~ colname, value.var = \"values\")"
   ]
  },
  {
   "cell_type": "code",
   "execution_count": null,
   "id": "2e97edb7-8144-455d-a36c-265420450f19",
   "metadata": {},
   "outputs": [],
   "source": [
    "values2c"
   ]
  },
  {
   "cell_type": "markdown",
   "id": "21a93f7d-bd54-4192-8bfd-331a82dde7ed",
   "metadata": {},
   "source": [
    "Join both tables using `row`:"
   ]
  },
  {
   "cell_type": "code",
   "execution_count": null,
   "id": "91d810cc-e587-41d4-acf9-37fa70a6e6d6",
   "metadata": {},
   "outputs": [],
   "source": [
    "iris_from_xl3 <- values1c %>% left_join(values2c, by = \"row\") %>% select(-row)"
   ]
  },
  {
   "cell_type": "markdown",
   "id": "4138e6d7-b2cf-472a-9b36-f25cc1ef1216",
   "metadata": {},
   "source": [
    "Change Species into a factor:"
   ]
  },
  {
   "cell_type": "code",
   "execution_count": null,
   "id": "9e6a5bc1-6aa1-434c-a5a0-456b946df98a",
   "metadata": {},
   "outputs": [],
   "source": [
    "iris_from_xl3[, Species := factor(Species, levels(iris$Species))]"
   ]
  },
  {
   "cell_type": "markdown",
   "id": "f50716c6-54f3-4440-92db-be76210e8461",
   "metadata": {},
   "source": [
    "Reorder columns according to iris2:"
   ]
  },
  {
   "cell_type": "code",
   "execution_count": null,
   "id": "2cbd358d-7014-4112-a1fc-985047e2cc7c",
   "metadata": {},
   "outputs": [],
   "source": [
    "setcolorder(iris_from_xl3, names(iris2))"
   ]
  },
  {
   "cell_type": "markdown",
   "id": "4c370263-c8c0-4373-aeb8-1b513f1e9659",
   "metadata": {},
   "source": [
    "The `sorted` attribute is added during the `dcast` operation.\n",
    "\n",
    "That's the only difference with iris2, let's delete that attribute"
   ]
  },
  {
   "cell_type": "code",
   "execution_count": null,
   "id": "87c1d2c0-30af-43d2-8183-533b1ee3b56d",
   "metadata": {},
   "outputs": [],
   "source": [
    "attributes(iris_from_xl3)$sorted <- NULL"
   ]
  },
  {
   "cell_type": "markdown",
   "id": "7374d08a-b565-48ef-98dd-429daf55970f",
   "metadata": {},
   "source": [
    "The third table imported from excel is also identical with the original one:"
   ]
  },
  {
   "cell_type": "code",
   "execution_count": null,
   "id": "d174526e-a4c4-4d5c-aa62-aa1c607efa90",
   "metadata": {},
   "outputs": [],
   "source": [
    "identical(iris2, iris_from_xl3)"
   ]
  },
  {
   "cell_type": "code",
   "execution_count": null,
   "id": "2013b868-ff39-4ea3-85ad-8c73ac0b754d",
   "metadata": {},
   "outputs": [],
   "source": []
  }
 ],
 "metadata": {
  "kernelspec": {
   "display_name": "R",
   "language": "R",
   "name": "ir"
  },
  "language_info": {
   "codemirror_mode": "r",
   "file_extension": ".r",
   "mimetype": "text/x-r-source",
   "name": "R",
   "pygments_lexer": "r",
   "version": "4.3.2"
  }
 },
 "nbformat": 4,
 "nbformat_minor": 5
}
