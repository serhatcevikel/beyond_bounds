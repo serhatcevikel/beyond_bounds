{
 "cells": [
  {
   "cell_type": "code",
   "execution_count": null,
   "id": "952aae5c-302b-4842-99a7-5d790834dae1",
   "metadata": {
    "tags": []
   },
   "outputs": [],
   "source": [
    "pass <- getPass::getPass(\"Please enter the password for the solution: \")\n",
    "encrypt <- \"datacom.crypt\"\n",
    "solution <- system(sprintf(\"cat %s | openssl enc -md sha256 -aes-128-cbc -a -d -salt -pass pass:%s 2> /dev/null\", encrypt, pass), intern = T, ignore.stderr = T)\n",
    "IRdisplay::display_markdown(paste(solution, collapse = \"\\n\"))"
   ]
  },
  {
   "cell_type": "code",
   "execution_count": null,
   "id": "c01fe39b-b90e-4a6e-9d8b-b8191f58068e",
   "metadata": {},
   "outputs": [],
   "source": []
  }
 ],
 "metadata": {
  "kernelspec": {
   "display_name": "R",
   "language": "R",
   "name": "ir"
  },
  "language_info": {
   "codemirror_mode": "r",
   "file_extension": ".r",
   "mimetype": "text/x-r-source",
   "name": "R",
   "pygments_lexer": "r",
   "version": "4.3.2"
  }
 },
 "nbformat": 4,
 "nbformat_minor": 5
}
