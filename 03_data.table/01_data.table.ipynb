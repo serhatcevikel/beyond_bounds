{
 "cells": [
  {
   "cell_type": "code",
   "execution_count": null,
   "id": "8dae43bc-956c-40ec-9ae0-506b737b2aba",
   "metadata": {},
   "outputs": [],
   "source": [
    "library(data.table)\n",
    "library(nycflights13)\n",
    "library(DT)"
   ]
  },
  {
   "cell_type": "code",
   "execution_count": null,
   "id": "369af378-60b7-445b-9e26-bf7cc712817a",
   "metadata": {},
   "outputs": [],
   "source": [
    "options(repr.matrix.max.rows=20, repr.matrix.max.cols=30) # for limiting the number of top and bottom rows of tables printed "
   ]
  },
  {
   "cell_type": "markdown",
   "id": "81ced7d1-6c21-4b16-8d2b-5f1769c99df2",
   "metadata": {},
   "source": [
    "In this session, we will cover basic features of data.table\n",
    "\n",
    "Important: Do not confuse data.table package for data wrangling and datatable function from DT package for creating interactive widgets to view data"
   ]
  },
  {
   "cell_type": "markdown",
   "id": "222a07d2-448d-4573-ab51-340862a0a843",
   "metadata": {},
   "source": [
    "# Datasets"
   ]
  },
  {
   "cell_type": "markdown",
   "id": "40f9878a-5779-4705-b65c-fc84e503cd7d",
   "metadata": {},
   "source": [
    "You can get info on and preview the structure and some rows of the datasets and navigate through them"
   ]
  },
  {
   "cell_type": "markdown",
   "id": "3803fb92-a92a-4929-8551-29192b42037f",
   "metadata": {},
   "source": [
    "## Airlines"
   ]
  },
  {
   "cell_type": "code",
   "execution_count": null,
   "id": "403dc2bb-48a9-418f-b294-398258352538",
   "metadata": {},
   "outputs": [],
   "source": [
    "#?(airlines)"
   ]
  },
  {
   "cell_type": "code",
   "execution_count": null,
   "id": "c9f4495e-13f0-4f0a-9224-cfac02b16a16",
   "metadata": {},
   "outputs": [],
   "source": [
    "head(airlines)"
   ]
  },
  {
   "cell_type": "code",
   "execution_count": null,
   "id": "97bbea51-c887-4568-845d-979bca1554d5",
   "metadata": {},
   "outputs": [],
   "source": [
    "str(airlines)"
   ]
  },
  {
   "cell_type": "code",
   "execution_count": null,
   "id": "3714f95e-0012-44fb-aa6e-53f80a163041",
   "metadata": {},
   "outputs": [],
   "source": [
    "datatable(airlines, filter = \"top\")"
   ]
  },
  {
   "cell_type": "code",
   "execution_count": null,
   "id": "1d9cf10d-194d-4b1c-bb84-112ee8d04b2b",
   "metadata": {},
   "outputs": [],
   "source": []
  },
  {
   "cell_type": "markdown",
   "id": "ba5e2b36-6abe-44ce-94df-4ae9b5a743b9",
   "metadata": {},
   "source": [
    "## airports"
   ]
  },
  {
   "cell_type": "code",
   "execution_count": null,
   "id": "97c54ff0-cb96-4783-8bd4-006de9a4c162",
   "metadata": {},
   "outputs": [],
   "source": [
    "#?airports"
   ]
  },
  {
   "cell_type": "code",
   "execution_count": null,
   "id": "16549b63-1753-4ebf-9bb1-b50899712104",
   "metadata": {},
   "outputs": [],
   "source": [
    "head(airports)"
   ]
  },
  {
   "cell_type": "code",
   "execution_count": null,
   "id": "3968d994-6a5d-43e7-876c-d40de6f8521b",
   "metadata": {},
   "outputs": [],
   "source": [
    "str(airports)"
   ]
  },
  {
   "cell_type": "code",
   "execution_count": null,
   "id": "e60bbd1a-71c8-4c2b-b544-970db198c4c8",
   "metadata": {},
   "outputs": [],
   "source": [
    "datatable(airports, filter = \"top\")"
   ]
  },
  {
   "cell_type": "code",
   "execution_count": null,
   "id": "345b3a0b-c1bf-4b4c-a6b8-58c64c8b8ce2",
   "metadata": {},
   "outputs": [],
   "source": []
  },
  {
   "cell_type": "markdown",
   "id": "938f8a5c-80c5-4999-8e8c-b1a7ad18ce02",
   "metadata": {},
   "source": [
    "## planes"
   ]
  },
  {
   "cell_type": "code",
   "execution_count": null,
   "id": "9bd6f62b-6497-4c64-80f5-5aeec94a4c32",
   "metadata": {},
   "outputs": [],
   "source": [
    "#?planes"
   ]
  },
  {
   "cell_type": "code",
   "execution_count": null,
   "id": "09cea324-6f67-494b-b891-2376cc4e4d14",
   "metadata": {},
   "outputs": [],
   "source": [
    "head(planes)"
   ]
  },
  {
   "cell_type": "code",
   "execution_count": null,
   "id": "72a5c15b-3245-41d8-a311-c5dc7bdfd60f",
   "metadata": {},
   "outputs": [],
   "source": [
    "str(planes)"
   ]
  },
  {
   "cell_type": "code",
   "execution_count": null,
   "id": "d119e53f-affd-4a16-aa2a-09af5202aab5",
   "metadata": {},
   "outputs": [],
   "source": [
    "datatable(planes, filter = \"top\")"
   ]
  },
  {
   "cell_type": "code",
   "execution_count": null,
   "id": "cb62452a-9224-4884-9a7f-a909f7c18d8a",
   "metadata": {},
   "outputs": [],
   "source": []
  },
  {
   "cell_type": "markdown",
   "id": "f4e105a3-8983-426a-9fa7-1290dfe9260b",
   "metadata": {},
   "source": [
    "## weather"
   ]
  },
  {
   "cell_type": "code",
   "execution_count": null,
   "id": "b68d726f-b165-4867-8606-73e18901bde5",
   "metadata": {},
   "outputs": [],
   "source": [
    "#?weather"
   ]
  },
  {
   "cell_type": "code",
   "execution_count": null,
   "id": "b72b811a-0a0f-41eb-a572-d141535de4f7",
   "metadata": {},
   "outputs": [],
   "source": [
    "head(weather)"
   ]
  },
  {
   "cell_type": "code",
   "execution_count": null,
   "id": "9f9f49fa-73b5-4d4f-bb8e-081b1b4e77d8",
   "metadata": {},
   "outputs": [],
   "source": [
    "str(weather)"
   ]
  },
  {
   "cell_type": "code",
   "execution_count": null,
   "id": "05ca9a11-9ec3-492e-8591-1ada98afd556",
   "metadata": {},
   "outputs": [],
   "source": [
    "#datatable(weather, filter = \"top\")"
   ]
  },
  {
   "cell_type": "code",
   "execution_count": null,
   "id": "89dc593f-8c13-48f5-a07c-f939be6b82a7",
   "metadata": {},
   "outputs": [],
   "source": []
  },
  {
   "cell_type": "markdown",
   "id": "738dbb2c-fd4f-47df-a2f5-eef7b11d8df2",
   "metadata": {},
   "source": [
    "## flights"
   ]
  },
  {
   "cell_type": "code",
   "execution_count": null,
   "id": "1457fd9c-7152-4520-9bfe-9f1bb57723e3",
   "metadata": {},
   "outputs": [],
   "source": [
    "#?flights"
   ]
  },
  {
   "cell_type": "code",
   "execution_count": null,
   "id": "9baf477f-1a97-4900-a31a-77534a9d0cc3",
   "metadata": {},
   "outputs": [],
   "source": [
    "head(flights)"
   ]
  },
  {
   "cell_type": "code",
   "execution_count": null,
   "id": "9c6c4045-0685-4f74-aa78-625175a36264",
   "metadata": {},
   "outputs": [],
   "source": [
    "str(flights)"
   ]
  },
  {
   "cell_type": "code",
   "execution_count": null,
   "id": "88289930-0545-4e85-a521-deb4007888ca",
   "metadata": {},
   "outputs": [],
   "source": [
    "#datatable(flights, filter = \"top\")"
   ]
  },
  {
   "cell_type": "code",
   "execution_count": null,
   "id": "a6d0e5c7-c9a5-4225-9fba-ff5656e03f48",
   "metadata": {},
   "outputs": [],
   "source": []
  },
  {
   "cell_type": "code",
   "execution_count": null,
   "id": "7d4e4633-562c-4f9b-a19d-589c04a1d58c",
   "metadata": {},
   "outputs": [],
   "source": [
    "class(flights)"
   ]
  },
  {
   "cell_type": "code",
   "execution_count": null,
   "id": "9ee81d6d-fcbc-4830-b935-f96d08c60dec",
   "metadata": {},
   "outputs": [],
   "source": [
    "attributes(flights)"
   ]
  },
  {
   "cell_type": "markdown",
   "id": "41977f45-426d-45fe-bbc1-a33f9bd43272",
   "metadata": {},
   "source": [
    "# convert data.frames to data.tables"
   ]
  },
  {
   "cell_type": "code",
   "execution_count": null,
   "id": "ffc20025-625f-4fdb-b96b-8adb7422b81c",
   "metadata": {},
   "outputs": [],
   "source": [
    "airlines <- copy(airlines)\n",
    "setDT(airlines)"
   ]
  },
  {
   "cell_type": "code",
   "execution_count": null,
   "id": "b01daa29-a3e8-45cd-9d99-a7e82f87c016",
   "metadata": {},
   "outputs": [],
   "source": [
    "airports <- copy(airports)\n",
    "setDT(airports)"
   ]
  },
  {
   "cell_type": "code",
   "execution_count": null,
   "id": "637c3670-0397-49d8-9d34-c596e96dc416",
   "metadata": {},
   "outputs": [],
   "source": [
    "planes <- copy(planes)\n",
    "setDT(planes)"
   ]
  },
  {
   "cell_type": "code",
   "execution_count": null,
   "id": "b3491579-2bcc-40ed-9ceb-133d1c203f1b",
   "metadata": {},
   "outputs": [],
   "source": [
    "weather <- copy(weather)\n",
    "setDT(weather)"
   ]
  },
  {
   "cell_type": "code",
   "execution_count": null,
   "id": "06ce627d-b7b6-41a1-a42f-e12167e5be4b",
   "metadata": {},
   "outputs": [],
   "source": [
    "class(flights)"
   ]
  },
  {
   "cell_type": "code",
   "execution_count": null,
   "id": "e5f3ac62-79a7-4244-bc96-7cd2ba69f883",
   "metadata": {},
   "outputs": [],
   "source": [
    "flights <- copy(flights)\n",
    "setDT(flights)"
   ]
  },
  {
   "cell_type": "code",
   "execution_count": null,
   "id": "077f16f8-54e9-4de9-8f7e-3f6fe223e8da",
   "metadata": {},
   "outputs": [],
   "source": [
    "class(flights)"
   ]
  },
  {
   "cell_type": "markdown",
   "id": "2aefb0cf-003c-4674-9c6a-8df55995c491",
   "metadata": {},
   "source": [
    "# basic operations"
   ]
  },
  {
   "cell_type": "markdown",
   "id": "170afe60-02bb-4bdf-b2e9-c43a38c06aa6",
   "metadata": {},
   "source": [
    "DT[i, j, by]"
   ]
  },
  {
   "cell_type": "markdown",
   "id": "9743523e-eccd-4647-994f-fcce6e1f6677",
   "metadata": {},
   "source": [
    "## i: filtering rows"
   ]
  },
  {
   "cell_type": "markdown",
   "id": "ed1dbbf8-40d5-40af-9047-850e27ddb526",
   "metadata": {},
   "source": [
    "- You don't have to put an additional \",\" if you just want to filter rows\n",
    "- You don't have to repeat the object name with flights$xxx to refer to the columns"
   ]
  },
  {
   "cell_type": "code",
   "execution_count": null,
   "id": "4a093c27-6b2e-4191-8ac3-7023b37b337c",
   "metadata": {},
   "outputs": [],
   "source": [
    "flights[distance < 400 & dep_delay > 20]"
   ]
  },
  {
   "cell_type": "code",
   "execution_count": null,
   "id": "e5f0c790-4edc-4e8b-9882-2537ef93f8a6",
   "metadata": {},
   "outputs": [],
   "source": [
    "flights[!hour %between% c(7, 24)]"
   ]
  },
  {
   "cell_type": "code",
   "execution_count": null,
   "id": "00ffd78f-2746-455a-8c2e-5dab41231fdf",
   "metadata": {},
   "outputs": [],
   "source": []
  },
  {
   "cell_type": "markdown",
   "id": "33c2b014-ca59-4635-9143-7065c292889f",
   "metadata": {},
   "source": [
    "## j: column operations"
   ]
  },
  {
   "cell_type": "markdown",
   "id": "e9ce2212-c01d-4f82-9ead-5dbef8c0d100",
   "metadata": {},
   "source": [
    "You have to use an `i` filter to use column operations\n",
    "\n",
    "If you want to take all rows, use a leading \",\" inside the brackets as such:\n",
    "\n",
    "DT[, ...]"
   ]
  },
  {
   "cell_type": "markdown",
   "id": "3d601ffd-efe5-4852-aa84-31c97b4a7871",
   "metadata": {},
   "source": [
    "Column names:"
   ]
  },
  {
   "cell_type": "code",
   "execution_count": null,
   "id": "a97260f8-7cf6-43dc-b774-8c64d7162f63",
   "metadata": {},
   "outputs": [],
   "source": [
    "names(flights)"
   ]
  },
  {
   "cell_type": "markdown",
   "id": "0dc37497-a829-4926-8f69-c02212887d54",
   "metadata": {},
   "source": [
    "Extract a single column as vector:"
   ]
  },
  {
   "cell_type": "code",
   "execution_count": null,
   "id": "378d7ce5-a0d0-402c-a58d-2e4a782ce0f3",
   "metadata": {},
   "outputs": [],
   "source": [
    "flights[, head(carrier)]"
   ]
  },
  {
   "cell_type": "markdown",
   "id": "35ff19ae-67e5-49fb-8117-5f3c932d950b",
   "metadata": {},
   "source": [
    "Combine filter and column operations"
   ]
  },
  {
   "cell_type": "code",
   "execution_count": null,
   "id": "6bc88762-87a0-4703-9be3-470e548ef207",
   "metadata": {},
   "outputs": [],
   "source": [
    "flights[distance < 400 & dep_delay > 20 & !hour %between% c(7, 24) & air_time < 35,\n",
    "       carrier]"
   ]
  },
  {
   "cell_type": "markdown",
   "id": "3bf1079f-3643-4cc9-a070-4d2a511906a5",
   "metadata": {},
   "source": [
    "Extract a single column as data.table\n",
    "\n",
    "`.()` is an alias for `list()`"
   ]
  },
  {
   "cell_type": "code",
   "execution_count": null,
   "id": "34c8994a-dafb-41e5-937e-92de53e2cd18",
   "metadata": {},
   "outputs": [],
   "source": [
    "flights[distance < 400 & dep_delay > 20 & !hour %between% c(7, 24) & air_time < 35, .(carrier)]"
   ]
  },
  {
   "cell_type": "markdown",
   "id": "5a4fc80c-d13c-4fc9-b759-a440d66fecb8",
   "metadata": {},
   "source": [
    "Extract multiple columns as data.table"
   ]
  },
  {
   "cell_type": "code",
   "execution_count": null,
   "id": "d23f6592-ec94-40c8-bbd9-10b21482f4c8",
   "metadata": {},
   "outputs": [],
   "source": [
    "flights[distance < 400 & dep_delay > 20 & !hour %between% c(7, 24) & air_time < 35,\n",
    "        .(carrier, origin, dest)]"
   ]
  },
  {
   "cell_type": "code",
   "execution_count": null,
   "id": "97e6cf39-15ea-48a6-a1be-04a4bdce5a0c",
   "metadata": {},
   "outputs": [],
   "source": []
  },
  {
   "cell_type": "markdown",
   "id": "b124298e-509e-4fd8-94c6-0406eaae0f66",
   "metadata": {},
   "source": [
    "A new data output with calculated columns that summarize the data"
   ]
  },
  {
   "cell_type": "code",
   "execution_count": null,
   "id": "41578da1-50f7-4ef3-b21e-a82492714eea",
   "metadata": {},
   "outputs": [],
   "source": [
    "flights[distance < 400 & dep_delay > 20 & !hour %between% c(7, 24) & air_time < 35,\n",
    "        .(max_at = max(air_time), min_at = min(air_time))]"
   ]
  },
  {
   "cell_type": "markdown",
   "id": "7be3819f-03c7-41d7-99b5-86a4100c8613",
   "metadata": {},
   "source": [
    "A new data output with calculated columns that matches the rows\n",
    "\n",
    "For example numeric 517 in dep_time represents 5:17, so we have to separate into two columns for that"
   ]
  },
  {
   "cell_type": "code",
   "execution_count": null,
   "id": "c125cc57-93ae-45f9-824a-c6dc333474ad",
   "metadata": {},
   "outputs": [],
   "source": [
    "flights[distance < 400 & dep_delay > 20 & !hour %between% c(7, 24) & air_time < 35,\n",
    "        .(dep_hour = dep_time %/% 100, dep_min = dep_time %% 100)]"
   ]
  },
  {
   "cell_type": "markdown",
   "id": "6d820aa5-ab7a-4671-8287-3017eedb628b",
   "metadata": {},
   "source": [
    "Calculate new columns, with a value for each row, and add to the dataset\n",
    "\n",
    "Note the `:=` operator for in-place modification\n",
    "\n",
    "We can do that for adding a new column or modifying an existing column"
   ]
  },
  {
   "cell_type": "code",
   "execution_count": null,
   "id": "d5200a51-b52a-43b5-95e2-b3453c537c3b",
   "metadata": {},
   "outputs": [],
   "source": [
    "flights[distance < 400 & dep_delay > 20 & !hour %between% c(7, 24) & air_time < 35,\n",
    "        dep_hour := dep_time %/% 100]"
   ]
  },
  {
   "cell_type": "code",
   "execution_count": null,
   "id": "88cdb4db-6965-482f-ba33-8f8d8328f89d",
   "metadata": {},
   "outputs": [],
   "source": [
    "flights[distance < 400 & dep_delay > 20 & !hour %between% c(7, 24) & air_time < 35,\n",
    "        dep_min := dep_time %% 100]"
   ]
  },
  {
   "cell_type": "markdown",
   "id": "a31a7dc9-6ff9-4044-974f-08e9f84b97c7",
   "metadata": {},
   "source": [
    "For filtered-out rows, columns will have NA values"
   ]
  },
  {
   "cell_type": "code",
   "execution_count": null,
   "id": "604e6db3-8663-4211-b47e-2e5c84e661ee",
   "metadata": {},
   "outputs": [],
   "source": [
    "flights[!is.na(dep_min), .(dep_time, dep_hour, dep_min)]"
   ]
  },
  {
   "cell_type": "code",
   "execution_count": null,
   "id": "1fa8e0ad-6d83-4270-8bec-63b306513a96",
   "metadata": {},
   "outputs": [],
   "source": [
    "str(flights)"
   ]
  },
  {
   "cell_type": "markdown",
   "id": "27341899-a48a-439b-a391-d75e44bfae6e",
   "metadata": {},
   "source": [
    "Delete existing columns:"
   ]
  },
  {
   "cell_type": "code",
   "execution_count": null,
   "id": "93055e5b-3f4a-4346-aaa9-af97ce1d31ba",
   "metadata": {},
   "outputs": [],
   "source": [
    "flights[, dep_min := NULL]\n",
    "flights[, dep_hour := NULL]"
   ]
  },
  {
   "cell_type": "code",
   "execution_count": null,
   "id": "2f2387f1-cf5d-4774-9b41-927fbb08ff2d",
   "metadata": {},
   "outputs": [],
   "source": []
  },
  {
   "cell_type": "markdown",
   "id": "89ac9fd9-ed5b-4274-8ecd-32efcc7a7efa",
   "metadata": {},
   "source": [
    "Calculate and add multiple columns in a single step.\n",
    "\n",
    "Note the wrapping () in the LHS and .() in the RHS"
   ]
  },
  {
   "cell_type": "code",
   "execution_count": null,
   "id": "b72b4fd1-3ad9-4716-8a33-4bb4165a4a3e",
   "metadata": {},
   "outputs": [],
   "source": [
    "flights[distance < 400 & dep_delay > 20 & !hour %between% c(7, 24) & air_time < 35,\n",
    "        (c(\"dep_hour\", \"dep_min\")) := .(dep_time %/% 100, dep_time %% 100)]"
   ]
  },
  {
   "cell_type": "code",
   "execution_count": null,
   "id": "47e2b9ba-0266-406b-a0f6-cf11434605e6",
   "metadata": {},
   "outputs": [],
   "source": [
    "flights[!is.na(dep_min), .(dep_time, dep_hour, dep_min)]"
   ]
  },
  {
   "cell_type": "markdown",
   "id": "0a71e1a7-9fd6-44bd-a0bb-55e946a66a0f",
   "metadata": {},
   "source": [
    "Add a summarizing column, summarization done using filtered rows"
   ]
  },
  {
   "cell_type": "code",
   "execution_count": null,
   "id": "78cb19c5-d9b7-4256-87b2-f8481d9a8fce",
   "metadata": {},
   "outputs": [],
   "source": [
    "flights[distance < 400 & dep_delay > 20 & !hour %between% c(7, 24) & air_time < 35,\n",
    "        (c(\"max_at\", \"min_at\", \"av_at\")) := .(max(air_time), min(air_time), mean(air_time))]"
   ]
  },
  {
   "cell_type": "markdown",
   "id": "cbfb16dc-5c9b-4ed3-b6a0-35ca924a66f7",
   "metadata": {},
   "source": [
    "Note the values will be same across rows when a summarized column is added"
   ]
  },
  {
   "cell_type": "code",
   "execution_count": null,
   "id": "8dcd8696-3d8d-496a-bd45-5cf8ca039c68",
   "metadata": {},
   "outputs": [],
   "source": [
    "flights[distance < 400 & dep_delay > 20 & !hour %between% c(7, 24) & air_time < 35,\n",
    "        .(max_at, min_at, av_at)]"
   ]
  },
  {
   "cell_type": "code",
   "execution_count": null,
   "id": "c91ff9e5-a028-4e71-967a-17ea58b37dc8",
   "metadata": {},
   "outputs": [],
   "source": []
  },
  {
   "cell_type": "markdown",
   "id": "b2b6fc90-24d7-4ad7-bcb8-e9058196dfcd",
   "metadata": {},
   "source": [
    "We can make calculations with interim unsaved step and assign or return the last calculation, if we wrap multiple statements inside a curly pair `{}` and end each with a semicolon `;`"
   ]
  },
  {
   "cell_type": "code",
   "execution_count": null,
   "id": "74ff44d2-0d0d-4911-8bfd-3b5d5abee0dd",
   "metadata": {},
   "outputs": [],
   "source": [
    "flights[, z_at := { std_at <- sd(air_time, na.rm = T);\n",
    "                    av_at <- mean(air_time, na.rm = T);\n",
    "                    (air_time - av_at) / std_at\n",
    "                   }\n",
    "                   ]"
   ]
  },
  {
   "cell_type": "code",
   "execution_count": null,
   "id": "3b90341f-605f-4122-9e75-120c04ef0a19",
   "metadata": {},
   "outputs": [],
   "source": [
    "flights[, summary(z_at)]"
   ]
  },
  {
   "cell_type": "code",
   "execution_count": null,
   "id": "8f4d5e86-a485-4e03-91ba-380a739c5137",
   "metadata": {},
   "outputs": [],
   "source": [
    "flights[, mean(z_at, na.rm = T)]"
   ]
  },
  {
   "cell_type": "markdown",
   "id": "0d28ba55-d10b-447b-b627-1593c9b9fbbe",
   "metadata": {},
   "source": [
    "## by operations"
   ]
  },
  {
   "cell_type": "markdown",
   "id": "034dd9c3-c3d4-4333-900a-f18193c8be75",
   "metadata": {},
   "source": [
    "Repeat operations for each unique value of selected column(s), create a new output"
   ]
  },
  {
   "cell_type": "code",
   "execution_count": null,
   "id": "19ba6dc3-b862-454d-a5ee-a93c1391f57f",
   "metadata": {},
   "outputs": [],
   "source": [
    "flights[, .(max_at_o = max(air_time, na.rm = T), min_at_o = min(air_time, na.rm = T), av_at_o = mean(air_time, na.rm = T)), by = origin]"
   ]
  },
  {
   "cell_type": "code",
   "execution_count": null,
   "id": "6a0f2938-ca5b-4991-9121-bb841795616c",
   "metadata": {},
   "outputs": [],
   "source": [
    "flights[, .(max_at_oc = max(air_time, na.rm = T), min_at_oc = min(air_time, na.rm = T), av_at_oc = mean(air_time, na.rm = T)),\n",
    "        by = c(\"origin\", \"carrier\")]"
   ]
  },
  {
   "cell_type": "markdown",
   "id": "d6e5452f-afd6-4c14-ab7c-dbf60b0a595a",
   "metadata": {},
   "source": [
    "Or we can add the column back to the dataset, values will be calculated separately for each unique values of selected column(s)"
   ]
  },
  {
   "cell_type": "markdown",
   "id": "9305e6cd-3937-4598-b90b-5dfd38a73fd8",
   "metadata": {},
   "source": [
    "Note that linebreaks are arbitrary, but as a style guidelines, try to keep the widgth of lines shorter for readability"
   ]
  },
  {
   "cell_type": "code",
   "execution_count": null,
   "id": "ded1c57d-025f-4e0b-a312-f53b6ca34f71",
   "metadata": {},
   "outputs": [],
   "source": [
    "flights[, (c(\"max_at_oc\", \"min_at_oc\", \"av_at_oc\")) := .(max(air_time, na.rm = T),\n",
    "                                                         min(air_time, na.rm = T),\n",
    "                                                         mean(air_time, na.rm = T)),\n",
    "        by = c(\"origin\", \"carrier\")]"
   ]
  },
  {
   "cell_type": "code",
   "execution_count": null,
   "id": "7af81c34-6a17-41a4-bd26-70d86e810d6b",
   "metadata": {},
   "outputs": [],
   "source": [
    "flights[seq(1e4, 1e5, 1e4), .(origin, carrier, max_at_oc, min_at_oc, av_at_oc)]"
   ]
  },
  {
   "cell_type": "markdown",
   "id": "ebc1a1b6-0c68-4436-b2cc-723de10211d1",
   "metadata": {},
   "source": [
    "# chaining"
   ]
  },
  {
   "cell_type": "markdown",
   "id": "dd93fd85-df9a-4f4e-b8d4-b057fee1e546",
   "metadata": {},
   "source": [
    "We can make successive operations chaining braces\n",
    "\n",
    "Note that in-place modification operation is quite. To return the last output use a last empty chain with `[]`"
   ]
  },
  {
   "cell_type": "code",
   "execution_count": null,
   "id": "9d685f86-41bc-47e2-9ac0-97902c0061f6",
   "metadata": {},
   "outputs": [],
   "source": [
    "flights[, (c(\"std_at\", \"av_at\")) := .(sd(air_time, na.rm = T),\n",
    "                                      mean(air_time, na.rm = T))][,\n",
    "    z_at := (air_time - av_at) / std_at][]"
   ]
  },
  {
   "cell_type": "markdown",
   "id": "da94345d-5b96-4bfb-a35d-1a36fec8b78d",
   "metadata": {},
   "source": [
    "# ordering and naming"
   ]
  },
  {
   "cell_type": "markdown",
   "id": "8f00b037-8eb8-421a-82a7-3165be53b234",
   "metadata": {},
   "source": [
    "## setorder"
   ]
  },
  {
   "cell_type": "markdown",
   "id": "b362dcd3-28c5-4a0e-863f-a68e4cca51cc",
   "metadata": {},
   "source": [
    "setorder sets the row order according to columns and assigns in place"
   ]
  },
  {
   "cell_type": "code",
   "execution_count": null,
   "id": "5db27e3d-cd72-4ec0-b3e3-fbc9cddf4d86",
   "metadata": {},
   "outputs": [],
   "source": [
    "head(flights)"
   ]
  },
  {
   "cell_type": "code",
   "execution_count": null,
   "id": "c3a6c486-d26d-4562-8e5d-1ec8ab16eb97",
   "metadata": {},
   "outputs": [],
   "source": [
    "setorder(flights, carrier, time_hour)"
   ]
  },
  {
   "cell_type": "code",
   "execution_count": null,
   "id": "1350b2dc-7e49-4a6c-824c-5db2a767c547",
   "metadata": {},
   "outputs": [],
   "source": [
    "setorder(flights)"
   ]
  },
  {
   "cell_type": "code",
   "execution_count": null,
   "id": "15cc1754-a5a9-407e-b71f-224c493bb825",
   "metadata": {},
   "outputs": [],
   "source": []
  },
  {
   "cell_type": "markdown",
   "id": "f7162490-71d9-4f30-8196-dfc2a6b0601b",
   "metadata": {},
   "source": [
    "## setcolorder"
   ]
  },
  {
   "cell_type": "markdown",
   "id": "9e594481-9e28-4c1e-93b9-b8768a10a2df",
   "metadata": {},
   "source": [
    "Changes the order of columns"
   ]
  },
  {
   "cell_type": "code",
   "execution_count": null,
   "id": "be79d95b-2530-4761-8109-62cb5f79fff2",
   "metadata": {},
   "outputs": [],
   "source": [
    "setcolorder(flights, c(\"time_hour\", \"carrier\")) "
   ]
  },
  {
   "cell_type": "code",
   "execution_count": null,
   "id": "529e285a-f929-4722-aa4c-f2c5971db386",
   "metadata": {},
   "outputs": [],
   "source": [
    "flights"
   ]
  },
  {
   "cell_type": "code",
   "execution_count": null,
   "id": "fe42d1ad-7441-4916-a311-edf189d7bda4",
   "metadata": {},
   "outputs": [],
   "source": []
  },
  {
   "cell_type": "markdown",
   "id": "b2e02166-c27f-49bd-94bb-7d1e5af9a708",
   "metadata": {},
   "source": [
    "## setnames"
   ]
  },
  {
   "cell_type": "markdown",
   "id": "15503513-9581-459c-9856-679c57499e9c",
   "metadata": {},
   "source": [
    "Changes the names of columns"
   ]
  },
  {
   "cell_type": "code",
   "execution_count": null,
   "id": "77158d92-09b4-4ecb-8485-10c7e618695c",
   "metadata": {},
   "outputs": [],
   "source": [
    "setnames(flights, \"time_hour\", \"date_time\")"
   ]
  },
  {
   "cell_type": "code",
   "execution_count": null,
   "id": "905c3f3e-41da-4c7e-a3e9-1c919db8605c",
   "metadata": {},
   "outputs": [],
   "source": [
    "flights"
   ]
  },
  {
   "cell_type": "code",
   "execution_count": null,
   "id": "f3eda34c-9263-4f0e-b4ca-3764db4a502d",
   "metadata": {},
   "outputs": [],
   "source": [
    "setnames(flights, \"date_time\", \"time_hour\")"
   ]
  },
  {
   "cell_type": "code",
   "execution_count": null,
   "id": "dafaa118-ee47-47f0-9149-3abd5bb36d62",
   "metadata": {},
   "outputs": [],
   "source": [
    "flights"
   ]
  },
  {
   "cell_type": "markdown",
   "id": "08f0eef8-5855-4a6e-8305-781100f54144",
   "metadata": {},
   "source": [
    "# symbols and shortcuts"
   ]
  },
  {
   "cell_type": "markdown",
   "id": "6323d8eb-4169-47f6-bbca-6d7ed8f4f93a",
   "metadata": {},
   "source": [
    "## .SD"
   ]
  },
  {
   "cell_type": "markdown",
   "id": "7ab527be-7a0a-4410-9925-63563342d343",
   "metadata": {},
   "source": [
    "To refer to all columns or repeat operations on each column, you can use .SD"
   ]
  },
  {
   "cell_type": "markdown",
   "id": "b283095a-0793-4b04-8279-8983370cd069",
   "metadata": {},
   "source": [
    "You may get the first flights of each day:"
   ]
  },
  {
   "cell_type": "code",
   "execution_count": null,
   "id": "9605dedb-e152-4ffc-9cc7-6ee3235ab882",
   "metadata": {},
   "outputs": [],
   "source": [
    "flights[, .SD[1], by = c(\"year\", \"month\", \"day\")]"
   ]
  },
  {
   "cell_type": "markdown",
   "id": "ac14468f-6b3b-4fff-a642-113ee2feb739",
   "metadata": {},
   "source": [
    "Get the classes of all columns:"
   ]
  },
  {
   "cell_type": "code",
   "execution_count": null,
   "id": "80153317-2d9b-4a78-beac-440eb5c75f67",
   "metadata": {},
   "outputs": [],
   "source": [
    "flights[, lapply(.SD, class)]"
   ]
  },
  {
   "cell_type": "markdown",
   "id": "e239d32b-9614-4888-ab3c-a4fcff91169e",
   "metadata": {},
   "source": [
    "Get the min max ranges of selected columns"
   ]
  },
  {
   "cell_type": "code",
   "execution_count": null,
   "id": "0dc1ea59-ecb0-4e79-b29a-abf936e67922",
   "metadata": {},
   "outputs": [],
   "source": [
    "flights[, .(max_at_oc, min_at_oc, av_at_oc)][, lapply(.SD, range)]"
   ]
  },
  {
   "cell_type": "markdown",
   "id": "af4a9610-bbc9-4854-a2e7-be4a25dc9a5b",
   "metadata": {},
   "source": [
    "## .SDcols"
   ]
  },
  {
   "cell_type": "markdown",
   "id": "34abc7fb-4d87-47ad-9a54-f52c8a453f0d",
   "metadata": {},
   "source": [
    "We may want to repeat calculations on or refer to multiple columns but not all of them\n",
    "\n",
    ".SDcols makes a selection of columns that .SD will refer to"
   ]
  },
  {
   "cell_type": "code",
   "execution_count": null,
   "id": "d18b90b7-ccb4-43ad-8b54-1699d96d982f",
   "metadata": {},
   "outputs": [],
   "source": [
    "flights[, lapply(.SD, range), .SDcols = c(\"max_at_oc\", \"min_at_oc\", \"av_at_oc\")]"
   ]
  },
  {
   "cell_type": "code",
   "execution_count": null,
   "id": "d4b72bf3-e3ff-42ad-ab8b-94b847b44e1a",
   "metadata": {},
   "outputs": [],
   "source": [
    "flights[, .SD[1], by = c(\"year\", \"month\", \"day\"), .SDcols = c(\"dep_time\", \"arr_time\")]"
   ]
  },
  {
   "cell_type": "markdown",
   "id": "21ecfea1-be63-4e15-9d3b-937581b67e4a",
   "metadata": {},
   "source": [
    "## .N"
   ]
  },
  {
   "cell_type": "markdown",
   "id": "ec210430-fd00-4166-90e4-bd0ed85ecdc8",
   "metadata": {},
   "source": [
    "Gives the number of filtered or grouped rows"
   ]
  },
  {
   "cell_type": "code",
   "execution_count": null,
   "id": "a753c12c-dde4-4854-8ab5-488ef3f9aacc",
   "metadata": {},
   "outputs": [],
   "source": [
    "nrow(flights)"
   ]
  },
  {
   "cell_type": "code",
   "execution_count": null,
   "id": "06cabc17-aaef-4445-b6f2-d254c07de0bc",
   "metadata": {},
   "outputs": [],
   "source": [
    "flights[, .N]"
   ]
  },
  {
   "cell_type": "code",
   "execution_count": null,
   "id": "5c7105dd-d9d1-4931-95b5-8f3cfae2059d",
   "metadata": {},
   "outputs": [],
   "source": [
    "flights[month == 1, .N]"
   ]
  },
  {
   "cell_type": "markdown",
   "id": "0302fbc9-9a41-4e25-b07c-bd25cd6063c7",
   "metadata": {},
   "source": [
    "This returns the last row:"
   ]
  },
  {
   "cell_type": "code",
   "execution_count": null,
   "id": "db92084b-4287-4e52-b91b-dc5c21393dbb",
   "metadata": {},
   "outputs": [],
   "source": [
    "flights[.N]"
   ]
  },
  {
   "cell_type": "markdown",
   "id": "7432d9d3-5e63-434d-b6ca-a2a934ffdf18",
   "metadata": {},
   "source": [
    "Number of rows by carrier"
   ]
  },
  {
   "cell_type": "code",
   "execution_count": null,
   "id": "7d08a77c-6136-4e61-b451-3aaf91b6476d",
   "metadata": {},
   "outputs": [],
   "source": [
    "flights[, .N, by = carrier]"
   ]
  },
  {
   "cell_type": "markdown",
   "id": "cc47abb4-cbae-4dfb-b861-a8861e7af407",
   "metadata": {},
   "source": [
    "Or along with the shares in total"
   ]
  },
  {
   "cell_type": "code",
   "execution_count": null,
   "id": "35bd7c03-688f-4c8e-a125-965f8d826159",
   "metadata": {},
   "outputs": [],
   "source": [
    "flights[, .N, by = carrier][, nshare := N / sum(N)][]"
   ]
  },
  {
   "cell_type": "markdown",
   "id": "65e0153f-c912-4929-b05b-5b83f16a98bc",
   "metadata": {},
   "source": [
    "Or create an index column separately for each unique value combinations of selected columns"
   ]
  },
  {
   "cell_type": "code",
   "execution_count": null,
   "id": "6ed0a638-522b-49ce-8ca6-5ca16defecf9",
   "metadata": {},
   "outputs": [],
   "source": [
    "flights[, index1 := 1:.N, by = c(\"carrier\", \"origin\")]"
   ]
  },
  {
   "cell_type": "code",
   "execution_count": null,
   "id": "25c23186-8294-408e-9212-fbdb26d97801",
   "metadata": {},
   "outputs": [],
   "source": [
    "flights"
   ]
  },
  {
   "cell_type": "markdown",
   "id": "b5d3c393-1673-4f33-b34f-cfc2ee5d9c3b",
   "metadata": {},
   "source": [
    "## .I"
   ]
  },
  {
   "cell_type": "markdown",
   "id": "d424cec7-8beb-4e44-bb73-930d638702e8",
   "metadata": {},
   "source": [
    ".I refers to the index of rows.\n",
    "\n",
    "There is only a single index for the filtered rows, not separate for each group according to the `by`"
   ]
  },
  {
   "cell_type": "code",
   "execution_count": null,
   "id": "2eddb4a6-5f40-4912-89f5-29be027278b1",
   "metadata": {},
   "outputs": [],
   "source": [
    "flights[, index2 := .I]"
   ]
  },
  {
   "cell_type": "code",
   "execution_count": null,
   "id": "03121dfe-4d51-4453-ae54-d5ba0b3656f7",
   "metadata": {},
   "outputs": [],
   "source": [
    "flights[, index3 := .I, by = c(\"carrier\", \"origin\")]"
   ]
  },
  {
   "cell_type": "code",
   "execution_count": null,
   "id": "14b3c0dd-5f01-469c-8046-c9efa7b7457a",
   "metadata": {},
   "outputs": [],
   "source": [
    "flights"
   ]
  },
  {
   "cell_type": "code",
   "execution_count": null,
   "id": "34477532-ee3c-4282-8921-036a20f5eefd",
   "metadata": {},
   "outputs": [],
   "source": [
    "flights[, identical(index2, index3)]"
   ]
  },
  {
   "cell_type": "markdown",
   "id": "fe3dead3-ac01-414e-b477-33ac16226e69",
   "metadata": {},
   "source": [
    "## .GRP"
   ]
  },
  {
   "cell_type": "markdown",
   "id": "9b6384f3-5ca2-40d7-b7f2-181f6c6a8898",
   "metadata": {},
   "source": [
    "Unique id number for each group according to `by`"
   ]
  },
  {
   "cell_type": "code",
   "execution_count": null,
   "id": "336dc4da-1839-4973-a6e7-9614a6a91bcb",
   "metadata": {},
   "outputs": [],
   "source": [
    "flights[, grp1 := .GRP, by = c(\"carrier\", \"origin\")]"
   ]
  },
  {
   "cell_type": "code",
   "execution_count": null,
   "id": "80d0e75b-4bab-4bb6-940a-af6e067a28cf",
   "metadata": {},
   "outputs": [],
   "source": [
    "flights[, grp1[1], by = c(\"carrier\", \"origin\")]"
   ]
  },
  {
   "cell_type": "markdown",
   "id": "b3fe160f-8875-46a3-9ecc-3d279cb217e5",
   "metadata": {},
   "source": [
    "## rleid"
   ]
  },
  {
   "cell_type": "markdown",
   "id": "28f1a01b-160f-4285-a5e7-358277b7e592",
   "metadata": {},
   "source": [
    "Unique id for contigious same values"
   ]
  },
  {
   "cell_type": "code",
   "execution_count": null,
   "id": "ef7bc474-123a-4e0e-8a25-7ee8f743f7a2",
   "metadata": {},
   "outputs": [],
   "source": [
    "setorder(flights, origin, time_hour)"
   ]
  },
  {
   "cell_type": "code",
   "execution_count": null,
   "id": "df3f6483-38b3-4521-969a-b7f9ed7471f3",
   "metadata": {},
   "outputs": [],
   "source": [
    "flights[, rl_co := rleid(carrier), by = origin]"
   ]
  },
  {
   "cell_type": "code",
   "execution_count": null,
   "id": "b28fbbdf-1867-482c-bea0-e682181ba925",
   "metadata": {},
   "outputs": [],
   "source": [
    "flights[, .(time_hour, origin, carrier, rl_co)]"
   ]
  },
  {
   "cell_type": "markdown",
   "id": "1c7d8c98-005c-4578-b3ce-a54029861e7b",
   "metadata": {},
   "source": [
    "# reshaping"
   ]
  },
  {
   "cell_type": "markdown",
   "id": "799161a7-d6e1-4a5f-9d66-6598785fb8d6",
   "metadata": {},
   "source": [
    "## dcast"
   ]
  },
  {
   "cell_type": "markdown",
   "id": "66ca516b-6da2-416a-8e2a-e4206fc6340d",
   "metadata": {},
   "source": [
    "Let's revisit the example where we calculated the summaries of air time for each origin and carrier"
   ]
  },
  {
   "cell_type": "code",
   "execution_count": null,
   "id": "105945a7-eb68-4a5b-a8ea-7b03c3675b9b",
   "metadata": {},
   "outputs": [],
   "source": [
    "flights_at <- flights[, .(max_at_oc = max(air_time, na.rm = T), min_at_oc = min(air_time, na.rm = T), av_at_oc = mean(air_time, na.rm = T)),\n",
    "        by = c(\"origin\", \"carrier\")]"
   ]
  },
  {
   "cell_type": "code",
   "execution_count": null,
   "id": "66b16f75-26ce-4148-8376-b4306f43851f",
   "metadata": {},
   "outputs": [],
   "source": [
    "flights_at"
   ]
  },
  {
   "cell_type": "markdown",
   "id": "15cd0e92-7403-42c7-8047-07a0893def02",
   "metadata": {},
   "source": [
    "Now we may want to see the average values for each origin and carrier in a grid form"
   ]
  },
  {
   "cell_type": "code",
   "execution_count": null,
   "id": "da257dab-f616-4fa0-94ce-1890dca5bd84",
   "metadata": {},
   "outputs": [],
   "source": [
    "flights_at_wide <- dcast(flights_at, carrier ~ origin, value.var = \"av_at_oc\")"
   ]
  },
  {
   "cell_type": "code",
   "execution_count": null,
   "id": "aaf90b53-7e14-42b3-9f6c-8f01429cad0d",
   "metadata": {},
   "outputs": [],
   "source": [
    "flights_at_wide"
   ]
  },
  {
   "cell_type": "markdown",
   "id": "eeae66c5-3212-4efe-af9d-10189ebcf733",
   "metadata": {},
   "source": [
    "Now let's make this wide format into a long again"
   ]
  },
  {
   "cell_type": "code",
   "execution_count": null,
   "id": "9ab97141-05af-4fd4-8fcb-c2c90c8b0983",
   "metadata": {},
   "outputs": [],
   "source": [
    "melt(flights_at_wide, id.vars = \"carrier\", variable.name = \"origin2\", value.name = \"av_time2\")"
   ]
  },
  {
   "cell_type": "markdown",
   "id": "ca7f3c8a-fe12-421d-b492-4728e40f6c26",
   "metadata": {},
   "source": [
    "# joins"
   ]
  },
  {
   "cell_type": "markdown",
   "id": "fec2243a-7101-4172-95e2-d068c9d535c1",
   "metadata": {},
   "source": [
    "## Exact merge"
   ]
  },
  {
   "cell_type": "markdown",
   "id": "91a597dd-d5c4-448f-8938-cc036ec50253",
   "metadata": {},
   "source": [
    "Merge the coordinates of origins using merge()"
   ]
  },
  {
   "cell_type": "code",
   "execution_count": null,
   "id": "5923dac4-fe19-4458-9870-240039aec212",
   "metadata": {},
   "outputs": [],
   "source": [
    "merge(flights[, .(origin, dest, distance)], airports[, .(faa, lat, lon)], by.x = \"origin\", by.y = \"faa\")"
   ]
  },
  {
   "cell_type": "markdown",
   "id": "e9d2005b-ee48-4be4-a298-41d1494c7e2d",
   "metadata": {},
   "source": [
    "Or using the right join method: B[A, on ...]"
   ]
  },
  {
   "cell_type": "code",
   "execution_count": null,
   "id": "53c692d0-7d72-48e5-843d-815043924500",
   "metadata": {},
   "outputs": [],
   "source": [
    "airports[, .(faa, lat, lon)][flights[, .(origin, dest, distance)], on = c(faa = \"origin\")]"
   ]
  },
  {
   "cell_type": "markdown",
   "id": "0711de51-7305-43d1-90d3-f73d8ad261a4",
   "metadata": {},
   "source": [
    "## roll merge"
   ]
  },
  {
   "cell_type": "markdown",
   "id": "60a52d83-0436-4e26-99bc-4b7fd23f0e08",
   "metadata": {},
   "source": [
    "Suppose we want to join the wind speed as at the time of departure for each origin"
   ]
  },
  {
   "cell_type": "markdown",
   "id": "fb3a15d1-1c3f-4894-ab54-f6f91463f867",
   "metadata": {},
   "source": [
    "Now first calculate the exact date time of departure by adding the minutes of departure time in seconds:"
   ]
  },
  {
   "cell_type": "code",
   "execution_count": null,
   "id": "30f36736-779b-42bb-8978-d5b2b7608e08",
   "metadata": {},
   "outputs": [],
   "source": [
    "flights[, time_hour2 := time_hour + ifelse(is.na(dep_time), 30, dep_time) %% 100 * 60]"
   ]
  },
  {
   "cell_type": "code",
   "execution_count": null,
   "id": "96ba3c13-fcd6-4be0-b91b-3d1596b9c31e",
   "metadata": {},
   "outputs": [],
   "source": [
    "flights"
   ]
  },
  {
   "cell_type": "markdown",
   "id": "a602c9e8-a795-486b-90c7-2945fe495ee1",
   "metadata": {},
   "source": [
    "Now let's do exact merge but a great majority of rows do not match:"
   ]
  },
  {
   "cell_type": "code",
   "execution_count": null,
   "id": "61f7706c-0b7e-459f-a2b9-65839c228e88",
   "metadata": {},
   "outputs": [],
   "source": [
    "weather[, .(origin, time_hour, wind_speed)][flights[, .(time_hour2, origin, carrier, flight)],\n",
    "                                            on = c(\"origin\", time_hour = \"time_hour2\")]"
   ]
  },
  {
   "cell_type": "code",
   "execution_count": null,
   "id": "6a856631-53e2-4425-9e95-e458207507a4",
   "metadata": {},
   "outputs": [],
   "source": [
    "weather"
   ]
  },
  {
   "cell_type": "markdown",
   "id": "a1d2cd02-210a-414b-80b9-e1ceba95c0de",
   "metadata": {},
   "source": [
    "Now let's match the closest wind speed reading before the flight if there is no exact match:"
   ]
  },
  {
   "cell_type": "code",
   "execution_count": null,
   "id": "8bad93e9-2814-464c-a5ad-6fba14934073",
   "metadata": {},
   "outputs": [],
   "source": [
    "weather[, .(origin, time_hour, time_hour_org = time_hour, wind_speed)][flights[, .(time_hour2, origin, carrier, flight)],\n",
    "                                            on = c(\"origin\", time_hour = \"time_hour2\"), roll = Inf]"
   ]
  },
  {
   "cell_type": "markdown",
   "id": "d1eab0b8-8812-4685-87d8-ae1c0b382ac8",
   "metadata": {},
   "source": [
    "Or the closest wind speed reading after the flight if there is no exact match:"
   ]
  },
  {
   "cell_type": "code",
   "execution_count": null,
   "id": "e0040f4a-1644-4d0c-8a39-2fe39df038da",
   "metadata": {},
   "outputs": [],
   "source": [
    "weather[, .(origin, time_hour, wind_speed)][flights[, .(time_hour2, origin, carrier, flight)],\n",
    "                                            on = c(\"origin\", time_hour = \"time_hour2\"), roll = -Inf]"
   ]
  },
  {
   "cell_type": "code",
   "execution_count": null,
   "id": "725eab49-0b05-4e27-bcad-4f773dcc552a",
   "metadata": {},
   "outputs": [],
   "source": []
  }
 ],
 "metadata": {
  "kernelspec": {
   "display_name": "R",
   "language": "R",
   "name": "ir"
  },
  "language_info": {
   "codemirror_mode": "r",
   "file_extension": ".r",
   "mimetype": "text/x-r-source",
   "name": "R",
   "pygments_lexer": "r",
   "version": "4.3.2"
  },
  "toc-autonumbering": true
 },
 "nbformat": 4,
 "nbformat_minor": 5
}
