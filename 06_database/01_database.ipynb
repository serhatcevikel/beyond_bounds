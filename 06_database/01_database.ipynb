{
 "cells": [
  {
   "cell_type": "markdown",
   "id": "80ba9ed8-3334-4d6a-90a5-fb65b8c0c995",
   "metadata": {},
   "source": [
    "<font size=\"6\"><b>INTERFACING TO DATABASES</b></font>"
   ]
  },
  {
   "cell_type": "code",
   "execution_count": null,
   "id": "2a2d74da-8691-4f86-bcb8-b376dc3d8099",
   "metadata": {},
   "outputs": [],
   "source": [
    "library(data.table)\n",
    "library(tidyverse)\n",
    "library(DBI)\n",
    "library(RSQLite)\n",
    "library(dbplyr)"
   ]
  },
  {
   "cell_type": "code",
   "execution_count": null,
   "id": "09536b20-68c5-48f2-b522-59f72b92bcc2",
   "metadata": {},
   "outputs": [],
   "source": [
    "options(repr.matrix.max.rows=20, repr.matrix.max.cols=15) # for limiting the number of top and bottom rows of tables printed "
   ]
  },
  {
   "cell_type": "markdown",
   "id": "03af62c6-f8f3-4b04-b053-66c78f7b3e88",
   "metadata": {},
   "source": [
    "![xkcd](../imagesbb/query2.png)\n",
    "\n",
    "(https://xkcd.com/1409/)"
   ]
  },
  {
   "cell_type": "markdown",
   "id": "3820ad61-7be4-476d-adcc-342a730f033a",
   "metadata": {},
   "source": [
    "The goal of this chapter is to use simple or familiar tools so that you can query relational databases to extract information.\n",
    "\n",
    "Learning SQL is beyond the scope however getting familiar to basic SQL clauses would be useful so that you can realize the similarities between SQL and the semantics of the main tools we use in R - data.table and tidyverse."
   ]
  },
  {
   "cell_type": "markdown",
   "id": "397a238c-cfac-473b-b78c-94e0d576fc10",
   "metadata": {},
   "source": [
    "Database management commands or `INSERT`, `DELETE` or `APPEND` queries are also beyond our scope.\n",
    "\n",
    "But we use some utility functions / wrappers from DBI package to write into or read whole tables.\n",
    "\n",
    "Our focus is on `SELECT` queries, or commands that translate into `SELECT` queries."
   ]
  },
  {
   "cell_type": "markdown",
   "id": "f053fe9e-fd57-4606-b5a2-04a9543ced1f",
   "metadata": {},
   "source": [
    "We will create and connect to an SQLite database since it is lightweight and does not require a client-server architecture which is hard to implement in this binder setting. "
   ]
  },
  {
   "cell_type": "markdown",
   "id": "25c2027e-2331-4f9a-8f04-6b1065e645c2",
   "metadata": {},
   "source": [
    "# Data"
   ]
  },
  {
   "cell_type": "markdown",
   "id": "eba7da0f-129a-4dff-91f8-efb52ca3a72a",
   "metadata": {},
   "source": [
    "We will be using World database, a sample database for PostgreSQL"
   ]
  },
  {
   "cell_type": "markdown",
   "id": "dbf35012-90be-43cb-a1d7-9d864a084ad3",
   "metadata": {},
   "source": [
    "The database is comprised of three tables and has demographic, economic and geographic information and statistics on countries, cities and languages"
   ]
  },
  {
   "cell_type": "markdown",
   "id": "24addf13-fec0-4cfe-a9c1-4b6ffb8f5e11",
   "metadata": {},
   "source": [
    "The sql dump of the database is downloaded from:\n",
    "\n",
    "https://ftp.postgresql.org/pub/projects/pgFoundry/dbsamples/world/world-1.0/world-1.0.tar.gz\n",
    "\n",
    "Then it was restored into PostgreSQL server.\n",
    "I used the tools that we cover here to read the data into R and the three tables were combined into a list object.\n",
    "\n",
    "RDS is a binary serialization format in base R. More to talk about serialization later:"
   ]
  },
  {
   "cell_type": "code",
   "execution_count": null,
   "id": "3c5fd72f-f58a-4b0a-984f-41dc39f47a0a",
   "metadata": {},
   "outputs": [],
   "source": [
    "worldl <- readRDS(\"~/databb/rds/world.rds\")"
   ]
  },
  {
   "cell_type": "code",
   "execution_count": null,
   "id": "195be4c2-5006-4ee1-96ca-188a4f850bab",
   "metadata": {},
   "outputs": [],
   "source": [
    "worldl %>% str"
   ]
  },
  {
   "cell_type": "code",
   "execution_count": null,
   "id": "05234a64-39cf-400c-adc6-87262676d854",
   "metadata": {},
   "outputs": [],
   "source": [
    "worldl %>% lapply(head)"
   ]
  },
  {
   "cell_type": "markdown",
   "id": "4b8989e5-c6d8-4bad-8a29-5b16c0f396fa",
   "metadata": {},
   "source": [
    "The entity relationship diagram of the database can provide a summary of the fields, types and relations between tables:"
   ]
  },
  {
   "cell_type": "markdown",
   "id": "9a0b7615-081d-4ce6-870d-e019d4774753",
   "metadata": {},
   "source": [
    "![xkcd](../imagesbb/world_erd.png)"
   ]
  },
  {
   "cell_type": "markdown",
   "id": "c9488eca-905f-4b7d-91dd-d8d3f9e7df13",
   "metadata": {},
   "source": [
    "# DBI"
   ]
  },
  {
   "cell_type": "markdown",
   "id": "c5192bf3-49fe-4cab-9351-bca307830b02",
   "metadata": {},
   "source": [
    "## Create a connection"
   ]
  },
  {
   "cell_type": "markdown",
   "id": "dfe62ec8-e767-4599-b01a-c394f602461a",
   "metadata": {},
   "source": [
    "Let's first create a connection to a new SQLite database. Delete the existing one if exists:"
   ]
  },
  {
   "cell_type": "code",
   "execution_count": null,
   "id": "af2d2f04-42a5-4d6e-a0d3-d3c9de816b6f",
   "metadata": {},
   "outputs": [],
   "source": [
    "if (file.exists(\"~/databb/temp/world.db\")) file.remove(\"~/databb/temp/world.db\")"
   ]
  },
  {
   "cell_type": "code",
   "execution_count": null,
   "id": "25fb0b9c-27a7-42c2-86a9-d2e1281ce871",
   "metadata": {},
   "outputs": [],
   "source": [
    "consq <- dbConnect(RSQLite::SQLite(), \"~/databb/temp/world.db\")"
   ]
  },
  {
   "cell_type": "markdown",
   "id": "b6ac403f-11c4-44fd-91af-a6a9c8c80c77",
   "metadata": {},
   "source": [
    "Get the names of tables from R object:"
   ]
  },
  {
   "cell_type": "code",
   "execution_count": null,
   "id": "3c93ad5c-2711-45d8-b5a2-96b475c9463f",
   "metadata": {},
   "outputs": [],
   "source": [
    "tables <- names(worldl)\n",
    "tables"
   ]
  },
  {
   "cell_type": "markdown",
   "id": "73de871b-9550-401a-b629-7d8ec36e1ddb",
   "metadata": {},
   "source": [
    "And write the tables into the database:"
   ]
  },
  {
   "cell_type": "code",
   "execution_count": null,
   "id": "03c09165-986b-4839-80b0-e2bcc98b193a",
   "metadata": {},
   "outputs": [],
   "source": [
    "for (i in tables)\n",
    "{\n",
    "    dbt <- worldl[[i]]\n",
    "    dbWriteTable(consq, i, dbt, overwrite = T)\n",
    "}"
   ]
  },
  {
   "cell_type": "markdown",
   "id": "fccc1278-3c33-4b12-bb42-11e8f7d7eb0a",
   "metadata": {},
   "source": [
    "List table names in the database:"
   ]
  },
  {
   "cell_type": "code",
   "execution_count": null,
   "id": "44620748-642e-45aa-9f42-b68a3a2b96ba",
   "metadata": {},
   "outputs": [],
   "source": [
    "tables2 <- dbListTables(consq)"
   ]
  },
  {
   "cell_type": "code",
   "execution_count": null,
   "id": "4991c67d-7e55-4231-9ee9-5b72cd463f22",
   "metadata": {},
   "outputs": [],
   "source": [
    "tables2"
   ]
  },
  {
   "cell_type": "markdown",
   "id": "d10ca4ca-ea96-4cfd-8070-4079360ec949",
   "metadata": {},
   "source": [
    "Now let's read the whole tables back:"
   ]
  },
  {
   "cell_type": "code",
   "execution_count": null,
   "id": "138a19c9-3ae7-4b9d-8b6c-977f3a00fdad",
   "metadata": {},
   "outputs": [],
   "source": [
    "worldl2 <- lapply(tables, function(x) dbReadTable(consq, x))"
   ]
  },
  {
   "cell_type": "code",
   "execution_count": null,
   "id": "d5e5d639-5912-4b18-97be-f282831f956f",
   "metadata": {},
   "outputs": [],
   "source": [
    "names(worldl2) <- tables"
   ]
  },
  {
   "cell_type": "code",
   "execution_count": null,
   "id": "0aa99823-9473-43e3-8b57-f7c0c939eca0",
   "metadata": {},
   "outputs": [],
   "source": [
    "worldl2 %>% str"
   ]
  },
  {
   "cell_type": "markdown",
   "id": "b662fe7b-c1ed-4091-973b-9847bbbe014d",
   "metadata": {},
   "source": [
    "Read the fieldnames of tables:"
   ]
  },
  {
   "cell_type": "code",
   "execution_count": null,
   "id": "1e58b939-c7be-490d-819b-747388190cfc",
   "metadata": {},
   "outputs": [],
   "source": [
    "fieldsx <- lapply(tables, function(x) dbListFields(consq, x))"
   ]
  },
  {
   "cell_type": "code",
   "execution_count": null,
   "id": "223019a3-09a1-4c24-abac-115f0b5a3abf",
   "metadata": {},
   "outputs": [],
   "source": [
    "fieldsx"
   ]
  },
  {
   "cell_type": "markdown",
   "id": "a6688ba2-fc8f-4b25-ba16-58a89f1e316d",
   "metadata": {},
   "source": [
    "# dbplyr"
   ]
  },
  {
   "cell_type": "code",
   "execution_count": null,
   "id": "7e5db980-572e-42e5-a255-8c20b63bc3a6",
   "metadata": {},
   "outputs": [],
   "source": [
    "tables"
   ]
  },
  {
   "cell_type": "markdown",
   "id": "928e12f2-281a-4d18-a538-5770059239f8",
   "metadata": {},
   "source": [
    "Let's create a list of lazy connection/query objects with `tbl` to each of the tables in the database"
   ]
  },
  {
   "cell_type": "code",
   "execution_count": null,
   "id": "494ff22e-975f-4ebc-a933-634d9a56a682",
   "metadata": {},
   "outputs": [],
   "source": [
    "world_lazy <- lapply(tables, function(x) tbl(consq, x))"
   ]
  },
  {
   "cell_type": "code",
   "execution_count": null,
   "id": "01b9b7cb-ae0c-4da3-b551-c6f7f77b7291",
   "metadata": {},
   "outputs": [],
   "source": [
    "names(world_lazy) <- tables"
   ]
  },
  {
   "cell_type": "markdown",
   "id": "3705034b-c003-4abe-9cc2-3ff444cd1e52",
   "metadata": {},
   "source": [
    "The lazy query prints only the header of the query results,\n",
    "\n",
    "The query is executed when `collect` function is called.\n",
    "\n",
    "A lazy query can be piped into other queries so complex queries can be formed this way:"
   ]
  },
  {
   "cell_type": "code",
   "execution_count": null,
   "id": "3a8af5dc-19eb-40ed-b109-290ce7e3e6d7",
   "metadata": {},
   "outputs": [],
   "source": [
    "world_lazy"
   ]
  },
  {
   "cell_type": "markdown",
   "id": "16b877ab-2455-4ae1-a7a1-a30ff7167b95",
   "metadata": {},
   "source": [
    "Now let's lazily select some of the columns from the `country` table:"
   ]
  },
  {
   "cell_type": "code",
   "execution_count": null,
   "id": "4733df7e-5b7a-4813-aa5a-72d409ca2b33",
   "metadata": {},
   "outputs": [],
   "source": [
    "query01 <- world_lazy$country %>% select(-governmentform, -headofstate)"
   ]
  },
  {
   "cell_type": "markdown",
   "id": "73738aeb-be00-4830-97b9-5fbd3fce08e6",
   "metadata": {},
   "source": [
    "See the automatically created SQL query under the hood:"
   ]
  },
  {
   "cell_type": "code",
   "execution_count": null,
   "id": "3c24747d-ca42-4798-b3b1-6d725314db93",
   "metadata": {},
   "outputs": [],
   "source": [
    "query01 %>% show_query"
   ]
  },
  {
   "cell_type": "code",
   "execution_count": null,
   "id": "04c8ae1b-784d-41cb-a427-1c5e9f65c25f",
   "metadata": {},
   "outputs": [],
   "source": [
    "query01"
   ]
  },
  {
   "cell_type": "markdown",
   "id": "eea5d643-5cf9-4fa5-8a8a-df9f86afec6e",
   "metadata": {},
   "source": [
    "Starting from the previous query, let's filter some rows:"
   ]
  },
  {
   "cell_type": "code",
   "execution_count": null,
   "id": "4e0c89bd-ecf2-43b3-8732-ec7660b8d8fd",
   "metadata": {},
   "outputs": [],
   "source": [
    "query02 <- query01 %>% filter(continent == \"Europe\" & lifeexpectancy > 75)"
   ]
  },
  {
   "cell_type": "code",
   "execution_count": null,
   "id": "404f6aca-1deb-4cf3-a182-976d39e9a7f4",
   "metadata": {},
   "outputs": [],
   "source": [
    "query02 %>% show_query"
   ]
  },
  {
   "cell_type": "code",
   "execution_count": null,
   "id": "35c1fcb8-a2a9-43c7-bb3d-c3df25b91f18",
   "metadata": {},
   "outputs": [],
   "source": [
    "query02"
   ]
  },
  {
   "cell_type": "markdown",
   "id": "d22976c2-de1f-478c-ac89-15b0c133de54",
   "metadata": {},
   "source": [
    "And on top of the last query, let's calculate and create a new column: "
   ]
  },
  {
   "cell_type": "code",
   "execution_count": null,
   "id": "1637d840-5c1c-4d90-bbde-c6b3b16a1b59",
   "metadata": {},
   "outputs": [],
   "source": [
    "query03 <- query02 %>% mutate(popdensity = population / surfacearea)"
   ]
  },
  {
   "cell_type": "code",
   "execution_count": null,
   "id": "3b7b7e5e-ca25-4418-b092-5d91d0433ffb",
   "metadata": {},
   "outputs": [],
   "source": [
    "query03 %>% show_query"
   ]
  },
  {
   "cell_type": "code",
   "execution_count": null,
   "id": "26f2835f-0ac4-4fc1-9314-ec34d0ee2131",
   "metadata": {},
   "outputs": [],
   "source": [
    "query03"
   ]
  },
  {
   "cell_type": "markdown",
   "id": "2714eef1-21dd-428c-bb8b-f899dfaa68a0",
   "metadata": {},
   "source": [
    "Let's join the last query into selected columns of `countrylanguage` table:"
   ]
  },
  {
   "cell_type": "code",
   "execution_count": null,
   "id": "3c62e402-6bcb-4c9d-85d6-5acf8f5a1d2f",
   "metadata": {},
   "outputs": [],
   "source": [
    "query04 <- query03 %>% left_join(world_lazy$countrylanguage %>% select(countrycode, language, isofficial), by = c(\"code\" = \"countrycode\"))"
   ]
  },
  {
   "cell_type": "code",
   "execution_count": null,
   "id": "7198c962-afbc-4623-b407-b46474f9299c",
   "metadata": {},
   "outputs": [],
   "source": [
    "query04 %>% show_query"
   ]
  },
  {
   "cell_type": "markdown",
   "id": "8356abdb-16c8-446c-80ad-5abeaf760f26",
   "metadata": {},
   "source": [
    "And summarize the number of total languages and official languages for each country into a new query `query05`:"
   ]
  },
  {
   "cell_type": "code",
   "execution_count": null,
   "id": "d3250c92-6a22-4cd7-a8d5-d21824c08354",
   "metadata": {},
   "outputs": [],
   "source": [
    "query05 <- query04 %>% group_by(code) %>% summarise(nlang = n(), noff = sum(isofficial, na.rm = T)) %>% ungroup"
   ]
  },
  {
   "cell_type": "code",
   "execution_count": null,
   "id": "11747b18-7f96-4d32-8524-badd634e1b0f",
   "metadata": {},
   "outputs": [],
   "source": [
    "query05 %>% show_query"
   ]
  },
  {
   "cell_type": "code",
   "execution_count": null,
   "id": "866dbc9e-9efe-4e61-bc49-b6286d6b503b",
   "metadata": {},
   "outputs": [],
   "source": [
    "query05"
   ]
  },
  {
   "cell_type": "markdown",
   "id": "9c639cd9-5d76-4881-be34-ec36e4678960",
   "metadata": {},
   "source": [
    "Now let's combine the 3rd and 5th queries so that for each country now we have the number of total languages and official languages, in addition to the already selected or created columns:"
   ]
  },
  {
   "cell_type": "code",
   "execution_count": null,
   "id": "0d8f54f8-3f2f-46e9-8b7f-e4cd72eab00d",
   "metadata": {},
   "outputs": [],
   "source": [
    "query06 <- query03 %>% left_join(query05, by = \"code\")"
   ]
  },
  {
   "cell_type": "markdown",
   "id": "364dee63-9618-4cb5-a299-07a07bbaeef7",
   "metadata": {},
   "source": [
    "See how complicated the query becomes:"
   ]
  },
  {
   "cell_type": "code",
   "execution_count": null,
   "id": "a3260808-5269-40db-9795-3485f04f32de",
   "metadata": {},
   "outputs": [],
   "source": [
    "query06 %>% show_query"
   ]
  },
  {
   "cell_type": "code",
   "execution_count": null,
   "id": "a5450d06-4772-4e63-be1d-8b385ce5297b",
   "metadata": {},
   "outputs": [],
   "source": [
    "query06"
   ]
  },
  {
   "cell_type": "markdown",
   "id": "cac35f37-2640-4892-843b-1def4dd9d44b",
   "metadata": {},
   "source": [
    "Now let's join the city information on the capital of each country, we change some names to avoid name collision:"
   ]
  },
  {
   "cell_type": "code",
   "execution_count": null,
   "id": "a0c9119a-3803-4fc1-bead-11490406305c",
   "metadata": {},
   "outputs": [],
   "source": [
    "query07 <- query06 %>% left_join(world_lazy$city %>% select(id, capitalcity = name, capital_pop = population), by = c(\"capital\" = \"id\"))"
   ]
  },
  {
   "cell_type": "markdown",
   "id": "bd90d755-6e2c-4d4d-8146-970d0b155399",
   "metadata": {},
   "source": [
    "See that if we were to write all these as an SQL query, it would be a huge task:"
   ]
  },
  {
   "cell_type": "code",
   "execution_count": null,
   "id": "a4383120-e865-482e-84b6-55b150d22c64",
   "metadata": {},
   "outputs": [],
   "source": [
    "query07 %>% show_query"
   ]
  },
  {
   "cell_type": "code",
   "execution_count": null,
   "id": "6ab5c9ea-0fa5-45e8-9819-14f412c5b894",
   "metadata": {},
   "outputs": [],
   "source": [
    "query07"
   ]
  },
  {
   "cell_type": "markdown",
   "id": "83f50480-d0a8-4f66-9acd-08c45b33be86",
   "metadata": {},
   "source": [
    "Now it is time to execute all the steps and collect the results (as a tibble object by default):"
   ]
  },
  {
   "cell_type": "code",
   "execution_count": null,
   "id": "18762387-6fb1-49d3-8c9e-4bc6cdd9c7d4",
   "metadata": {},
   "outputs": [],
   "source": [
    "results <- query07 %>% collect"
   ]
  },
  {
   "cell_type": "code",
   "execution_count": null,
   "id": "c61d15bc-b44e-4c00-ad92-cb2bfbe32dd2",
   "metadata": {},
   "outputs": [],
   "source": [
    "results"
   ]
  },
  {
   "cell_type": "markdown",
   "id": "c9066170-7f96-4a29-8105-eac4eb316e3a",
   "metadata": {},
   "source": [
    "Now let's combine these separete steps into three stages:"
   ]
  },
  {
   "cell_type": "markdown",
   "id": "96d45b5c-1e8c-46c7-8405-9a28d68ff9c2",
   "metadata": {},
   "source": [
    "Stage 1 includes the initial steps we do with the `country` table:"
   ]
  },
  {
   "cell_type": "code",
   "execution_count": null,
   "id": "703ccca9-932d-439e-b7f3-ee550838c64b",
   "metadata": {},
   "outputs": [],
   "source": [
    "stage1 <- world_lazy$country %>%\n",
    "select(-governmentform, -headofstate) %>%\n",
    "filter(continent == \"Europe\" & lifeexpectancy > 75) %>%\n",
    "mutate(popdensity = population / surfacearea)"
   ]
  },
  {
   "cell_type": "markdown",
   "id": "6c4d31c6-5dd9-4b44-80ce-5751e705ed72",
   "metadata": {},
   "source": [
    "Stage 2 joins Stage 1 to the countrylanguage and calculates the number of all languages and official languages:"
   ]
  },
  {
   "cell_type": "code",
   "execution_count": null,
   "id": "2031298f-e45e-456f-9409-cf2194c50026",
   "metadata": {},
   "outputs": [],
   "source": [
    "stage2 <- stage1 %>%\n",
    "left_join(world_lazy$countrylanguage %>% select(countrycode, language, isofficial),\n",
    "          by = c(\"code\" = \"countrycode\")) %>%\n",
    "group_by(code) %>%\n",
    "summarise(nlang = n(), noff = sum(isofficial, na.rm = T))"
   ]
  },
  {
   "cell_type": "markdown",
   "id": "fca6c834-f652-4e48-b289-2097c49acf11",
   "metadata": {},
   "source": [
    "In Stage 3, Stage 1 query is joined with the Stage 2 query"
   ]
  },
  {
   "cell_type": "code",
   "execution_count": null,
   "id": "dda0cc29-8261-4ea7-b0b8-1ce10b82226e",
   "metadata": {},
   "outputs": [],
   "source": [
    "stage3 <- stage1 %>% left_join(stage2, by = \"code\") %>%\n",
    "left_join(world_lazy$city %>% select(id, capitalcity = name, capital_pop = population),\n",
    "          by = c(\"capital\" = \"id\"))"
   ]
  },
  {
   "cell_type": "markdown",
   "id": "0e072e4f-6908-4b2e-bb6a-484e3600c280",
   "metadata": {},
   "source": [
    "Easy dplyr verbs above create such a complex query below:"
   ]
  },
  {
   "cell_type": "code",
   "execution_count": null,
   "id": "dc447051-45ad-43ce-b801-db55a1682dd7",
   "metadata": {},
   "outputs": [],
   "source": [
    "stage3 %>% show_query"
   ]
  },
  {
   "cell_type": "code",
   "execution_count": null,
   "id": "ef471667-9afc-4d88-80c2-d236091e662a",
   "metadata": {},
   "outputs": [],
   "source": [
    "stage3"
   ]
  },
  {
   "cell_type": "code",
   "execution_count": null,
   "id": "711894ca-f97e-4ef7-98b4-285a8342998f",
   "metadata": {},
   "outputs": [],
   "source": []
  },
  {
   "cell_type": "markdown",
   "id": "63a15ee0-dd16-48a3-8d50-dc2026eb4bf1",
   "metadata": {},
   "source": [
    "Now collect the results again:"
   ]
  },
  {
   "cell_type": "code",
   "execution_count": null,
   "id": "3693c44f-4f98-4678-9e90-2f0d8f125e03",
   "metadata": {},
   "outputs": [],
   "source": [
    "results2 <- stage3 %>% collect"
   ]
  },
  {
   "cell_type": "markdown",
   "id": "88903ee7-b4ed-464d-b186-090065e8b6a0",
   "metadata": {},
   "source": [
    "And see that combining separate steps into stages does not change the result:"
   ]
  },
  {
   "cell_type": "code",
   "execution_count": null,
   "id": "d04ea136-500f-41d5-b829-36679afc5873",
   "metadata": {},
   "outputs": [],
   "source": [
    "identical(results, results2)"
   ]
  },
  {
   "cell_type": "markdown",
   "id": "985e682b-31ba-4a97-a13e-e2d8dc16dc8d",
   "metadata": {},
   "source": [
    "# Using dbGetQuery from DBI"
   ]
  },
  {
   "cell_type": "markdown",
   "id": "6e68ecd1-519c-462a-a7d4-efb04ef649af",
   "metadata": {},
   "source": [
    "Now let's extract the sql_query as a character object:"
   ]
  },
  {
   "cell_type": "code",
   "execution_count": null,
   "id": "c2cdf3c4-cd49-40f8-a94a-038d9117a1ea",
   "metadata": {},
   "outputs": [],
   "source": [
    "queryx <- stage3 %>% sql_render"
   ]
  },
  {
   "cell_type": "code",
   "execution_count": null,
   "id": "3e767757-2660-4b77-98e2-56963857293b",
   "metadata": {},
   "outputs": [],
   "source": [
    "queryx %>% str"
   ]
  },
  {
   "cell_type": "markdown",
   "id": "a6cc9d77-3ec0-4095-b66f-2f70ed729930",
   "metadata": {},
   "source": [
    "Pretty print the query with new lines:"
   ]
  },
  {
   "cell_type": "code",
   "execution_count": null,
   "id": "6913dcce-4232-4ff8-a3d2-12f123463d1c",
   "metadata": {},
   "outputs": [],
   "source": [
    "queryx %>% cat"
   ]
  },
  {
   "cell_type": "markdown",
   "id": "43511b20-dd5a-49fb-9e9c-08ed0021b81b",
   "metadata": {},
   "source": [
    "Now let's execute the query using the generic function in DBI and get the results a third time:"
   ]
  },
  {
   "cell_type": "code",
   "execution_count": null,
   "id": "580eda99-5507-410c-a3f7-f3f997fc4c6e",
   "metadata": {},
   "outputs": [],
   "source": [
    "results3 <- dbGetQuery(consq, queryx)"
   ]
  },
  {
   "cell_type": "markdown",
   "id": "d3467165-a74e-4f01-b738-ff33c2e0b53f",
   "metadata": {},
   "source": [
    "Make the object a tibble:"
   ]
  },
  {
   "cell_type": "code",
   "execution_count": null,
   "id": "0f2b1f2c-2264-49c9-8150-255b553b158d",
   "metadata": {},
   "outputs": [],
   "source": [
    "results3 <- as_tibble(results3)"
   ]
  },
  {
   "cell_type": "markdown",
   "id": "01722fe5-7bfd-47db-90fa-9f1eae88d90a",
   "metadata": {},
   "source": [
    "And see that the resulsts are identical:"
   ]
  },
  {
   "cell_type": "code",
   "execution_count": null,
   "id": "5b1d4a6e-10fd-46f7-bd5a-03054b87db2b",
   "metadata": {},
   "outputs": [],
   "source": [
    "identical(results3, results)"
   ]
  },
  {
   "cell_type": "code",
   "execution_count": null,
   "id": "c983b8c0-e3b4-492c-9f01-52e7be5954d7",
   "metadata": {},
   "outputs": [],
   "source": []
  }
 ],
 "metadata": {
  "kernelspec": {
   "display_name": "R",
   "language": "R",
   "name": "ir"
  },
  "language_info": {
   "codemirror_mode": "r",
   "file_extension": ".r",
   "mimetype": "text/x-r-source",
   "name": "R",
   "pygments_lexer": "r",
   "version": "4.3.2"
  },
  "toc-showtags": false
 },
 "nbformat": 4,
 "nbformat_minor": 5
}
