{
 "cells": [
  {
   "cell_type": "markdown",
   "metadata": {},
   "source": [
    "<font size=\"6\"><b>CLUSTERING PROVINCES ON METEOROLOGICAL DATA</b></font>"
   ]
  },
  {
   "cell_type": "markdown",
   "metadata": {},
   "source": [
    "In this session, we will utilize a scraped dataset from the Turkish State Meteorological Service's Website following the link:\n",
    "\n",
    "https://www.mgm.gov.tr/veridegerlendirme/il-ve-ilceler-istatistik.aspx"
   ]
  },
  {
   "cell_type": "markdown",
   "metadata": {},
   "source": [
    "Using our general knowledge and common sense, we might think data some meteorological statistics like temperatures or precipitation (rain) levels are similar within geographic regions and vary across those regions."
   ]
  },
  {
   "cell_type": "code",
   "execution_count": null,
   "metadata": {},
   "outputs": [],
   "source": [
    "library(data.table) # to handle the data in a more convenient manner\n",
    "library(tidyverse) # for a better work flow and more tools to wrangle and visualize the data\n",
    "library(BBmisc) # for easy normalization of data\n",
    "library(plotly) # for interactive visualization\n",
    "library(cluster) # for cluster analysis\n",
    "library(compareGroups) # for building descriptive statistics tables\n",
    "library(HDclassif) # for the dataset\n",
    "library(NbClust) # for cluster validity measures\n",
    "library(heatmaply) # visualize clusters with heatmap and dendrograms\n",
    "library(dendextend) # enhanced dendrograms\n",
    "library(circlize) # circular visualization\n",
    "library(factoextra) # visualizing distances, cluster, heatmap\n",
    "library(fastcluster) # faster hclust implementation\n",
    "library(microbenchmark) # performance benchmarking\n",
    "library(caret) # for confusion matrix\n",
    "library(formattable) # for number formatting\n",
    "library(pheatmap) # heatmap\n",
    "library(knitr) # pretty tables\n",
    "library(kableExtra) # pretty tables\n",
    "library(IRdisplay) # pretty tables\n",
    "library(NbClust) # cluster metrics\n",
    "library(vegan) # cluster metrics\n",
    "library(listviewer) # view list object\n",
    "\n",
    "options(warn=-1) # for suppressing messages"
   ]
  },
  {
   "cell_type": "code",
   "execution_count": null,
   "metadata": {},
   "outputs": [],
   "source": [
    "options(repr.matrix.max.rows=20, repr.matrix.max.cols=15) # for limiting the number of top and bottom rows of tables printed "
   ]
  },
  {
   "cell_type": "code",
   "execution_count": null,
   "metadata": {},
   "outputs": [],
   "source": [
    "datapath <- \"~/databb\""
   ]
  },
  {
   "cell_type": "markdown",
   "metadata": {},
   "source": [
    "![xkcd](../imagesbb/k_means_clustering.png)\n",
    "\n",
    "(https://xkcd.com/2731/)"
   ]
  },
  {
   "cell_type": "markdown",
   "metadata": {},
   "source": [
    "# Data"
   ]
  },
  {
   "cell_type": "markdown",
   "metadata": {},
   "source": [
    "The below table for ANKARA is collected for all 81 provinces, merged with province-region correspondence, month-season correspondence and wrangled"
   ]
  },
  {
   "cell_type": "markdown",
   "metadata": {},
   "source": [
    "<table xmlns:xalan=\"http://xml.apache.org/xalan\">\n",
    "  <thead>\n",
    "    <tr>\n",
    "      <th style=\"width:22%\">ANKARA</th>\n",
    "      <th style=\"width:6%\">Ocak</th>\n",
    "      <th style=\"width:6%\">Şubat</th>\n",
    "      <th style=\"width:6%\">Mart</th>\n",
    "      <th style=\"width:6%\">Nisan</th>\n",
    "      <th style=\"width:6%\">Mayıs</th>\n",
    "      <th style=\"width:6%\">Haziran</th>\n",
    "      <th style=\"width:6%\">Temmuz</th>\n",
    "      <th style=\"width:6%\">Ağustos</th>\n",
    "      <th style=\"width:6%\">Eylül</th>\n",
    "      <th style=\"width:6%\">Ekim</th>\n",
    "      <th style=\"width:6%\">Kasım</th>\n",
    "      <th style=\"width:6%\">Aralık</th>\n",
    "      <th style=\"width:6%\">Yıllık</th>\n",
    "    </tr>\n",
    "  </thead>\n",
    "  <tbody>\n",
    "    <tr>\n",
    "      <td style=\"border:none;\"> </td>\n",
    "      <th colspan=\"13\">Ölçüm Periyodu ( 1927 - 2020)</th>\n",
    "    </tr>\n",
    "    <tr>\n",
    "      <th>Ortalama Sıcaklık (°C)</th>\n",
    "      <td id=\"d01\">0.2</td>\n",
    "      <td id=\"d02\">1.7</td>\n",
    "      <td id=\"d03\">5.7</td>\n",
    "      <td id=\"d04\">11.2</td>\n",
    "      <td id=\"d05\">16.0</td>\n",
    "      <td id=\"d06\">20.0</td>\n",
    "      <td id=\"d07\">23.4</td>\n",
    "      <td id=\"d08\">23.4</td>\n",
    "      <td id=\"d09\">18.9</td>\n",
    "      <td id=\"d10\">13.2</td>\n",
    "      <td id=\"d11\">7.2</td>\n",
    "      <td id=\"d12\">2.5</td>\n",
    "      <td id=\"d_top\">11.9</td>\n",
    "    </tr>\n",
    "    <tr>\n",
    "      <th>Ortalama En Yüksek Sıcaklık (°C)</th>\n",
    "      <td id=\"e01\">4.2</td>\n",
    "      <td id=\"e02\">6.5</td>\n",
    "      <td id=\"e03\">11.5</td>\n",
    "      <td id=\"e04\">17.4</td>\n",
    "      <td id=\"e05\">22.4</td>\n",
    "      <td id=\"e06\">26.7</td>\n",
    "      <td id=\"e07\">30.3</td>\n",
    "      <td id=\"e08\">30.4</td>\n",
    "      <td id=\"e09\">26.1</td>\n",
    "      <td id=\"e10\">20.0</td>\n",
    "      <td id=\"e11\">13.0</td>\n",
    "      <td id=\"e12\">6.5</td>\n",
    "      <td id=\"d_top2\">17.9</td>\n",
    "    </tr>\n",
    "    <tr>\n",
    "      <th>Ortalama En Düşük Sıcaklık (°C)</th>\n",
    "      <td id=\"f01\">-3.3</td>\n",
    "      <td id=\"f02\">-2.3</td>\n",
    "      <td id=\"f03\">0.7</td>\n",
    "      <td id=\"f04\">5.3</td>\n",
    "      <td id=\"f05\">9.7</td>\n",
    "      <td id=\"f06\">12.9</td>\n",
    "      <td id=\"f07\">15.8</td>\n",
    "      <td id=\"f08\">16.0</td>\n",
    "      <td id=\"f09\">11.8</td>\n",
    "      <td id=\"f10\">7.2</td>\n",
    "      <td id=\"f11\">2.5</td>\n",
    "      <td id=\"f12\">-0.8</td>\n",
    "      <td id=\"d_top3\">6.3</td>\n",
    "    </tr>\n",
    "    <tr>\n",
    "      <th>Ortalama Güneşlenme Süresi (saat)</th>\n",
    "      <td id=\"g01\">2.6</td>\n",
    "      <td id=\"g02\">3.8</td>\n",
    "      <td id=\"g03\">5.1</td>\n",
    "      <td id=\"g04\">6.6</td>\n",
    "      <td id=\"g05\">8.4</td>\n",
    "      <td id=\"g06\">10.1</td>\n",
    "      <td id=\"g07\">11.3</td>\n",
    "      <td id=\"g08\">10.8</td>\n",
    "      <td id=\"g09\">9.2</td>\n",
    "      <td id=\"g10\">6.7</td>\n",
    "      <td id=\"g11\">4.6</td>\n",
    "      <td id=\"g12\">2.6</td>\n",
    "      <td id=\"d_top4\">6.8</td>\n",
    "    </tr>\n",
    "    <tr>\n",
    "      <th>Ortalama Yağışlı Gün Sayısı</th>\n",
    "      <td id=\"h01\">14.7</td>\n",
    "      <td id=\"h02\">13.2</td>\n",
    "      <td id=\"h03\">14.3</td>\n",
    "      <td id=\"h04\">14.5</td>\n",
    "      <td id=\"h05\">16.1</td>\n",
    "      <td id=\"h06\">11.4</td>\n",
    "      <td id=\"h07\">5.6</td>\n",
    "      <td id=\"h08\">4.5</td>\n",
    "      <td id=\"h09\">5.6</td>\n",
    "      <td id=\"h10\">9.0</td>\n",
    "      <td id=\"h11\">10.6</td>\n",
    "      <td id=\"h12\">14.5</td>\n",
    "      <td id=\"d_top5\">134.0</td>\n",
    "    </tr>\n",
    "    <tr>\n",
    "      <th>\n",
    "                Aylık Toplam Yağış Miktarı Ortalaması<span style=\"font-size:.8em;\">\n",
    "                  (mm)\n",
    "                </span></th>\n",
    "      <td id=\"i01\">40.1</td>\n",
    "      <td id=\"i02\">35.4</td>\n",
    "      <td id=\"i03\">39.2</td>\n",
    "      <td id=\"i04\">42.4</td>\n",
    "      <td id=\"i05\">52.0</td>\n",
    "      <td id=\"i06\">35.3</td>\n",
    "      <td id=\"i07\">14.2</td>\n",
    "      <td id=\"i08\">12.5</td>\n",
    "      <td id=\"i09\">18.1</td>\n",
    "      <td id=\"i10\">27.9</td>\n",
    "      <td id=\"i11\">31.5</td>\n",
    "      <td id=\"i12\">44.6</td>\n",
    "      <td id=\"d_top6\">393.2</td>\n",
    "    </tr>\n",
    "    <tr>\n",
    "      <td style=\"border:none;\"> </td>\n",
    "      <th colspan=\"13\">\n",
    "                  Ölçüm Periyodu ( 1927 - 2020)\n",
    "                </th>\n",
    "    </tr>\n",
    "    <tr>\n",
    "      <th style=\"color:#dd4747;\">En Yüksek Sıcaklık (°C)</th>\n",
    "      <td id=\"j01\" title=\"02.01.1995\" style=\"color:#dd4747;\">16.6</td>\n",
    "      <td id=\"j02\" title=\"18.02.2016\" style=\"color:#dd4747;\">21.3</td>\n",
    "      <td id=\"j03\" title=\"31.03.1952\" style=\"color:#dd4747;\">27.8</td>\n",
    "      <td id=\"j04\" title=\"23.04.1928\" style=\"color:#dd4747;\">31.6</td>\n",
    "      <td id=\"j05\" title=\"31.05.1935\" style=\"color:#dd4747;\">34.4</td>\n",
    "      <td id=\"j06\" title=\"27.06.1996\" style=\"color:#dd4747;\">37.0</td>\n",
    "      <td id=\"j07\" title=\"27.07.2012\" style=\"color:#dd4747;\">41.0</td>\n",
    "      <td id=\"j08\" title=\"07.08.2010\" style=\"color:#dd4747;\">40.4</td>\n",
    "      <td id=\"j09\" title=\"03.09.2020\" style=\"color:#dd4747;\">39.1</td>\n",
    "      <td id=\"j10\" title=\"03.10.1952\" style=\"color:#dd4747;\">33.3</td>\n",
    "      <td id=\"j11\" title=\"01.11.1932\" style=\"color:#dd4747;\">24.7</td>\n",
    "      <td id=\"j12\" title=\"02.12.1956\" style=\"color:#dd4747;\">20.4</td>\n",
    "      <td style=\"color:#dd4747;\" id=\"d_top7\">41.0</td>\n",
    "    </tr>\n",
    "    <tr>\n",
    "      <th style=\"color:#437ec1;\">En Düşük Sıcaklık (°C)</th>\n",
    "      <td id=\"k01\" title=\"05.01.1942\" style=\"color:#437ec1;\">-24.9</td>\n",
    "      <td id=\"k02\" title=\"07.02.1932\" style=\"color:#437ec1;\">-24.2</td>\n",
    "      <td id=\"k03\" title=\"02.03.1985\" style=\"color:#437ec1;\">-19.2</td>\n",
    "      <td id=\"k04\" title=\"10.04.1929\" style=\"color:#437ec1;\">-7.2</td>\n",
    "      <td id=\"k05\" title=\"01.05.1981\" style=\"color:#437ec1;\">-1.6</td>\n",
    "      <td id=\"k06\" title=\"09.06.1958\" style=\"color:#437ec1;\">3.8</td>\n",
    "      <td id=\"k07\" title=\"11.07.1958\" style=\"color:#437ec1;\">4.5</td>\n",
    "      <td id=\"k08\" title=\"21.08.1949\" style=\"color:#437ec1;\">5.5</td>\n",
    "      <td id=\"k09\" title=\"29.09.1931\" style=\"color:#437ec1;\">-1.5</td>\n",
    "      <td id=\"k10\" title=\"30.10.1927\" style=\"color:#437ec1;\">-9.8</td>\n",
    "      <td id=\"k11\" title=\"29.11.1948\" style=\"color:#437ec1;\">-17.5</td>\n",
    "      <td id=\"k12\" title=\"31.12.1941\" style=\"color:#437ec1;\">-24.2</td>\n",
    "      <td style=\"color:#437ec1;\" id=\"d_top8\">-24.9</td>\n",
    "    </tr>\n",
    "  </tbody>\n",
    "  <tfoot>\n",
    "    <tr>\n",
    "      <td colspan=\"13\">\n",
    "        <i>En yüksek ve en düşük sıcaklıkların gerçekleşme tarihini görmek için fare imlecini değerlerin üstüne getiriniz.</i>\n",
    "      </td>\n",
    "    </tr>\n",
    "  </tfoot>\n",
    "</table>"
   ]
  },
  {
   "cell_type": "code",
   "execution_count": null,
   "metadata": {},
   "outputs": [],
   "source": [
    "meteo_data2 <- readRDS(sprintf(\"%s/rds/meteo_data2.rds\", datapath))"
   ]
  },
  {
   "cell_type": "code",
   "execution_count": null,
   "metadata": {},
   "outputs": [],
   "source": [
    "meteo_data2 %>% str"
   ]
  },
  {
   "cell_type": "code",
   "execution_count": null,
   "metadata": {},
   "outputs": [],
   "source": [
    "meteo_data2"
   ]
  },
  {
   "cell_type": "markdown",
   "metadata": {},
   "source": [
    "Wrangling steps (We should have only one line per province and monthly data might be too noisy and with too many features. We can summarize the data across seasons):\n",
    "- Create a new column temp_diff for the difference between  av_high and av_low (you may use mutate)\n",
    "- Group the data across province, region and season\n",
    "- Summarise av_temp as the mean of av_temp, temp_diff as mean of temp_diff and total_rain as sum of rain_mm\n"
   ]
  },
  {
   "cell_type": "code",
   "execution_count": null,
   "metadata": {},
   "outputs": [],
   "source": [
    "meteo_data3 <- meteo_data2 %>% mutate(temp_diff = av_high - av_low) %>%\n",
    "group_by(province, region, season) %>%\n",
    "dplyr::summarise(av_temp = mean(av_temp, na.rm = T),\n",
    "         temp_diff = mean(temp_diff, na.rm = T),\n",
    "         total_rain = sum(rain_mm, na.rm = T)) %>%\n",
    "ungroup"
   ]
  },
  {
   "cell_type": "markdown",
   "metadata": {},
   "source": [
    "Now we should have a wider version that includes separate variables for each season:\n",
    "- Melt the data (into longer format) using province, region and season as identity variables. The identifier for the molten columns (variable.name) should be \"variables\" by default \n",
    "- Cast the data (into wider format) so that province and region define unique rows and season and variables columns will be spread into separate columns for each unique value combination). Make sure the output is a data.table\n",
    "- Convert the region column into a factor. It will be our target label\n"
   ]
  },
  {
   "cell_type": "code",
   "execution_count": null,
   "metadata": {},
   "outputs": [],
   "source": [
    "meteo_data4 <- meteo_data3 %>% melt(id_vars = c(\"province\", \"region\", \"season\"),\n",
    "                    variable.name = \"variables\") %>%\n",
    "dcast(province + region ~ season + variables) %>% as.data.table"
   ]
  },
  {
   "cell_type": "markdown",
   "metadata": {},
   "source": [
    "See whether we have any missing data:"
   ]
  },
  {
   "cell_type": "code",
   "execution_count": null,
   "metadata": {},
   "outputs": [],
   "source": [
    "meteo_data4[!complete.cases(meteo_data4)]"
   ]
  },
  {
   "cell_type": "code",
   "execution_count": null,
   "metadata": {},
   "outputs": [],
   "source": [
    "meteo_data4[, region := as.factor(region)]"
   ]
  },
  {
   "cell_type": "code",
   "execution_count": null,
   "metadata": {},
   "outputs": [],
   "source": [
    "meteo_data4"
   ]
  },
  {
   "cell_type": "markdown",
   "metadata": {},
   "source": [
    "Now we will add a dataset including latitude and longitude information for all province centers:"
   ]
  },
  {
   "cell_type": "code",
   "execution_count": null,
   "metadata": {},
   "outputs": [],
   "source": [
    "coordinates <- fread(sprintf(\"%s/csv/coordinates.csv\", datapath))"
   ]
  },
  {
   "cell_type": "code",
   "execution_count": null,
   "metadata": {},
   "outputs": [],
   "source": [
    "setnames(coordinates, c(\"province\", \"lat\", \"lon\"))"
   ]
  },
  {
   "cell_type": "code",
   "execution_count": null,
   "metadata": {},
   "outputs": [],
   "source": [
    "coordinates[, province := toupper(province)]"
   ]
  },
  {
   "cell_type": "code",
   "execution_count": null,
   "metadata": {},
   "outputs": [],
   "source": [
    "coordinates %>% keep(is.numeric) %>% lapply(range)"
   ]
  },
  {
   "cell_type": "markdown",
   "metadata": {},
   "source": [
    "See whether all provinces are matched:"
   ]
  },
  {
   "cell_type": "code",
   "execution_count": null,
   "metadata": {},
   "outputs": [],
   "source": [
    "setdiff(coordinates$province, meteo_data4$province)"
   ]
  },
  {
   "cell_type": "code",
   "execution_count": null,
   "metadata": {},
   "outputs": [],
   "source": [
    "setdiff(meteo_data4$province, coordinates$province)"
   ]
  },
  {
   "cell_type": "markdown",
   "metadata": {},
   "source": [
    "And we combine the previous dataset with the coordinates:"
   ]
  },
  {
   "cell_type": "code",
   "execution_count": null,
   "metadata": {},
   "outputs": [],
   "source": [
    "meteo_data5 <- coordinates[meteo_data4, on = \"province\"]"
   ]
  },
  {
   "cell_type": "code",
   "execution_count": null,
   "metadata": {},
   "outputs": [],
   "source": [
    "meteo_data5 %>% str"
   ]
  },
  {
   "cell_type": "markdown",
   "metadata": {},
   "source": [
    "And let's normalize the data set:"
   ]
  },
  {
   "cell_type": "code",
   "execution_count": null,
   "metadata": {},
   "outputs": [],
   "source": [
    "meteo_data6 <- meteo_data5 %>% keep(is.numeric) %>% dplyr::select(-c(\"lat\", \"lon\")) %>% transmute_all(BBmisc::normalize)"
   ]
  },
  {
   "cell_type": "code",
   "execution_count": null,
   "metadata": {},
   "outputs": [],
   "source": [
    "meteo_data6 %>% str"
   ]
  },
  {
   "cell_type": "markdown",
   "metadata": {},
   "source": [
    "# K-means Clustering"
   ]
  },
  {
   "cell_type": "markdown",
   "metadata": {},
   "source": [
    "## Build and train model"
   ]
  },
  {
   "cell_type": "markdown",
   "metadata": {},
   "source": [
    "We train the dataset for 3 clusters:"
   ]
  },
  {
   "cell_type": "code",
   "execution_count": null,
   "metadata": {},
   "outputs": [],
   "source": [
    "centn <- 3"
   ]
  },
  {
   "cell_type": "code",
   "execution_count": null,
   "metadata": {},
   "outputs": [],
   "source": [
    "set.seed(2345)\n",
    "meteoc <- kmeans(meteo_data6, centers = centn)"
   ]
  },
  {
   "cell_type": "code",
   "execution_count": null,
   "metadata": {},
   "outputs": [],
   "source": [
    "meteoc"
   ]
  },
  {
   "cell_type": "markdown",
   "metadata": {},
   "source": [
    "Sizes of each cluster are:"
   ]
  },
  {
   "cell_type": "code",
   "execution_count": null,
   "metadata": {},
   "outputs": [],
   "source": [
    "meteoc$size"
   ]
  },
  {
   "cell_type": "markdown",
   "metadata": {},
   "source": [
    "Let's combine the data with geo locations, with the cluster numbers: "
   ]
  },
  {
   "cell_type": "code",
   "execution_count": null,
   "metadata": {},
   "outputs": [],
   "source": [
    "meteo_data7 <- cbind(meteo_data5, regionnew = as.factor(meteoc$cluster))"
   ]
  },
  {
   "cell_type": "markdown",
   "metadata": {},
   "source": [
    "Visualize provinces so that each province is a point, original longitude data on the x axis, original latitude data on the y axis and colors are differentiated by the cluster number from the previous step using ggplot. Interpret the plot based on whether there are any provinces that geographically lie too far away from the remaining provinces in the same cluster:"
   ]
  },
  {
   "cell_type": "code",
   "execution_count": null,
   "metadata": {},
   "outputs": [],
   "source": [
    "options(repr.plot.width = 10, repr.plot.height = 10)\n",
    "\n",
    "p1 <- meteo_data7 %>%\n",
    "ggplot(aes(x = lon, y = lat, color = regionnew, label=province)) +\n",
    "geom_point() +\n",
    "geom_text()"
   ]
  },
  {
   "cell_type": "code",
   "execution_count": null,
   "metadata": {},
   "outputs": [],
   "source": [
    "p1 %>% ggplotly()"
   ]
  },
  {
   "cell_type": "markdown",
   "metadata": {},
   "source": [
    "We see that:\n",
    "\n",
    "- Region 1 provinces are all among provinces by Black Sea coast\n",
    "- Region 2 provinces mostly surround the coastline of Marmara, Aegean and Mediterranean and some inner provinces to the South\n",
    "- Region 3 provinces are mostly continental provinces in the Central and Eastern Anatolian Plateaus"
   ]
  },
  {
   "cell_type": "markdown",
   "metadata": {},
   "source": [
    "The center values of each variable for each cluster are:"
   ]
  },
  {
   "cell_type": "code",
   "execution_count": null,
   "metadata": {},
   "outputs": [],
   "source": [
    "centers <- meteoc$centers %>% t %>% round(2)\n",
    "centers"
   ]
  },
  {
   "cell_type": "markdown",
   "metadata": {},
   "source": [
    "Let's highlight the values in each row with significalty high or low values with kableExtra:"
   ]
  },
  {
   "cell_type": "code",
   "execution_count": null,
   "metadata": {},
   "outputs": [],
   "source": [
    "apply(centers,\n",
    "      1,\n",
    "      function(x)\n",
    "        {\n",
    "          #zs <- (x - mean(x)) / sd(x);\n",
    "          zs <- BBmisc::normalize(x);\n",
    "          cell_spec(x,\n",
    "                    color = ifelse(abs(zs) > 1, \"white\", \"black\"),\n",
    "                            background = ifelse(zs > 1, \"navy\", ifelse(zs < -1, \"red\", \"white\"))\n",
    "                   )\n",
    "        }\n",
    "    ) %>%\n",
    "t %>%\n",
    "magrittr::set_colnames(1:centn) %>%      \n",
    "knitr::kable(escape = F) %>%\n",
    "kableExtra::kable_styling() %>%\n",
    "as.character() %>%\n",
    "IRdisplay::display_html()"
   ]
  },
  {
   "cell_type": "markdown",
   "metadata": {},
   "source": [
    "We can also visualize distinctive cluster and variable matchings with a heatmap:"
   ]
  },
  {
   "cell_type": "code",
   "execution_count": null,
   "metadata": {},
   "outputs": [],
   "source": [
    "pheatmap::pheatmap(centers, cluster_rows = F, cluster_cols = F)"
   ]
  },
  {
   "cell_type": "markdown",
   "metadata": {},
   "source": [
    "We can deduce that:\n",
    "\n",
    "- Region 1 provinces have lower temperature differences and higher rain levels\n",
    "- Region 2 provinces have higher spring and summer temperatures\n",
    "- Region 3 provinces have lower autumn and winter temperatures and have higher temperature differences (continental climate)"
   ]
  },
  {
   "cell_type": "markdown",
   "metadata": {},
   "source": [
    "We can also visualize the clusters' borders across dimensions using factroextra's fviz_cluster\n",
    "\n",
    "Note that,  when there are more than 2 dimensions, this function automatically conducts a PCA and selects the two components that explain the most of the variance:"
   ]
  },
  {
   "cell_type": "code",
   "execution_count": null,
   "metadata": {},
   "outputs": [],
   "source": [
    "factoextra::fviz_cluster(meteoc, data = meteo_data6, labelsize = 0)"
   ]
  },
  {
   "cell_type": "markdown",
   "metadata": {},
   "source": [
    "## Improve model performance"
   ]
  },
  {
   "cell_type": "markdown",
   "metadata": {},
   "source": [
    "While conducting k-means analysis, what value should be provided as \"k\" - the number of clusters?"
   ]
  },
  {
   "cell_type": "markdown",
   "metadata": {},
   "source": [
    "### Manual simulation"
   ]
  },
  {
   "cell_type": "markdown",
   "metadata": {},
   "source": [
    "First let's dig into the model output:"
   ]
  },
  {
   "cell_type": "code",
   "execution_count": null,
   "metadata": {},
   "outputs": [],
   "source": [
    "meteoc %>% listviewer::jsonedit(mode = \"form\")"
   ]
  },
  {
   "cell_type": "markdown",
   "metadata": {},
   "source": [
    "The critical values are:\n",
    "- totss (total sum of squares)\n",
    "- tot.withinss (total within groups sum of squares)\n",
    "- betweenss (between groups sum of squares)\n",
    "\n",
    "As the \"k\" goes up withinss should leak into betweenss"
   ]
  },
  {
   "cell_type": "code",
   "execution_count": null,
   "metadata": {},
   "outputs": [],
   "source": [
    "withinss <- sapply(1:15,\n",
    "       function(x) kmeans(meteo_data6, centers = x) %>%\n",
    "       \"[\"(c(\"totss\", \"tot.withinss\", \"betweenss\")) %>% unlist\n",
    "       ) %>%\n",
    "t %>%\n",
    "as.data.table\n",
    "\n",
    "rownames(withinss) <- 1:15"
   ]
  },
  {
   "cell_type": "code",
   "execution_count": null,
   "metadata": {},
   "outputs": [],
   "source": [
    "withinss %>% round"
   ]
  },
  {
   "cell_type": "code",
   "execution_count": null,
   "metadata": {},
   "outputs": [],
   "source": [
    "p2 <- withinss %>%\n",
    "ggplot(aes(x = withinss[,.I], y = tot.withinss)) +\n",
    "geom_line() +\n",
    "xlab(\"Number of clusters\") +\n",
    "ylab(\"Within group sum of squares\")\n",
    "\n",
    "plotly::ggplotly(p2)"
   ]
  },
  {
   "cell_type": "markdown",
   "metadata": {},
   "source": [
    "We cannot detect a clear elbow point to cut the number of clusters"
   ]
  },
  {
   "cell_type": "markdown",
   "metadata": {},
   "source": [
    "### Optimal k with vegan package"
   ]
  },
  {
   "cell_type": "markdown",
   "metadata": {},
   "source": [
    "Vegan package also does a simulation to determine the optimal k based on Calinski measure:"
   ]
  },
  {
   "cell_type": "code",
   "execution_count": null,
   "metadata": {},
   "outputs": [],
   "source": [
    "modelx <- vegan::cascadeKM(meteo_data6, 1, 10, iter = 3)"
   ]
  },
  {
   "cell_type": "code",
   "execution_count": null,
   "metadata": {},
   "outputs": [],
   "source": [
    "modelx$results"
   ]
  },
  {
   "cell_type": "markdown",
   "metadata": {},
   "source": [
    "Calinski is a measure of between-cluster to within-cluster variance."
   ]
  },
  {
   "cell_type": "code",
   "execution_count": null,
   "metadata": {},
   "outputs": [],
   "source": [
    "p3 <- modelx$results %>%\n",
    "t %>%\n",
    "as.data.table %>%\n",
    "ggplot(aes(x = 1:10, y = calinski)) +\n",
    "geom_line()\n",
    "\n",
    "plotly::ggplotly(p3)"
   ]
  },
  {
   "cell_type": "markdown",
   "metadata": {},
   "source": [
    "The k with max calinski value should be selected:"
   ]
  },
  {
   "cell_type": "code",
   "execution_count": null,
   "metadata": {},
   "outputs": [],
   "source": [
    "calx <- which.max(modelx$results[2,])\n",
    "calx"
   ]
  },
  {
   "cell_type": "markdown",
   "metadata": {},
   "source": [
    "Let's run the model with that:"
   ]
  },
  {
   "cell_type": "code",
   "execution_count": null,
   "metadata": {},
   "outputs": [],
   "source": [
    "meteoc2 <- kmeans(meteo_data6, centers = calx)"
   ]
  },
  {
   "cell_type": "markdown",
   "metadata": {},
   "source": [
    "And see the center values:"
   ]
  },
  {
   "cell_type": "code",
   "execution_count": null,
   "metadata": {},
   "outputs": [],
   "source": [
    "centers2 <- meteoc2$centers %>% t %>% round(2)\n",
    "centers2"
   ]
  },
  {
   "cell_type": "markdown",
   "metadata": {},
   "source": [
    "And emphasize values over and above average:"
   ]
  },
  {
   "cell_type": "code",
   "execution_count": null,
   "metadata": {},
   "outputs": [],
   "source": [
    "apply(centers2,\n",
    "      1,\n",
    "      function(x)\n",
    "        {\n",
    "          zs <- (x - mean(x)) / sd(x);\n",
    "          cell_spec(x,\n",
    "                    color = ifelse(abs(zs) > 0.5, \"white\", \"black\"),\n",
    "                            background = ifelse(zs > 0.5, \"navy\", ifelse(zs < -0.5, \"red\", \"white\"))\n",
    "                   )\n",
    "        }\n",
    "    ) %>%\n",
    "t %>%\n",
    "magrittr::set_colnames(1:2) %>%      \n",
    "knitr::kable(escape = F) %>%\n",
    "kableExtra::kable_styling() %>%\n",
    "as.character() %>%\n",
    "IRdisplay::display_html()"
   ]
  },
  {
   "cell_type": "markdown",
   "metadata": {},
   "source": [
    "Get cluster sizes:"
   ]
  },
  {
   "cell_type": "code",
   "execution_count": null,
   "metadata": {},
   "outputs": [],
   "source": [
    "meteoc2$size"
   ]
  },
  {
   "cell_type": "code",
   "execution_count": null,
   "metadata": {},
   "outputs": [],
   "source": [
    "meteo_data7b <- cbind(meteo_data5, regionnew = as.factor(meteoc2$cluster))"
   ]
  },
  {
   "cell_type": "code",
   "execution_count": null,
   "metadata": {},
   "outputs": [],
   "source": [
    "options(repr.plot.width = 10, repr.plot.height = 10)\n",
    "\n",
    "p4 <- meteo_data7b %>%\n",
    "ggplot(aes(x = lon, y = lat, color = regionnew, label=province)) +\n",
    "geom_point() +\n",
    "geom_text()"
   ]
  },
  {
   "cell_type": "code",
   "execution_count": null,
   "metadata": {},
   "outputs": [],
   "source": [
    "p4 %>% ggplotly()"
   ]
  },
  {
   "cell_type": "markdown",
   "metadata": {},
   "source": [
    "The cluster distinction now becomes coastal vs continental provinces"
   ]
  },
  {
   "cell_type": "markdown",
   "metadata": {},
   "source": [
    "### Optimal k with NbClust"
   ]
  },
  {
   "cell_type": "markdown",
   "metadata": {},
   "source": [
    "NbClust package provides 30 indexes for determining the optimal number of clusters in a data set and offers the best clustering scheme from different results to the user."
   ]
  },
  {
   "cell_type": "code",
   "execution_count": null,
   "metadata": {},
   "outputs": [],
   "source": [
    "meteo_nb <- NbClust::NbClust(meteo_data6, min.nc = 2, max.nc = 8, index = \"all\", method = \"kmeans\")"
   ]
  },
  {
   "cell_type": "markdown",
   "metadata": {},
   "source": [
    "The model output:"
   ]
  },
  {
   "cell_type": "code",
   "execution_count": null,
   "metadata": {},
   "outputs": [],
   "source": [
    "meteo_nb"
   ]
  },
  {
   "cell_type": "markdown",
   "metadata": {},
   "source": [
    "The voting of 30 criterion can also be done manually:"
   ]
  },
  {
   "cell_type": "code",
   "execution_count": null,
   "metadata": {},
   "outputs": [],
   "source": [
    "meteo_nb$Best.nc[1,] %>% table"
   ]
  },
  {
   "cell_type": "markdown",
   "metadata": {},
   "source": [
    "The best k for partitions is:"
   ]
  },
  {
   "cell_type": "code",
   "execution_count": null,
   "metadata": {},
   "outputs": [],
   "source": [
    "max(meteo_nb$Best.partition)"
   ]
  },
  {
   "cell_type": "markdown",
   "metadata": {},
   "source": [
    "# Hierarchical clustering"
   ]
  },
  {
   "cell_type": "markdown",
   "metadata": {},
   "source": [
    "## Optimal clusters"
   ]
  },
  {
   "cell_type": "markdown",
   "metadata": {},
   "source": [
    "Methods for forming clusters is as follows:\n",
    "\n",
    "- Ward: This minimizes the total within-cluster variance as measured by the sum of squared errors from the cluster points to its centroid\n",
    "- Complete: Distance between two clusters is the maximum distance between an observation in one cluster and an observation in the other cluster\n",
    "- Single: Distance between two clusters is the minimum distance between an observation in one cluster and an observation in the other cluster\n",
    "- Average: Distance between two clusters is the mean distance between an observation in one cluster and an observation in the other cluster\n",
    "- Centroid: Distance between two clusters is the distance between the cluster centroids"
   ]
  },
  {
   "cell_type": "markdown",
   "metadata": {},
   "source": [
    "The complete linkage method results in the distance between any two clusters that is the maximum distance between any one observation in a cluster and any one observation in the other cluster. Ward's linkage method seeks to cluster the observations in order to minimize the within-cluster sum of squares."
   ]
  },
  {
   "cell_type": "code",
   "execution_count": null,
   "metadata": {},
   "outputs": [],
   "source": [
    "numComplete <- NbClust::NbClust(meteo_data6,\n",
    "                       distance=\"euclidean\",\n",
    "                       min.nc=2,\n",
    "                       max.nc=6,\n",
    "                       method=\"complete\",\n",
    "                       index=\"all\")"
   ]
  },
  {
   "cell_type": "markdown",
   "metadata": {},
   "source": [
    "Going with the majority rules method, we would select three clusters as the optimal solution, at least for hierarchical clustering. The two plots that are produced contain two graphs each.\n",
    "\n",
    "As the preceding output states that you are looking for a significant knee in the plot (the graph on the left-hand side) and the peak of the graph on the right-hand side"
   ]
  },
  {
   "cell_type": "markdown",
   "metadata": {},
   "source": [
    "For the complete method, 26 different metrics are calculated for different cluster k's. The best cluster number proposed by each index is as follows:"
   ]
  },
  {
   "cell_type": "code",
   "execution_count": null,
   "metadata": {},
   "outputs": [],
   "source": [
    "numComplete$Best.nc"
   ]
  },
  {
   "cell_type": "code",
   "execution_count": null,
   "metadata": {},
   "outputs": [],
   "source": [
    "bestc <- max(numComplete$Best.partition)\n",
    "bestc"
   ]
  },
  {
   "cell_type": "markdown",
   "metadata": {},
   "source": [
    "## Clustering with Complete Linkage"
   ]
  },
  {
   "cell_type": "markdown",
   "metadata": {},
   "source": [
    "### Distances"
   ]
  },
  {
   "cell_type": "markdown",
   "metadata": {},
   "source": [
    "Now let's calculate the distance matrix, using the base stats package:"
   ]
  },
  {
   "cell_type": "code",
   "execution_count": null,
   "metadata": {},
   "outputs": [],
   "source": [
    "dis <- dist(meteo_data6, method = \"euclidian\")"
   ]
  },
  {
   "cell_type": "markdown",
   "metadata": {},
   "source": [
    "Or factoextra package:"
   ]
  },
  {
   "cell_type": "code",
   "execution_count": null,
   "metadata": {},
   "outputs": [],
   "source": [
    "dis2 <- factoextra::get_dist(meteo_data6)"
   ]
  },
  {
   "cell_type": "markdown",
   "metadata": {},
   "source": [
    "And we can visualize the distances:"
   ]
  },
  {
   "cell_type": "code",
   "execution_count": null,
   "metadata": {},
   "outputs": [],
   "source": [
    "factoextra::fviz_dist(dis)"
   ]
  },
  {
   "cell_type": "markdown",
   "metadata": {},
   "source": [
    "### Hierarchical clustering"
   ]
  },
  {
   "cell_type": "markdown",
   "metadata": {},
   "source": [
    "We run the cluster algorithm with the complete method:"
   ]
  },
  {
   "cell_type": "code",
   "execution_count": null,
   "metadata": {},
   "outputs": [],
   "source": [
    "hc <- hclust(dis, method = \"complete\")"
   ]
  },
  {
   "cell_type": "code",
   "execution_count": null,
   "metadata": {},
   "outputs": [],
   "source": [
    "hc"
   ]
  },
  {
   "cell_type": "markdown",
   "metadata": {},
   "source": [
    "And visualize as a dendrogram:"
   ]
  },
  {
   "cell_type": "code",
   "execution_count": null,
   "metadata": {},
   "outputs": [],
   "source": [
    "plot(hc, hang = -1, labels = F, main = \"Complete-Linkage\")"
   ]
  },
  {
   "cell_type": "markdown",
   "metadata": {},
   "source": [
    "Hierarchical clustering does not define specific clusters, but rather defines the dendrogram above.\n",
    "\n",
    "From the dendrogram we can decipher the distance between any two groups by looking at the height at which the two groups split into two.\n",
    "\n",
    "(http://genomicsclass.github.io/book/pages/clustering_and_heatmaps.html)"
   ]
  },
  {
   "cell_type": "markdown",
   "metadata": {},
   "source": [
    "We can also create a colored dendrogram to diffentiate the clusters better:"
   ]
  },
  {
   "cell_type": "code",
   "execution_count": null,
   "metadata": {},
   "outputs": [],
   "source": [
    "comp3 <- cutree(hc, bestc)"
   ]
  },
  {
   "cell_type": "code",
   "execution_count": null,
   "metadata": {},
   "outputs": [],
   "source": [
    "sparcl::ColorDendrogram(hc,\n",
    "                       y = comp3,\n",
    "                       main = \"Complete\",\n",
    "                       branchlength = 50)"
   ]
  },
  {
   "cell_type": "code",
   "execution_count": null,
   "metadata": {},
   "outputs": [],
   "source": [
    "hc %>%\n",
    "    as.dendrogram %>%\n",
    "    dendextend::color_branches(k = bestc) %>%\n",
    "    plot"
   ]
  },
  {
   "cell_type": "markdown",
   "metadata": {},
   "source": [
    "We can also draw a circular dendrogram using dendextend package:"
   ]
  },
  {
   "cell_type": "code",
   "execution_count": null,
   "metadata": {},
   "outputs": [],
   "source": [
    "hc %>%\n",
    "    as.dendrogram %>%\n",
    "    dendextend::color_branches(k = bestc) %>%\n",
    "    dendextend::circlize_dendrogram()"
   ]
  },
  {
   "cell_type": "code",
   "execution_count": null,
   "metadata": {},
   "outputs": [],
   "source": [
    "comp3"
   ]
  },
  {
   "cell_type": "markdown",
   "metadata": {},
   "source": [
    "Combine data with cluster labels:"
   ]
  },
  {
   "cell_type": "code",
   "execution_count": null,
   "metadata": {},
   "outputs": [],
   "source": [
    "meteo_data7c <- cbind(meteo_data5, regionnew = as.factor(comp3))"
   ]
  },
  {
   "cell_type": "markdown",
   "metadata": {},
   "source": [
    "Visualize provinces so that each province is a point, original longitude data on the x axis, original latitude data on the y axis and colors are differentiated by the cluster number from the previous step using ggplot. Interpret the plot based on whether there are any provinces that geographically lie too far away from the remaining provinces in the same cluster:"
   ]
  },
  {
   "cell_type": "code",
   "execution_count": null,
   "metadata": {},
   "outputs": [],
   "source": [
    "options(repr.plot.width = 10, repr.plot.height = 10)\n",
    "\n",
    "p5 <- meteo_data7c %>%\n",
    "ggplot(aes(x = lon, y = lat, color = regionnew, label=province)) +\n",
    "geom_point() +\n",
    "geom_text()"
   ]
  },
  {
   "cell_type": "code",
   "execution_count": null,
   "metadata": {},
   "outputs": [],
   "source": [
    "p5 %>% ggplotly()"
   ]
  },
  {
   "cell_type": "markdown",
   "metadata": {},
   "source": [
    "Here the problem is, the third cluster is comprised of only one province."
   ]
  },
  {
   "cell_type": "markdown",
   "metadata": {},
   "source": [
    "## Clustering with Ward's Linkage"
   ]
  },
  {
   "cell_type": "code",
   "execution_count": null,
   "metadata": {},
   "outputs": [],
   "source": [
    "numward <- NbClust::NbClust(meteo_data6,\n",
    "                    distance = \"euclidean\",\n",
    "                    diss = NULL,\n",
    "                    min.nc = 2,\n",
    "                    max.nc = 6,\n",
    "                    method = \"ward.D2\",\n",
    "                    index = \"all\")"
   ]
  },
  {
   "cell_type": "code",
   "execution_count": null,
   "metadata": {},
   "outputs": [],
   "source": [
    "bestc2 <- max(numward$Best.partition)\n",
    "bestc2"
   ]
  },
  {
   "cell_type": "markdown",
   "metadata": {},
   "source": [
    "This time around also, the majority rules was for a three cluster solution"
   ]
  },
  {
   "cell_type": "markdown",
   "metadata": {},
   "source": [
    "### Hierarchical clustering"
   ]
  },
  {
   "cell_type": "markdown",
   "metadata": {},
   "source": [
    "Run the cluster algorithm with Ward's linkage:"
   ]
  },
  {
   "cell_type": "code",
   "execution_count": null,
   "metadata": {},
   "outputs": [],
   "source": [
    "hcWard <- stats::hclust(dis, method = \"ward.D2\")"
   ]
  },
  {
   "cell_type": "markdown",
   "metadata": {},
   "source": [
    "fastcluster package provides the same functionality however much faster:"
   ]
  },
  {
   "cell_type": "code",
   "execution_count": null,
   "metadata": {},
   "outputs": [],
   "source": [
    "hcWard2 <- fastcluster::hclust(dis, method = \"ward.D2\")"
   ]
  },
  {
   "cell_type": "code",
   "execution_count": null,
   "metadata": {},
   "outputs": [],
   "source": [
    "hcWard\n",
    "hcWard2"
   ]
  },
  {
   "cell_type": "markdown",
   "metadata": {},
   "source": [
    "Let's compare whether labeling for 3 clusters is identical:"
   ]
  },
  {
   "cell_type": "code",
   "execution_count": null,
   "metadata": {},
   "outputs": [],
   "source": [
    "identical(cutree(hcWard2, bestc2), cutree(hcWard, bestc2))"
   ]
  },
  {
   "cell_type": "markdown",
   "metadata": {},
   "source": [
    "Define the cluster cuts:"
   ]
  },
  {
   "cell_type": "code",
   "execution_count": null,
   "metadata": {},
   "outputs": [],
   "source": [
    "ward3w <- cutree(hcWard, bestc2)"
   ]
  },
  {
   "cell_type": "markdown",
   "metadata": {},
   "source": [
    "And plot the dendrogram:"
   ]
  },
  {
   "cell_type": "code",
   "execution_count": null,
   "metadata": {},
   "outputs": [],
   "source": [
    "# The version of R at binder deployment is 3.4.4 and sparcl package currently requires a higher version.\n",
    "\n",
    "sparcl::ColorDendrogram(hcWard,\n",
    "                       y = ward3w,\n",
    "                       main = \"Complete\",\n",
    "                       branchlength = 50)"
   ]
  },
  {
   "cell_type": "code",
   "execution_count": null,
   "metadata": {},
   "outputs": [],
   "source": [
    "hcWard %>%\n",
    "    as.dendrogram %>%\n",
    "    dendextend::color_branches(k = bestc2) %>%\n",
    "    plot"
   ]
  },
  {
   "cell_type": "markdown",
   "metadata": {},
   "source": [
    "Combine data with new cluster labels:"
   ]
  },
  {
   "cell_type": "code",
   "execution_count": null,
   "metadata": {},
   "outputs": [],
   "source": [
    "meteo_data7d <- cbind(meteo_data5, regionnew = as.factor(ward3w))"
   ]
  },
  {
   "cell_type": "markdown",
   "metadata": {},
   "source": [
    "Visualize provinces so that each province is a point, original longitude data on the x axis, original latitude data on the y axis and colors are differentiated by the cluster number from the previous step using ggplot. Interpret the plot based on whether there are any provinces that geographically lie too far away from the remaining provinces in the same cluster:"
   ]
  },
  {
   "cell_type": "code",
   "execution_count": null,
   "metadata": {},
   "outputs": [],
   "source": [
    "options(repr.plot.width = 10, repr.plot.height = 10)\n",
    "\n",
    "p6 <- meteo_data7d %>%\n",
    "ggplot(aes(x = lon, y = lat, color = regionnew, label=province)) +\n",
    "geom_point() +\n",
    "geom_text()"
   ]
  },
  {
   "cell_type": "code",
   "execution_count": null,
   "metadata": {},
   "outputs": [],
   "source": [
    "p6 %>% ggplotly()"
   ]
  },
  {
   "cell_type": "markdown",
   "metadata": {},
   "source": [
    "We can see that:\n",
    "\n",
    "- Cluster 1 is comprised of southern provinces, either coastal or closer to coasts\n",
    "- Cluster 2 is comprised of continental provinces, mostly in mid latitudes\n",
    "- Cluster 3 is comprised of northern coastal provinces"
   ]
  },
  {
   "cell_type": "markdown",
   "metadata": {},
   "source": [
    "Compare that to the 3 means case from k-means:"
   ]
  },
  {
   "cell_type": "code",
   "execution_count": null,
   "metadata": {},
   "outputs": [],
   "source": [
    "p1 %>% ggplotly()"
   ]
  },
  {
   "cell_type": "markdown",
   "metadata": {},
   "source": [
    "And let's compare classes and clusters:"
   ]
  },
  {
   "cell_type": "code",
   "execution_count": null,
   "metadata": {},
   "outputs": [],
   "source": [
    "table(ward3w, comp3) %>% caret::confusionMatrix()"
   ]
  },
  {
   "cell_type": "markdown",
   "metadata": {},
   "source": [
    "Ward matches the actual classes better than the Complete method"
   ]
  },
  {
   "cell_type": "markdown",
   "metadata": {},
   "source": [
    "We can compare the dendrogram from both methods:"
   ]
  },
  {
   "cell_type": "code",
   "execution_count": null,
   "metadata": {},
   "outputs": [],
   "source": [
    "meteo_dends <- lapply(list(hc, hcWard),\n",
    "                          function(x) as.dendrogram(x) %>%\n",
    "                          dendextend::color_branches(k = bestc2)) %>%\n",
    "                        dendextend::as.dendlist()"
   ]
  },
  {
   "cell_type": "code",
   "execution_count": null,
   "metadata": {},
   "outputs": [],
   "source": [
    "names(meteo_dends) <- c(\"complete\", \"ward.D2\")"
   ]
  },
  {
   "cell_type": "code",
   "execution_count": null,
   "metadata": {},
   "outputs": [],
   "source": [
    "meteo_dends %>%\n",
    "    dendextend::dendlist(which = 1:2) %>%\n",
    "    dendextend::ladderize() %>%\n",
    "    #set(\"branches_k_color\", k=3) %>%\n",
    "    #set(\"rank_branches\") %>%\n",
    "    dendextend::tanglegram(faster = TRUE)\n",
    "    #tanglegram(common_subtrees_color_branches = TRUE)"
   ]
  },
  {
   "cell_type": "markdown",
   "metadata": {},
   "source": [
    "## Explore data across clusters"
   ]
  },
  {
   "cell_type": "markdown",
   "metadata": {},
   "source": [
    "Now that we have the cluster info, we can add the cluster labels back into the original data to explore the differences across:"
   ]
  },
  {
   "cell_type": "code",
   "execution_count": null,
   "metadata": {},
   "outputs": [],
   "source": [
    "meteo_data8 <- copy(meteo_data5)"
   ]
  },
  {
   "cell_type": "code",
   "execution_count": null,
   "metadata": {},
   "outputs": [],
   "source": [
    "meteo_data8[, c(\"ward3w\", \"comp3\") := .(ward3w, comp3)]"
   ]
  },
  {
   "cell_type": "code",
   "execution_count": null,
   "metadata": {},
   "outputs": [],
   "source": [
    "meteo_data8"
   ]
  },
  {
   "cell_type": "markdown",
   "metadata": {},
   "source": [
    "First the map and summary data with Ward's linkage method:"
   ]
  },
  {
   "cell_type": "code",
   "execution_count": null,
   "metadata": {},
   "outputs": [],
   "source": [
    "p6 %>% ggplotly()"
   ]
  },
  {
   "cell_type": "markdown",
   "metadata": {},
   "source": [
    "Size of clusters:"
   ]
  },
  {
   "cell_type": "code",
   "execution_count": null,
   "metadata": {},
   "outputs": [],
   "source": [
    "meteo_data8[, .N, by = ward3w]"
   ]
  },
  {
   "cell_type": "markdown",
   "metadata": {},
   "source": [
    "And summary data:"
   ]
  },
  {
   "cell_type": "code",
   "execution_count": null,
   "metadata": {},
   "outputs": [],
   "source": [
    "meteo_data8[,lapply(.SD, mean), by = ward3w, .SDcols = -c(\"province\", \"lat\", \"lon\", \"region\", \"comp3\")]"
   ]
  },
  {
   "cell_type": "markdown",
   "metadata": {},
   "source": [
    "And then the map and data using complete linkage method: "
   ]
  },
  {
   "cell_type": "code",
   "execution_count": null,
   "metadata": {},
   "outputs": [],
   "source": [
    "p5 %>% ggplotly()"
   ]
  },
  {
   "cell_type": "markdown",
   "metadata": {},
   "source": [
    "Size of clusters:"
   ]
  },
  {
   "cell_type": "code",
   "execution_count": null,
   "metadata": {},
   "outputs": [],
   "source": [
    "meteo_data8[, .N, by = comp3]"
   ]
  },
  {
   "cell_type": "markdown",
   "metadata": {},
   "source": [
    "And summary data:"
   ]
  },
  {
   "cell_type": "code",
   "execution_count": null,
   "metadata": {},
   "outputs": [],
   "source": [
    "meteo_data8[,lapply(.SD, mean), by = comp3, .SDcols = -c(\"province\", \"lat\", \"lon\", \"region\", \"ward3w\")]"
   ]
  }
 ],
 "metadata": {
  "kernelspec": {
   "display_name": "R",
   "language": "R",
   "name": "ir"
  },
  "language_info": {
   "codemirror_mode": "r",
   "file_extension": ".r",
   "mimetype": "text/x-r-source",
   "name": "R",
   "pygments_lexer": "r",
   "version": "4.3.3"
  },
  "toc": {
   "base_numbering": 1,
   "nav_menu": {},
   "number_sections": true,
   "sideBar": true,
   "skip_h1_title": false,
   "title_cell": "Table of Contents",
   "title_sidebar": "Contents",
   "toc_cell": false,
   "toc_position": {},
   "toc_section_display": "block",
   "toc_window_display": false
  }
 },
 "nbformat": 4,
 "nbformat_minor": 4
}
