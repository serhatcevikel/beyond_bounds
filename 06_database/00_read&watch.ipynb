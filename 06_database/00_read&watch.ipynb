{
 "cells": [
  {
   "cell_type": "markdown",
   "id": "2665263f-248e-4e94-8181-0e55431003d7",
   "metadata": {},
   "source": [
    "<font size=\"6\"><b>RESOURCES FOR THIS SESSION'S TOPICS</b></font>"
   ]
  },
  {
   "cell_type": "markdown",
   "id": "41054f83-a3a5-4888-a240-16e43786ec28",
   "metadata": {},
   "source": [
    "# Resources for databases"
   ]
  },
  {
   "cell_type": "markdown",
   "id": "d55800f2-d873-447d-976f-6023e4ec8208",
   "metadata": {},
   "source": [
    "## Watchlist"
   ]
  },
  {
   "cell_type": "markdown",
   "id": "30513b9b-9fc2-4654-80b6-52c71abc94e3",
   "metadata": {},
   "source": [
    "[![regex watch list](https://img.youtube.com/vi/N3nW9Q7HKyg/0.jpg)](https://www.youtube.com/playlist?list=PLg3eScSbYgxlsLMwq3T6v1NNkxHd5Z-dn)"
   ]
  },
  {
   "cell_type": "markdown",
   "id": "04eb3baa-f37c-42e5-96d3-fc88b57840d7",
   "metadata": {},
   "source": [
    "## Reading material"
   ]
  },
  {
   "cell_type": "markdown",
   "id": "9104f271-9ba6-4ab5-9bce-055110b04c19",
   "metadata": {},
   "source": [
    "- 20 Basic SQL Query Examples for Beginners: A Complete Overview\n",
    "\n",
    "https://learnsql.com/blog/basic-sql-query-examples/"
   ]
  },
  {
   "cell_type": "markdown",
   "id": "708ddbf0-16e2-4e36-90e2-2fa1bb0588ca",
   "metadata": {},
   "source": [
    "- Using DBI\n",
    "\n",
    "https://solutions.posit.co/connections/db/r-packages/dbi/"
   ]
  },
  {
   "cell_type": "markdown",
   "id": "80968916-3371-4bd6-a0aa-da3b3cbf3fe0",
   "metadata": {},
   "source": [
    "- Introduction to dbplyr\n",
    "\n",
    "https://dbplyr.tidyverse.org/articles/dbplyr.html"
   ]
  },
  {
   "cell_type": "markdown",
   "id": "f032c46d-1484-4aa5-8d20-02e6777f0195",
   "metadata": {},
   "source": [
    "- Writing SQL with dbplyr\n",
    "\n",
    "https://dbplyr.tidyverse.org/articles/sql.html"
   ]
  },
  {
   "cell_type": "markdown",
   "id": "1c8cdb2b-2f4f-450c-a922-f987781dc66a",
   "metadata": {},
   "source": [
    "# Resources for datetime"
   ]
  },
  {
   "cell_type": "markdown",
   "id": "645dac52-88eb-4177-9ff6-ffc01437cd85",
   "metadata": {},
   "source": [
    "## Video"
   ]
  },
  {
   "cell_type": "markdown",
   "id": "41f158dd-5797-4b2e-b3ba-993149f004aa",
   "metadata": {},
   "source": [
    "- Lubridate - how to manipulate date and time data in R\n",
    "\n",
    "[![lubridate](https://img.youtube.com/vi/g4JF_Ew8qEc/0.jpg)](https://www.youtube.com/watch?v=g4JF_Ew8qEc)"
   ]
  },
  {
   "cell_type": "markdown",
   "id": "281cc202-2cb2-4f27-a854-115120a70ba0",
   "metadata": {},
   "source": [
    "## Reading material"
   ]
  },
  {
   "cell_type": "markdown",
   "id": "9c5ebcaf-125b-4020-a911-42aa049de1e4",
   "metadata": {},
   "source": [
    "- Lubridate overview:\n",
    "\n",
    "https://lubridate.tidyverse.org/"
   ]
  },
  {
   "cell_type": "markdown",
   "id": "7f6f4897-5053-47ca-bf9a-b8f9b4162691",
   "metadata": {},
   "source": [
    "- Do more with dates and times in R:\n",
    "\n",
    "https://lubridate.tidyverse.org/articles/lubridate.html"
   ]
  },
  {
   "cell_type": "markdown",
   "id": "3f16c61d-4e3d-4cee-add9-f559e9e191e4",
   "metadata": {},
   "source": [
    "# Resources for Linux and Bash (optional)"
   ]
  },
  {
   "cell_type": "markdown",
   "id": "4006ebec-a8a5-465d-9edf-d07ccc022053",
   "metadata": {},
   "source": [
    "Bash programming is not an integral part of the scope of this course, but I highly recommend that you include the Linux toolset via Bash in your skills.\n",
    "\n",
    "The notebook in the folder will give you a showcase of most important Linux and Bash tools."
   ]
  },
  {
   "cell_type": "markdown",
   "id": "8f4eee9f-6da0-4e5e-9f9a-e0be6559ba22",
   "metadata": {},
   "source": [
    "## Video"
   ]
  },
  {
   "cell_type": "markdown",
   "id": "3a1e4135-8190-4920-8735-4229cceaf78c",
   "metadata": {},
   "source": [
    "Data + Coding in Bash - episode 4 - Best Practices & Shortcuts (data science for beginners)\n",
    "\n",
    "[![bash](https://img.youtube.com/vi/WcZqmu9CdXk/0.jpg)](https://www.youtube.com/watch?v=WcZqmu9CdXk)"
   ]
  },
  {
   "cell_type": "markdown",
   "id": "206226b2-44a3-4ec6-ae15-ef0f7839a905",
   "metadata": {},
   "source": [
    "## Reading material"
   ]
  },
  {
   "cell_type": "markdown",
   "id": "698706df-4f6e-454f-8f16-1b2add842027",
   "metadata": {},
   "source": [
    "- \"Introduction\" chapter from \"Data Science at the Command Line\" book:\n",
    "\n",
    "https://jeroenjanssens.com/dsatcl/chapter-1-introduction"
   ]
  },
  {
   "cell_type": "markdown",
   "id": "14e1932f-a90e-4c8d-9551-04f961acb537",
   "metadata": {},
   "source": [
    "- Linux Is the Best OS for Big Data Apps: 10 Reasons Why\n",
    "\n",
    "https://www.eweek.com/database/linux-is-the-best-os-for-big-data-apps-10-reasons-why/"
   ]
  },
  {
   "cell_type": "code",
   "execution_count": null,
   "id": "4511b1c1-eac7-42e5-a285-47e01999fd74",
   "metadata": {},
   "outputs": [],
   "source": []
  }
 ],
 "metadata": {
  "kernelspec": {
   "display_name": "R",
   "language": "R",
   "name": "ir"
  },
  "language_info": {
   "codemirror_mode": "r",
   "file_extension": ".r",
   "mimetype": "text/x-r-source",
   "name": "R",
   "pygments_lexer": "r",
   "version": "4.3.2"
  }
 },
 "nbformat": 4,
 "nbformat_minor": 5
}
