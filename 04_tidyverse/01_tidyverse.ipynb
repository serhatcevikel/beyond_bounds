{
 "cells": [
  {
   "cell_type": "markdown",
   "id": "c432159c-8fb9-45b8-ae63-51899ef7c9f2",
   "metadata": {},
   "source": [
    "<font size=\"6\"><b>`TIDYVERSE` SUITE</b></font>"
   ]
  },
  {
   "cell_type": "code",
   "execution_count": null,
   "id": "653a07d3-ce54-445d-8006-f2a95e4ab65e",
   "metadata": {},
   "outputs": [],
   "source": [
    "library(tidyverse)\n",
    "library(magrittr)\n",
    "library(nycflights13)\n",
    "library(DT)"
   ]
  },
  {
   "cell_type": "code",
   "execution_count": null,
   "id": "26a64718-0735-4641-bf71-a65f46b7f29c",
   "metadata": {},
   "outputs": [],
   "source": [
    "options(repr.matrix.max.rows=20, repr.matrix.max.cols=30) # for limiting the number of top and bottom rows of tables printed "
   ]
  },
  {
   "cell_type": "markdown",
   "id": "3414ad51-312d-4532-bd78-734acc8e8334",
   "metadata": {},
   "source": [
    "![xkcd](../imagesbb/data_pipeline.png)\n",
    "\n",
    "(https://xkcd.com/2054)"
   ]
  },
  {
   "cell_type": "markdown",
   "id": "6fb86883-85ba-4040-8b3e-a6bb3b4e7d18",
   "metadata": {},
   "source": [
    "In this session, we will cover some important components and functions of the tidyverse suite\n",
    "\n",
    "tidyverse is essentially a suite of interrelated packages.\n",
    "We will mostly focus on a collection of `dplyr` and `tidyr` functions and features in this session.\n",
    "\n",
    "Note that, contrary to data.table, the modifications are not made in-place, they should be assigned back to the original object\n",
    "\n",
    "We will use the same data from nycflights13 package"
   ]
  },
  {
   "cell_type": "markdown",
   "id": "c585e8ba-00c2-4461-a67d-a6309fce500a",
   "metadata": {},
   "source": [
    "# Datasets"
   ]
  },
  {
   "cell_type": "markdown",
   "id": "52475930-7001-4ede-ab55-9d541ecf60c0",
   "metadata": {},
   "source": [
    "You can get info on and preview the structure and some rows of the datasets and navigate through them"
   ]
  },
  {
   "cell_type": "markdown",
   "id": "49965f18-f832-4206-aea0-5b7488d6cc7b",
   "metadata": {},
   "source": [
    "## Airlines"
   ]
  },
  {
   "cell_type": "code",
   "execution_count": null,
   "id": "b001d2e2-361e-4e72-bdfc-f0041b4aa265",
   "metadata": {},
   "outputs": [],
   "source": [
    "#?(airlines)"
   ]
  },
  {
   "cell_type": "code",
   "execution_count": null,
   "id": "ebd99648-9dd2-4de7-b30d-0fc145307ef1",
   "metadata": {},
   "outputs": [],
   "source": [
    "head(airlines)"
   ]
  },
  {
   "cell_type": "code",
   "execution_count": null,
   "id": "6538dd29-5403-43c4-92a9-065915cce95f",
   "metadata": {},
   "outputs": [],
   "source": [
    "str(airlines)"
   ]
  },
  {
   "cell_type": "code",
   "execution_count": null,
   "id": "ff6f756f-86a4-4942-ab8e-dc392f21b733",
   "metadata": {},
   "outputs": [],
   "source": [
    "datatable(airlines, filter = \"top\")"
   ]
  },
  {
   "cell_type": "markdown",
   "id": "e24e1a43-de65-4059-a604-157d600c204a",
   "metadata": {},
   "source": [
    "## airports"
   ]
  },
  {
   "cell_type": "code",
   "execution_count": null,
   "id": "c56abe76-e82a-4b74-b29f-357f813019a5",
   "metadata": {},
   "outputs": [],
   "source": [
    "#?airports"
   ]
  },
  {
   "cell_type": "code",
   "execution_count": null,
   "id": "14ef347d-64c5-46ed-a3c3-16dab93df5f5",
   "metadata": {},
   "outputs": [],
   "source": [
    "head(airports)"
   ]
  },
  {
   "cell_type": "code",
   "execution_count": null,
   "id": "7608d6b1-a4cb-4a70-8dfe-0168d3361f27",
   "metadata": {},
   "outputs": [],
   "source": [
    "str(airports)"
   ]
  },
  {
   "cell_type": "code",
   "execution_count": null,
   "id": "42b2bd10-febe-455c-aba2-dc087dc4e563",
   "metadata": {},
   "outputs": [],
   "source": [
    "datatable(airports, filter = \"top\")"
   ]
  },
  {
   "cell_type": "markdown",
   "id": "d8c6ecfe-0fb6-4196-8e4a-7004bd382ee6",
   "metadata": {},
   "source": [
    "## planes"
   ]
  },
  {
   "cell_type": "code",
   "execution_count": null,
   "id": "ba8daed6-e412-4401-be87-2dd43b129e95",
   "metadata": {},
   "outputs": [],
   "source": [
    "#?planes"
   ]
  },
  {
   "cell_type": "code",
   "execution_count": null,
   "id": "19520f9b-212a-4a85-9a22-136de40c3ae3",
   "metadata": {},
   "outputs": [],
   "source": [
    "head(planes)"
   ]
  },
  {
   "cell_type": "code",
   "execution_count": null,
   "id": "ff27eb9c-ace5-4ce6-8606-41373dc82c99",
   "metadata": {},
   "outputs": [],
   "source": [
    "str(planes)"
   ]
  },
  {
   "cell_type": "code",
   "execution_count": null,
   "id": "252a4126-5e88-4f0d-b9b9-6654d9e89e04",
   "metadata": {},
   "outputs": [],
   "source": [
    "datatable(planes, filter = \"top\")"
   ]
  },
  {
   "cell_type": "markdown",
   "id": "4f311a2e-ab8b-4a1d-badc-2dd31667e436",
   "metadata": {},
   "source": [
    "## weather"
   ]
  },
  {
   "cell_type": "code",
   "execution_count": null,
   "id": "19e08bd4-26e1-4282-b7ff-d2ea7aa567ae",
   "metadata": {},
   "outputs": [],
   "source": [
    "#?weather"
   ]
  },
  {
   "cell_type": "code",
   "execution_count": null,
   "id": "4c3dbeef-785a-449e-b8bc-91da00601c13",
   "metadata": {},
   "outputs": [],
   "source": [
    "head(weather)"
   ]
  },
  {
   "cell_type": "code",
   "execution_count": null,
   "id": "9c82c524-2c15-4b10-a125-c7b550a0afc2",
   "metadata": {},
   "outputs": [],
   "source": [
    "str(weather)"
   ]
  },
  {
   "cell_type": "code",
   "execution_count": null,
   "id": "3eadd2fd-5b44-4a76-ac0a-d4cf917b8442",
   "metadata": {},
   "outputs": [],
   "source": [
    "#datatable(weather, filter = \"top\")"
   ]
  },
  {
   "cell_type": "markdown",
   "id": "9be6c397-5ea3-4edd-9291-da3f21694b98",
   "metadata": {},
   "source": [
    "## flights"
   ]
  },
  {
   "cell_type": "code",
   "execution_count": null,
   "id": "3979bf91-4237-407a-b3c2-b91a2ee0cf37",
   "metadata": {},
   "outputs": [],
   "source": [
    "#?flights"
   ]
  },
  {
   "cell_type": "code",
   "execution_count": null,
   "id": "ae6b260d-2165-4cdc-9a9d-0bd3bc69c98a",
   "metadata": {},
   "outputs": [],
   "source": [
    "head(flights)"
   ]
  },
  {
   "cell_type": "code",
   "execution_count": null,
   "id": "4e6ba4f9-0646-4587-ac70-13af683ed96c",
   "metadata": {},
   "outputs": [],
   "source": [
    "str(flights)"
   ]
  },
  {
   "cell_type": "code",
   "execution_count": null,
   "id": "cb72c970-ca62-4678-a70b-b7e1de6b3898",
   "metadata": {},
   "outputs": [],
   "source": [
    "#datatable(flights, filter = \"top\")"
   ]
  },
  {
   "cell_type": "code",
   "execution_count": null,
   "id": "528e239a-bc44-4fb4-9798-345945e8929b",
   "metadata": {},
   "outputs": [],
   "source": [
    "class(flights)"
   ]
  },
  {
   "cell_type": "code",
   "execution_count": null,
   "id": "4cf9506e-4847-4d35-b0ba-f9baa4169eb0",
   "metadata": {},
   "outputs": [],
   "source": [
    "attributes(flights)"
   ]
  },
  {
   "cell_type": "markdown",
   "id": "18084b86-38f8-4598-97ff-4e22ed34a479",
   "metadata": {},
   "source": [
    "## classes of datasets"
   ]
  },
  {
   "cell_type": "code",
   "execution_count": null,
   "id": "88d92263-d405-4f2d-9d9d-efb5fc866481",
   "metadata": {},
   "outputs": [],
   "source": [
    "class(airlines)\n",
    "class(airports)\n",
    "class(planes)\n",
    "class(weather)\n",
    "class(flights)"
   ]
  },
  {
   "cell_type": "markdown",
   "id": "b6472f44-1c82-4a91-80bb-54cf1fa1cd9b",
   "metadata": {},
   "source": [
    "Tibble is a tidyverse version of the data.frame class:\n",
    "\n",
    "`A tibble, or tbl_df, is a modern reimagining of the data.frame, keeping what time has proven to be effective, and throwing out what is not. Tibbles are data.frames that are lazy and surly: they do less (i.e. they don’t change variable names or types, and don’t do partial matching) and complain more (e.g. when a variable does not exist). This forces you to confront problems earlier, typically leading to cleaner, more expressive code. Tibbles also have an enhanced print() method which makes them easier to use with large datasets containing complex objects.`\n",
    "\n",
    "[Simple Data Frames: tibble](https://tibble.tidyverse.org/)"
   ]
  },
  {
   "cell_type": "markdown",
   "id": "748b30f3-45cb-40ef-8240-5f9a2b394556",
   "metadata": {},
   "source": [
    "# Pipes"
   ]
  },
  {
   "cell_type": "markdown",
   "id": "80cfa11b-ea15-4919-842f-922a68ac2049",
   "metadata": {},
   "source": [
    "Pipes make easier to combine steps that form a linear flow of data computation.\n",
    "\n",
    "The idea was first implemented in 1970s for the UNIX operating system by Ken Thompson"
   ]
  },
  {
   "cell_type": "markdown",
   "id": "5928812c-d077-4a6b-8157-f96f856210d8",
   "metadata": {},
   "source": [
    "Listen to the story of its birth from its inventor interviewed by Brian Kernighan: How he implemented the pipes ONE HOUR and how he and Dennis Ritchie converted all related components in UNIX to be compatible with the pipes (so that extra messages are not written to stdout) in just ONE NIGHT:\n",
    "\n",
    "[![Ken Thompson interviewed by Brian Kernighan at VCF East 2019](https://img.youtube.com/vi/EY6q5dv_B-o/0.jpg)](https://youtu.be/EY6q5dv_B-o?t=1959)"
   ]
  },
  {
   "cell_type": "markdown",
   "id": "6c6e750e-2dee-4c25-944c-15a9fee42228",
   "metadata": {},
   "source": [
    "And watch how Brian Kernighan explains the simple idea behind pipes with a toy example:\n",
    "\n",
    "[![Ken Thompson interviewed by Brian Kernighan at VCF East 2019](https://img.youtube.com/vi/L9GfCgLLZYE/0.jpg)](https://youtu.be/L9GfCgLLZYE)"
   ]
  },
  {
   "cell_type": "markdown",
   "id": "c1ab052a-c93b-4675-af1c-5426f1e25af2",
   "metadata": {},
   "source": [
    "Let's try to create and visualize a randomly generated normal distributed series from a pure entropy source: The modulo of nanotime"
   ]
  },
  {
   "cell_type": "code",
   "execution_count": null,
   "id": "70113787-55e8-441d-ad8a-89eff8c58083",
   "metadata": {},
   "outputs": [],
   "source": [
    "nano_sample <- replicate(1e5, microbenchmark::get_nanotime() %% 1e6)"
   ]
  },
  {
   "cell_type": "code",
   "execution_count": null,
   "id": "64a8b402-e7fc-4026-b157-b588dc4fb028",
   "metadata": {},
   "outputs": [],
   "source": [
    "nano_sample_n <- BBmisc::normalize(nano_sample + 1, method = \"range\", range = c(1e-5, 1-1e-5))"
   ]
  },
  {
   "cell_type": "code",
   "execution_count": null,
   "id": "604f5ac7-0b5f-44b9-817e-1828463135ad",
   "metadata": {},
   "outputs": [],
   "source": [
    "qvalues <- qnorm(nano_sample_n)"
   ]
  },
  {
   "cell_type": "code",
   "execution_count": null,
   "id": "7e356840-c4f0-4c86-b35b-738b833c19cb",
   "metadata": {},
   "outputs": [],
   "source": [
    "hist(qvalues, main = NULL, xlab = NULL)"
   ]
  },
  {
   "cell_type": "markdown",
   "id": "66a64cad-f1a9-460c-b72e-fe90135a3ae1",
   "metadata": {},
   "source": [
    "Let's try to make it a one liner:"
   ]
  },
  {
   "cell_type": "code",
   "execution_count": null,
   "id": "28de772a-ed42-445f-a8a7-5fb8f43d29c2",
   "metadata": {},
   "outputs": [],
   "source": [
    "hist(qnorm(BBmisc::normalize(replicate(1e5, microbenchmark::get_nanotime() %% 1e6) +1,\n",
    "                             method = \"range\",\n",
    "                             range = c(1e-5, 1-1e-5))),\n",
    "     main = NULL, xlab = NULL)"
   ]
  },
  {
   "cell_type": "markdown",
   "id": "4dd15d93-4ebb-45f9-b8b0-283d1d8a381b",
   "metadata": {},
   "source": [
    "Or let's chain the steps with pipes:"
   ]
  },
  {
   "cell_type": "code",
   "execution_count": null,
   "id": "5f382879-f052-4bd9-9d55-686a2d9ed34d",
   "metadata": {},
   "outputs": [],
   "source": [
    "replicate(1e5, microbenchmark::get_nanotime() %% 1e6) %>% \"+\"(1) %>%\n",
    "BBmisc::normalize(method = \"range\", range = c(1e-5, 1-1e-5)) %>%\n",
    "qnorm %>% hist(main = NULL, xlab = NULL)"
   ]
  },
  {
   "cell_type": "markdown",
   "id": "6aa80302-a6a3-4c53-9c5b-686ba4f5eca2",
   "metadata": {},
   "source": [
    "Another version of the pipe (as a part of `magrittr` package) assigns the final output back to the original input to the first step"
   ]
  },
  {
   "cell_type": "code",
   "execution_count": null,
   "id": "4a7d27da-a12c-4686-8a4e-cec163017f0c",
   "metadata": {},
   "outputs": [],
   "source": [
    "series <- replicate(1e5, microbenchmark::get_nanotime() %% 1e6) %>% \"+\"(1)"
   ]
  },
  {
   "cell_type": "code",
   "execution_count": null,
   "id": "de76d7be-33f4-430a-8a17-bcf59875b718",
   "metadata": {},
   "outputs": [],
   "source": [
    "series %>% summary"
   ]
  },
  {
   "cell_type": "code",
   "execution_count": null,
   "id": "0c879951-6182-425e-b13c-c0fc2fbdb3c5",
   "metadata": {},
   "outputs": [],
   "source": [
    "series %<>% BBmisc::normalize()"
   ]
  },
  {
   "cell_type": "code",
   "execution_count": null,
   "id": "4fbd6d38-3f9b-4b42-b886-efb89db6d2df",
   "metadata": {},
   "outputs": [],
   "source": [
    "series %>% summary"
   ]
  },
  {
   "cell_type": "markdown",
   "id": "453d9a3b-4ae3-43c4-aef3-a62262768425",
   "metadata": {},
   "source": [
    "# Basic dplyr verbs"
   ]
  },
  {
   "cell_type": "markdown",
   "id": "8e5b543f-0b64-4509-976c-28ec17793423",
   "metadata": {},
   "source": [
    "## select"
   ]
  },
  {
   "cell_type": "markdown",
   "id": "7650151c-455a-4b3c-993a-dfcf62f418d8",
   "metadata": {},
   "source": [
    "Select or leave out columns by name\n",
    "\n",
    "Similar to `j` of DT[i, j, by] where `j` is a list of columns given by `.(...)`"
   ]
  },
  {
   "cell_type": "code",
   "execution_count": null,
   "id": "d684e897-0d09-47ed-951f-b5c97495ab74",
   "metadata": {},
   "outputs": [],
   "source": [
    "flights %>% select(time_hour, carrier, origin, dest)"
   ]
  },
  {
   "cell_type": "code",
   "execution_count": null,
   "id": "d062fb31-e755-44ae-9e14-9d70118d791e",
   "metadata": {},
   "outputs": [],
   "source": [
    "flights %>% select(-flight, -tailnum, -year, -month, -day)"
   ]
  },
  {
   "cell_type": "markdown",
   "id": "0239ca6d-922c-44f9-976c-a6cd578e2d60",
   "metadata": {},
   "source": [
    "## filter"
   ]
  },
  {
   "cell_type": "markdown",
   "id": "9c96f34f-71c5-4d4a-87b8-46ded84489c1",
   "metadata": {},
   "source": [
    "Subset rows on conditions\n",
    "\n",
    "Similar to `i` of DT[i, j, by]"
   ]
  },
  {
   "cell_type": "code",
   "execution_count": null,
   "id": "7108ecef-3574-43fa-85f0-84e842687042",
   "metadata": {},
   "outputs": [],
   "source": [
    "flights %>%\n",
    "filter(air_time < 30 & distance > 100)"
   ]
  },
  {
   "cell_type": "markdown",
   "id": "6679c6a5-d930-4926-97d5-575d6e2dfe97",
   "metadata": {},
   "source": [
    "## mutate"
   ]
  },
  {
   "cell_type": "markdown",
   "id": "0df586d7-72e3-4b13-aa1e-b888da380148",
   "metadata": {},
   "source": [
    "Modify existing columns or create new ones\n",
    "\n",
    "Similar to `:=` operator of data.table, but the new column is not modified in place, it has to be assigned back to the object"
   ]
  },
  {
   "cell_type": "code",
   "execution_count": null,
   "id": "ae6ef926-ddd4-4034-84bb-58df320efe49",
   "metadata": {},
   "outputs": [],
   "source": [
    "flights %<>%\n",
    "mutate(air_hour = (air_time %/% 100) + (air_time %% 100)/60) %>%\n",
    "mutate(speed = distance / air_hour)"
   ]
  },
  {
   "cell_type": "code",
   "execution_count": null,
   "id": "7b622a95-8a8e-4bbb-a8d9-f6733d153398",
   "metadata": {},
   "outputs": [],
   "source": [
    "flights"
   ]
  },
  {
   "cell_type": "markdown",
   "id": "d3d158aa-869b-4cfb-8a1f-db1fdb95b436",
   "metadata": {},
   "source": [
    "## summarize"
   ]
  },
  {
   "cell_type": "markdown",
   "id": "8112469b-b099-41fb-9b45-6f7fa60d8c6e",
   "metadata": {},
   "source": [
    "Aggregate columns\n",
    "\n",
    "Similar to DT[, .(...)] operations inside data.table where `.(...)` computes single or multiple columns with aggregation operations"
   ]
  },
  {
   "cell_type": "code",
   "execution_count": null,
   "id": "61a3c466-9a34-418f-9d26-bb7cb1b2ae68",
   "metadata": {},
   "outputs": [],
   "source": [
    "flights %>%\n",
    "summarise(max_speed = max(speed, na.rm = T))"
   ]
  },
  {
   "cell_type": "markdown",
   "id": "53ac800a-df15-44e3-8ea7-06b0ac4090b0",
   "metadata": {},
   "source": [
    "## group by"
   ]
  },
  {
   "cell_type": "markdown",
   "id": "4a08f92e-21f9-4b99-b497-0d331c5ca880",
   "metadata": {},
   "source": [
    "Repeat operations across unique values of selected columns\n",
    "\n",
    "Similar to `by` inside DT[i, j, by]"
   ]
  },
  {
   "cell_type": "code",
   "execution_count": null,
   "id": "f419e36c-c097-4fc6-9d58-812c8e3ef2ee",
   "metadata": {},
   "outputs": [],
   "source": [
    "flights %>%\n",
    "group_by(carrier) %>%\n",
    "summarise(max_speed = max(speed, na.rm = T))"
   ]
  },
  {
   "cell_type": "markdown",
   "id": "9b3852b8-3aaa-4c4c-9b40-57e2ee915cf6",
   "metadata": {},
   "source": [
    "## arrange"
   ]
  },
  {
   "cell_type": "markdown",
   "id": "7cfc708c-7113-4e34-bce1-83774a2dd66d",
   "metadata": {},
   "source": [
    "Orders the output\n",
    "\n",
    "Similar to `order` of data.table"
   ]
  },
  {
   "cell_type": "code",
   "execution_count": null,
   "id": "218507d2-472f-4bdb-a270-69121a29f8c6",
   "metadata": {},
   "outputs": [],
   "source": [
    "flights %>%\n",
    "group_by(carrier) %>%\n",
    "summarise(max_speed = max(speed, na.rm = T)) %>%\n",
    "arrange(-max_speed)"
   ]
  },
  {
   "cell_type": "markdown",
   "id": "9f5d9b86-e206-4190-8378-ea05e82af877",
   "metadata": {},
   "source": [
    "## Joins"
   ]
  },
  {
   "cell_type": "markdown",
   "id": "85c33ec4-64f0-429c-bc8b-0f9a16805915",
   "metadata": {},
   "source": [
    "Combine multiple tables based on related columns:\n",
    "\n",
    "Similar to `merge` of data.table, but different types of merges are done with separate functions:"
   ]
  },
  {
   "cell_type": "code",
   "execution_count": null,
   "id": "48132c14-6573-4498-9784-f0b5d076621c",
   "metadata": {},
   "outputs": [],
   "source": [
    "flights %>% select(origin, dest, distance) %>% left_join(select(airports, faa, lat, lon), by = c(\"origin\" = \"faa\"))"
   ]
  },
  {
   "cell_type": "markdown",
   "id": "6f5ed718-d5e1-426c-9d05-143b0ce79295",
   "metadata": {},
   "source": [
    "You can view the types of joins:"
   ]
  },
  {
   "cell_type": "markdown",
   "id": "9296abfd-c5e3-4c6c-a82a-1b221d67c080",
   "metadata": {},
   "source": [
    "![sql joins](../imagesbb/sqljoins_cheatsheet.png)"
   ]
  },
  {
   "cell_type": "markdown",
   "id": "315d27fc-2515-4349-8477-02cd0c13feed",
   "metadata": {},
   "source": [
    "Let's create a toy example:"
   ]
  },
  {
   "cell_type": "code",
   "execution_count": null,
   "id": "cfb4940e-9e8e-48a1-a897-4f846e5a9841",
   "metadata": {},
   "outputs": [],
   "source": [
    "table1 <- tibble(aa = LETTERS[1:4], bb = 1:4)"
   ]
  },
  {
   "cell_type": "code",
   "execution_count": null,
   "id": "a46326c6-a5b1-488e-8453-124cfd6b7930",
   "metadata": {},
   "outputs": [],
   "source": [
    "table2 <- tibble(aa = LETTERS[3:6], cc = 3:6)"
   ]
  },
  {
   "cell_type": "code",
   "execution_count": null,
   "id": "06df736a-c20e-47f6-8d37-4765dc7a375e",
   "metadata": {},
   "outputs": [],
   "source": [
    "table1"
   ]
  },
  {
   "cell_type": "code",
   "execution_count": null,
   "id": "6b386932-cde3-4b51-99be-1370c2b90eed",
   "metadata": {},
   "outputs": [],
   "source": [
    "table2"
   ]
  },
  {
   "cell_type": "markdown",
   "id": "effcf033-9006-47c0-a1c7-80859fc66a56",
   "metadata": {},
   "source": [
    "In left join the key values are taken only from the first table:"
   ]
  },
  {
   "cell_type": "code",
   "execution_count": null,
   "id": "41f4d2b5-872b-426f-b2f9-0bdc1c043f4b",
   "metadata": {},
   "outputs": [],
   "source": [
    "table1 %>% left_join(table2, by = \"aa\")"
   ]
  },
  {
   "cell_type": "markdown",
   "id": "aefeb93c-16f8-487c-9392-fa40bafac773",
   "metadata": {},
   "source": [
    "In right join the key values are taken only from the second table:"
   ]
  },
  {
   "cell_type": "code",
   "execution_count": null,
   "id": "3e83ff2c-f701-4185-984c-d719c3a33224",
   "metadata": {},
   "outputs": [],
   "source": [
    "table1 %>% right_join(table2, by = \"aa\")"
   ]
  },
  {
   "cell_type": "markdown",
   "id": "44122b9a-857d-4718-9281-12a4d77fab43",
   "metadata": {},
   "source": [
    "In inner join only common key values in two tables are taken:"
   ]
  },
  {
   "cell_type": "code",
   "execution_count": null,
   "id": "565b2756-db61-4a12-bec2-670107a20182",
   "metadata": {},
   "outputs": [],
   "source": [
    "table1 %>% inner_join(table2, by = \"aa\")"
   ]
  },
  {
   "cell_type": "markdown",
   "id": "61a42626-a3a6-4677-8fb6-1a3bc3223f54",
   "metadata": {},
   "source": [
    "In full outer join key values from two tables are combined:"
   ]
  },
  {
   "cell_type": "code",
   "execution_count": null,
   "id": "4139b6ab-80f6-4637-ad0c-9f6650a8111b",
   "metadata": {},
   "outputs": [],
   "source": [
    "table1 %>% full_join(table2, by = \"aa\")"
   ]
  },
  {
   "cell_type": "markdown",
   "id": "b0317094-43dd-4acb-97bb-1b807c67c33c",
   "metadata": {},
   "source": [
    "In anti join key values that appear in the first table but do not appear in the second table are taken:"
   ]
  },
  {
   "cell_type": "code",
   "execution_count": null,
   "id": "98f94806-9f05-452c-9edb-a46510a7d5cc",
   "metadata": {},
   "outputs": [],
   "source": [
    "table1 %>% anti_join(table2, by = \"aa\")"
   ]
  },
  {
   "cell_type": "markdown",
   "id": "557df743-667b-4457-a151-379b17024902",
   "metadata": {},
   "source": [
    "## *_all, *_at, *_if versions of functions"
   ]
  },
  {
   "cell_type": "markdown",
   "id": "6e4ab1f0-2ec6-4a16-abf5-0b9e9bd86334",
   "metadata": {},
   "source": [
    "- functions ending with _all apply to all columns\n",
    "- functions ending with _at apply to columns explicitly specified by names\n",
    "- functions ending with _if apply to columns that satisfy a condition"
   ]
  },
  {
   "cell_type": "markdown",
   "id": "30ad1324-9d5a-4d55-9719-3765f0f51a30",
   "metadata": {},
   "source": [
    "### summarise variants"
   ]
  },
  {
   "cell_type": "code",
   "execution_count": null,
   "id": "fce2cfe3-585f-4765-99b1-eb20f9ac9310",
   "metadata": {},
   "outputs": [],
   "source": [
    "flights %>% summarise_all(class)"
   ]
  },
  {
   "cell_type": "code",
   "execution_count": null,
   "id": "5775d066-c6e4-49eb-adc0-42e34937cb6d",
   "metadata": {},
   "outputs": [],
   "source": [
    "flights %>% summarise_at(c(\"year\", \"month\", \"day\"), max)"
   ]
  },
  {
   "cell_type": "code",
   "execution_count": null,
   "id": "51329808-ab9f-4db6-81c1-a65e0e46e1c9",
   "metadata": {},
   "outputs": [],
   "source": [
    "flights %>% summarise_if(is.numeric, mean, na.rm = T)"
   ]
  },
  {
   "cell_type": "markdown",
   "id": "d466083f-b583-4fb4-b7ce-c0905c8b3def",
   "metadata": {},
   "source": [
    "### mutate variants"
   ]
  },
  {
   "cell_type": "markdown",
   "id": "9b6814d1-0816-4c97-bac5-3a0e1dc365a5",
   "metadata": {},
   "source": [
    "The columns are modified keeping their names:"
   ]
  },
  {
   "cell_type": "code",
   "execution_count": null,
   "id": "89dbd1b2-9a85-422f-be32-e9e357834ef1",
   "metadata": {},
   "outputs": [],
   "source": [
    "flights %>% \n",
    "filter(distance < 100) %>%\n",
    "mutate_all(as.character)"
   ]
  },
  {
   "cell_type": "markdown",
   "id": "25474bd7-d60b-4f67-be95-0bfd7835bb99",
   "metadata": {},
   "source": [
    "Note that, with mutate_at and mutate_if, the columns not selected for the operations are returned as is, they are kept"
   ]
  },
  {
   "cell_type": "code",
   "execution_count": null,
   "id": "5633cea9-be78-4759-899a-ae5bee13ab7e",
   "metadata": {},
   "outputs": [],
   "source": [
    "flights %>%\n",
    "filter(distance < 100) %>%\n",
    "mutate_at(c(\"dep_time\", \"arr_time\", \"air_time\"), function(x) round(x %/% 100 + x%%100/60, 2))"
   ]
  },
  {
   "cell_type": "code",
   "execution_count": null,
   "id": "2570e02d-612e-4c9f-982c-c992ded08834",
   "metadata": {},
   "outputs": [],
   "source": [
    "flights %>%\n",
    "filter(distance < 100) %>%\n",
    "mutate_if(is.character, factor)"
   ]
  },
  {
   "cell_type": "markdown",
   "id": "4dd94f8b-c50a-480e-b129-23452996f5a3",
   "metadata": {},
   "source": [
    "## predicates for column selection"
   ]
  },
  {
   "cell_type": "markdown",
   "id": "4b0d5c68-3fa2-480a-97f7-7271023200cc",
   "metadata": {},
   "source": [
    "A group of functions make it easier to specify the columns to select for functions like select, or \\*_at functions\n",
    "\n",
    "They are listed on page [Selection language](https://tidyselect.r-lib.org/reference/language.html)"
   ]
  },
  {
   "cell_type": "code",
   "execution_count": null,
   "id": "c6b8c353-a55f-47c2-9a91-6fe3d4a335cc",
   "metadata": {},
   "outputs": [],
   "source": [
    "flights %>% select(contains(\"time\"))"
   ]
  },
  {
   "cell_type": "code",
   "execution_count": null,
   "id": "0ae9cfa0-b38a-4be2-9a50-e7c68c90ec08",
   "metadata": {},
   "outputs": [],
   "source": [
    "flights %>% select(is.numeric)"
   ]
  },
  {
   "cell_type": "code",
   "execution_count": null,
   "id": "e71ecddc-b963-42a7-82a2-554e7960058a",
   "metadata": {},
   "outputs": [],
   "source": [
    "flights %>% select(-is.numeric)"
   ]
  },
  {
   "cell_type": "markdown",
   "id": "c2d686c0-fb42-4beb-b93c-0cb6f0140d41",
   "metadata": {},
   "source": [
    "Mutate columns names of which end with \"time\":"
   ]
  },
  {
   "cell_type": "code",
   "execution_count": null,
   "id": "5f0e52d0-1e3d-4f4e-9253-4fd3ac81d531",
   "metadata": {},
   "outputs": [],
   "source": [
    "flights %>%\n",
    "filter(distance < 100) %>%\n",
    "mutate_at(vars(ends_with(\"time\")), function(x) round(x %/% 100 + x%%100/60, 2))"
   ]
  },
  {
   "cell_type": "markdown",
   "id": "94128e73-090d-44c2-ab32-8610ee44f719",
   "metadata": {},
   "source": [
    "# basic operations with tidyr"
   ]
  },
  {
   "cell_type": "markdown",
   "id": "2f7e5774-77c3-4710-8283-5333d94ce86b",
   "metadata": {},
   "source": [
    "## reshaping"
   ]
  },
  {
   "cell_type": "markdown",
   "id": "396848f6-1aa3-462d-ab3e-9fd684e5faa3",
   "metadata": {},
   "source": [
    "### pivot_wider"
   ]
  },
  {
   "cell_type": "markdown",
   "id": "960d9122-5446-4a71-92f3-acf1925230b0",
   "metadata": {},
   "source": [
    "Similar to `dcast` of data.table, reshapes long to wide"
   ]
  },
  {
   "cell_type": "code",
   "execution_count": null,
   "id": "6851aeae-01b8-4f94-bc1c-37c0b7aacfbe",
   "metadata": {},
   "outputs": [],
   "source": [
    "flights_at <- flights %>%\n",
    "group_by(origin, carrier) %>%\n",
    "summarise(max_at_oc = max(air_time, na.rm = T),\n",
    "          min_at_oc = min(air_time, na.rm = T),\n",
    "          av_at_oc = mean(air_time, na.rm = T))"
   ]
  },
  {
   "cell_type": "code",
   "execution_count": null,
   "id": "42a5fad2-b6b0-489f-9460-4498dc75c37b",
   "metadata": {},
   "outputs": [],
   "source": [
    "flights_at"
   ]
  },
  {
   "cell_type": "code",
   "execution_count": null,
   "id": "d9be31a1-5cb8-48a7-9fb3-40ff9e090e2a",
   "metadata": {},
   "outputs": [],
   "source": [
    "flights_at_wide <- flights_at %>% pivot_wider(id_cols = carrier, names_from = origin, values_from = av_at_oc)"
   ]
  },
  {
   "cell_type": "code",
   "execution_count": null,
   "id": "72ef7047-7635-4047-a1aa-ccd0faea7f00",
   "metadata": {},
   "outputs": [],
   "source": [
    "flights_at_wide"
   ]
  },
  {
   "cell_type": "markdown",
   "id": "eac671b9-17b3-4484-af88-6fa7e3d28711",
   "metadata": {},
   "source": [
    "`spread` is the older version of the function, however it cannot select the identity vars in itself, we have to select the necessary columns first:"
   ]
  },
  {
   "cell_type": "code",
   "execution_count": null,
   "id": "71d658d5-388a-46bb-bd38-abf31fc42381",
   "metadata": {},
   "outputs": [],
   "source": [
    "flights_at %>% \n",
    "select(carrier, origin, av_at_oc) %>%\n",
    "spread(key = origin, value = av_at_oc)"
   ]
  },
  {
   "cell_type": "markdown",
   "id": "2a1bb45a-a6e6-47e7-a348-ad0b26c734f6",
   "metadata": {},
   "source": [
    "### pivot_longer"
   ]
  },
  {
   "cell_type": "markdown",
   "id": "e449703e-ca95-4e24-88aa-f66351ddf8b0",
   "metadata": {},
   "source": [
    "Similar to `melt` of data.table: reshapes from wide to long"
   ]
  },
  {
   "cell_type": "code",
   "execution_count": null,
   "id": "b99817f3-b6ce-4488-80da-2b9af8856e18",
   "metadata": {},
   "outputs": [],
   "source": [
    "flights_at_wide %>% pivot_longer(cols = -\"carrier\", names_to = \"origin2\", values_to = \"av_time2\", values_drop_na = T)"
   ]
  },
  {
   "cell_type": "markdown",
   "id": "77441deb-add3-4438-b740-9618385468c5",
   "metadata": {},
   "source": [
    "`gather` is the older version of the function:"
   ]
  },
  {
   "cell_type": "code",
   "execution_count": null,
   "id": "7fc25aeb-2871-4dec-84b9-09db677688fa",
   "metadata": {},
   "outputs": [],
   "source": [
    "flights_at_wide %>% gather(key = \"origin2\", value = \"av_time2\", -\"carrier\", na.rm = T)"
   ]
  },
  {
   "cell_type": "markdown",
   "id": "9e736336-a796-4aca-bac0-9861120dd122",
   "metadata": {},
   "source": [
    "## crossing"
   ]
  },
  {
   "cell_type": "markdown",
   "id": "756be16e-68ba-4466-96a2-bb80405d2db0",
   "metadata": {},
   "source": [
    "Getting all cartesian product of the rows of two tables:"
   ]
  },
  {
   "cell_type": "code",
   "execution_count": null,
   "id": "a752056e-df9d-40dc-9628-f8e7817899ce",
   "metadata": {},
   "outputs": [],
   "source": [
    "flights %>% distinct(carrier) %>% arrange(carrier) %>%\n",
    "crossing(flights %>% distinct(origin) %>% arrange(origin))"
   ]
  },
  {
   "cell_type": "markdown",
   "id": "ff2e6ed7-3a86-43ba-8d4d-8848cbbd45eb",
   "metadata": {},
   "source": [
    "## unite / separate columns"
   ]
  },
  {
   "cell_type": "markdown",
   "id": "bd5e1762-a9a6-464e-917b-f9c5ce375856",
   "metadata": {},
   "source": [
    "`unite` takes the values in multiple columns, combines them using a separator into a single new column:"
   ]
  },
  {
   "cell_type": "code",
   "execution_count": null,
   "id": "0bb2c6bf-20a9-4ddd-97be-315a0b5d7be4",
   "metadata": {},
   "outputs": [],
   "source": [
    "flights %>% unite(col = \"origin_carrier\", c(\"origin\", \"carrier\"))"
   ]
  },
  {
   "cell_type": "markdown",
   "id": "63c40a3d-d3dc-4d6b-87bd-4df70d438cea",
   "metadata": {},
   "source": [
    "`separate` takes the values in a single column, separates them using a separator into a multiple new columns:"
   ]
  },
  {
   "cell_type": "code",
   "execution_count": null,
   "id": "5c54e732-1323-49fa-bec1-d4be597f852f",
   "metadata": {},
   "outputs": [],
   "source": [
    "flights %>% unite(col = \"origin_carrier\", c(\"origin\", \"carrier\")) %>%\n",
    "separate(col = origin_carrier, into = c(\"origin\", \"carrier\"), sep = \"_\")"
   ]
  },
  {
   "cell_type": "markdown",
   "id": "683a6721-4636-44a8-99cd-174c0d53eba4",
   "metadata": {},
   "source": [
    "# other selected functions and features"
   ]
  },
  {
   "cell_type": "markdown",
   "id": "9edec704-c10e-4745-a254-f89375d18fe4",
   "metadata": {},
   "source": [
    "## slice"
   ]
  },
  {
   "cell_type": "markdown",
   "id": "5799d3d9-f7e1-4c95-9d9d-fb0824768d35",
   "metadata": {},
   "source": [
    "Filters rows by row indices.\n",
    "\n",
    "Similar to `i` in DT[i, j, by] which covers slicing along with filtering:"
   ]
  },
  {
   "cell_type": "code",
   "execution_count": null,
   "id": "2c8b12e1-7862-4685-9236-7246514dd887",
   "metadata": {},
   "outputs": [],
   "source": [
    "flights %>% slice(1:10)"
   ]
  },
  {
   "cell_type": "code",
   "execution_count": null,
   "id": "957f2da2-db1c-4638-8b10-254dc21e35c1",
   "metadata": {},
   "outputs": [],
   "source": []
  },
  {
   "cell_type": "markdown",
   "id": "edaeb2b4-855a-44c4-a09f-e473257d1044",
   "metadata": {},
   "source": [
    "## pull"
   ]
  },
  {
   "cell_type": "markdown",
   "id": "f3d4f832-a8e6-4c6d-9d56-94dba79a0696",
   "metadata": {},
   "source": [
    "Extracts a column as a vector.\n",
    "\n",
    "Similar to DT[, j, by] where j is the name of a single column"
   ]
  },
  {
   "cell_type": "code",
   "execution_count": null,
   "id": "7321b170-b438-4df2-86ca-72f36b58144d",
   "metadata": {},
   "outputs": [],
   "source": [
    "flights %>% slice(1:10) %>% pull(carrier)"
   ]
  },
  {
   "cell_type": "markdown",
   "id": "595b22e9-203c-4b5f-a22b-c75bcd78a964",
   "metadata": {},
   "source": [
    "## rename"
   ]
  },
  {
   "cell_type": "markdown",
   "id": "2240c0de-953f-4f08-a47a-233acfb14093",
   "metadata": {},
   "source": [
    "Changes the name of a column:\n",
    "\n",
    "Similar to `setnames` in data.table"
   ]
  },
  {
   "cell_type": "code",
   "execution_count": null,
   "id": "57425013-ded4-461a-b4f3-ea1d08479a1b",
   "metadata": {},
   "outputs": [],
   "source": [
    "flights %>% rename(\"departure_time\" = \"dep_time\")"
   ]
  },
  {
   "cell_type": "markdown",
   "id": "d9586c01-53aa-46a5-a560-cc50d1f2ed82",
   "metadata": {},
   "source": [
    "## if_all, if_any"
   ]
  },
  {
   "cell_type": "markdown",
   "id": "2bb76a61-2e1b-4edb-8a40-f801c6c19971",
   "metadata": {},
   "source": [
    "Applies the same condition to multiple columns for a more complex filter.\n",
    "\n",
    "- `if_all` filters the rows that all selected columns satisfy the condition\n",
    "- `if_any` filters the rows that any of the selected columns satisfies the condition\n",
    "- the columns can be selected by name or by selection language predicates"
   ]
  },
  {
   "cell_type": "code",
   "execution_count": null,
   "id": "2ee12f80-b60a-46da-a32a-793e6b912ca3",
   "metadata": {},
   "outputs": [],
   "source": [
    "flights %>%\n",
    "filter(if_all(c(\"distance\", \"air_hour\"), ~ . > quantile(., 0.99, na.rm = T)))"
   ]
  },
  {
   "cell_type": "code",
   "execution_count": null,
   "id": "9cf04d98-8669-430c-932b-f7c689551a85",
   "metadata": {},
   "outputs": [],
   "source": [
    "flights %>%\n",
    "filter(if_any(c(\"distance\", \"air_hour\"), ~ . > quantile(., 0.999, na.rm = T)))"
   ]
  },
  {
   "cell_type": "markdown",
   "id": "ad900318-d38f-4ab0-b7cb-c6b114c4c36e",
   "metadata": {},
   "source": [
    "## shift functions"
   ]
  },
  {
   "cell_type": "markdown",
   "id": "922ce4c5-adee-495c-8840-bb35a5270e8e",
   "metadata": {},
   "source": [
    "`lag` and `lead` functions shift a column by stated number of elements forward or backward, similar to `shift` function of data.table:"
   ]
  },
  {
   "cell_type": "code",
   "execution_count": null,
   "id": "d9843321-e23d-4b81-b01d-e71a2af0ca7a",
   "metadata": {},
   "outputs": [],
   "source": [
    "flights %>%\n",
    "group_by(origin, dest) %>%\n",
    "mutate(air_time_lag1 = lag(air_time, 1)) %>%\n",
    "ungroup %>%\n",
    "filter(origin == \"EWR\" & dest == \"IAH\") %>%\n",
    "select(origin, dest, air_time, air_time_lag1)"
   ]
  },
  {
   "cell_type": "code",
   "execution_count": null,
   "id": "bf2ced0f-24ee-46c7-850a-073404b52bf2",
   "metadata": {},
   "outputs": [],
   "source": [
    "flights %>%\n",
    "group_by(origin, dest) %>%\n",
    "mutate(air_time_lead1 = lead(air_time, 1)) %>%\n",
    "ungroup %>%\n",
    "filter(origin == \"EWR\" & dest == \"IAH\") %>%\n",
    "select(origin, dest, air_time, air_time_lead1)"
   ]
  },
  {
   "cell_type": "markdown",
   "id": "be64b4f8-63de-4283-8c0c-ebe4417569fc",
   "metadata": {},
   "source": [
    "## percent_rank"
   ]
  },
  {
   "cell_type": "markdown",
   "id": "fc5f1d63-eedb-4406-a5ec-819616066d14",
   "metadata": {},
   "source": [
    "Gives the percent rank of values in a column:"
   ]
  },
  {
   "cell_type": "code",
   "execution_count": null,
   "id": "69035af2-3c70-488e-afe5-f872ec626133",
   "metadata": {},
   "outputs": [],
   "source": [
    "flights %>%\n",
    "mutate(air_hourp = percent_rank(air_hour)) %>%\n",
    "filter(!between(air_hourp, 0.001, 0.999)) %>%\n",
    "select(time_hour, carrier, origin, dest, air_hour, air_hourp)"
   ]
  },
  {
   "cell_type": "markdown",
   "id": "34ab5295-55ac-4349-a41d-b2e424dd284c",
   "metadata": {},
   "source": [
    "## replace_na"
   ]
  },
  {
   "cell_type": "markdown",
   "id": "aac6e7b5-c43b-44a8-ab74-757fe97748af",
   "metadata": {},
   "source": [
    "Similar to `nafill` of data.table with fixed value option: Replaces NA values with a fixed value"
   ]
  },
  {
   "cell_type": "code",
   "execution_count": null,
   "id": "3a7132e4-0bc6-4f44-a864-4cb70506c566",
   "metadata": {},
   "outputs": [],
   "source": [
    "flights %>%\n",
    "filter(is.na(air_time)) %>%\n",
    "mutate_at(\"air_time\", replace_na, 0)"
   ]
  },
  {
   "cell_type": "markdown",
   "id": "ed76d352-bebd-4485-a3f9-486e7de95aa5",
   "metadata": {},
   "source": [
    "## na_if"
   ]
  },
  {
   "cell_type": "markdown",
   "id": "57ca8862-5a4a-4dcd-bddd-4ac9204d1820",
   "metadata": {},
   "source": [
    "Changes a stated value to NA in a column:"
   ]
  },
  {
   "cell_type": "code",
   "execution_count": null,
   "id": "2c277e74-1887-4422-97cb-2be661e02367",
   "metadata": {},
   "outputs": [],
   "source": [
    "c(sample(LETTERS, 10), \"MISSING\") %>% na_if(\"MISSING\")"
   ]
  },
  {
   "cell_type": "markdown",
   "id": "2664386f-31f2-4434-94e2-4296f9a6bc55",
   "metadata": {},
   "source": [
    "## bind_rows"
   ]
  },
  {
   "cell_type": "markdown",
   "id": "d1ec2367-9fe0-4693-9361-7d51670ce2dc",
   "metadata": {},
   "source": [
    "Similar to `rbindlist` of data.table, combines multiple tables or parts of a list by rows:"
   ]
  },
  {
   "cell_type": "code",
   "execution_count": null,
   "id": "5e794906-9f33-4792-9a61-243033d5d879",
   "metadata": {},
   "outputs": [],
   "source": [
    "flights %>% split(f = flights$origin) %>% bind_rows"
   ]
  },
  {
   "cell_type": "markdown",
   "id": "eefcb921-abd7-455d-ac91-23ccdf6c66fb",
   "metadata": {},
   "source": [
    "## add_row"
   ]
  },
  {
   "cell_type": "markdown",
   "id": "756a7e5d-8a88-4993-babe-cf5b43409589",
   "metadata": {},
   "source": [
    "Appends a new row with stated values:"
   ]
  },
  {
   "cell_type": "code",
   "execution_count": null,
   "id": "2787217c-661d-45b6-996e-be2a5b99df76",
   "metadata": {},
   "outputs": [],
   "source": [
    "flights %>% slice(1:5) %>% select(carrier, origin, dest, year, month, day) %>%\n",
    "add_row(carrier = \"ZZ\", origin = \"ZZZ\", dest = \"YYY\", year = 2024, month = 12, day = 31)"
   ]
  },
  {
   "cell_type": "markdown",
   "id": "04da0ba6-73e9-47ef-a264-a6d7aac3a664",
   "metadata": {},
   "source": [
    "# Combining data.table and tidyverse"
   ]
  },
  {
   "cell_type": "markdown",
   "id": "25be983e-30d3-4f3d-8a28-d947bb7da6c0",
   "metadata": {},
   "source": [
    "data.table and tidyverse both have their own strengths in different aspects.\n",
    "\n",
    "We do not have to select one of them and we can combine their strengths:\n",
    "tidyverse operations and pipes can be used inside a data.table and data.table operations can be added into tidyverse pipes\n",
    "\n",
    "Note that when a data.table operation added into a series of tidyverse pipes, the output of the last pipe can be referred to with `.` symbol:"
   ]
  },
  {
   "cell_type": "code",
   "execution_count": null,
   "id": "bbb8aa2d-9fed-46e7-b1f2-91dec62a5af7",
   "metadata": {},
   "outputs": [],
   "source": [
    "library(data.table)"
   ]
  },
  {
   "cell_type": "code",
   "execution_count": null,
   "id": "cec8ce8a-1b38-4097-ad3d-b2a2f7f1a33c",
   "metadata": {},
   "outputs": [],
   "source": [
    "setDT(flights)"
   ]
  },
  {
   "cell_type": "code",
   "execution_count": null,
   "id": "3f1ee6d6-ac3e-4b0f-b54f-1c545e4709c9",
   "metadata": {},
   "outputs": [],
   "source": [
    "flights %>% select(ends_with(\"time\")) %>%\n",
    ".[, dep_hour := dep_time %/% 100 + dep_time %% 100 * 60] %>%\n",
    ".[]"
   ]
  },
  {
   "cell_type": "markdown",
   "id": "9855a583-3de3-4be3-8f0b-0570dd7e0cf6",
   "metadata": {},
   "source": [
    "Note that some tidyverse function can delete the data.table attribute so it must be reapplied:"
   ]
  },
  {
   "cell_type": "code",
   "execution_count": null,
   "id": "51b27b48-01d8-49e6-8892-998e72850d6a",
   "metadata": {},
   "outputs": [],
   "source": [
    "flights %>%\n",
    "unite(col = \"origin_dest\", c(\"origin\", \"dest\")) %>%\n",
    "class"
   ]
  },
  {
   "cell_type": "code",
   "execution_count": null,
   "id": "f10094cc-18bf-42a0-be65-cd36ad094d38",
   "metadata": {},
   "outputs": [],
   "source": [
    "flights %>%\n",
    "unite(col = \"origin_dest\", c(\"origin\", \"dest\")) %>%\n",
    "as.data.table %>%\n",
    "class"
   ]
  },
  {
   "cell_type": "markdown",
   "id": "9f2177ea-97d9-44d3-8938-e660eb6ee044",
   "metadata": {},
   "source": [
    "There are some cases where tidyverse approach is easier however the reverse is also true:\n",
    "\n",
    "Let's think about that quite common case: Filter some rows, make calculations on some columns, assign back to an existing or new column and keep all unfiltered rows unchanged.\n",
    "\n",
    "While this may not be so easy in tidyverse, it is one of the most trivial things to do in data.table.\n",
    "\n",
    "Check this stackoverflow question and the answer below:\n",
    "\n",
    "https://stackoverflow.com/questions/65892690/dplyr-filter-and-then-mutate-while-retaining-all-data"
   ]
  },
  {
   "cell_type": "code",
   "execution_count": null,
   "id": "2ba622bc-d9ae-4954-a358-e3120c9dee67",
   "metadata": {},
   "outputs": [],
   "source": []
  }
 ],
 "metadata": {
  "kernelspec": {
   "display_name": "R",
   "language": "R",
   "name": "ir"
  },
  "language_info": {
   "codemirror_mode": "r",
   "file_extension": ".r",
   "mimetype": "text/x-r-source",
   "name": "R",
   "pygments_lexer": "r",
   "version": "4.3.2"
  }
 },
 "nbformat": 4,
 "nbformat_minor": 5
}
