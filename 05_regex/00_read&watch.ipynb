{
 "cells": [
  {
   "cell_type": "markdown",
   "id": "2fafcf52-54c1-41a5-866a-9d051a9af9a6",
   "metadata": {},
   "source": [
    "# Resources for regex"
   ]
  },
  {
   "cell_type": "markdown",
   "id": "84138524-cf88-45d4-9bab-b7a691bac115",
   "metadata": {},
   "source": [
    "## Tool to test the result of regex on some text"
   ]
  },
  {
   "cell_type": "markdown",
   "id": "259d1a3c-a8f7-419a-826e-aa719b9239d1",
   "metadata": {},
   "source": [
    "You can use this site as a companion to the exercises and examples on the videos on reading material that I provide below.\n",
    "\n",
    "There you can test the result of a regex pattern on a sample text:\n",
    "\n",
    "https://regex101.com/"
   ]
  },
  {
   "cell_type": "markdown",
   "id": "928e203a-2fe9-450d-94a7-16bf53a500c0",
   "metadata": {},
   "source": [
    "## Watchlist"
   ]
  },
  {
   "cell_type": "markdown",
   "id": "5ecd6797-9153-41e6-ae64-22fd925a5792",
   "metadata": {},
   "source": [
    "[![regex watch list](https://img.youtube.com/vi/HvryGBPmNl8/0.jpg)](https://www.youtube.com/playlist?list=PLg3eScSbYgxlKnqLyJ59TQbSdllDL0DTr)"
   ]
  },
  {
   "cell_type": "markdown",
   "id": "1c9900da-2211-45ec-8a4e-ffbdc3d2ccd0",
   "metadata": {},
   "source": [
    "## Reading material"
   ]
  },
  {
   "cell_type": "markdown",
   "id": "5c6a1703-e912-464a-9f3e-e2fa35473df9",
   "metadata": {},
   "source": [
    "- Regular Expressions Quick Start\n",
    "\n",
    "https://www.regular-expressions.info/quickstart.html"
   ]
  },
  {
   "cell_type": "markdown",
   "id": "7f606216-7242-4066-93ca-95c1183ed193",
   "metadata": {},
   "source": [
    "- Learn Regex: A Beginner’s Guide\n",
    "\n",
    "by Michael Wanyoike\n",
    "\n",
    "https://www.sitepoint.com/learn-regex/"
   ]
  }
 ],
 "metadata": {
  "kernelspec": {
   "display_name": "R",
   "language": "R",
   "name": "ir"
  },
  "language_info": {
   "codemirror_mode": "r",
   "file_extension": ".r",
   "mimetype": "text/x-r-source",
   "name": "R",
   "pygments_lexer": "r",
   "version": "4.3.2"
  }
 },
 "nbformat": 4,
 "nbformat_minor": 5
}
