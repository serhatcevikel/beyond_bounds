{
 "cells": [
  {
   "cell_type": "markdown",
   "id": "156eb390-a0c2-463f-b08c-b45e30e4ee79",
   "metadata": {},
   "source": [
    "<font size=\"6\"><b>WORKING WITH DATE/TIME OBJECTS</b></font>"
   ]
  },
  {
   "cell_type": "code",
   "execution_count": null,
   "id": "3b5481ca-e930-4d17-8a08-889fe824baa3",
   "metadata": {},
   "outputs": [],
   "source": [
    "library(tidyverse)\n",
    "library(data.table)"
   ]
  },
  {
   "cell_type": "code",
   "execution_count": null,
   "id": "234212b4-c2ce-4477-8bb3-9e0660aa0f07",
   "metadata": {},
   "outputs": [],
   "source": [
    "options(repr.matrix.max.rows=20, repr.matrix.max.cols=15) # for limiting the number of top and bottom rows of tables printed "
   ]
  },
  {
   "cell_type": "markdown",
   "id": "25e3be92-0b0c-4093-9608-b235db40057e",
   "metadata": {},
   "source": [
    "![xkcd](../imagesbb/iso_8601.png)\n",
    "\n",
    "(https://xkcd.com/1179)"
   ]
  },
  {
   "cell_type": "markdown",
   "id": "6b871746-5e8c-42e8-a0a0-f434330b1a7d",
   "metadata": {},
   "source": [
    "Working with datetime objects is complicated tasks, because date and time can take many forms according to the detail level (year, quarter, day, seconds), timezone and differences across a series of datetime objects can be irregular (as with the case of different number of days is months)."
   ]
  },
  {
   "cell_type": "markdown",
   "id": "2783aa1a-1cfa-4ebf-b041-8a7fc9ba4460",
   "metadata": {},
   "source": [
    "In Unix systems, datetime is kept as the number of seconds since 1970-01-01 midnight in UTC time.\n",
    "\n",
    "This is called \"Unix time\" or \"epoch time\".\n",
    "\n",
    "Note that UTC should not be confused with GMT. GMT is a timezone so the geographic region applying GMT may change in time and daylight saving practice can also interfere with the way datetime is kept.\n",
    "\n",
    "However UTC is just a regular counter starting from Unix epoch and not altered by daylight saving practices or timezones."
   ]
  },
  {
   "cell_type": "markdown",
   "id": "b0bfb7ef-5886-4875-9cf0-7a6e6edd8029",
   "metadata": {},
   "source": [
    "# Base R operations with datetime objects"
   ]
  },
  {
   "cell_type": "markdown",
   "id": "b37bd963-b0a0-4db5-a6c8-7a614b3cc3b3",
   "metadata": {},
   "source": [
    "## POSIXct objects"
   ]
  },
  {
   "cell_type": "markdown",
   "id": "5c2bd91c-a77c-45cd-a64c-3a7b5497236e",
   "metadata": {},
   "source": [
    "Let's get the current time:"
   ]
  },
  {
   "cell_type": "code",
   "execution_count": null,
   "id": "8bd1cc88-1b39-459c-a66d-f5d9db0cb804",
   "metadata": {},
   "outputs": [],
   "source": [
    "current_time <- Sys.time()"
   ]
  },
  {
   "cell_type": "code",
   "execution_count": null,
   "id": "23775907-0aa9-488c-8b0c-dcffd77cb547",
   "metadata": {},
   "outputs": [],
   "source": [
    "current_time"
   ]
  },
  {
   "cell_type": "code",
   "execution_count": null,
   "id": "abfc52d9-0e7a-42b6-8570-9f0b7d551df2",
   "metadata": {},
   "outputs": [],
   "source": [
    "current_time %>% str"
   ]
  },
  {
   "cell_type": "markdown",
   "id": "1c3665d1-e353-4f2d-a402-f3ae9d552ff6",
   "metadata": {},
   "source": [
    "This is a POSIXct object"
   ]
  },
  {
   "cell_type": "code",
   "execution_count": null,
   "id": "f1124ea2-b954-4523-b042-70a9426a371b",
   "metadata": {},
   "outputs": [],
   "source": [
    "current_time"
   ]
  },
  {
   "cell_type": "markdown",
   "id": "3abbd8d6-0637-4e2c-9247-68b2a0104183",
   "metadata": {},
   "source": [
    "There is no timezone attribute we define, it is printed using the system timezone"
   ]
  },
  {
   "cell_type": "markdown",
   "id": "eeff9d7d-4b18-467d-a487-559bdc28caf0",
   "metadata": {},
   "source": [
    "Get the timezone of the system that we are working in:"
   ]
  },
  {
   "cell_type": "code",
   "execution_count": null,
   "id": "4d750722-5ca6-4b64-8c58-4c33d78c461c",
   "metadata": {},
   "outputs": [],
   "source": [
    "tzs <- Sys.timezone()\n",
    "tzs"
   ]
  },
  {
   "cell_type": "code",
   "execution_count": null,
   "id": "5d1ee59f-5ef6-4d3e-aaf0-c4948d991621",
   "metadata": {},
   "outputs": [],
   "source": [
    "attributes(current_time)"
   ]
  },
  {
   "cell_type": "markdown",
   "id": "69f4753d-8ef9-4e5c-b28a-ea958a0a997d",
   "metadata": {},
   "source": [
    "Let's create a copy:"
   ]
  },
  {
   "cell_type": "code",
   "execution_count": null,
   "id": "d979ea27-fb33-4ca6-a47c-f2bb802f92ab",
   "metadata": {},
   "outputs": [],
   "source": [
    "current_time2 <- current_time"
   ]
  },
  {
   "cell_type": "markdown",
   "id": "85c000f0-1a78-4101-8249-0e2d8e67d2f1",
   "metadata": {},
   "source": [
    "And change its tzone attribute:"
   ]
  },
  {
   "cell_type": "code",
   "execution_count": null,
   "id": "2fffd03c-e07e-41a1-aa29-3ee9d398c217",
   "metadata": {},
   "outputs": [],
   "source": [
    "attributes(current_time2)$tzone <- \"GMT\""
   ]
  },
  {
   "cell_type": "markdown",
   "id": "32f55fe3-728a-464c-a969-04962eb67a11",
   "metadata": {},
   "source": [
    "Now let's print again:"
   ]
  },
  {
   "cell_type": "code",
   "execution_count": null,
   "id": "35a2aec8-32f9-4aae-b434-c089424e3030",
   "metadata": {},
   "outputs": [],
   "source": [
    "current_time2"
   ]
  },
  {
   "cell_type": "code",
   "execution_count": null,
   "id": "70ecb3ea-3425-4776-af39-98a877c3e790",
   "metadata": {},
   "outputs": [],
   "source": [
    "current_time == current_time2"
   ]
  },
  {
   "cell_type": "markdown",
   "id": "927b3da3-22f8-4519-a003-bf97f5b0b5fd",
   "metadata": {},
   "source": [
    "The values are the same"
   ]
  },
  {
   "cell_type": "markdown",
   "id": "b9906dfb-5d22-4391-95b1-5730d7eea1a3",
   "metadata": {},
   "source": [
    "And we can also get the epoch seconds:"
   ]
  },
  {
   "cell_type": "code",
   "execution_count": null,
   "id": "9d983714-1a7a-475f-9e0f-5e71ba3558dd",
   "metadata": {},
   "outputs": [],
   "source": [
    "as.numeric(current_time)\n",
    "as.numeric(current_time2)"
   ]
  },
  {
   "cell_type": "markdown",
   "id": "46545dd0-172f-4006-bced-0babc67f2a4e",
   "metadata": {},
   "source": [
    "They are also the same"
   ]
  },
  {
   "cell_type": "markdown",
   "id": "c4e9ad8d-0be3-41df-a7b4-d5752d12f884",
   "metadata": {},
   "source": [
    "However the objects are not identical due to timezone differences:"
   ]
  },
  {
   "cell_type": "code",
   "execution_count": null,
   "id": "43259fa7-f122-4ec0-8bae-dcb788184b73",
   "metadata": {},
   "outputs": [],
   "source": [
    "identical(current_time, current_time2)"
   ]
  },
  {
   "cell_type": "markdown",
   "id": "54f67153-b280-46b6-a932-87069dc79351",
   "metadata": {},
   "source": [
    "All timezone options can be retrieved:"
   ]
  },
  {
   "cell_type": "code",
   "execution_count": null,
   "id": "33c9b40e-769c-4bcd-aac2-8095ab8350f5",
   "metadata": {},
   "outputs": [],
   "source": [
    "timezones <- OlsonNames()"
   ]
  },
  {
   "cell_type": "code",
   "execution_count": null,
   "id": "1efc255f-45c6-47d1-970e-7f4454d7423e",
   "metadata": {},
   "outputs": [],
   "source": [
    "timezones"
   ]
  },
  {
   "cell_type": "markdown",
   "id": "61b2c3c7-0f8e-47c5-b7f7-b7cb37a03f00",
   "metadata": {},
   "source": [
    "Arithmetic operations can be made but it is not so convenient, since it is hard to get the exact time three months later, etc:"
   ]
  },
  {
   "cell_type": "code",
   "execution_count": null,
   "id": "982264d2-a129-46f7-a961-d3bdb0fae554",
   "metadata": {},
   "outputs": [],
   "source": [
    "current_time + 1"
   ]
  },
  {
   "cell_type": "markdown",
   "id": "28bbf74a-3198-4510-88d0-a8bca0d5d8df",
   "metadata": {},
   "source": [
    "Let's assign the numeric value of seconds since epoch into an object:"
   ]
  },
  {
   "cell_type": "code",
   "execution_count": null,
   "id": "a7755d84-a604-4b4e-8025-7a3b3e41a9e5",
   "metadata": {},
   "outputs": [],
   "source": [
    "current_time_n <- as.numeric(current_time)\n",
    "current_time_n"
   ]
  },
  {
   "cell_type": "markdown",
   "id": "498077e9-47c9-416b-af3e-5043d266fa54",
   "metadata": {},
   "source": [
    "We can convert it back to POSIXct object, the default timezone of the system will be used:"
   ]
  },
  {
   "cell_type": "code",
   "execution_count": null,
   "id": "3c2cb77e-0a16-46a6-8cee-fca3add5b122",
   "metadata": {},
   "outputs": [],
   "source": [
    "as.POSIXct(current_time_n)\n",
    "\n",
    "as.POSIXct(current_time_n) %>% as.numeric"
   ]
  },
  {
   "cell_type": "markdown",
   "id": "efa8bb89-82a7-4303-b0ff-8485116788a2",
   "metadata": {},
   "source": [
    "Or provide another timezone"
   ]
  },
  {
   "cell_type": "code",
   "execution_count": null,
   "id": "5c5aaed9-1961-409d-85af-c6bc836dc575",
   "metadata": {},
   "outputs": [],
   "source": [
    "as.POSIXct(current_time_n, tz = \"GMT\")\n",
    "\n",
    "as.POSIXct(current_time_n) %>% as.numeric"
   ]
  },
  {
   "cell_type": "markdown",
   "id": "d8aab18a-0584-483a-a178-95a1d5094701",
   "metadata": {},
   "source": [
    "See that, the timezones do change how the date and time is presented but the underlying numeric value, seconds since Unix epoch is the same"
   ]
  },
  {
   "cell_type": "markdown",
   "id": "50ca550b-1364-4aba-b4ef-bfafb3e08af7",
   "metadata": {},
   "source": [
    "We can also convert to a character object with any format:"
   ]
  },
  {
   "cell_type": "markdown",
   "id": "e693403b-0f0a-4e01-9950-c04e8034b649",
   "metadata": {},
   "source": [
    "The default one:"
   ]
  },
  {
   "cell_type": "code",
   "execution_count": null,
   "id": "ba223b97-bc9d-49bf-be7e-5f923c167884",
   "metadata": {},
   "outputs": [],
   "source": [
    "format(current_time)"
   ]
  },
  {
   "cell_type": "code",
   "execution_count": null,
   "id": "4a2ce9b3-f204-4a6f-8ef4-2563ffc85930",
   "metadata": {},
   "outputs": [],
   "source": [
    "format(current_time, format = \"%Y/%m/%d\")"
   ]
  },
  {
   "cell_type": "code",
   "execution_count": null,
   "id": "5745b1cf-1dbd-4424-9dfe-d8cd614eb8a5",
   "metadata": {},
   "outputs": [],
   "source": [
    "format(current_time, format = \"%H_%M_%S\")"
   ]
  },
  {
   "cell_type": "markdown",
   "id": "74be9c14-3ee3-4f1e-8a46-4ed8e4de5681",
   "metadata": {},
   "source": [
    "All available formats can be found here:\n",
    "\n",
    "https://stat.ethz.ch/R-manual/R-devel/library/base/html/strptime.html"
   ]
  },
  {
   "cell_type": "markdown",
   "id": "433a6315-dbdc-4e6b-a0f2-556e50867506",
   "metadata": {},
   "source": [
    "%a\n",
    "Abbreviated weekday name in the current locale on this platform. (Also matches full name on input: in some locales there are no abbreviations of names.)\n",
    "\n",
    "%A\n",
    "Full weekday name in the current locale. (Also matches abbreviated name on input.)\n",
    "\n",
    "%b\n",
    "Abbreviated month name in the current locale on this platform. (Also matches full name on input: in some locales there are no abbreviations of names.)\n",
    "\n",
    "%B\n",
    "Full month name in the current locale. (Also matches abbreviated name on input.)\n",
    "\n",
    "%c\n",
    "Date and time. Locale-specific on output, \"%a %b %e %H:%M:%S %Y\" on input.\n",
    "\n",
    "%C\n",
    "Century (00–99): the integer part of the year divided by 100.\n",
    "\n",
    "%d\n",
    "Day of the month as decimal number (01–31).\n",
    "\n",
    "%D\n",
    "Date format such as %m/%d/%y: the C99 standard says it should be that exact format (but not all OSes comply).\n",
    "\n",
    "%e\n",
    "Day of the month as decimal number (1–31), with a leading space for a single-digit number.\n",
    "\n",
    "%F\n",
    "Equivalent to %Y-%m-%d (the ISO 8601 date format).\n",
    "\n",
    "%g\n",
    "The last two digits of the week-based year (see %V). (Accepted but ignored on input.)\n",
    "\n",
    "%G\n",
    "The week-based year (see %V) as a decimal number. (Accepted but ignored on input.)\n",
    "\n",
    "%h\n",
    "Equivalent to %b.\n",
    "\n",
    "%H\n",
    "Hours as decimal number (00–23). As a special exception strings such as ‘⁠24:00:00⁠’ are accepted for input, since ISO 8601 allows these.\n",
    "\n",
    "%I\n",
    "Hours as decimal number (01–12).\n",
    "\n",
    "%j\n",
    "Day of year as decimal number (001–366): For input, 366 is only valid in a leap year.\n",
    "\n",
    "%m\n",
    "Month as decimal number (01–12).\n",
    "\n",
    "%M\n",
    "Minute as decimal number (00–59).\n",
    "\n",
    "%n\n",
    "Newline on output, arbitrary whitespace on input.\n",
    "\n",
    "%p\n",
    "AM/PM indicator in the locale. Used in conjunction with %I and not with %H. An empty string in some locales (for example on some OSes, non-English European locales including Russia). The behaviour is undefined if used for input in such a locale.\n",
    "\n",
    "Some platforms accept %P for output, which uses a lower-case version (%p may also use lower case): others will output P.\n",
    "\n",
    "%r\n",
    "For output, the 12-hour clock time (using the locale's AM or PM): only defined in some locales, and on some OSes misleading in locales which do not define an AM/PM indicator. For input, equivalent to %I:%M:%S %p.\n",
    "\n",
    "%R\n",
    "Equivalent to %H:%M.\n",
    "\n",
    "%S\n",
    "Second as integer (00–61), allowing for up to two leap-seconds (but POSIX-compliant implementations will ignore leap seconds).\n",
    "\n",
    "%t\n",
    "Tab on output, arbitrary whitespace on input.\n",
    "\n",
    "%T\n",
    "Equivalent to %H:%M:%S.\n",
    "\n",
    "%u\n",
    "Weekday as a decimal number (1–7, Monday is 1).\n",
    "\n",
    "%U\n",
    "Week of the year as decimal number (00–53) using Sunday as the first day 1 of the week (and typically with the first Sunday of the year as day 1 of week 1). The US convention.\n",
    "\n",
    "%V\n",
    "Week of the year as decimal number (01–53) as defined in ISO 8601. If the week (starting on Monday) containing 1 January has four or more days in the new year, then it is considered week 1. Otherwise, it is the last week of the previous year, and the next week is week 1. See %G (%g) for the year corresponding to the week given by %V. (Accepted but ignored on input.)\n",
    "\n",
    "%w\n",
    "Weekday as decimal number (0–6, Sunday is 0).\n",
    "\n",
    "%W\n",
    "Week of the year as decimal number (00–53) using Monday as the first day of week (and typically with the first Monday of the year as day 1 of week 1). The UK convention.\n",
    "\n",
    "%x\n",
    "Date. Locale-specific on output, \"%y/%m/%d\" on input.\n",
    "\n",
    "%X\n",
    "Time. Locale-specific on output, \"%H:%M:%S\" on input.\n",
    "\n",
    "%y\n",
    "Year without century (00–99). On input, values 00 to 68 are prefixed by 20 and 69 to 99 by 19 – that is the behaviour specified by the 2018 POSIX standard, but it does also say ‘it is expected that in a future version the default century inferred from a 2-digit year will change’.\n",
    "\n",
    "%Y\n",
    "Year with century. Note that whereas there was no zero in the original Gregorian calendar, ISO 8601:2004 defines it to be valid (interpreted as 1BC): see https://en.wikipedia.org/wiki/0_(year). However, the standards also say that years before 1582 in its calendar should only be used with agreement of the parties involved.\n",
    "\n",
    "For input, only years 0:9999 are accepted.\n",
    "\n",
    "%z\n",
    "Signed offset in hours and minutes from UTC, so -0800 is 8 hours behind UTC. (Standard only for output. For input R currently supports it on all platforms – values from -1400 to +1400 are accepted.)\n",
    "\n",
    "%Z\n",
    "(Output only.) Time zone abbreviation as a character string (empty if not available). This may not be reliable when a time zone has changed abbreviations over the years."
   ]
  },
  {
   "cell_type": "markdown",
   "id": "d6e31b08-64ef-42cd-a0cc-3e07b73940b4",
   "metadata": {},
   "source": [
    "Let's get into a character format using all fields:"
   ]
  },
  {
   "cell_type": "code",
   "execution_count": null,
   "id": "54022464-432b-419c-b452-b5627d68cfc8",
   "metadata": {},
   "outputs": [],
   "source": [
    "completex <- format(current_time, format = \"%Y/%m/%d %H_%M_%S\")"
   ]
  },
  {
   "cell_type": "code",
   "execution_count": null,
   "id": "e1b0a9e6-4e1f-4ffc-9d3a-55f29264a82b",
   "metadata": {},
   "outputs": [],
   "source": [
    "completex"
   ]
  },
  {
   "cell_type": "markdown",
   "id": "73774667-be0e-4dfd-8658-d69ed7533106",
   "metadata": {},
   "source": [
    "And also save the timezone into an object:"
   ]
  },
  {
   "cell_type": "code",
   "execution_count": null,
   "id": "290c2cc6-dacf-4492-9235-b50481513157",
   "metadata": {},
   "outputs": [],
   "source": [
    "tzx <- format(current_time, format = \"%Z\")"
   ]
  },
  {
   "cell_type": "code",
   "execution_count": null,
   "id": "0f7d0e25-b8dc-4e70-96ca-58dd16a01f43",
   "metadata": {},
   "outputs": [],
   "source": [
    "tzx"
   ]
  },
  {
   "cell_type": "markdown",
   "id": "9bbcc085-6668-4c27-ac8f-774eb535464b",
   "metadata": {},
   "source": [
    "Create the POSIXct object from the character value representing the datatime, the format to render that character and also the timezone:"
   ]
  },
  {
   "cell_type": "code",
   "execution_count": null,
   "id": "4da1cc90-ec1f-4bea-85ef-57c8564dba08",
   "metadata": {},
   "outputs": [],
   "source": [
    "current_time3 <- as.POSIXct(completex, format = \"%Y/%m/%d %H_%M_%S\", tz = tzx)"
   ]
  },
  {
   "cell_type": "code",
   "execution_count": null,
   "id": "e9b54c93-9a1c-4c21-9fe6-6adc4bafe3da",
   "metadata": {},
   "outputs": [],
   "source": [
    "current_time3"
   ]
  },
  {
   "cell_type": "markdown",
   "id": "6f849ad3-8c6b-44a4-a5c8-452bf0b361d7",
   "metadata": {},
   "source": [
    "Let's get the attributes:"
   ]
  },
  {
   "cell_type": "code",
   "execution_count": null,
   "id": "3f3a6575-8e0c-48c7-812c-a71fbaf208a9",
   "metadata": {},
   "outputs": [],
   "source": [
    "attributes(current_time3)"
   ]
  },
  {
   "cell_type": "markdown",
   "id": "87a63f40-2ce2-4147-a34f-34ca81a9667e",
   "metadata": {},
   "source": [
    "And let's see the numeric value: Seconds since epoch"
   ]
  },
  {
   "cell_type": "code",
   "execution_count": null,
   "id": "4944dae4-f26d-4b28-8e82-67e9edec62ca",
   "metadata": {},
   "outputs": [],
   "source": [
    "as.numeric(current_time3)"
   ]
  },
  {
   "cell_type": "markdown",
   "id": "18c083ab-6a8c-486f-8040-1e47436b8545",
   "metadata": {},
   "source": [
    "We can also get the character representation of datetime using strptime function"
   ]
  },
  {
   "cell_type": "code",
   "execution_count": null,
   "id": "84a7c128-f21c-4535-99c3-74a02ceb4f43",
   "metadata": {},
   "outputs": [],
   "source": [
    "strptime(current_time, format = \"%Y-%m-%d %H:%M:%S\", tz = \"\")"
   ]
  },
  {
   "cell_type": "markdown",
   "id": "724561a2-8c7b-46b5-ac6d-cea1c92ef2fa",
   "metadata": {},
   "source": [
    "### Difference in datetime objects"
   ]
  },
  {
   "cell_type": "markdown",
   "id": "43e0f70f-fe9e-4725-a79f-042ed7d68274",
   "metadata": {},
   "source": [
    "We can calculate the difference between two datetime objects:"
   ]
  },
  {
   "cell_type": "code",
   "execution_count": null,
   "id": "574e47d1-cd7c-4818-aa50-85cda4d6cf25",
   "metadata": {},
   "outputs": [],
   "source": [
    "difftime(as.POSIXct(\"2024-02-26 10:12:20\", tz = \"GMT\"), as.POSIXct(\"2024-02-26 10:12:20\", tz = \"Europe/Istanbul\"))"
   ]
  },
  {
   "cell_type": "code",
   "execution_count": null,
   "id": "55f79470-6ecf-434b-9c0f-5778008bad51",
   "metadata": {},
   "outputs": [],
   "source": [
    "difftime(as.POSIXct(\"2024-02-26 10:12:20\", tz = \"Europe/Istanbul\"), as.POSIXct(\"2023-07-10 23:05:52\", tz = \"GMT\"))"
   ]
  },
  {
   "cell_type": "markdown",
   "id": "45f1d0f7-2c47-4ced-99b7-179f48c1e884",
   "metadata": {},
   "source": [
    "## Date objects"
   ]
  },
  {
   "cell_type": "markdown",
   "id": "56b2e812-8bf2-4d42-a137-5756f3262a10",
   "metadata": {},
   "source": [
    "We can extract dates from POSIXct objects:"
   ]
  },
  {
   "cell_type": "code",
   "execution_count": null,
   "id": "ab24d89f-f0d1-4f06-ab9e-9ba9a6971570",
   "metadata": {},
   "outputs": [],
   "source": [
    "current_time"
   ]
  },
  {
   "cell_type": "code",
   "execution_count": null,
   "id": "4faba95c-98b5-4de1-97ea-29ce3eef25ec",
   "metadata": {},
   "outputs": [],
   "source": [
    "current_date1 <- as.Date(current_time)"
   ]
  },
  {
   "cell_type": "code",
   "execution_count": null,
   "id": "a371644b-f735-4bcb-b1e1-5cc4aad9e08e",
   "metadata": {},
   "outputs": [],
   "source": [
    "current_date1"
   ]
  },
  {
   "cell_type": "code",
   "execution_count": null,
   "id": "86ff758f-b4ce-47bf-96bb-31a4edcb8f67",
   "metadata": {},
   "outputs": [],
   "source": [
    "current_time2"
   ]
  },
  {
   "cell_type": "code",
   "execution_count": null,
   "id": "7cd3fa06-c376-495f-a45c-5c4da17aa766",
   "metadata": {},
   "outputs": [],
   "source": [
    "current_date2 <- as.Date(current_time2)"
   ]
  },
  {
   "cell_type": "code",
   "execution_count": null,
   "id": "e4c4525d-a179-4194-80ae-c243f33b8df5",
   "metadata": {},
   "outputs": [],
   "source": [
    "current_date2"
   ]
  },
  {
   "cell_type": "markdown",
   "id": "b5111e4f-de0a-4854-97c5-86d6ef29e0fb",
   "metadata": {},
   "source": [
    "Note that, when converting POSIXct object to date, the timezone does not change result, and the date as of the UTC time will be returned."
   ]
  },
  {
   "cell_type": "markdown",
   "id": "0b1e14fa-751d-4b68-a896-c529f53a754b",
   "metadata": {},
   "source": [
    "Now we can get the system date:"
   ]
  },
  {
   "cell_type": "code",
   "execution_count": null,
   "id": "90708917-f05d-4512-a936-53a540b723a8",
   "metadata": {},
   "outputs": [],
   "source": [
    "current_date3 <- Sys.Date()"
   ]
  },
  {
   "cell_type": "code",
   "execution_count": null,
   "id": "149e4d8a-9aae-482d-a18b-5495bc3acbc1",
   "metadata": {},
   "outputs": [],
   "source": [
    "current_date3"
   ]
  },
  {
   "cell_type": "code",
   "execution_count": null,
   "id": "b4afc2e4-50ee-4b5f-a1ad-86fb414eca9b",
   "metadata": {},
   "outputs": [],
   "source": [
    "current_date3 %>% str"
   ]
  },
  {
   "cell_type": "markdown",
   "id": "35f38ca3-3251-4e91-b219-cbd3462a8088",
   "metadata": {},
   "source": [
    "The system date is tied to the timezone of the system that we are using.\n",
    "So if the time at the timezone is past midnight, while the UTC time isn't, the dates will differ"
   ]
  },
  {
   "cell_type": "markdown",
   "id": "6a451a17-ce63-4b9b-afff-4a4c695ae7a2",
   "metadata": {},
   "source": [
    "Convert date object to numeric:"
   ]
  },
  {
   "cell_type": "code",
   "execution_count": null,
   "id": "9bb5285b-a19a-4d5b-971c-14ee7a7a4069",
   "metadata": {},
   "outputs": [],
   "source": [
    "current_date_n <- as.integer(current_date1)\n",
    "current_date_n"
   ]
  },
  {
   "cell_type": "markdown",
   "id": "93107e20-709a-402f-8f86-f38f1452b868",
   "metadata": {},
   "source": [
    "This number is dates since the start of Unix epoch, 1st of January 1970:"
   ]
  },
  {
   "cell_type": "code",
   "execution_count": null,
   "id": "ed4cdd0d-c545-4d6c-a4d4-29c5444f814e",
   "metadata": {},
   "outputs": [],
   "source": [
    "as.Date(0)"
   ]
  },
  {
   "cell_type": "markdown",
   "id": "7669cd20-6489-4b16-b367-34763f9ceea3",
   "metadata": {},
   "source": [
    "We can convert the numeric date back to a date object"
   ]
  },
  {
   "cell_type": "code",
   "execution_count": null,
   "id": "0e523266-7dd6-45c1-a0cc-335e3629417a",
   "metadata": {},
   "outputs": [],
   "source": [
    "as.Date(current_date_n)"
   ]
  },
  {
   "cell_type": "markdown",
   "id": "ada3f60b-26b6-499b-9fb2-33083386752d",
   "metadata": {},
   "source": [
    "Or by providing the origin explicitly:"
   ]
  },
  {
   "cell_type": "code",
   "execution_count": null,
   "id": "8946fc40-efed-40d6-ad2c-1213663bb9ce",
   "metadata": {},
   "outputs": [],
   "source": [
    "as.Date(current_date_n, origin = \"1970-01-01\")"
   ]
  },
  {
   "cell_type": "markdown",
   "id": "8bfdee74-5531-468e-a888-22664175c77c",
   "metadata": {},
   "source": [
    "We can also extract the date as a formatted character:"
   ]
  },
  {
   "cell_type": "code",
   "execution_count": null,
   "id": "ab98dbcd-59ba-49ba-b781-1c5f96f4197f",
   "metadata": {},
   "outputs": [],
   "source": [
    "datechar1 <- format(current_date1)\n",
    "datechar1"
   ]
  },
  {
   "cell_type": "markdown",
   "id": "84fe36d9-80ce-4685-b2ce-fc807c02cf8d",
   "metadata": {},
   "source": [
    "Or in another format:"
   ]
  },
  {
   "cell_type": "code",
   "execution_count": null,
   "id": "abd69060-aec4-437c-ae0b-b17f0a4b156a",
   "metadata": {},
   "outputs": [],
   "source": [
    "datechar2 <- format(current_date1, \"%Y%m%d\")\n",
    "datechar2"
   ]
  },
  {
   "cell_type": "code",
   "execution_count": null,
   "id": "2c067efe-122b-4f89-b5d0-299cb0069594",
   "metadata": {},
   "outputs": [],
   "source": [
    "datechar3 <- format(current_date1, \"%Y/%m/%d\")\n",
    "datechar3"
   ]
  },
  {
   "cell_type": "markdown",
   "id": "9f81f005-c576-481d-b705-d8334c077739",
   "metadata": {},
   "source": [
    "For unambigiously identified formats, the character can be converted back to date easily:"
   ]
  },
  {
   "cell_type": "code",
   "execution_count": null,
   "id": "ec590626-2ee4-4aa7-a10c-3829ee1116d4",
   "metadata": {},
   "outputs": [],
   "source": [
    "as.Date(datechar1)"
   ]
  },
  {
   "cell_type": "code",
   "execution_count": null,
   "id": "b7b8ac28-7bc0-4cc7-8592-48cae0a17ae3",
   "metadata": {},
   "outputs": [],
   "source": [
    "as.Date(datechar3)"
   ]
  },
  {
   "cell_type": "markdown",
   "id": "ea192403-bedc-4bc7-b03e-672bca303ad6",
   "metadata": {},
   "source": [
    "But for a format for which the date cannot be decided unambigiously, we have to explicitly pass the format the convert:"
   ]
  },
  {
   "cell_type": "code",
   "execution_count": null,
   "id": "103481f7-bebe-4122-aa79-1797d8b3d50a",
   "metadata": {},
   "outputs": [],
   "source": [
    "as.Date(datechar2, \"%Y%m%d\")"
   ]
  },
  {
   "cell_type": "markdown",
   "id": "54237089-80df-4e35-8a14-8c68d0b6b72d",
   "metadata": {},
   "source": [
    "If the wrong format is provided, the date cannot be retrieved:"
   ]
  },
  {
   "cell_type": "code",
   "execution_count": null,
   "id": "a4cd5109-50ce-49f5-b486-3b389653528a",
   "metadata": {},
   "outputs": [],
   "source": [
    "as.Date(datechar3, \"%Y/%m/%d\")"
   ]
  },
  {
   "cell_type": "code",
   "execution_count": null,
   "id": "23350611-c9ed-48d5-a8d5-cd7d005bc49c",
   "metadata": {},
   "outputs": [],
   "source": [
    "as.Date(datechar3, \"%Y%m%d\")"
   ]
  },
  {
   "cell_type": "code",
   "execution_count": null,
   "id": "75d310eb-b84e-489b-9a17-36b2b20d22e6",
   "metadata": {},
   "outputs": [],
   "source": [
    "completex\n",
    "tzx"
   ]
  },
  {
   "cell_type": "markdown",
   "id": "e3ec803c-ee07-444c-b0c5-7167ab049527",
   "metadata": {},
   "source": [
    "### Sequence of dates"
   ]
  },
  {
   "cell_type": "markdown",
   "id": "05c5e078-6238-4a29-9283-891a01bcc046",
   "metadata": {},
   "source": [
    "We can create a sequence of dates:"
   ]
  },
  {
   "cell_type": "code",
   "execution_count": null,
   "id": "b8675d1f-c674-422f-95df-39bbb5c8df23",
   "metadata": {},
   "outputs": [],
   "source": [
    "seq.Date(as.Date(\"2024-02-26\"), to = as.Date(\"2024-12-31\"), by = 7)"
   ]
  },
  {
   "cell_type": "markdown",
   "id": "a26bcd64-b3cd-4921-9475-b0718168d90e",
   "metadata": {},
   "source": [
    "# `readr` for parsing dates"
   ]
  },
  {
   "cell_type": "markdown",
   "id": "9ec9fe25-e2c9-46da-96ff-a46eb56510fe",
   "metadata": {},
   "source": [
    "Similar to base as.Date, we can parse a date from a character representation:"
   ]
  },
  {
   "cell_type": "code",
   "execution_count": null,
   "id": "96061bbe-174d-4dd6-a23d-29a4c6a11e44",
   "metadata": {},
   "outputs": [],
   "source": [
    "datechar1"
   ]
  },
  {
   "cell_type": "code",
   "execution_count": null,
   "id": "0ea5b34a-e6bb-4dfc-bb15-f032f447edb4",
   "metadata": {},
   "outputs": [],
   "source": [
    "parse_date(datechar1)"
   ]
  },
  {
   "cell_type": "code",
   "execution_count": null,
   "id": "6f46a59b-b4d1-42f8-a21d-98c36cfb92fc",
   "metadata": {},
   "outputs": [],
   "source": [
    "datechar3"
   ]
  },
  {
   "cell_type": "code",
   "execution_count": null,
   "id": "d731ffb5-2b43-46ea-aac5-02f30d551dd2",
   "metadata": {},
   "outputs": [],
   "source": [
    "parse_date(datechar3)"
   ]
  },
  {
   "cell_type": "markdown",
   "id": "44fbe709-8c7a-41fb-b1be-abca51f65bda",
   "metadata": {},
   "source": [
    "But again, the date should be unambigiously decided from the format:"
   ]
  },
  {
   "cell_type": "code",
   "execution_count": null,
   "id": "6b026bb0-28a8-457c-8532-2b953d1e3d17",
   "metadata": {},
   "outputs": [],
   "source": [
    "datechar2"
   ]
  },
  {
   "cell_type": "code",
   "execution_count": null,
   "id": "19e94110-daa4-4801-b1af-dca8a7cb6175",
   "metadata": {},
   "outputs": [],
   "source": [
    "parse_date(datechar2)"
   ]
  },
  {
   "cell_type": "markdown",
   "id": "135af342-f94c-4740-a7e2-556c55927181",
   "metadata": {},
   "source": [
    "# `lubridate` operations"
   ]
  },
  {
   "cell_type": "markdown",
   "id": "361853ee-b11e-479c-81b7-a257f1c95b7c",
   "metadata": {},
   "source": [
    "## datetime operations"
   ]
  },
  {
   "cell_type": "markdown",
   "id": "8ec83618-0953-46bc-9302-f8ade5be1f4c",
   "metadata": {},
   "source": [
    "We can convert a character representation of datetime and timezone also in lubridate:"
   ]
  },
  {
   "cell_type": "code",
   "execution_count": null,
   "id": "f482ff3f-baee-4950-b6ae-4d20b313492c",
   "metadata": {},
   "outputs": [],
   "source": [
    "completex"
   ]
  },
  {
   "cell_type": "code",
   "execution_count": null,
   "id": "328b3e76-cdc0-4723-a348-544f672ffb05",
   "metadata": {},
   "outputs": [],
   "source": [
    "tzs"
   ]
  },
  {
   "cell_type": "code",
   "execution_count": null,
   "id": "fd5c7acd-edb8-4f47-9f08-6d731bb81740",
   "metadata": {},
   "outputs": [],
   "source": [
    "datetime_l1 <- parse_date_time(completex, orders = \"%Y/%m/%d %H_%M_%s\", tz = tzs)"
   ]
  },
  {
   "cell_type": "code",
   "execution_count": null,
   "id": "8a5222b8-e15c-4d71-ba2f-4f0933d5fc92",
   "metadata": {},
   "outputs": [],
   "source": [
    "datetime_l1"
   ]
  },
  {
   "cell_type": "markdown",
   "id": "91c4412d-762e-4b1f-8a23-bb3303098f0e",
   "metadata": {},
   "source": [
    "It is again a POSIXct object"
   ]
  },
  {
   "cell_type": "code",
   "execution_count": null,
   "id": "a7b0fa5e-c688-484b-95f2-fb2d8dff5a40",
   "metadata": {},
   "outputs": [],
   "source": [
    "datetime_l1 %>% str"
   ]
  },
  {
   "cell_type": "markdown",
   "id": "7c99ad86-6fe5-48fe-81ad-580041bd3906",
   "metadata": {},
   "source": [
    "We can also use some wrapper for some easily recognized formats:"
   ]
  },
  {
   "cell_type": "code",
   "execution_count": null,
   "id": "5b7bd82a-30f3-4edc-b6de-be97d1a3e156",
   "metadata": {},
   "outputs": [],
   "source": [
    "ymd_hms(completex, tz = Sys.timezone())"
   ]
  },
  {
   "cell_type": "markdown",
   "id": "def5e530-e72e-4d0d-ad5b-76638240e2a9",
   "metadata": {},
   "source": [
    "### Period objects"
   ]
  },
  {
   "cell_type": "markdown",
   "id": "47430276-4c28-4d70-a014-12f62e601cae",
   "metadata": {},
   "source": [
    "Suppose we are only interested in the time part, just the hour, minute and seconds of a POSIXct object, it can convey information on for example an athletic performance, a flight or any time sensitive event:"
   ]
  },
  {
   "cell_type": "code",
   "execution_count": null,
   "id": "b7e3685d-d530-47e1-91df-80fb46a90ea5",
   "metadata": {},
   "outputs": [],
   "source": [
    "current_time"
   ]
  },
  {
   "cell_type": "markdown",
   "id": "d2a885a6-6a83-428f-a6cf-26a9e26b97c0",
   "metadata": {},
   "source": [
    "We should first format the datetime to reveal only the time part:"
   ]
  },
  {
   "cell_type": "code",
   "execution_count": null,
   "id": "982497b3-32ce-4596-b9cb-21a277e7a66e",
   "metadata": {},
   "outputs": [],
   "source": [
    "time1 <- format(current_time, \"%H:%M:%S\")\n",
    "time1"
   ]
  },
  {
   "cell_type": "markdown",
   "id": "f58c30dd-9099-43db-9961-3cab349d918d",
   "metadata": {},
   "source": [
    "And convert it to a period object"
   ]
  },
  {
   "cell_type": "code",
   "execution_count": null,
   "id": "cc576b76-2ad1-40dd-8c3a-a0eeb85148c2",
   "metadata": {},
   "outputs": [],
   "source": [
    "hms1 <- time1 %>% hms\n",
    "hms1"
   ]
  },
  {
   "cell_type": "code",
   "execution_count": null,
   "id": "9178e30e-dddb-4276-bb3a-a376d7036254",
   "metadata": {},
   "outputs": [],
   "source": [
    "hms1 %>% str"
   ]
  },
  {
   "cell_type": "code",
   "execution_count": null,
   "id": "6794b597-5c0a-4597-ae3e-3bd27b4a93a0",
   "metadata": {},
   "outputs": [],
   "source": [
    "current_time2"
   ]
  },
  {
   "cell_type": "code",
   "execution_count": null,
   "id": "5143d1dd-9257-4baa-9bfa-0d57b7c43833",
   "metadata": {},
   "outputs": [],
   "source": [
    "time2 <- format(current_time2, \"%H:%M:%S\")\n",
    "time2"
   ]
  },
  {
   "cell_type": "code",
   "execution_count": null,
   "id": "e28b938d-d85b-4728-8d69-c3e85c823bb0",
   "metadata": {},
   "outputs": [],
   "source": [
    "hms2 <- time2 %>% hms\n",
    "hms2"
   ]
  },
  {
   "cell_type": "markdown",
   "id": "80393aee-292b-4ee4-b22a-40584ede2745",
   "metadata": {},
   "source": [
    "It would also be convenient to convert that period to seconds for specific purposes:"
   ]
  },
  {
   "cell_type": "code",
   "execution_count": null,
   "id": "87cb6ce1-c115-482a-b684-22cf40428e01",
   "metadata": {},
   "outputs": [],
   "source": [
    "hms2 %>% period_to_seconds"
   ]
  },
  {
   "cell_type": "markdown",
   "id": "d144765d-020a-4d2c-9858-a3ad49b3c16f",
   "metadata": {},
   "source": [
    "### Accessing/changing units of a datetime separately"
   ]
  },
  {
   "cell_type": "markdown",
   "id": "1c0c3fa7-bd72-4b24-81b9-6b18f23effe5",
   "metadata": {},
   "source": [
    "We can get any unit of a datetime object:"
   ]
  },
  {
   "cell_type": "code",
   "execution_count": null,
   "id": "266e04c7-3278-4360-9710-1608eebfecf3",
   "metadata": {},
   "outputs": [],
   "source": [
    "current_time"
   ]
  },
  {
   "cell_type": "code",
   "execution_count": null,
   "id": "1047f2b8-8680-410f-901e-30398901faf1",
   "metadata": {},
   "outputs": [],
   "source": [
    "second(current_time)"
   ]
  },
  {
   "cell_type": "code",
   "execution_count": null,
   "id": "70e3cb7f-33f7-4ff4-9750-21dd1c23b97a",
   "metadata": {},
   "outputs": [],
   "source": [
    "hour(current_time)"
   ]
  },
  {
   "cell_type": "code",
   "execution_count": null,
   "id": "ad0d3867-1e03-48d4-a5f5-c4086b9de870",
   "metadata": {},
   "outputs": [],
   "source": [
    "minute(current_time)"
   ]
  },
  {
   "cell_type": "code",
   "execution_count": null,
   "id": "bc2b26ce-7425-486c-8ebf-6ffaf8af7111",
   "metadata": {},
   "outputs": [],
   "source": [
    "year(current_time)"
   ]
  },
  {
   "cell_type": "code",
   "execution_count": null,
   "id": "96e5c18e-4474-4da4-be00-71619a4237d3",
   "metadata": {},
   "outputs": [],
   "source": [
    "day(current_time)"
   ]
  },
  {
   "cell_type": "code",
   "execution_count": null,
   "id": "00022281-5730-41d7-9477-1dce5ecc6eb1",
   "metadata": {},
   "outputs": [],
   "source": [
    "month(current_time)"
   ]
  },
  {
   "cell_type": "code",
   "execution_count": null,
   "id": "5072c9dd-71a7-4bf9-8ce0-c8e66966cc3b",
   "metadata": {},
   "outputs": [],
   "source": [
    "week(current_time)"
   ]
  },
  {
   "cell_type": "markdown",
   "id": "70d2606c-670c-4d6c-b8a1-a17e455a40d0",
   "metadata": {},
   "source": [
    "Or change any unit of the date time object:"
   ]
  },
  {
   "cell_type": "code",
   "execution_count": null,
   "id": "44136030-3123-4e29-8c75-2c5a369f808a",
   "metadata": {},
   "outputs": [],
   "source": [
    "current_time4 <- current_time"
   ]
  },
  {
   "cell_type": "code",
   "execution_count": null,
   "id": "daaa7002-657f-428f-b714-4d0db50ae247",
   "metadata": {},
   "outputs": [],
   "source": [
    "day(current_time4) <- day(current_time4) + 1"
   ]
  },
  {
   "cell_type": "code",
   "execution_count": null,
   "id": "4fac4621-0f2a-4e9b-8473-ff72400d1504",
   "metadata": {},
   "outputs": [],
   "source": [
    "current_time4"
   ]
  },
  {
   "cell_type": "markdown",
   "id": "9b7f6476-4664-4001-bd0a-5833802df200",
   "metadata": {},
   "source": [
    "### Duration"
   ]
  },
  {
   "cell_type": "markdown",
   "id": "88a54126-8e84-42b3-a1e2-a7900ff7f799",
   "metadata": {},
   "source": [
    "We can calculate the duration in seconds of a datetime specification including any units:"
   ]
  },
  {
   "cell_type": "code",
   "execution_count": null,
   "id": "b82ba3bd-c13e-4b0f-bc59-7c832b669519",
   "metadata": {},
   "outputs": [],
   "source": [
    "duration(24, \"hour\")"
   ]
  },
  {
   "cell_type": "code",
   "execution_count": null,
   "id": "7530e311-7040-40a0-a1ef-7e5199ab59c9",
   "metadata": {},
   "outputs": [],
   "source": [
    "duration(hour = 24, minute = 30)"
   ]
  },
  {
   "cell_type": "markdown",
   "id": "18d2fecb-41d8-4b8b-a9c8-11203de8cf3d",
   "metadata": {},
   "source": [
    "## Date operations"
   ]
  },
  {
   "cell_type": "markdown",
   "id": "e752ec0d-1d72-4306-b455-af74efc7c7e4",
   "metadata": {},
   "source": [
    "We can create a date object from year, month and day values:"
   ]
  },
  {
   "cell_type": "code",
   "execution_count": null,
   "id": "3298edcc-3de5-4177-a1d9-78ea933cbe5f",
   "metadata": {},
   "outputs": [],
   "source": [
    "datel1 <- make_date(2024, 02, 25)"
   ]
  },
  {
   "cell_type": "code",
   "execution_count": null,
   "id": "035b5286-3732-46fa-8d70-cddc71e4cb42",
   "metadata": {},
   "outputs": [],
   "source": [
    "datel1"
   ]
  },
  {
   "cell_type": "code",
   "execution_count": null,
   "id": "4f61eb96-4148-4062-a92a-8f8571f5e3ed",
   "metadata": {},
   "outputs": [],
   "source": [
    "datel1 %>% str"
   ]
  },
  {
   "cell_type": "markdown",
   "id": "bda70803-7de3-4205-9087-7d27e1822b7d",
   "metadata": {},
   "source": [
    "The conversion from an ambigious formatted character to date can also be done some utility function representing the order of the parts of a date:"
   ]
  },
  {
   "cell_type": "code",
   "execution_count": null,
   "id": "9c9067b5-20ec-4394-8d06-793384b51a28",
   "metadata": {},
   "outputs": [],
   "source": [
    "ymd(\"20240225\")"
   ]
  },
  {
   "cell_type": "code",
   "execution_count": null,
   "id": "d0d70a41-0768-4e38-b0ef-9c4c68aa3b46",
   "metadata": {},
   "outputs": [],
   "source": [
    "mdy(\"02252024\")"
   ]
  },
  {
   "cell_type": "code",
   "execution_count": null,
   "id": "4e49d16b-d0bb-45e4-aa6c-d14e6b232088",
   "metadata": {},
   "outputs": [],
   "source": [
    "dmy(\"25022024\")"
   ]
  },
  {
   "cell_type": "markdown",
   "id": "bedf9814-3a6a-4601-8b8e-910c9d621f0d",
   "metadata": {},
   "source": [
    "### Accessing units"
   ]
  },
  {
   "cell_type": "markdown",
   "id": "f3609486-1453-4e16-9e29-5125b32c039b",
   "metadata": {},
   "source": [
    "We can have the week day, day in month and day since year beginning values:"
   ]
  },
  {
   "cell_type": "code",
   "execution_count": null,
   "id": "b149cd6f-bdb0-4310-8b8e-6a193a152e97",
   "metadata": {},
   "outputs": [],
   "source": [
    "lubridate::wday(current_date1, week_start = 1)"
   ]
  },
  {
   "cell_type": "code",
   "execution_count": null,
   "id": "93fc25a0-f532-47f5-8cb5-a1b500bc5e8a",
   "metadata": {},
   "outputs": [],
   "source": [
    "lubridate::wday(current_date1, label = T)"
   ]
  },
  {
   "cell_type": "code",
   "execution_count": null,
   "id": "961cba19-ba70-467f-adda-23b3a8f11c17",
   "metadata": {},
   "outputs": [],
   "source": [
    "mday(current_date1)"
   ]
  },
  {
   "cell_type": "code",
   "execution_count": null,
   "id": "58e40b11-8eb9-4aeb-aae3-7e5604160c46",
   "metadata": {},
   "outputs": [],
   "source": [
    "yday(current_date1)"
   ]
  },
  {
   "cell_type": "markdown",
   "id": "300eea3b-eb4f-4452-967d-bd0a7c8e1cf6",
   "metadata": {},
   "source": [
    "### Rounding dates"
   ]
  },
  {
   "cell_type": "markdown",
   "id": "b4b2c515-ea24-4e3e-bb9a-0e4655fbd7a2",
   "metadata": {},
   "source": [
    "We can round up or down the date to some defined date unit"
   ]
  },
  {
   "cell_type": "markdown",
   "id": "b5f596cb-4302-4b05-aab0-5d236368af12",
   "metadata": {},
   "source": [
    "Get the first date of the month of a certain date:"
   ]
  },
  {
   "cell_type": "code",
   "execution_count": null,
   "id": "dcd7fd04-217c-4254-bb31-24dde85791fc",
   "metadata": {},
   "outputs": [],
   "source": [
    "floor_date(current_date1, \"month\")"
   ]
  },
  {
   "cell_type": "markdown",
   "id": "3e01a813-b4d6-4273-a99e-22ec35b1860d",
   "metadata": {},
   "source": [
    "Get the first date of the month next to that of a certain date:"
   ]
  },
  {
   "cell_type": "code",
   "execution_count": null,
   "id": "16ac503b-de2d-4e82-98cb-e7d1d21c8819",
   "metadata": {},
   "outputs": [],
   "source": [
    "ceiling_date(current_date1, \"month\")"
   ]
  },
  {
   "cell_type": "markdown",
   "id": "18ec6875-8c94-4ff9-a749-2ad69559cc45",
   "metadata": {},
   "source": [
    "And we can easily get the last day of the month of a certain date"
   ]
  },
  {
   "cell_type": "code",
   "execution_count": null,
   "id": "235a79bc-f179-4eea-bab7-c2fdbeea572d",
   "metadata": {},
   "outputs": [],
   "source": [
    "(ceiling_date(current_date1, \"month\") - 1)"
   ]
  },
  {
   "cell_type": "markdown",
   "id": "ad65d8b3-ec3d-42dd-be30-ccf0aa4ff244",
   "metadata": {},
   "source": [
    "### Monthwise operations"
   ]
  },
  {
   "cell_type": "markdown",
   "id": "de65747b-9f10-4211-85b0-a6c8c2285513",
   "metadata": {},
   "source": [
    "We can conduct month-wise additions to create a sequence of regular dates vis-a-vis the position in the month.\n",
    "\n",
    "That we can get the exact day n months later or the nth day for any month."
   ]
  },
  {
   "cell_type": "markdown",
   "id": "9ad5278c-068e-4028-b879-81c331f9c906",
   "metadata": {},
   "source": [
    "For example, get the 31st of each month from January to next year's March.\n",
    "\n",
    "Note that when a month ends earlier than the 31st, the date is automatically adjusted:"
   ]
  },
  {
   "cell_type": "code",
   "execution_count": null,
   "id": "68e3f89b-29f2-41e6-b69b-8ca7b46b6b1d",
   "metadata": {},
   "outputs": [],
   "source": [
    "as.Date(\"2024-01-31\") %m+% months(0:14)"
   ]
  },
  {
   "cell_type": "markdown",
   "id": "5556fc72-01c7-4768-afc3-2f2f8a1faaff",
   "metadata": {},
   "source": [
    "### Interval object"
   ]
  },
  {
   "cell_type": "markdown",
   "id": "771eb786-c23d-46bc-a89b-0984b713af54",
   "metadata": {},
   "source": [
    "We can also create an interval object to check whether a date is within that interval:"
   ]
  },
  {
   "cell_type": "code",
   "execution_count": null,
   "id": "53eadc2e-e43b-4ec1-85fb-9147b9e96851",
   "metadata": {},
   "outputs": [],
   "source": [
    "last_day <- ceiling_date(current_date1, \"year\") - 1\n",
    "last_day"
   ]
  },
  {
   "cell_type": "code",
   "execution_count": null,
   "id": "0825301a-7d27-4888-9664-cc0077b45136",
   "metadata": {},
   "outputs": [],
   "source": [
    "first_day <- floor_date(current_date1, \"year\")\n",
    "first_day"
   ]
  },
  {
   "cell_type": "code",
   "execution_count": null,
   "id": "8b4bda22-10d4-4ce8-bd5a-b9b320a2acd9",
   "metadata": {},
   "outputs": [],
   "source": [
    "interval1 <- interval(first_day, last_day)"
   ]
  },
  {
   "cell_type": "code",
   "execution_count": null,
   "id": "98f4a08b-9699-4be7-bce7-f8be1b4b2421",
   "metadata": {},
   "outputs": [],
   "source": [
    "interval1"
   ]
  },
  {
   "cell_type": "code",
   "execution_count": null,
   "id": "55a14c88-dc5f-4a53-9ef3-1d9fcf99af3a",
   "metadata": {},
   "outputs": [],
   "source": [
    "interval1 %>% str"
   ]
  },
  {
   "cell_type": "code",
   "execution_count": null,
   "id": "cee51469-b85f-489e-894e-ea0c569a3ccb",
   "metadata": {},
   "outputs": [],
   "source": [
    "current_date1 %within% interval1"
   ]
  },
  {
   "cell_type": "code",
   "execution_count": null,
   "id": "07b07d96-fbbb-4ef2-8827-8c0b702a4efd",
   "metadata": {},
   "outputs": [],
   "source": [
    "current_date1 %m+% months(0:12)"
   ]
  },
  {
   "cell_type": "code",
   "execution_count": null,
   "id": "9bc13121-d0c5-41cd-920c-bc35fc94551f",
   "metadata": {},
   "outputs": [],
   "source": [
    "current_date1 %m+% months(0:12) %within% interval1"
   ]
  }
 ],
 "metadata": {
  "kernelspec": {
   "display_name": "R",
   "language": "R",
   "name": "ir"
  },
  "language_info": {
   "codemirror_mode": "r",
   "file_extension": ".r",
   "mimetype": "text/x-r-source",
   "name": "R",
   "pygments_lexer": "r",
   "version": "4.3.2"
  },
  "toc-autonumbering": true
 },
 "nbformat": 4,
 "nbformat_minor": 5
}
