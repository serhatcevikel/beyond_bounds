{
 "cells": [
  {
   "cell_type": "markdown",
   "id": "d52ce045-5a46-4880-9524-723fe387308b",
   "metadata": {},
   "source": [
    "<font size=\"6\"><b>CLUSTERING TOY EXAMPLE</b></font>"
   ]
  },
  {
   "cell_type": "code",
   "execution_count": null,
   "id": "18da1e29-b480-4886-a163-c09a7b5f3c24",
   "metadata": {},
   "outputs": [],
   "source": [
    "library(tidyverse)\n",
    "library(data.table)\n",
    "library(ggConvexHull)\n",
    "library(BBmisc)\n",
    "library(fields)\n",
    "library(plotly)"
   ]
  },
  {
   "cell_type": "code",
   "execution_count": null,
   "id": "18af23a1-81cb-44b3-a515-39d307ffbf85",
   "metadata": {},
   "outputs": [],
   "source": [
    "options(repr.matrix.max.rows=20, repr.matrix.max.cols=15) # for limiting the number of top and bottom rows of tables printed "
   ]
  },
  {
   "cell_type": "code",
   "execution_count": null,
   "id": "85a83924-ad3b-413b-91c7-7639f559b180",
   "metadata": {},
   "outputs": [],
   "source": [
    "#options(repr.plot.width = 15, repr.plot.height = 15)"
   ]
  },
  {
   "cell_type": "markdown",
   "id": "15b2ae87-2c6a-4507-883f-f99909b54a75",
   "metadata": {},
   "source": [
    "We will simulate a toy dataset to demonstrate hierarchical and k-means clustering algorithms."
   ]
  },
  {
   "cell_type": "markdown",
   "id": "a211a180-fa41-4c58-91c6-cfa70a3b6ffd",
   "metadata": {},
   "source": [
    "# Data Generation and Preparation"
   ]
  },
  {
   "cell_type": "code",
   "execution_count": null,
   "id": "2bd130f2-9a80-4592-b871-b50f5d79f0da",
   "metadata": {},
   "outputs": [],
   "source": [
    "km <- 3 # number of clusters for data generation"
   ]
  },
  {
   "cell_type": "code",
   "execution_count": null,
   "id": "d5323031-b617-4876-bd73-fad257ffe0ef",
   "metadata": {},
   "outputs": [],
   "source": [
    "sizex <- 100 # observations"
   ]
  },
  {
   "cell_type": "code",
   "execution_count": null,
   "id": "4e44139c-1927-4c94-b847-9f12e11adfc5",
   "metadata": {},
   "outputs": [],
   "source": [
    "# bivariate data, x and y values\n",
    "# sample cluster means from normal, cluster sd's from exponential distribution\n",
    "# multivariate cluster means are known as centroids\n",
    "set.seed(15)\n",
    "means1 <- rnorm(km, 0, 1.2)\n",
    "sds1 <- rexp(km, 1.2)\n",
    "means2 <- rnorm(km, 0, 2)\n",
    "sds2 <- rexp(km, 1.5)"
   ]
  },
  {
   "cell_type": "code",
   "execution_count": null,
   "id": "d858a48a-adb9-4277-a2f3-9465628992b6",
   "metadata": {},
   "outputs": [],
   "source": [
    "means1\n",
    "sds1\n",
    "means2\n",
    "sds2"
   ]
  },
  {
   "cell_type": "code",
   "execution_count": null,
   "id": "0dd7c3c8-284f-4dd2-ac5f-5a4db945baee",
   "metadata": {},
   "outputs": [],
   "source": [
    "# randomly assign each observation to a cluster\n",
    "set.seed(20)\n",
    "datax <- data.table(clstr = sample(km, sizex, replace = T))"
   ]
  },
  {
   "cell_type": "code",
   "execution_count": null,
   "id": "b00bf332-9944-4a6f-979f-e9ebc243bcae",
   "metadata": {},
   "outputs": [],
   "source": [
    "# add the x/y means and sds of each observation by its cluster\n",
    "datax[, (c(\"meanx1\", \"sdx1\")) := .(means1[clstr], sds1[clstr])]\n",
    "datax[, (c(\"meanx2\", \"sdx2\")) := .(means2[clstr], sds2[clstr])]"
   ]
  },
  {
   "cell_type": "code",
   "execution_count": null,
   "id": "3400e674-9e12-4d1d-97f3-b9493aa226e1",
   "metadata": {},
   "outputs": [],
   "source": [
    "# sample x/y values using corresponding mean and sd of the respective cluster\n",
    "set.seed(30)\n",
    "datax[, xval := rnorm(.N, meanx1, sdx1)]\n",
    "datax[, yval := rnorm(.N, meanx2, sdx2)]"
   ]
  },
  {
   "cell_type": "code",
   "execution_count": null,
   "id": "4e6c1352-8aef-4941-b698-d17b043f4403",
   "metadata": {},
   "outputs": [],
   "source": [
    "# z-score normalize x and y values\n",
    "datax2 <- datax %>% select(clstr, xval, yval) %>%\n",
    "mutate_at(c(\"xval\", \"yval\"), normalize) %>% copy()"
   ]
  },
  {
   "cell_type": "code",
   "execution_count": null,
   "id": "913f7bbe-176d-4ab1-ba0b-5deaa9a36260",
   "metadata": {},
   "outputs": [],
   "source": [
    "datax2[, cl := .I] # create initial clusters to update later with algorithms"
   ]
  },
  {
   "cell_type": "code",
   "execution_count": null,
   "id": "e841d2f9-8dba-4da9-9187-f65108aea013",
   "metadata": {},
   "outputs": [],
   "source": [
    "# visualize original clusters\n",
    "ggplotly(datax2 %>%\n",
    "ggplot(aes(x = xval, y = yval, color = as.factor(clstr), fill = as.factor(clstr), size = 5)) +\n",
    "geom_point() +\n",
    "geom_convexhull(alpha=.5, aes(color = NULL, fill = as.factor(clstr)))\n",
    "        , height = 800)"
   ]
  },
  {
   "cell_type": "markdown",
   "id": "5c34de33-cd66-4aad-bfe6-a10565fbbd88",
   "metadata": {},
   "source": [
    "# K-Means Clustering"
   ]
  },
  {
   "cell_type": "markdown",
   "id": "e03b2c88-89db-4267-8dc2-cf3a5f2a015c",
   "metadata": {},
   "source": [
    "k-means iteratively applies a two step algorithm, basically known as expectation-maximization (EM):\n",
    "\n",
    "1) Initial cluster centroids (multivariate means) are randomly chosen\n",
    "2) Each observation is assigned to the cluster with the closest centroid (expectation step)\n",
    "3) With the news assignments, the cluster centroids are recalculated\n",
    "\n",
    "Steps 2-3 are repeated until convergence or maximum iterations"
   ]
  },
  {
   "cell_type": "code",
   "execution_count": null,
   "id": "5288d8e6-347a-4851-bf2c-66cd67f68cb5",
   "metadata": {},
   "outputs": [],
   "source": [
    "# ranges of x and y values of observations are calculated\n",
    "ranges <- lapply(datax2 %>% select(xval, yval), range)"
   ]
  },
  {
   "cell_type": "code",
   "execution_count": null,
   "id": "ba407e4d-9f50-4b8a-97c2-8f7659c5767e",
   "metadata": {},
   "outputs": [],
   "source": [
    "k <- 3 # cluster number is given"
   ]
  },
  {
   "cell_type": "code",
   "execution_count": null,
   "id": "ece4395d-76c6-4947-96d3-9d3d3e9ba6de",
   "metadata": {},
   "outputs": [],
   "source": [
    "# initial centroids are randomly sampled from uniform distribution\n",
    "set.seed(40)\n",
    "centroids <- lapply(ranges, function(x) runif(k, x[1], x[2]))"
   ]
  },
  {
   "cell_type": "code",
   "execution_count": null,
   "id": "2ba06ffd-bb87-49d0-8488-317ddfb7e5d1",
   "metadata": {},
   "outputs": [],
   "source": [
    "# make centroids a data table\n",
    "cent_dt <- as.data.table(centroids, cntr = 1, cl = 1:k)"
   ]
  },
  {
   "cell_type": "code",
   "execution_count": null,
   "id": "f01bbae0-0f34-4cf8-b18d-8b4b484fed6d",
   "metadata": {},
   "outputs": [],
   "source": [
    "# create a deep copy of data \n",
    "datax3 <- copy(datax2)"
   ]
  },
  {
   "cell_type": "markdown",
   "id": "89306f21-ffa2-42ff-8892-ece4a9f1a922",
   "metadata": {},
   "source": [
    "## One iteration of algorithm"
   ]
  },
  {
   "cell_type": "code",
   "execution_count": null,
   "id": "bdf28a11-5082-4ecf-97ff-372006646e0f",
   "metadata": {},
   "outputs": [],
   "source": [
    "iterx <- 1"
   ]
  },
  {
   "cell_type": "code",
   "execution_count": null,
   "id": "ce0133d6-1cad-4494-ac74-264993a551a4",
   "metadata": {},
   "outputs": [],
   "source": [
    "maxtimes <- 20"
   ]
  },
  {
   "cell_type": "code",
   "execution_count": null,
   "id": "e3ab0b9b-0edc-4baa-a401-b32844331e71",
   "metadata": {},
   "outputs": [],
   "source": [
    "deltas <- rep(NA, maxtimes) # object to hold number of observations that shift clusters in each iteration\n",
    "classes <- rep(Inf, datax3[, .N]) # initiate object to hold cluster assignments"
   ]
  },
  {
   "cell_type": "code",
   "execution_count": null,
   "id": "967663a6-db88-4174-8df4-0190aedd2860",
   "metadata": {},
   "outputs": [],
   "source": [
    "cent_dt[, iter := iterx]"
   ]
  },
  {
   "cell_type": "code",
   "execution_count": null,
   "id": "39b9f87e-e7d4-4993-a472-971731670b61",
   "metadata": {},
   "outputs": [],
   "source": [
    "datax3[, iter := iterx]"
   ]
  },
  {
   "cell_type": "code",
   "execution_count": null,
   "id": "da395f4d-4d6b-461a-9bb6-4035f165f403",
   "metadata": {},
   "outputs": [],
   "source": [
    "# the steps are reversed in this implementation since we already start with centroids\n",
    "# in the first iteration do not recalculate centroids, use the random ones\n",
    "if (iterx > 1) cent_dt <- datax3[, lapply(.SD, mean), by = cl, .SDcols = c(\"xval\", \"yval\")][order(cl)]"
   ]
  },
  {
   "cell_type": "code",
   "execution_count": null,
   "id": "8d3e7e4c-9697-44f6-9c4c-b18f78b12a13",
   "metadata": {},
   "outputs": [],
   "source": [
    "# calculate distance of each observation to each centroid\n",
    "dists <- fields::rdist(datax3 %>% select(xval, yval), cent_dt %>% select(xval, yval)) # calculate the distances of each point to each centroid"
   ]
  },
  {
   "cell_type": "code",
   "execution_count": null,
   "id": "96a0a89b-b9f7-4b86-8144-fa9e8f2f030a",
   "metadata": {},
   "outputs": [],
   "source": [
    "# get new clusters of each observation\n",
    "classes2 <- max.col(-dists) # get the closest centroid for each point, shuffles classes"
   ]
  },
  {
   "cell_type": "code",
   "execution_count": null,
   "id": "ec6d570e-164a-4f45-bf51-10a939e24440",
   "metadata": {},
   "outputs": [],
   "source": [
    "classes2"
   ]
  },
  {
   "cell_type": "code",
   "execution_count": null,
   "id": "ed6635bb-e6bd-44d6-aa18-ac8f26d3d81a",
   "metadata": {},
   "outputs": [],
   "source": [
    "# add cluster assignments to data\n",
    "datax3[, cl := classes2]"
   ]
  },
  {
   "cell_type": "code",
   "execution_count": null,
   "id": "abfe34e8-f064-4102-ad84-4ebf4b883643",
   "metadata": {},
   "outputs": [],
   "source": [
    "# calculate new centroids. they are not assigned to cent_dt object since this is just a demonstration of a single iteration\n",
    "datax3[, lapply(.SD, mean), by = cl, .SDcols = c(\"xval\", \"yval\")][order(cl)]"
   ]
  },
  {
   "cell_type": "code",
   "execution_count": null,
   "id": "5f904480-43ca-40e3-a8a4-5cbc8546a297",
   "metadata": {},
   "outputs": [],
   "source": [
    "# calculate the number of cluster changes\n",
    "changes <- sum(classes2 != classes) # get the number of class changes"
   ]
  },
  {
   "cell_type": "code",
   "execution_count": null,
   "id": "4d805130-51bd-466c-a959-a04c06e90289",
   "metadata": {},
   "outputs": [],
   "source": [
    "changes"
   ]
  },
  {
   "cell_type": "code",
   "execution_count": null,
   "id": "2b28fdac-00e7-4fea-b9d5-bb04028c633e",
   "metadata": {},
   "outputs": [],
   "source": [
    "deltas[iterx] <- changes # log the change count"
   ]
  },
  {
   "cell_type": "code",
   "execution_count": null,
   "id": "48218fc4-9d4c-4517-b8ec-103ed0e11a80",
   "metadata": {},
   "outputs": [],
   "source": [
    "if (changes == 0) break # if no more class changes stop"
   ]
  },
  {
   "cell_type": "code",
   "execution_count": null,
   "id": "bbd47d24-3c92-48a9-9b95-5439623ebd82",
   "metadata": {},
   "outputs": [],
   "source": [
    "classes <- classes2 # backup classes to compare in the next iteration"
   ]
  },
  {
   "cell_type": "markdown",
   "id": "c8133a6d-9e98-40cc-b891-321588d790be",
   "metadata": {},
   "source": [
    "## Multi iteration algorithm"
   ]
  },
  {
   "cell_type": "code",
   "execution_count": null,
   "id": "dc94455b-9f2c-46b0-880d-0ec77c2ac5ae",
   "metadata": {},
   "outputs": [],
   "source": [
    "# initiate empty lists to hold centroid and cluster assignments in each iteration\n",
    "cent_l <- list()\n",
    "datal_k <- list()"
   ]
  },
  {
   "cell_type": "code",
   "execution_count": null,
   "id": "71d0482b-5688-4f52-a647-a1bc9bee3cb3",
   "metadata": {},
   "outputs": [],
   "source": [
    "# create centroid table\n",
    "cent_dt <- cbind(as.data.table(centroids), cntr = 1, cl = 1:k)"
   ]
  },
  {
   "cell_type": "code",
   "execution_count": null,
   "id": "de19a238-0df6-4066-8ad5-0f93eca36823",
   "metadata": {},
   "outputs": [],
   "source": [
    "# create copy of data\n",
    "datax3 <- copy(datax2 %>% select(-clstr, -cl))"
   ]
  },
  {
   "cell_type": "code",
   "execution_count": null,
   "id": "db32554b-ba69-4dd7-8788-fa4323043ecc",
   "metadata": {},
   "outputs": [],
   "source": [
    "# create observation id's for further manipulation for visualizations\n",
    "datax3[, id := .I]"
   ]
  },
  {
   "cell_type": "code",
   "execution_count": null,
   "id": "2935997f-06f8-4a1f-a4ce-5ba0988e29c1",
   "metadata": {},
   "outputs": [],
   "source": [
    "# maximum iterration to stop before convergence\n",
    "maxtimes <- 20"
   ]
  },
  {
   "cell_type": "code",
   "execution_count": null,
   "id": "88c8d271-599a-4d83-83a2-a44ca60f435a",
   "metadata": {},
   "outputs": [],
   "source": [
    "# initiate objects to hold reassignment numbers and assigned clusters\n",
    "deltas <- rep(NA, maxtimes)\n",
    "classes <- rep(Inf, datax3[, .N])"
   ]
  },
  {
   "cell_type": "code",
   "execution_count": null,
   "id": "fa6bfcaf-aeaf-4468-a066-864aab340eee",
   "metadata": {},
   "outputs": [],
   "source": [
    "# main loop\n",
    "for (iterx in 1:maxtimes)\n",
    "{\n",
    "    datax3[, iter := iterx]\n",
    "    # recalculate centroids: maximization step\n",
    "    if (iterx > 1) cent_dt <- datax3[, lapply(.SD, mean), by = cl, .SDcols = c(\"xval\", \"yval\")][order(cl)]\n",
    "    cent_dt[, (c(\"iter\", \"cntr\")) := .(iterx, 1)]\n",
    "    \n",
    "    # recalculate observation/centroid distances\n",
    "    dists <- fields::rdist(datax3 %>% select(xval, yval), cent_dt %>% select(xval, yval)) # calculate the distances of each point to each centroid\n",
    "    classes2 <- max.col(-dists) # get the closest centroid for each point, shuffles classes\n",
    "    changes <- sum(classes2 != classes) # get the number of class changes\n",
    "    deltas[iterx] <- changes # log the change count\n",
    "    datax3[, cl := classes2]\n",
    "    classes <- classes2 # backup classes\n",
    "    \n",
    "    # save the states into lists\n",
    "    cent_l[[iterx]] <- copy(cent_dt)\n",
    "    datal_k[[iterx]] <- copy(datax3)\n",
    "\n",
    "    if (changes == 0) break # if no more class changes stop\n",
    "}"
   ]
  },
  {
   "cell_type": "code",
   "execution_count": null,
   "id": "3994f40c-a9c7-48a0-a47b-682f6ff7091f",
   "metadata": {},
   "outputs": [],
   "source": [
    "deltas # number of cluster reassignments in each iteration. Note that algorithm converges at the 6th iteration"
   ]
  },
  {
   "cell_type": "code",
   "execution_count": null,
   "id": "6209d601-ba20-43e1-8e54-6d23913dbd6d",
   "metadata": {},
   "outputs": [],
   "source": [
    "iterx"
   ]
  },
  {
   "cell_type": "code",
   "execution_count": null,
   "id": "5d553b10-ed9d-4ada-92a5-2d05db1842b6",
   "metadata": {},
   "outputs": [],
   "source": [
    "# get the part of lists until convergence\n",
    "cent_l <- cent_l[1:iterx]\n",
    "datal_k <- datal_k[1:iterx]"
   ]
  },
  {
   "cell_type": "code",
   "execution_count": null,
   "id": "854930bd-2039-40b8-b1e6-b9b7908769c6",
   "metadata": {},
   "outputs": [],
   "source": [
    "# combine list parts into single data tables\n",
    "cent_all <- rbindlist(cent_l, fill = T)\n",
    "data_all_k <- datal_k %>% rbindlist(fill = T)"
   ]
  },
  {
   "cell_type": "code",
   "execution_count": null,
   "id": "df95b05c-b44a-43df-9ffa-6ed41aabcbae",
   "metadata": {},
   "outputs": [],
   "source": [
    "# combine  observations with centroids for the sake of visualization\n",
    "data_all_k2 <- rbind(data_all_k, cent_all, fill = T)"
   ]
  },
  {
   "cell_type": "code",
   "execution_count": null,
   "id": "eafc469f-dd5f-46d5-9001-eec54b601c71",
   "metadata": {},
   "outputs": [],
   "source": [
    "# some reordering and cleaning\n",
    "setorder(data_all_k2, iter, cntr, id)\n",
    "data_all_k2[is.na(cntr), cntr := 0]"
   ]
  },
  {
   "cell_type": "code",
   "execution_count": null,
   "id": "961f2064-0666-43b7-8374-910abd6a310b",
   "metadata": {},
   "outputs": [],
   "source": [
    "# record forward and backward cluster changes for the purposes of visualization\n",
    "data_all_k2[, chng := cl != lead(cl), by = id]\n",
    "data_all_k2[is.na(chng), chng := F]\n",
    "data_all_k2[, chng2 := cl != lag(cl), by = id]\n",
    "data_all_k2[is.na(chng2), chng2 := F]\n",
    "data_all_k2[, chng := chng * 2 + chng2]\n",
    "data_all_k2[, chng := pmin(chng, 2)]\n",
    "data_all_k2[, chng2 := NULL]\n",
    "data_all_k2[cntr == 1, chng := NA]\n",
    "data_all_k2[, cntr := cntr]"
   ]
  },
  {
   "cell_type": "code",
   "execution_count": null,
   "id": "e3b7f3e2-1987-42bd-a850-95cdbeabdcd7",
   "metadata": {},
   "outputs": [],
   "source": [
    "# set hex colors fixed to ensure consistency across iterations\n",
    "colrs <- data_all_k2[, uniqueN(cl)]\n",
    "set.seed(10)\n",
    "colrs_hex <- do.call(rgb, replicate(3, runif(colrs), simplify = F))\n",
    "data_all_k2[, clr := colrs_hex[cl]]"
   ]
  },
  {
   "cell_type": "code",
   "execution_count": null,
   "id": "52c55b99-4b8b-41c3-ae66-30dc5e4d776c",
   "metadata": {},
   "outputs": [],
   "source": [
    "# serialize the data for shiny app\n",
    "saveRDS(data_all_k2, \"~/databb/rds/data_all_k2.rds\")"
   ]
  },
  {
   "cell_type": "markdown",
   "id": "207fd0f4-ed8d-4ba8-8a9e-70a93da8bf6f",
   "metadata": {},
   "source": [
    "See all iterations in facets:\n",
    "\n",
    "- The larger are more transparent points are centroids\n",
    "- The polygons are convex hulls of clusters\n",
    "- The points to shift in the next iteration are circled with bolder lines\n",
    "- The points shidted from the last iteration are circled with lighter lines"
   ]
  },
  {
   "cell_type": "code",
   "execution_count": null,
   "id": "18876ab9-f5ec-4274-9180-b56458b9d63b",
   "metadata": {},
   "outputs": [],
   "source": [
    "p1 <- data_all_k2 %>%\n",
    "mutate_at(\"cl\", factor) %>%\n",
    "ggplot(aes(x = xval, y = yval, fill = cl, size = 2 + cntr * 5)) +\n",
    "geom_point(shape=21, color = \"black\", aes(stroke = chng * 0.5, fill = cl, alpha = 1 - cntr * 0.5)) +\n",
    "scale_size_identity() +\n",
    "geom_convexhull(alpha= 0.2, aes(color = NULL, fill = cl)) +\n",
    "scale_fill_manual(labels = unique(data_all_k2$cl), values = unique(data_all_k2$clr)) +\n",
    "scale_alpha_identity() +\n",
    "facet_wrap(~ iter, ncol = 2)"
   ]
  },
  {
   "cell_type": "code",
   "execution_count": null,
   "id": "aea0a699-36b9-4123-9b18-c871503d0f2c",
   "metadata": {},
   "outputs": [],
   "source": [
    "ggplotly(p1, height=800)"
   ]
  },
  {
   "cell_type": "markdown",
   "id": "bc206234-aaf0-4c8d-a63d-3efde0fb2441",
   "metadata": {},
   "source": [
    "Now you can \n",
    "- Open a shiny interface from launcher\n",
    "- Navigate to 12_clustering/kmeans directory to interact with an animation of iterations"
   ]
  },
  {
   "cell_type": "markdown",
   "id": "ca35cbc3-ff81-4495-b4b9-60b88e11784a",
   "metadata": {},
   "source": [
    "# Hierarchical Clustering"
   ]
  },
  {
   "cell_type": "markdown",
   "id": "b7e6b78b-4a26-42c4-8126-9cc94bf1a725",
   "metadata": {},
   "source": [
    "In this algorithm, all observations are initiated as separate clusters of their own\n",
    "\n",
    "Then pairwise distances between clusters are calculated. There are several option but here the simplest centroid approach will be followed. So distances between cluster centroids will be calculated\n",
    "\n",
    "In each iteration closest two clusters will be merged into one\n",
    "\n",
    "At the end all observations will be merged into a single cluster\n",
    "\n",
    "So there is no single number of clusters assigned but any number of clusters can be selected within all iterations for final analysis"
   ]
  },
  {
   "cell_type": "code",
   "execution_count": null,
   "id": "e04b9e75-c32a-4d60-bea6-ea1b72b3d26a",
   "metadata": {},
   "outputs": [],
   "source": [
    "# initiate an empty data.table that will hold which clusters to be merged in each iteration\n",
    "agglo_dt <- NULL"
   ]
  },
  {
   "cell_type": "code",
   "execution_count": null,
   "id": "81fab099-46e8-45cf-a5ff-a6975cf82dde",
   "metadata": {},
   "outputs": [],
   "source": [
    "# create a deep copy of data\n",
    "datax3 <- copy(datax2)\n",
    "datax3[, clstr := NULL]"
   ]
  },
  {
   "cell_type": "code",
   "execution_count": null,
   "id": "937636eb-3622-4c40-8888-9fb84b189f85",
   "metadata": {},
   "outputs": [],
   "source": [
    "# observations are initially assigned to sequential cluster ids\n",
    "datax3[, cl := .I]"
   ]
  },
  {
   "cell_type": "code",
   "execution_count": null,
   "id": "90a5e33c-e918-4417-952e-3acb4d686f73",
   "metadata": {},
   "outputs": [],
   "source": [
    "# in order to get weighted means for centroids, the size of clusters will be tracked.\n",
    "# they are initiated with 1\n",
    "datax3[, N := 1]"
   ]
  },
  {
   "cell_type": "markdown",
   "id": "e69699fa-d451-4f18-92c0-5c87e75caa00",
   "metadata": {},
   "source": [
    "## One iteration of algorithm"
   ]
  },
  {
   "cell_type": "code",
   "execution_count": null,
   "id": "aa27e583-fb91-4353-a8ba-146b1a57c6df",
   "metadata": {},
   "outputs": [],
   "source": [
    "iterx <- 1"
   ]
  },
  {
   "cell_type": "code",
   "execution_count": null,
   "id": "e318a09d-93cf-40fb-9b05-0b6aee1419b4",
   "metadata": {},
   "outputs": [],
   "source": [
    "# pairwise distances are calculated\n",
    "distx <- datax3 %>% select(xval, yval) %>% dist"
   ]
  },
  {
   "cell_type": "code",
   "execution_count": null,
   "id": "8a75e99a-9031-4b87-9db9-c9a26fb510d6",
   "metadata": {},
   "outputs": [],
   "source": [
    "# two-way combinations of remaining clusters are saved into a table\n",
    "dist_dt <- t(combn(datax3$cl, 2)) %>% as.data.table"
   ]
  },
  {
   "cell_type": "code",
   "execution_count": null,
   "id": "29caa733-8eb1-47d6-9c6f-9f88a9206bb9",
   "metadata": {},
   "outputs": [],
   "source": [
    "# the index of minimum distance is taken\n",
    "minind <- which.min(distx)[1]"
   ]
  },
  {
   "cell_type": "code",
   "execution_count": null,
   "id": "31624df9-011d-4172-af6c-43f51919f032",
   "metadata": {},
   "outputs": [],
   "source": [
    "# the iteration, and the id's of clusters to be merged are assigned to an object\n",
    "aggx <- dist_dt[minind, .(iterx, V1, V2)]"
   ]
  },
  {
   "cell_type": "code",
   "execution_count": null,
   "id": "27132cbb-678d-44ad-bea8-0bb963dcb017",
   "metadata": {},
   "outputs": [],
   "source": [
    "# the newly merged cluster info is appended\n",
    "agglo_dt <- rbind(agglo_dt, aggx)\n",
    "agglo_dt"
   ]
  },
  {
   "cell_type": "code",
   "execution_count": null,
   "id": "c2554aad-9ddd-4a7c-becf-ad096919546d",
   "metadata": {},
   "outputs": [],
   "source": [
    "# higher cluster id is converted to lower cluster id, for convenience\n",
    "datax3[cl == aggx$V2, cl := aggx$V1]"
   ]
  },
  {
   "cell_type": "code",
   "execution_count": null,
   "id": "c5a8dd8c-d3d4-46cf-8b4b-b92acd0ef5e4",
   "metadata": {},
   "outputs": [],
   "source": [
    "# the total size and weighted centroids of merged two clusters are calculated, along with other clusters\n",
    "datax3 <- datax3[, .(N = sum(N), xval = sum(xval * N), yval = sum(yval * N)), by = cl][, .(N, xval = xval / N, yval = yval / N)]"
   ]
  },
  {
   "cell_type": "markdown",
   "id": "40e01d46-c0a0-4524-8d30-6dce497bc852",
   "metadata": {},
   "source": [
    "## Multi iteration algorithm"
   ]
  },
  {
   "cell_type": "code",
   "execution_count": null,
   "id": "5a2b84da-0e82-4106-91ed-ba3df2b9535f",
   "metadata": {},
   "outputs": [],
   "source": [
    "# create a deep copy of data\n",
    "datax3 <- copy(datax2)\n",
    "datax3[, clstr := NULL]"
   ]
  },
  {
   "cell_type": "code",
   "execution_count": null,
   "id": "019b3a86-6d32-4006-a4cb-486ba38fe4b3",
   "metadata": {},
   "outputs": [],
   "source": [
    "# observations are initially assigned to sequential cluster ids\n",
    "datax3[, cl := .I]"
   ]
  },
  {
   "cell_type": "code",
   "execution_count": null,
   "id": "a7da3ceb-2f1b-4695-9df8-0d10862e95c9",
   "metadata": {},
   "outputs": [],
   "source": [
    "# in order to get weighted means for centroids, the size of clusters will be tracked.\n",
    "# they are initiated with 1\n",
    "datax3[, N := 1]"
   ]
  },
  {
   "cell_type": "code",
   "execution_count": null,
   "id": "78757dd3-7c7b-4a7a-82cc-769e4d01d966",
   "metadata": {},
   "outputs": [],
   "source": [
    "# initiate an empty data.table that will hold which clusters to be merged in each iteration\n",
    "agglo_dt <- NULL"
   ]
  },
  {
   "cell_type": "code",
   "execution_count": null,
   "id": "a39ac9c2-30f9-4142-8b39-d42f04f1224d",
   "metadata": {},
   "outputs": [],
   "source": [
    "# initiate number of iterations\n",
    "iterx <- 1"
   ]
  },
  {
   "cell_type": "code",
   "execution_count": null,
   "id": "fdfea9f6-aabc-41eb-8a35-7901f71bd4a8",
   "metadata": {},
   "outputs": [],
   "source": [
    "# main loop. will continue as long as number of clusters is > 1\n",
    "while(datax3[, .N] > 1)\n",
    "{\n",
    "    distx <- datax3 %>% select(xval, yval) %>% dist # distances\n",
    "    dist_dt <- t(combn(datax3$cl, 2)) %>% as.data.table # two-way combinations of cluster id's\n",
    "    minind <- which.min(distx)[1] # get the index of minimum distance\n",
    "    aggx <- dist_dt[minind, .(iterx, V1, V2)] # get the cluster id's to be merged\n",
    "    agglo_dt <- rbind(agglo_dt, aggx) # append the merged clusters's info\n",
    "    datax3[cl == aggx$V2, cl := aggx$V1] # merge cluster id's\n",
    "    # recalculate weighted centroids and total sizes\n",
    "    datax3 <- datax3[, .(N = sum(N), xval = sum(xval * N), yval = sum(yval * N)), by = cl][, .(N, xval = xval / N, yval = yval / N, cl)]\n",
    "    iterx <- iterx + 1 # increment iteration\n",
    "}"
   ]
  },
  {
   "cell_type": "code",
   "execution_count": null,
   "id": "33f86ae4-cb84-4a51-90a8-bd3121f8af02",
   "metadata": {},
   "outputs": [],
   "source": [
    "datax3 # last iterations leaves a single cluster to hold all observations"
   ]
  },
  {
   "cell_type": "markdown",
   "id": "0c505a8a-ecc1-4595-b4c3-1c7f6001bb57",
   "metadata": {},
   "source": [
    "## Visualization"
   ]
  },
  {
   "cell_type": "markdown",
   "id": "96ffdb71-e47a-44c8-9c89-d972d2326c5a",
   "metadata": {},
   "source": [
    "### Data wrangling for visualization"
   ]
  },
  {
   "cell_type": "markdown",
   "id": "9deb8fdb-a112-4967-956b-b8ea59b61f6e",
   "metadata": {},
   "source": [
    "Now we will create an object that will pair the cluster id of each observation at each iteration with the initial cluster id.\n",
    "\n",
    "Details are not critical, you will see the final object:"
   ]
  },
  {
   "cell_type": "code",
   "execution_count": null,
   "id": "2109760d-fe47-4476-9b3d-19151e1517bd",
   "metadata": {},
   "outputs": [],
   "source": [
    "datal <- rep(list(NULL), datax2[, .N]) # list with empty objects"
   ]
  },
  {
   "cell_type": "code",
   "execution_count": null,
   "id": "625983b1-e4f3-4794-bc3a-f43ddb4c6c99",
   "metadata": {},
   "outputs": [],
   "source": [
    "hier_dt <- datax2 %>% select(cl) %>% mutate(cl0 = cl) %>% copy # get initial clusters for each observation\n",
    "hier_dt[, iter := 0] # initiate iteration at zero\n",
    "hier_dt[, linex := as.integer(NA)] # this will be the width of lines to show the observations inside the clusters to be merged"
   ]
  },
  {
   "cell_type": "code",
   "execution_count": null,
   "id": "de870d90-5de2-453d-809b-7071c932c649",
   "metadata": {},
   "outputs": [],
   "source": [
    "datal[[1]] <- copy(hier_dt) # cluster at initial iteration are saved "
   ]
  },
  {
   "cell_type": "code",
   "execution_count": null,
   "id": "e1a927b2-ebcb-4ff2-9666-35c45117e623",
   "metadata": {},
   "outputs": [],
   "source": [
    "# main loop through iterations\n",
    "for (i in agglo_dt[, .I])\n",
    "{\n",
    "    aggx <- agglo_dt[i] # the id's of clusters to be merged\n",
    "    hier_dt <- copy(hier_dt) # create a deep copy of the previous state of observation clusters. we need it otherwise all previous iterations will also be updated\n",
    "    hier_dt[, linex := NA] # line width info that shows merged cluster membership is reset\n",
    "    hier_dt[, iter := i] # save iteration\n",
    "    hier_dt[cl == aggx$V2, cl := aggx$V1] # merge cluster id's\n",
    "    if(i < agglo_dt[, .N]) # other than the last iteration\n",
    "    {\n",
    "        aggx2 <- agglo_dt[i + 1] # get the next iterations cluster id's to be merged\n",
    "        hier_dt[cl == aggx2$V2, linex := 2] # the cluster to be merged will have bolder lines\n",
    "        hier_dt[cl == aggx2$V1, linex := 1] # the cluster to merge will have lighter lines\n",
    "    }    \n",
    "    datal[[i + 1]] <- hier_dt # save the state\n",
    "}"
   ]
  },
  {
   "cell_type": "code",
   "execution_count": null,
   "id": "73c2bae5-5714-4b26-811f-7719e9ee9271",
   "metadata": {},
   "outputs": [],
   "source": [
    "# combine all states into a single table\n",
    "hier_all <- datal %>% rbindlist"
   ]
  },
  {
   "cell_type": "code",
   "execution_count": null,
   "id": "05141ecf-de69-495b-8104-199d0adf538b",
   "metadata": {},
   "outputs": [],
   "source": [
    "## view the cluster asignments and changes in a wide table\n",
    "hier_all %>% mutate(iter = paste(\"i\", iter, sep = \"\")) %>%\n",
    "dcast(cl0 ~ iter, value.var = \"cl\")"
   ]
  },
  {
   "cell_type": "code",
   "execution_count": null,
   "id": "33c2cf5f-a64e-4002-83b9-b5b0d0b8fbe6",
   "metadata": {},
   "outputs": [],
   "source": [
    "datax2"
   ]
  },
  {
   "cell_type": "code",
   "execution_count": null,
   "id": "a75b4462-1da0-4e87-962c-0e551e0253ee",
   "metadata": {},
   "outputs": [],
   "source": [
    "# join the observation-iteration-cluster assignments with the coordinate information\n",
    "data_all <- datax2 %>% rename(\"cl0\" = \"cl\") %>%\n",
    "left_join(hier_all, by = \"cl0\")"
   ]
  },
  {
   "cell_type": "code",
   "execution_count": null,
   "id": "cc2ccfa3-ab43-4d08-85cf-f216662d7bf5",
   "metadata": {},
   "outputs": [],
   "source": [
    "# create hex color codes in advance to keep colors in each iteration consistent\n",
    "colrs <- data_all[, uniqueN(cl0)]\n",
    "set.seed(10)\n",
    "colrs_hex <- do.call(rgb, replicate(3, runif(colrs), simplify = F))\n",
    "data_all[, clr := colrs_hex[cl]]"
   ]
  },
  {
   "cell_type": "code",
   "execution_count": null,
   "id": "0d5e28fc-19ea-42cf-88e6-d16e1c079285",
   "metadata": {},
   "outputs": [],
   "source": [
    "# save the data for shiny app\n",
    "saveRDS(data_all, \"~/databb/rds/data_all.rds\")"
   ]
  },
  {
   "cell_type": "code",
   "execution_count": null,
   "id": "91944e44-e8f3-480e-8e86-3b4f7eee45bd",
   "metadata": {},
   "outputs": [],
   "source": [
    "# select among iterations\n",
    "iters <- c(0, 20, 50, 80, 90, 96:100)"
   ]
  },
  {
   "cell_type": "markdown",
   "id": "fcd3e8dd-1efc-4700-991c-9c560a4eb3c0",
   "metadata": {},
   "source": [
    "The clusters are wrapped inside colored convex hulls\n",
    "\n",
    "The observations in the cluster to be merge in the next iteration are bold lined\n",
    "\n",
    "The observations in the cluster to merge in the next iteration are light lined"
   ]
  },
  {
   "cell_type": "code",
   "execution_count": null,
   "id": "6e2b6a5d-04e1-42c3-b827-ca94113812f6",
   "metadata": {},
   "outputs": [],
   "source": [
    "data_all2 <- data_all %>%\n",
    "mutate(cl = sprintf(\"%03d\", cl)) %>%\n",
    "filter(iter %in% iters)\n",
    "\n",
    "p <-  data_all2 %>%\n",
    "        ggplot(aes(x = xval, y = yval, stroke = linex, size = 5)) +\n",
    "        geom_point(shape=21, color = \"red\", aes(fill = cl)) +\n",
    "        geom_convexhull(alpha=.5, aes(fill = cl), colour = \"black\", linewidth = 0.1) +\n",
    "        scale_fill_manual(labels = unique(data_all2$cl), values = unique(data_all2$clr)) +\n",
    "        scale_size_identity() +\n",
    "        theme(legend.position=\"none\") +\n",
    "        facet_wrap(~ iter, ncol = 2)\n",
    "\n",
    "ggplotly(p, height = 1500)"
   ]
  },
  {
   "cell_type": "markdown",
   "id": "0f6d2e1b-c71c-43dd-ae38-0ff48fc6b245",
   "metadata": {},
   "source": [
    "Now you can \n",
    "- Open a shiny interface from launcher\n",
    "- Navigate to 12_clustering/hier directory to interact with an animation of all iterations"
   ]
  }
 ],
 "metadata": {
  "kernelspec": {
   "display_name": "R",
   "language": "R",
   "name": "ir"
  },
  "language_info": {
   "codemirror_mode": "r",
   "file_extension": ".r",
   "mimetype": "text/x-r-source",
   "name": "R",
   "pygments_lexer": "r",
   "version": "4.5.0"
  }
 },
 "nbformat": 4,
 "nbformat_minor": 5
}
