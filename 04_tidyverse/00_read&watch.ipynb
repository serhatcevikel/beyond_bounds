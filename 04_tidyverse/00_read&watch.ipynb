{
 "cells": [
  {
   "cell_type": "markdown",
   "id": "1019fb1a-5ff9-4bbd-88cf-d4f28c5c6196",
   "metadata": {},
   "source": [
    "<font size=\"6\"><b>RESOURCES FOR MAIN `TIDYVERSE` COMPONENTS: `DPLYR`, `TIDYR`</b></font>"
   ]
  },
  {
   "cell_type": "markdown",
   "id": "3e334fdc-b12c-4c88-9fec-d19db8e65201",
   "metadata": {},
   "source": [
    "# Watch list"
   ]
  },
  {
   "cell_type": "markdown",
   "id": "5dbf4722-3bdf-4a68-a93c-fc3f79684e45",
   "metadata": {},
   "source": [
    "[![tidyverse watch list](https://img.youtube.com/vi/y9KJmUGc8SE/0.jpg)](https://www.youtube.com/playlist?list=PLg3eScSbYgxlGULWbQzLkfvJWpoabgi0d)"
   ]
  },
  {
   "cell_type": "markdown",
   "id": "ce93d6f7-5b26-4b58-bf43-2e13935957f4",
   "metadata": {},
   "source": [
    "# Read list"
   ]
  },
  {
   "cell_type": "markdown",
   "id": "6cbded10-7e0f-46fe-b7ae-68b52cbdf26b",
   "metadata": {},
   "source": [
    "- Introduction to dplyr (must read)\n",
    "\n",
    "by Hadley Wickham\n",
    "\n",
    "https://cran.r-project.org/web/packages/dplyr/vignettes/dplyr.html"
   ]
  },
  {
   "cell_type": "markdown",
   "id": "297d60f9-0afa-4570-b7fd-26d2c94216d8",
   "metadata": {},
   "source": [
    "- tidy data\n",
    "\n",
    "https://cran.r-project.org/web/packages/tidyr/vignettes/tidy-data.html"
   ]
  },
  {
   "cell_type": "markdown",
   "id": "ea084d79-c65d-4564-bd88-01740c462691",
   "metadata": {},
   "source": [
    "- Data wrangling in R (must read)\n",
    "\n",
    "by Julie Lowndes\n",
    "\n",
    "http://jules32.github.io/2016-07-12-Oxford/dplyr_tidyr/"
   ]
  },
  {
   "cell_type": "markdown",
   "id": "60bbb547-9cd3-46ca-a68d-4be623f9bbfa",
   "metadata": {},
   "source": [
    "- data.table vs dplyr: can one do something well the other can't or does poorly?\n",
    "\n",
    "Answers by Arun Srinivasan and Hadley Wickham\n",
    "\n",
    "https://stackoverflow.com/questions/21435339/data-table-vs-dplyr-can-one-do-something-well-the-other-cant-or-does-poorly"
   ]
  },
  {
   "cell_type": "markdown",
   "id": "015f5a02-9d1e-478b-9691-9345c29922a7",
   "metadata": {},
   "source": [
    "# DataCamp Course (optional)"
   ]
  },
  {
   "cell_type": "markdown",
   "id": "7286a092-5a04-48ea-b45c-544e469c2a42",
   "metadata": {},
   "source": [
    "- Introduction to the Tidyverse (takes 4 hours)\n",
    "\n",
    "https://app.datacamp.com/learn/courses/introduction-to-the-tidyverse"
   ]
  }
 ],
 "metadata": {
  "kernelspec": {
   "display_name": "R",
   "language": "R",
   "name": "ir"
  },
  "language_info": {
   "codemirror_mode": "r",
   "file_extension": ".r",
   "mimetype": "text/x-r-source",
   "name": "R",
   "pygments_lexer": "r",
   "version": "4.3.2"
  }
 },
 "nbformat": 4,
 "nbformat_minor": 5
}
