{
 "cells": [
  {
   "cell_type": "code",
   "execution_count": null,
   "id": "9d1ff9af-fe2c-43f2-96f1-cb18235a505c",
   "metadata": {
    "tags": []
   },
   "outputs": [],
   "source": [
    "library(data.table)\n",
    "options(repr.matrix.max.rows=10, repr.matrix.max.cols=15) # for limiting the number of top and bottom rows of tables printed "
   ]
  },
  {
   "cell_type": "markdown",
   "id": "bd01d814-6df4-4ef6-9f9c-25aac52dfcc5",
   "metadata": {},
   "source": [
    "One of our classmates provided an answer to the \"j operation\" part of our first assignment. The code of the answer, including two functions with nested conditional statements, runs right (courtesy of our classmate):"
   ]
  },
  {
   "cell_type": "markdown",
   "id": "de24c144-01e4-45fc-afd0-028b846ec54a",
   "metadata": {},
   "source": [
    "<b>(Question)</b> Make a \"j\" operation again but this time assign the calculated new column back to the object with := notation. Then print the object to show that the new column is added"
   ]
  },
  {
   "cell_type": "markdown",
   "id": "2ebc1192-854f-450a-8663-d6874f69e408",
   "metadata": {},
   "source": [
    "<b>(Explanation)</b>\n",
    "1. <b>how_serious_quake:</b> Categorizes earthquake seriousness based on magnitude using the `how_big_quake` function.\n",
    "2. <b>depth_category:</b> Categorizes earthquake depth using the `categorize_depth` function."
   ]
  },
  {
   "cell_type": "code",
   "execution_count": null,
   "id": "306dd3de-edcf-49fd-84da-5b70fa576f0a",
   "metadata": {},
   "outputs": [],
   "source": [
    "quakes_dt <- copy(quakes)\n",
    "setDT(quakes_dt)\n",
    "quakes_dt"
   ]
  },
  {
   "cell_type": "code",
   "execution_count": null,
   "id": "df763c96-b369-450c-afac-7e05fd14f65a",
   "metadata": {
    "tags": []
   },
   "outputs": [],
   "source": [
    "how_big_quake <- function(x) {\n",
    "    if (x < 5) {return (\"No damage!\")}\n",
    "    else if (x < 6) {return (\"Minor damage!\")}\n",
    "    else {return (\"Slight or serious damage!\")}\n",
    "}\n",
    "\n",
    "categorize_depth <- function(depth) {\n",
    "  if (depth < 50) {\n",
    "    return(\"Shallow\")\n",
    "  } else if (depth < 200) {\n",
    "    return(\"Moderate\")\n",
    "  } else {\n",
    "    return(\"Deep\")\n",
    "  }\n",
    "}\n",
    "\n",
    "quakes_dt[, how_serious_quake:= sapply(mag, how_big_quake)]\n",
    "quakes_dt[, depth_category := sapply(depth, categorize_depth)]\n",
    "\n",
    "quakes_dt"
   ]
  },
  {
   "cell_type": "markdown",
   "id": "28a92428-5de2-478b-8379-e0af8ac3106e",
   "metadata": {},
   "source": [
    "Now let's assume that the data object is much larger and the number of categories to assign to the numeric values is much higher.\n",
    "\n",
    "Than the code would be harder to design and the execution would be slower. "
   ]
  },
  {
   "cell_type": "code",
   "execution_count": null,
   "id": "080e9861-dd8f-4041-bbd1-c99a9a9c5b3b",
   "metadata": {},
   "outputs": [],
   "source": [
    "quakes_dtl <- rbindlist(rep(list(quakes_dt), 1e3))"
   ]
  },
  {
   "cell_type": "code",
   "execution_count": null,
   "id": "67bc93c9-354a-40f3-888b-9ac85a8cdf4b",
   "metadata": {},
   "outputs": [],
   "source": [
    "mb1 <- microbenchmark::microbenchmark({\n",
    "quakes_dtl[, how_serious_quake:= sapply(mag, how_big_quake)]\n",
    "quakes_dtl[, depth_category := sapply(depth, categorize_depth)]\n",
    "},\n",
    "                                      times = 10)"
   ]
  },
  {
   "cell_type": "code",
   "execution_count": null,
   "id": "30c24731-d1e9-4fa0-9e83-f74ae5b5132c",
   "metadata": {},
   "outputs": [],
   "source": [
    "print(mb1)"
   ]
  },
  {
   "cell_type": "markdown",
   "id": "e58e0c96-1507-46f5-babe-ff286819a555",
   "metadata": {},
   "source": [
    "In my local computer the average execution time of this method on 1000X large data is 1.2 seconds: \n",
    "\n",
    "<div class=\"lm-Widget p-Widget jp-RenderedText jp-mod-trusted jp-OutputArea-output\" data-mime-type=\"application/vnd.jupyter.stdout\"><pre>Unit: seconds\n",
    "                                                                                                                                              expr\n",
    " {     quakes_dtl[, `:=`(how_serious_quake, sapply(mag, how_big_quake))]     quakes_dtl[, `:=`(depth_category, sapply(depth, categorize_depth))] }\n",
    "      min       lq     mean   median       uq      max neval\n",
    " 1.186524 1.219021 1.236421 1.235059 1.255242 1.302116    10\n",
    "</pre></div>"
   ]
  },
  {
   "cell_type": "markdown",
   "id": "45fc97c3-1372-4737-bf38-bbccc9dd1bd1",
   "metadata": {},
   "source": [
    "In [The Art of Unix Programming](https://www.catb.org/~esr/writings/taoup/html/), a great book about programming and Unix philosophy, Eric S. Raymond emphasizes the advantage of transferring the code complexity into a data structure:\n",
    "\n",
    "> Data-Driven Programming\n",
    "When doing data-driven programming, one clearly distinguishes code from the data structures on which it acts, and designs both so that one can make changes to the logic of the program by editing not the code but the data structure.\n",
    ">\n",
    "> Data-driven programming is sometimes confused with object orientation, another style in which data organization is supposed to be central. There are at least two differences. One is that in data-driven programming, the data is not merely the state of some object, but actually defines the control flow of the program. Where the primary concern in OO is encapsulation, the primary concern in data-driven programming is writing as little fixed code as possible. Unix has a stronger tradition of data-driven programming than of OO.\n",
    ">\n",
    ">Programming data-driven style is also sometimes confused with writing state machines. It is in fact possible to express the logic of a state machine as a table or data structure, but hand-coded state machines are usually rigid blocks of code that are far harder to modify than a table.\n",
    ">\n",
    "> An important rule when doing any kind of code generation or data-driven programming is this: always push problems upstream. Don't hack the generated code or any intermediate representations by hand — instead, think of a way to improve or replace your translation tool. Otherwise you're likely to find that hand-patching bits which should have been generated correctly by machine will have turned into an infinite time sink.\n",
    "\n",
    "(https://www.catb.org/~esr/writings/taoup/html/ch09s01.html)\n",
    "\n",
    "> Basics of the Unix Philosophy\n",
    ">\n",
    "> ...\n",
    ">\n",
    "> Rule 5. Data dominates. If you've chosen the right data structures and organized things well, the algorithms will almost always be self-evident. Data structures, not algorithms, are central to programming.\n",
    "\n",
    "(https://www.catb.org/~esr/writings/taoup/html/ch01s06.html#rule5)\n",
    "\n",
    "> Rule of Representation: Fold knowledge into data, so program logic can be stupid and robust.\n",
    ">\n",
    ">Even the simplest procedural logic is hard for humans to verify, but quite complex data structures are fairly easy to model and reason about. To see this, compare the expressiveness and explanatory power of a diagram of (say) a fifty-node pointer tree with a flowchart of a fifty-line program. Or, compare an array initializer expressing a conversion table with an equivalent switch statement. The difference in transparency and clarity is dramatic. See Rob Pike's Rule 5.\n",
    ">\n",
    "> Data is more tractable than program logic. It follows that where you see a choice between complexity in data structures and complexity in code, choose the former. More: in evolving a design, you should actively seek ways to shift complexity from code to data.\n",
    ">\n",
    "> The Unix community did not originate this insight, but a lot of Unix code displays its influence. The C language's facility at manipulating pointers, in particular, has encouraged the use of dynamically-modified reference structures at all levels of coding from the kernel upward. Simple pointer chases in such structures frequently do duties that implementations in other languages would instead have to embody in more elaborate procedures.\n",
    "\n",
    "(https://www.catb.org/~esr/writings/taoup/html/ch01s06.html#id2878263)"
   ]
  },
  {
   "cell_type": "markdown",
   "id": "9d35946d-87ab-41b3-8ad4-b3ee3298c1c9",
   "metadata": {},
   "source": [
    "Now, there are at least two more ways to implement this solution to yield exactly the same answer, both by translating the conditional logic into data structures.\n",
    "\n",
    "These methods are easier to implement, are easier to extend to more categories and work faster."
   ]
  },
  {
   "cell_type": "markdown",
   "id": "84deb388-9ebf-49d4-976a-56c708c721e7",
   "metadata": {},
   "source": [
    "The first method involves discretization by `cut` function.\n",
    "\n",
    "Note that, in order to ensure that we get a result identical to the one above, the inputs may need to be reversed (that makes a difference for the categories at breaks points) and the values to be converted from factor to character."
   ]
  },
  {
   "cell_type": "code",
   "execution_count": null,
   "id": "f96b8559-a431-42d5-a657-c9d94dd8b332",
   "metadata": {},
   "outputs": [],
   "source": [
    "quakes_dt2 <- copy(quakes)\n",
    "setDT(quakes_dt2)\n",
    "quakes_dt2"
   ]
  },
  {
   "cell_type": "markdown",
   "id": "904ed168-2228-4f58-809e-6f62be145b8f",
   "metadata": {},
   "source": [
    "...\n",
    "\n",
    "*Code with `cut` function*\n",
    "\n",
    "..."
   ]
  },
  {
   "cell_type": "markdown",
   "id": "d4b36709-e6ac-4a94-8c7d-49a3021e797b",
   "metadata": {},
   "source": [
    "The results are identical:"
   ]
  },
  {
   "cell_type": "markdown",
   "id": "a261dc9d-75ef-4b5e-bfc4-35b4e24f59af",
   "metadata": {},
   "source": [
    "<div class=\"lm-Widget p-Widget jp-Cell jp-CodeCell jp-Notebook-cell\"><div class=\"lm-Widget p-Widget jp-CellHeader jp-Cell-header\"></div><div class=\"lm-Widget p-Widget lm-Panel p-Panel jp-Cell-inputWrapper\"><div class=\"lm-Widget p-Widget jp-Collapser jp-InputCollapser jp-Cell-inputCollapser\"><div class=\"jp-Collapser-child\"></div></div><div class=\"lm-Widget p-Widget jp-InputArea jp-Cell-inputArea\"><div class=\"lm-Widget p-Widget jp-InputPrompt jp-InputArea-prompt\">[30]:</div><div class=\"lm-Widget p-Widget jp-CodeMirrorEditor jp-Editor jp-InputArea-editor\" data-type=\"inline\"><div class=\"CodeMirror cm-s-jupyter\"><div style=\"overflow: hidden; position: relative; width: 3px; height: 0px; top: 5px; left: 254.5px;\"><textarea autocorrect=\"off\" autocapitalize=\"off\" spellcheck=\"false\" tabindex=\"0\" style=\"position: absolute; bottom: -1em; padding: 0px; width: 1000px; height: 1em; outline: none;\"></textarea></div><div class=\"CodeMirror-vscrollbar\" tabindex=\"-1\" cm-not-content=\"true\"><div style=\"min-width: 1px; height: 0px;\"></div></div><div class=\"CodeMirror-hscrollbar\" tabindex=\"-1\" cm-not-content=\"true\"><div style=\"height: 100%; min-height: 1px; width: 0px;\"></div></div><div class=\"CodeMirror-scrollbar-filler\" cm-not-content=\"true\"></div><div class=\"CodeMirror-gutter-filler\" cm-not-content=\"true\"></div><div class=\"CodeMirror-scroll\" tabindex=\"-1\"><div class=\"CodeMirror-sizer\" style=\"margin-left: 0px; min-width: 257.5px; margin-bottom: -15px; border-right-width: 35px; min-height: 27px; padding-right: 0px; padding-bottom: 0px;\"><div style=\"position: relative; top: 0px;\"><div class=\"CodeMirror-lines\" role=\"presentation\"><div role=\"presentation\" style=\"position: relative; outline: none;\"><div class=\"CodeMirror-measure\"></div><div class=\"CodeMirror-measure\"></div><div style=\"position: relative; z-index: 1;\"></div><div class=\"CodeMirror-cursors\" style=\"visibility: hidden;\"><div class=\"CodeMirror-cursor\" style=\"left: 254.5px; top: 0px; height: 17px;\">&nbsp;</div></div><div class=\"CodeMirror-code\" role=\"presentation\"><pre class=\" CodeMirror-line \" role=\"presentation\"><span role=\"presentation\" style=\"padding-right: 0.1px;\"><span class=\"cm-variable\">identical</span>(<span class=\"cm-variable\">quakes_dt2</span>, <span class=\"cm-variable\">quakes_dt</span>)</span></pre></div></div></div></div></div><div style=\"position: absolute; height: 35px; width: 1px; border-bottom: 0px solid transparent; top: 27px;\"></div><div class=\"CodeMirror-gutters\" style=\"display: none; height: 62px;\"></div></div></div></div></div></div><div class=\"lm-Widget p-Widget jp-CellResizeHandle\"></div><div class=\"lm-Widget p-Widget lm-Panel p-Panel jp-Cell-outputWrapper\"><div class=\"lm-Widget p-Widget jp-Collapser jp-OutputCollapser jp-Cell-outputCollapser\"><div class=\"jp-Collapser-child\"></div></div><div class=\"lm-Widget p-Widget jp-OutputArea jp-Cell-outputArea\" style=\"\"><div class=\"lm-Widget p-Widget lm-Panel p-Panel jp-OutputArea-child\"><div class=\"lm-Widget p-Widget jp-OutputPrompt jp-OutputArea-prompt\"></div><div class=\"lm-Widget p-Widget jp-RenderedHTMLCommon jp-RenderedHTML jp-mod-trusted jp-OutputArea-output\" data-mime-type=\"text/html\">TRUE</div></div></div></div><div class=\"lm-Widget p-Widget jp-CellFooter jp-Cell-footer\"></div></div>"
   ]
  },
  {
   "cell_type": "markdown",
   "id": "857cd2e9-32b1-4d04-9916-eb1220fed965",
   "metadata": {},
   "source": [
    "And the execution time is 1000X faster than the original:"
   ]
  },
  {
   "cell_type": "markdown",
   "id": "69283a45-0109-4d47-9f41-182e1a1a29f0",
   "metadata": {},
   "source": [
    "<div class=\"lm-Widget p-Widget jp-RenderedText jp-mod-trusted jp-OutputArea-output\" data-mime-type=\"application/vnd.jupyter.stdout\"><pre>Unit: milliseconds\n",
    "                                                                                                                                                                                                                                                                                                                                                                             expr\n",
    " {     quakes_dt2[, `:=`(how_serious_quake, as.character(cut(-mag,          breaks = -c(-Inf, 5, 6, Inf), labels = rev(c(\"No damage!\",              \"Minor damage!\", \"Slight or serious damage!\")))))]     quakes_dt2[, `:=`(depth_category, as.character(cut(-depth,          breaks = -c(-Inf, 50, 200, Inf), labels = rev(c(\"Shallow\",              \"Moderate\", \"Deep\")))))] }\n",
    "     min       lq     mean   median       uq      max neval\n",
    " 1.07388 1.077075 1.113923 1.083277 1.120266 1.328985    10\n",
    "</pre></div>"
   ]
  },
  {
   "cell_type": "markdown",
   "id": "a3da09bb-1046-414c-be8b-cc00535cbf16",
   "metadata": {},
   "source": [
    "Another method involves creating lookup tables for matching categories and doing rolling joins as mentioned in the session.\n",
    "\n",
    "The rolling join from A data.table to B data.table involves the syntax:\n",
    "\n",
    "`r B[A, on = ..., roll = ...]` \n",
    "\n",
    "Note that in this version the column order should be put into that of the original answer to ensure that the results are identical."
   ]
  },
  {
   "cell_type": "code",
   "execution_count": null,
   "id": "a1726a0a-be86-4fef-a78f-2424ecfb4ca1",
   "metadata": {},
   "outputs": [],
   "source": [
    "quakes_dt3 <- copy(quakes)\n",
    "setDT(quakes_dt3)\n",
    "quakes_dt3"
   ]
  },
  {
   "cell_type": "markdown",
   "id": "fec94094-a08f-493e-a0b3-ffae898e50db",
   "metadata": {},
   "source": [
    "...\n",
    "\n",
    "*Code with rolling joins*\n",
    "\n",
    "..."
   ]
  },
  {
   "cell_type": "markdown",
   "id": "c1e89a5f-d7a1-4a16-a6bc-d1dce7624099",
   "metadata": {},
   "source": [
    "The results are identical:\n",
    "\n",
    "<div class=\"lm-Widget p-Widget jp-Cell jp-CodeCell jp-Notebook-cell\"><div class=\"lm-Widget p-Widget jp-CellHeader jp-Cell-header\"></div><div class=\"lm-Widget p-Widget lm-Panel p-Panel jp-Cell-inputWrapper\"><div class=\"lm-Widget p-Widget jp-Collapser jp-InputCollapser jp-Cell-inputCollapser\"><div class=\"jp-Collapser-child\"></div></div><div class=\"lm-Widget p-Widget jp-InputArea jp-Cell-inputArea\"><div class=\"lm-Widget p-Widget jp-InputPrompt jp-InputArea-prompt\">[39]:</div><div class=\"lm-Widget p-Widget jp-CodeMirrorEditor jp-Editor jp-InputArea-editor\" data-type=\"inline\"><div class=\"CodeMirror cm-s-jupyter\"><div style=\"overflow: hidden; position: relative; width: 3px; height: 0px; top: 5px; left: 160.562px;\"><textarea autocorrect=\"off\" autocapitalize=\"off\" spellcheck=\"false\" tabindex=\"0\" style=\"position: absolute; bottom: -1em; padding: 0px; width: 1000px; height: 1em; outline: none;\"></textarea></div><div class=\"CodeMirror-vscrollbar\" tabindex=\"-1\" cm-not-content=\"true\"><div style=\"min-width: 1px; height: 0px;\"></div></div><div class=\"CodeMirror-hscrollbar\" tabindex=\"-1\" cm-not-content=\"true\"><div style=\"height: 100%; min-height: 1px; width: 0px;\"></div></div><div class=\"CodeMirror-scrollbar-filler\" cm-not-content=\"true\"></div><div class=\"CodeMirror-gutter-filler\" cm-not-content=\"true\"></div><div class=\"CodeMirror-scroll\" tabindex=\"-1\"><div class=\"CodeMirror-sizer\" style=\"margin-left: 0px; min-width: 257.5px; margin-bottom: -15px; border-right-width: 35px; min-height: 27px; padding-right: 0px; padding-bottom: 0px;\"><div style=\"position: relative; top: 0px;\"><div class=\"CodeMirror-lines\" role=\"presentation\"><div role=\"presentation\" style=\"position: relative; outline: none;\"><div class=\"CodeMirror-measure\"></div><div class=\"CodeMirror-measure\"></div><div style=\"position: relative; z-index: 1;\"></div><div class=\"CodeMirror-cursors\" style=\"\"><div class=\"CodeMirror-cursor\" style=\"left: 160.562px; top: 0px; height: 17px;\">&nbsp;</div></div><div class=\"CodeMirror-code\" role=\"presentation\"><pre class=\" CodeMirror-line \" role=\"presentation\"><span role=\"presentation\" style=\"padding-right: 0.1px;\"><span class=\"cm-variable\">identical</span>(<span class=\"cm-variable\">quakes_dt4</span>, <span class=\"cm-variable\">quakes_dt</span>)</span></pre></div></div></div></div></div><div style=\"position: absolute; height: 35px; width: 1px; border-bottom: 0px solid transparent; top: 27px;\"></div><div class=\"CodeMirror-gutters\" style=\"display: none; height: 62px;\"></div></div></div></div></div></div><div class=\"lm-Widget p-Widget jp-CellResizeHandle\"></div><div class=\"lm-Widget p-Widget lm-Panel p-Panel jp-Cell-outputWrapper\"><div class=\"lm-Widget p-Widget jp-Collapser jp-OutputCollapser jp-Cell-outputCollapser\"><div class=\"jp-Collapser-child\"></div></div><div class=\"lm-Widget p-Widget jp-OutputArea jp-Cell-outputArea\"><div class=\"lm-Widget p-Widget lm-Panel p-Panel jp-OutputArea-child\"><div class=\"lm-Widget p-Widget jp-OutputPrompt jp-OutputArea-prompt\"></div><div class=\"lm-Widget p-Widget jp-RenderedHTMLCommon jp-RenderedHTML jp-mod-trusted jp-OutputArea-output\" data-mime-type=\"text/html\">TRUE</div></div></div></div><div class=\"lm-Widget p-Widget jp-CellFooter jp-Cell-footer\"></div></div>"
   ]
  },
  {
   "cell_type": "markdown",
   "id": "17f36379-f683-42e8-87b7-c37a9843af92",
   "metadata": {},
   "source": [
    "And the run time is ~6X faster than the original:\n",
    "\n",
    "<div class=\"lm-Widget p-Widget jp-RenderedText jp-mod-trusted jp-OutputArea-output\" data-mime-type=\"application/vnd.jupyter.stdout\"><pre>Unit: milliseconds\n",
    "                                                                                                                                                  expr\n",
    " {     quakes_dt4l &lt;- dc[hbq[quakes_dt3l, on = \"mag\", roll = Inf],          on = \"depth\", roll = Inf]     setcolorder(quakes_dt4l, names(quakes_dt)) }\n",
    "      min       lq     mean   median       uq      max neval\n",
    " 124.8671 128.7244 191.6024 176.0325 231.0694 339.6005    10\n",
    "</pre></div>"
   ]
  },
  {
   "cell_type": "markdown",
   "id": "1ab55abe-8225-4a03-87a9-34cb58f90ce6",
   "metadata": {},
   "source": [
    "Now the competition is:\n",
    "\n",
    "Create a reproducible notebook that can generate a resulting object identical to the original result, confirmed by running the `identical()` function and uses either:\n",
    "\n",
    "- `cut` function method\n",
    "\n",
    "- rolling join method\n",
    "\n",
    "The code should also run sufficiently faster than the original implementation, however you don't have to demonstrate the performance, we will do that. In fact if you use these methods, the code will surely run sufficiently faster.\n",
    "\n",
    "Please submit the clean ipynb without cell outputs and the html with cell outputs to moodle.\n",
    "\n",
    "The first ones to submit the notebook that yields a correct answer using cut or rolling join methods will earn additional full points of a lab submission (so we will have either one or two champions)."
   ]
  }
 ],
 "metadata": {
  "kernelspec": {
   "display_name": "R",
   "language": "R",
   "name": "ir"
  },
  "language_info": {
   "codemirror_mode": "r",
   "file_extension": ".r",
   "mimetype": "text/x-r-source",
   "name": "R",
   "pygments_lexer": "r",
   "version": "4.3.2"
  }
 },
 "nbformat": 4,
 "nbformat_minor": 5
}
